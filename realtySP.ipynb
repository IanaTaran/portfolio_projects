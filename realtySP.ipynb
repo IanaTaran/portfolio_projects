{
 "cells": [
  {
   "cell_type": "markdown",
   "metadata": {},
   "source": [
    "# Исследование объявлений о продаже квартир\n",
    "\n",
    "В вашем распоряжении данные сервиса Яндекс.Недвижимость — архив объявлений о продаже квартир в Санкт-Петербурге и соседних населённых пунктов за несколько лет. Нужно научиться определять рыночную стоимость объектов недвижимости. Ваша задача — установить параметры. Это позволит построить автоматизированную систему: она отследит аномалии и мошенническую деятельность. \n",
    "\n",
    "По каждой квартире на продажу доступны два вида данных. Первые вписаны пользователем, вторые — получены автоматически на основе картографических данных. Например, расстояние до центра, аэропорта, ближайшего парка и водоёма. "
   ]
  },
  {
   "cell_type": "markdown",
   "metadata": {},
   "source": [
    "## Введение. Общая информация о выборке "
   ]
  },
  {
   "cell_type": "markdown",
   "metadata": {},
   "source": [
    "Проводится анализ рынка недвижимости Санкт-Петербурга и Ленинградской области на основании выборки из почти 23700 значений.\n",
    "В таблице имеются данные о местонахождении, картографических и индивидуальных параметрах жилья, его стоимости и времени продажи. Будет проанализирован процесс формирования конечной стоимости в зависимости от различных параметров(общая площадь, тип квартиры, расстояние от центра города и т.д.). Кроме этого, изучим как меняется скорость продаж. \n",
    "\n",
    "Проверим содержимое выборки - файл содержит 22 характеристики выборки из почти 23700 значений. В качестве id объекта используются порядковые номера строк. Выведем первые 10 строк таблицы. "
   ]
  },
  {
   "cell_type": "code",
   "execution_count": 93,
   "metadata": {},
   "outputs": [
    {
     "name": "stdout",
     "output_type": "stream",
     "text": [
      "<class 'pandas.core.frame.DataFrame'>\n",
      "RangeIndex: 23699 entries, 0 to 23698\n",
      "Data columns (total 22 columns):\n",
      " #   Column                Non-Null Count  Dtype  \n",
      "---  ------                --------------  -----  \n",
      " 0   total_images          23699 non-null  int64  \n",
      " 1   last_price            23699 non-null  float64\n",
      " 2   total_area            23699 non-null  float64\n",
      " 3   first_day_exposition  23699 non-null  object \n",
      " 4   rooms                 23699 non-null  int64  \n",
      " 5   ceiling_height        14504 non-null  float64\n",
      " 6   floors_total          23613 non-null  float64\n",
      " 7   living_area           21796 non-null  float64\n",
      " 8   floor                 23699 non-null  int64  \n",
      " 9   is_apartment          2775 non-null   object \n",
      " 10  studio                23699 non-null  bool   \n",
      " 11  open_plan             23699 non-null  bool   \n",
      " 12  kitchen_area          21421 non-null  float64\n",
      " 13  balcony               12180 non-null  float64\n",
      " 14  locality_name         23650 non-null  object \n",
      " 15  airports_nearest      18157 non-null  float64\n",
      " 16  cityCenters_nearest   18180 non-null  float64\n",
      " 17  parks_around3000      18181 non-null  float64\n",
      " 18  parks_nearest         8079 non-null   float64\n",
      " 19  ponds_around3000      18181 non-null  float64\n",
      " 20  ponds_nearest         9110 non-null   float64\n",
      " 21  days_exposition       20518 non-null  float64\n",
      "dtypes: bool(2), float64(14), int64(3), object(3)\n",
      "memory usage: 3.7+ MB\n"
     ]
    }
   ],
   "source": [
    "import pandas as pd\n",
    "import seaborn \n",
    "import matplotlib.pyplot as plt\n",
    "import datetime as dt\n",
    "# импортируем данные в датафрейм и выведем краткую информацию\n",
    "try:\n",
    "    data = pd.read_csv('C:\\\\practicum\\\\real_estate_data.csv', sep = '\\t')\n",
    "except:\n",
    "    data = pd.read_csv('/datasets/real_estate_data.csv', sep = '\\t')\n",
    "data.info()"
   ]
  },
  {
   "cell_type": "code",
   "execution_count": 94,
   "metadata": {
    "scrolled": true
   },
   "outputs": [
    {
     "data": {
      "text/html": [
       "<div>\n",
       "<style scoped>\n",
       "    .dataframe tbody tr th:only-of-type {\n",
       "        vertical-align: middle;\n",
       "    }\n",
       "\n",
       "    .dataframe tbody tr th {\n",
       "        vertical-align: top;\n",
       "    }\n",
       "\n",
       "    .dataframe thead th {\n",
       "        text-align: right;\n",
       "    }\n",
       "</style>\n",
       "<table border=\"1\" class=\"dataframe\">\n",
       "  <thead>\n",
       "    <tr style=\"text-align: right;\">\n",
       "      <th></th>\n",
       "      <th>total_images</th>\n",
       "      <th>last_price</th>\n",
       "      <th>total_area</th>\n",
       "      <th>first_day_exposition</th>\n",
       "      <th>rooms</th>\n",
       "      <th>ceiling_height</th>\n",
       "      <th>floors_total</th>\n",
       "      <th>living_area</th>\n",
       "      <th>floor</th>\n",
       "      <th>is_apartment</th>\n",
       "      <th>...</th>\n",
       "      <th>kitchen_area</th>\n",
       "      <th>balcony</th>\n",
       "      <th>locality_name</th>\n",
       "      <th>airports_nearest</th>\n",
       "      <th>cityCenters_nearest</th>\n",
       "      <th>parks_around3000</th>\n",
       "      <th>parks_nearest</th>\n",
       "      <th>ponds_around3000</th>\n",
       "      <th>ponds_nearest</th>\n",
       "      <th>days_exposition</th>\n",
       "    </tr>\n",
       "  </thead>\n",
       "  <tbody>\n",
       "    <tr>\n",
       "      <th>0</th>\n",
       "      <td>20</td>\n",
       "      <td>13000000.0</td>\n",
       "      <td>108.00</td>\n",
       "      <td>2019-03-07T00:00:00</td>\n",
       "      <td>3</td>\n",
       "      <td>2.70</td>\n",
       "      <td>16.0</td>\n",
       "      <td>51.00</td>\n",
       "      <td>8</td>\n",
       "      <td>NaN</td>\n",
       "      <td>...</td>\n",
       "      <td>25.00</td>\n",
       "      <td>NaN</td>\n",
       "      <td>Санкт-Петербург</td>\n",
       "      <td>18863.0</td>\n",
       "      <td>16028.0</td>\n",
       "      <td>1.0</td>\n",
       "      <td>482.0</td>\n",
       "      <td>2.0</td>\n",
       "      <td>755.0</td>\n",
       "      <td>NaN</td>\n",
       "    </tr>\n",
       "    <tr>\n",
       "      <th>1</th>\n",
       "      <td>7</td>\n",
       "      <td>3350000.0</td>\n",
       "      <td>40.40</td>\n",
       "      <td>2018-12-04T00:00:00</td>\n",
       "      <td>1</td>\n",
       "      <td>NaN</td>\n",
       "      <td>11.0</td>\n",
       "      <td>18.60</td>\n",
       "      <td>1</td>\n",
       "      <td>NaN</td>\n",
       "      <td>...</td>\n",
       "      <td>11.00</td>\n",
       "      <td>2.0</td>\n",
       "      <td>посёлок Шушары</td>\n",
       "      <td>12817.0</td>\n",
       "      <td>18603.0</td>\n",
       "      <td>0.0</td>\n",
       "      <td>NaN</td>\n",
       "      <td>0.0</td>\n",
       "      <td>NaN</td>\n",
       "      <td>81.0</td>\n",
       "    </tr>\n",
       "    <tr>\n",
       "      <th>2</th>\n",
       "      <td>10</td>\n",
       "      <td>5196000.0</td>\n",
       "      <td>56.00</td>\n",
       "      <td>2015-08-20T00:00:00</td>\n",
       "      <td>2</td>\n",
       "      <td>NaN</td>\n",
       "      <td>5.0</td>\n",
       "      <td>34.30</td>\n",
       "      <td>4</td>\n",
       "      <td>NaN</td>\n",
       "      <td>...</td>\n",
       "      <td>8.30</td>\n",
       "      <td>0.0</td>\n",
       "      <td>Санкт-Петербург</td>\n",
       "      <td>21741.0</td>\n",
       "      <td>13933.0</td>\n",
       "      <td>1.0</td>\n",
       "      <td>90.0</td>\n",
       "      <td>2.0</td>\n",
       "      <td>574.0</td>\n",
       "      <td>558.0</td>\n",
       "    </tr>\n",
       "    <tr>\n",
       "      <th>3</th>\n",
       "      <td>0</td>\n",
       "      <td>64900000.0</td>\n",
       "      <td>159.00</td>\n",
       "      <td>2015-07-24T00:00:00</td>\n",
       "      <td>3</td>\n",
       "      <td>NaN</td>\n",
       "      <td>14.0</td>\n",
       "      <td>NaN</td>\n",
       "      <td>9</td>\n",
       "      <td>NaN</td>\n",
       "      <td>...</td>\n",
       "      <td>NaN</td>\n",
       "      <td>0.0</td>\n",
       "      <td>Санкт-Петербург</td>\n",
       "      <td>28098.0</td>\n",
       "      <td>6800.0</td>\n",
       "      <td>2.0</td>\n",
       "      <td>84.0</td>\n",
       "      <td>3.0</td>\n",
       "      <td>234.0</td>\n",
       "      <td>424.0</td>\n",
       "    </tr>\n",
       "    <tr>\n",
       "      <th>4</th>\n",
       "      <td>2</td>\n",
       "      <td>10000000.0</td>\n",
       "      <td>100.00</td>\n",
       "      <td>2018-06-19T00:00:00</td>\n",
       "      <td>2</td>\n",
       "      <td>3.03</td>\n",
       "      <td>14.0</td>\n",
       "      <td>32.00</td>\n",
       "      <td>13</td>\n",
       "      <td>NaN</td>\n",
       "      <td>...</td>\n",
       "      <td>41.00</td>\n",
       "      <td>NaN</td>\n",
       "      <td>Санкт-Петербург</td>\n",
       "      <td>31856.0</td>\n",
       "      <td>8098.0</td>\n",
       "      <td>2.0</td>\n",
       "      <td>112.0</td>\n",
       "      <td>1.0</td>\n",
       "      <td>48.0</td>\n",
       "      <td>121.0</td>\n",
       "    </tr>\n",
       "    <tr>\n",
       "      <th>5</th>\n",
       "      <td>10</td>\n",
       "      <td>2890000.0</td>\n",
       "      <td>30.40</td>\n",
       "      <td>2018-09-10T00:00:00</td>\n",
       "      <td>1</td>\n",
       "      <td>NaN</td>\n",
       "      <td>12.0</td>\n",
       "      <td>14.40</td>\n",
       "      <td>5</td>\n",
       "      <td>NaN</td>\n",
       "      <td>...</td>\n",
       "      <td>9.10</td>\n",
       "      <td>NaN</td>\n",
       "      <td>городской посёлок Янино-1</td>\n",
       "      <td>NaN</td>\n",
       "      <td>NaN</td>\n",
       "      <td>NaN</td>\n",
       "      <td>NaN</td>\n",
       "      <td>NaN</td>\n",
       "      <td>NaN</td>\n",
       "      <td>55.0</td>\n",
       "    </tr>\n",
       "    <tr>\n",
       "      <th>6</th>\n",
       "      <td>6</td>\n",
       "      <td>3700000.0</td>\n",
       "      <td>37.30</td>\n",
       "      <td>2017-11-02T00:00:00</td>\n",
       "      <td>1</td>\n",
       "      <td>NaN</td>\n",
       "      <td>26.0</td>\n",
       "      <td>10.60</td>\n",
       "      <td>6</td>\n",
       "      <td>NaN</td>\n",
       "      <td>...</td>\n",
       "      <td>14.40</td>\n",
       "      <td>1.0</td>\n",
       "      <td>посёлок Парголово</td>\n",
       "      <td>52996.0</td>\n",
       "      <td>19143.0</td>\n",
       "      <td>0.0</td>\n",
       "      <td>NaN</td>\n",
       "      <td>0.0</td>\n",
       "      <td>NaN</td>\n",
       "      <td>155.0</td>\n",
       "    </tr>\n",
       "    <tr>\n",
       "      <th>7</th>\n",
       "      <td>5</td>\n",
       "      <td>7915000.0</td>\n",
       "      <td>71.60</td>\n",
       "      <td>2019-04-18T00:00:00</td>\n",
       "      <td>2</td>\n",
       "      <td>NaN</td>\n",
       "      <td>24.0</td>\n",
       "      <td>NaN</td>\n",
       "      <td>22</td>\n",
       "      <td>NaN</td>\n",
       "      <td>...</td>\n",
       "      <td>18.90</td>\n",
       "      <td>2.0</td>\n",
       "      <td>Санкт-Петербург</td>\n",
       "      <td>23982.0</td>\n",
       "      <td>11634.0</td>\n",
       "      <td>0.0</td>\n",
       "      <td>NaN</td>\n",
       "      <td>0.0</td>\n",
       "      <td>NaN</td>\n",
       "      <td>NaN</td>\n",
       "    </tr>\n",
       "    <tr>\n",
       "      <th>8</th>\n",
       "      <td>20</td>\n",
       "      <td>2900000.0</td>\n",
       "      <td>33.16</td>\n",
       "      <td>2018-05-23T00:00:00</td>\n",
       "      <td>1</td>\n",
       "      <td>NaN</td>\n",
       "      <td>27.0</td>\n",
       "      <td>15.43</td>\n",
       "      <td>26</td>\n",
       "      <td>NaN</td>\n",
       "      <td>...</td>\n",
       "      <td>8.81</td>\n",
       "      <td>NaN</td>\n",
       "      <td>посёлок Мурино</td>\n",
       "      <td>NaN</td>\n",
       "      <td>NaN</td>\n",
       "      <td>NaN</td>\n",
       "      <td>NaN</td>\n",
       "      <td>NaN</td>\n",
       "      <td>NaN</td>\n",
       "      <td>189.0</td>\n",
       "    </tr>\n",
       "    <tr>\n",
       "      <th>9</th>\n",
       "      <td>18</td>\n",
       "      <td>5400000.0</td>\n",
       "      <td>61.00</td>\n",
       "      <td>2017-02-26T00:00:00</td>\n",
       "      <td>3</td>\n",
       "      <td>2.50</td>\n",
       "      <td>9.0</td>\n",
       "      <td>43.60</td>\n",
       "      <td>7</td>\n",
       "      <td>NaN</td>\n",
       "      <td>...</td>\n",
       "      <td>6.50</td>\n",
       "      <td>2.0</td>\n",
       "      <td>Санкт-Петербург</td>\n",
       "      <td>50898.0</td>\n",
       "      <td>15008.0</td>\n",
       "      <td>0.0</td>\n",
       "      <td>NaN</td>\n",
       "      <td>0.0</td>\n",
       "      <td>NaN</td>\n",
       "      <td>289.0</td>\n",
       "    </tr>\n",
       "  </tbody>\n",
       "</table>\n",
       "<p>10 rows × 22 columns</p>\n",
       "</div>"
      ],
      "text/plain": [
       "   total_images  last_price  total_area first_day_exposition  rooms  \\\n",
       "0            20  13000000.0      108.00  2019-03-07T00:00:00      3   \n",
       "1             7   3350000.0       40.40  2018-12-04T00:00:00      1   \n",
       "2            10   5196000.0       56.00  2015-08-20T00:00:00      2   \n",
       "3             0  64900000.0      159.00  2015-07-24T00:00:00      3   \n",
       "4             2  10000000.0      100.00  2018-06-19T00:00:00      2   \n",
       "5            10   2890000.0       30.40  2018-09-10T00:00:00      1   \n",
       "6             6   3700000.0       37.30  2017-11-02T00:00:00      1   \n",
       "7             5   7915000.0       71.60  2019-04-18T00:00:00      2   \n",
       "8            20   2900000.0       33.16  2018-05-23T00:00:00      1   \n",
       "9            18   5400000.0       61.00  2017-02-26T00:00:00      3   \n",
       "\n",
       "   ceiling_height  floors_total  living_area  floor is_apartment  ...  \\\n",
       "0            2.70          16.0        51.00      8          NaN  ...   \n",
       "1             NaN          11.0        18.60      1          NaN  ...   \n",
       "2             NaN           5.0        34.30      4          NaN  ...   \n",
       "3             NaN          14.0          NaN      9          NaN  ...   \n",
       "4            3.03          14.0        32.00     13          NaN  ...   \n",
       "5             NaN          12.0        14.40      5          NaN  ...   \n",
       "6             NaN          26.0        10.60      6          NaN  ...   \n",
       "7             NaN          24.0          NaN     22          NaN  ...   \n",
       "8             NaN          27.0        15.43     26          NaN  ...   \n",
       "9            2.50           9.0        43.60      7          NaN  ...   \n",
       "\n",
       "   kitchen_area  balcony              locality_name  airports_nearest  \\\n",
       "0         25.00      NaN            Санкт-Петербург           18863.0   \n",
       "1         11.00      2.0             посёлок Шушары           12817.0   \n",
       "2          8.30      0.0            Санкт-Петербург           21741.0   \n",
       "3           NaN      0.0            Санкт-Петербург           28098.0   \n",
       "4         41.00      NaN            Санкт-Петербург           31856.0   \n",
       "5          9.10      NaN  городской посёлок Янино-1               NaN   \n",
       "6         14.40      1.0          посёлок Парголово           52996.0   \n",
       "7         18.90      2.0            Санкт-Петербург           23982.0   \n",
       "8          8.81      NaN             посёлок Мурино               NaN   \n",
       "9          6.50      2.0            Санкт-Петербург           50898.0   \n",
       "\n",
       "  cityCenters_nearest  parks_around3000  parks_nearest  ponds_around3000  \\\n",
       "0             16028.0               1.0          482.0               2.0   \n",
       "1             18603.0               0.0            NaN               0.0   \n",
       "2             13933.0               1.0           90.0               2.0   \n",
       "3              6800.0               2.0           84.0               3.0   \n",
       "4              8098.0               2.0          112.0               1.0   \n",
       "5                 NaN               NaN            NaN               NaN   \n",
       "6             19143.0               0.0            NaN               0.0   \n",
       "7             11634.0               0.0            NaN               0.0   \n",
       "8                 NaN               NaN            NaN               NaN   \n",
       "9             15008.0               0.0            NaN               0.0   \n",
       "\n",
       "   ponds_nearest  days_exposition  \n",
       "0          755.0              NaN  \n",
       "1            NaN             81.0  \n",
       "2          574.0            558.0  \n",
       "3          234.0            424.0  \n",
       "4           48.0            121.0  \n",
       "5            NaN             55.0  \n",
       "6            NaN            155.0  \n",
       "7            NaN              NaN  \n",
       "8            NaN            189.0  \n",
       "9            NaN            289.0  \n",
       "\n",
       "[10 rows x 22 columns]"
      ]
     },
     "execution_count": 94,
     "metadata": {},
     "output_type": "execute_result"
    }
   ],
   "source": [
    "data.head(10) # выведем первые 10 строк исходной выборки"
   ]
  },
  {
   "cell_type": "code",
   "execution_count": 95,
   "metadata": {},
   "outputs": [
    {
     "data": {
      "text/plain": [
       "array([[<AxesSubplot:title={'center':'total_images'}>,\n",
       "        <AxesSubplot:title={'center':'last_price'}>,\n",
       "        <AxesSubplot:title={'center':'total_area'}>,\n",
       "        <AxesSubplot:title={'center':'rooms'}>],\n",
       "       [<AxesSubplot:title={'center':'ceiling_height'}>,\n",
       "        <AxesSubplot:title={'center':'floors_total'}>,\n",
       "        <AxesSubplot:title={'center':'living_area'}>,\n",
       "        <AxesSubplot:title={'center':'floor'}>],\n",
       "       [<AxesSubplot:title={'center':'kitchen_area'}>,\n",
       "        <AxesSubplot:title={'center':'balcony'}>,\n",
       "        <AxesSubplot:title={'center':'airports_nearest'}>,\n",
       "        <AxesSubplot:title={'center':'cityCenters_nearest'}>],\n",
       "       [<AxesSubplot:title={'center':'parks_around3000'}>,\n",
       "        <AxesSubplot:title={'center':'parks_nearest'}>,\n",
       "        <AxesSubplot:title={'center':'ponds_around3000'}>,\n",
       "        <AxesSubplot:title={'center':'ponds_nearest'}>],\n",
       "       [<AxesSubplot:title={'center':'days_exposition'}>, <AxesSubplot:>,\n",
       "        <AxesSubplot:>, <AxesSubplot:>]], dtype=object)"
      ]
     },
     "execution_count": 95,
     "metadata": {},
     "output_type": "execute_result"
    },
    {
     "data": {
      "image/png": "[encoded data removed]",
      "text/plain": [
       "<Figure size 1080x1440 with 20 Axes>"
      ]
     },
     "metadata": {
      "needs_background": "light"
     },
     "output_type": "display_data"
    }
   ],
   "source": [
    "data.hist(figsize = (15, 20), bins = 30) # общая статистика всех параметров таблицы"
   ]
  },
  {
   "cell_type": "markdown",
   "metadata": {},
   "source": [
    "## Предобработка данных"
   ]
  },
  {
   "cell_type": "markdown",
   "metadata": {},
   "source": [
    "### Общий анализ пропусков\n",
    "Проверим наличие пропусков в данных. Они имеются среди следующих столбцов: ceiling_height(высота потолков), floors_total(количество этажей в доме), living_area(жилая площадь), is_apartment(аппартаменты),  kitchen_area(площадь кухни), balcony(число балконов), locality_name(населенный пункт), airports_nearest(расстояние до аэропорта), cityCenters_nearest(до центра города), parks_around3000(парки в 3 км), ponds_around3000(водоёмы в 3 км), ponds_nearest(до ближайшего водоёма),  days_exposition(время размещения до снятия)"
   ]
  },
  {
   "cell_type": "code",
   "execution_count": 96,
   "metadata": {},
   "outputs": [
    {
     "data": {
      "text/plain": [
       "total_images                0\n",
       "last_price                  0\n",
       "total_area                  0\n",
       "first_day_exposition        0\n",
       "rooms                       0\n",
       "ceiling_height           9195\n",
       "floors_total               86\n",
       "living_area              1903\n",
       "floor                       0\n",
       "is_apartment            20924\n",
       "studio                      0\n",
       "open_plan                   0\n",
       "kitchen_area             2278\n",
       "balcony                 11519\n",
       "locality_name              49\n",
       "airports_nearest         5542\n",
       "cityCenters_nearest      5519\n",
       "parks_around3000         5518\n",
       "parks_nearest           15620\n",
       "ponds_around3000         5518\n",
       "ponds_nearest           14589\n",
       "days_exposition          3181\n",
       "dtype: int64"
      ]
     },
     "execution_count": 96,
     "metadata": {},
     "output_type": "execute_result"
    }
   ],
   "source": [
    "data.isna().sum() # проверим количество пропусков в разных столбцах"
   ]
  },
  {
   "cell_type": "markdown",
   "metadata": {},
   "source": [
    "### Простое заполнение пропусков\n",
    "Начнём заполнять пропуски начиная с очевидных - отсутствие значений в столбцах с информацией о ближайших парках и водоёмах, балконах говорит об их отстутствии, поэтому может быть заполнено 0. Изначально данные в этих столбцах имели тип float, заменим его на int, так как все эти характеристики дискретные"
   ]
  },
  {
   "cell_type": "code",
   "execution_count": 97,
   "metadata": {},
   "outputs": [],
   "source": [
    "columns_to_replace=['balcony','parks_around3000','ponds_around3000'] #заполняем пропуски в трёх столбцах и меняем в них тип данных на int\n",
    "for col in columns_to_replace:\n",
    "    data[col] = data[col].fillna(0)\n",
    "    data[col] = data[col].astype('int')"
   ]
  },
  {
   "cell_type": "markdown",
   "metadata": {},
   "source": [
    "Кроме этого, будем считать, что отсутствие значения в столбце is_apartment - является ли помещение апартаментами по умолчанию равно False. Данные в столбце поменяем из строки на тип bool"
   ]
  },
  {
   "cell_type": "code",
   "execution_count": 98,
   "metadata": {},
   "outputs": [],
   "source": [
    "data['is_apartment'] = data['is_apartment'].astype('bool')\n",
    "data['is_apartment'] = data['is_apartment'].fillna(False)"
   ]
  },
  {
   "cell_type": "markdown",
   "metadata": {},
   "source": [
    "### Столбец floors_total\n",
    "Количество этажей в доме в случае пропуска примем равным этажу, на котором находится объект недвижимости. Также переведём этот столбец в целые числа. Пропуски здесь могут объясняться потерей данных, либо тем, что этот параметр при заполнении карточки объекта необязателен"
   ]
  },
  {
   "cell_type": "code",
   "execution_count": 99,
   "metadata": {},
   "outputs": [],
   "source": [
    "data.loc[data['floors_total'].isna(), 'floors_total'] = data.loc[data['floors_total'].isna(), 'floor']\n",
    "data['floors_total'] = data['floors_total'].astype('int')"
   ]
  },
  {
   "cell_type": "markdown",
   "metadata": {},
   "source": [
    "### Преобразование locality_name\n",
    "Некоторые пропущенные расстояния можно заполнить используя усредненные значения для каждого населённого пункта. Для этого нужно сначала обработать данные столбца locality_name - удалить пропуски и неявные дубликаты. В этом столбце есть 49 пропущенных значений. Возможно это связано с тем, что населенного пункта не было в выпадающем меню, либо произошёл сбой в службах геолокации."
   ]
  },
  {
   "cell_type": "code",
   "execution_count": 100,
   "metadata": {},
   "outputs": [
    {
     "data": {
      "text/plain": [
       "array(['nan', 'Бокситогорск', 'Волосово', 'Волхов', 'Всеволожск',\n",
       "       'Выборг', 'Высоцк', 'Гатчина', 'Зеленогорск', 'Ивангород',\n",
       "       'Каменногорск', 'Кингисепп', 'Кириши', 'Кировск', 'Колпино',\n",
       "       'Коммунар', 'Красное Село', 'Кронштадт', 'Кудрово',\n",
       "       'Лодейное Поле', 'Ломоносов', 'Луга', 'Любань', 'Мурино',\n",
       "       'Никольское', 'Новая Ладога', 'Отрадное', 'Павловск', 'Петергоф',\n",
       "       'Пикалёво', 'Подпорожье', 'Приморск', 'Приозерск', 'Пушкин',\n",
       "       'Санкт-Петербург', 'Светогорск', 'Сертолово', 'Сестрорецк',\n",
       "       'Сланцы', 'Сосновый Бор', 'Сясьстрой', 'Тихвин', 'Тосно',\n",
       "       'Шлиссельбург', 'городской поселок Большая Ижора',\n",
       "       'городской поселок Янино-1', 'городской посёлок Будогощь',\n",
       "       'городской посёлок Виллози', 'городской посёлок Лесогорский',\n",
       "       'городской посёлок Мга', 'городской посёлок Назия',\n",
       "       'городской посёлок Новоселье', 'городской посёлок Павлово',\n",
       "       'городской посёлок Рощино', 'городской посёлок Свирьстрой',\n",
       "       'городской посёлок Советский', 'городской посёлок Фёдоровское',\n",
       "       'городской посёлок Янино-1', 'деревня Агалатово', 'деревня Аро',\n",
       "       'деревня Батово', 'деревня Бегуницы', 'деревня Белогорка',\n",
       "       'деревня Большая Вруда', 'деревня Большая Пустомержа',\n",
       "       'деревня Большие Колпаны', 'деревня Большое Рейзино',\n",
       "       'деревня Большой Сабск', 'деревня Бор', 'деревня Борисова Грива',\n",
       "       'деревня Ваганово', 'деревня Вартемяги', 'деревня Вахнова Кара',\n",
       "       'деревня Выскатка', 'деревня Гарболово', 'деревня Глинка',\n",
       "       'деревня Горбунки', 'деревня Гостилицы', 'деревня Заклинье',\n",
       "       'деревня Заневка', 'деревня Зимитицы', 'деревня Извара',\n",
       "       'деревня Иссад', 'деревня Калитино', 'деревня Кальтино',\n",
       "       'деревня Камышовка', 'деревня Каськово', 'деревня Келози',\n",
       "       'деревня Кипень', 'деревня Кисельня', 'деревня Колтуши',\n",
       "       'деревня Коркино', 'деревня Котлы', 'деревня Кривко',\n",
       "       'деревня Кудрово', 'деревня Кузьмолово', 'деревня Курковицы',\n",
       "       'деревня Куровицы', 'деревня Куттузи', 'деревня Лаврики',\n",
       "       'деревня Лаголово', 'деревня Лампово', 'деревня Лесколово',\n",
       "       'деревня Лопухинка', 'деревня Лупполово',\n",
       "       'деревня Малая Романовка', 'деревня Малое Верево',\n",
       "       'деревня Малое Карлино', 'деревня Малые Колпаны',\n",
       "       'деревня Мануйлово', 'деревня Меньково', 'деревня Мины',\n",
       "       'деревня Мистолово', 'деревня Ненимяки', 'деревня Нижние Осельки',\n",
       "       'деревня Нижняя', 'деревня Низино', 'деревня Новое Девяткино',\n",
       "       'деревня Новолисино', 'деревня Нурма', 'деревня Оржицы',\n",
       "       'деревня Парицы', 'деревня Пельгора', 'деревня Пеники',\n",
       "       'деревня Пижма', 'деревня Пикколово', 'деревня Пудомяги',\n",
       "       'деревня Пустынка', 'деревня Пчева', 'деревня Рабитицы',\n",
       "       'деревня Разбегаево', 'деревня Раздолье', 'деревня Разметелево',\n",
       "       'деревня Рапполово', 'деревня Реброво', 'деревня Русско',\n",
       "       'деревня Сижно', 'деревня Снегирёвка', 'деревня Старая',\n",
       "       'деревня Старая Пустошь', 'деревня Старое Хинколово',\n",
       "       'деревня Старополье', 'деревня Старосиверская',\n",
       "       'деревня Старые Бегуницы', 'деревня Суоранда',\n",
       "       'деревня Сяськелево', 'деревня Тарасово', 'деревня Терпилицы',\n",
       "       'деревня Тихковицы', 'деревня Тойворово', 'деревня Торосово',\n",
       "       'деревня Торошковичи', 'деревня Трубников Бор',\n",
       "       'деревня Фалилеево', 'деревня Фёдоровское', 'деревня Хапо-Ое',\n",
       "       'деревня Хязельки', 'деревня Чудской Бор', 'деревня Шпаньково',\n",
       "       'деревня Щеглово', 'деревня Юкки', 'деревня Ялгино',\n",
       "       'деревня Яльгелево', 'деревня Ям-Тесово',\n",
       "       'коттеджный поселок Кивеннапа Север', 'коттеджный поселок Счастье',\n",
       "       'коттеджный посёлок Лесное', 'поселок Аннино', 'поселок Барышево',\n",
       "       'поселок Бугры', 'поселок Возрождение', 'поселок Войсковицы',\n",
       "       'поселок Володарское', 'поселок Гаврилово', 'поселок Гарболово',\n",
       "       'поселок Гладкое', 'поселок Глажево', 'поселок Глебычево',\n",
       "       'поселок Гончарово', 'поселок Громово', 'поселок Дружноселье',\n",
       "       'поселок Елизаветино', 'поселок Жилгородок', 'поселок Жилпосёлок',\n",
       "       'поселок Житково', 'поселок Заводской', 'поселок Запорожское',\n",
       "       'поселок Зимитицы', 'поселок Ильичёво', 'поселок Калитино',\n",
       "       'поселок Каложицы', 'поселок Кингисеппский', 'поселок Кирпичное',\n",
       "       'поселок Кобралово', 'поселок Кобринское', 'поселок Коммунары',\n",
       "       'поселок Коробицыно', 'поселок Котельский',\n",
       "       'поселок Красная Долина', 'поселок Красносельское',\n",
       "       'поселок Лесное', 'поселок Лисий Нос', 'поселок Лукаши',\n",
       "       'поселок Любань', 'поселок Мельниково', 'поселок Мичуринское',\n",
       "       'поселок Молодцово', 'поселок Мурино', 'поселок Новый Свет',\n",
       "       'поселок Новый Учхоз', 'поселок Оредеж',\n",
       "       'поселок Пансионат Зелёный Бор', 'поселок Первомайское',\n",
       "       'поселок Перово', 'поселок Петровское', 'поселок Победа',\n",
       "       'поселок Поляны', 'поселок Почап', 'поселок Починок',\n",
       "       'поселок Пушное', 'поселок Пчевжа', 'поселок Рабитицы',\n",
       "       'поселок Романовка', 'поселок Ромашки', 'поселок Рябово',\n",
       "       'поселок Севастьяново', 'поселок Селезнёво', 'поселок Сельцо',\n",
       "       'поселок Семиозерье', 'поселок Семрино', 'поселок Серебрянский',\n",
       "       'поселок Совхозный', 'поселок Старая Малукса',\n",
       "       'поселок Стеклянный', 'поселок Сумино', 'поселок Суходолье',\n",
       "       'поселок Тельмана', 'поселок Терволово', 'поселок Торковичи',\n",
       "       'поселок Тёсово-4', 'поселок Углово', 'поселок Усть-Луга',\n",
       "       'поселок Ушаки', 'поселок Цвелодубово', 'поселок Цвылёво',\n",
       "       'поселок городского типа Большая Ижора',\n",
       "       'поселок городского типа Вырица',\n",
       "       'поселок городского типа Дружная Горка',\n",
       "       'поселок городского типа Дубровка',\n",
       "       'поселок городского типа Ефимовский',\n",
       "       'поселок городского типа Кондратьево',\n",
       "       'поселок городского типа Красный Бор',\n",
       "       'поселок городского типа Кузьмоловский',\n",
       "       'поселок городского типа Лебяжье',\n",
       "       'поселок городского типа Лесогорский',\n",
       "       'поселок городского типа Назия',\n",
       "       'поселок городского типа Никольский',\n",
       "       'поселок городского типа Приладожский',\n",
       "       'поселок городского типа Рахья', 'поселок городского типа Рощино',\n",
       "       'поселок городского типа Рябово',\n",
       "       'поселок городского типа Синявино',\n",
       "       'поселок городского типа Советский',\n",
       "       'поселок городского типа Токсово',\n",
       "       'поселок городского типа Форносово',\n",
       "       'поселок городского типа имени Свердлова',\n",
       "       'поселок станции Вещево', 'поселок станции Корнево',\n",
       "       'поселок станции Лужайка', 'поселок станции Приветнинское',\n",
       "       'посёлок Александровская', 'посёлок Алексеевка', 'посёлок Аннино',\n",
       "       'посёлок Белоостров', 'посёлок Бугры', 'посёлок Возрождение',\n",
       "       'посёлок Войскорово', 'посёлок Высокоключевой',\n",
       "       'посёлок Гаврилово', 'посёлок Дзержинского', 'посёлок Жилгородок',\n",
       "       'посёлок Ильичёво', 'посёлок Кикерино', 'посёлок Кобралово',\n",
       "       'посёлок Коробицыно', 'посёлок Левашово', 'посёлок Ленинское',\n",
       "       'посёлок Лисий Нос', 'посёлок Мельниково', 'посёлок Металлострой',\n",
       "       'посёлок Мичуринское', 'посёлок Молодёжное', 'посёлок Мурино',\n",
       "       'посёлок Мыза-Ивановка', 'посёлок Новогорелово',\n",
       "       'посёлок Новый Свет', 'посёлок Пансионат Зелёный Бор',\n",
       "       'посёлок Парголово', 'посёлок Перово', 'посёлок Песочный',\n",
       "       'посёлок Петро-Славянка', 'посёлок Петровское',\n",
       "       'посёлок Платформа 69-й километр', 'посёлок Плодовое',\n",
       "       'посёлок Плоское', 'посёлок Победа', 'посёлок Поляны',\n",
       "       'посёлок Понтонный', 'посёлок Пригородный', 'посёлок Пудость',\n",
       "       'посёлок Репино', 'посёлок Ропша', 'посёлок Сапёрное',\n",
       "       'посёлок Сапёрный', 'посёлок Сосново', 'посёлок Старая Малукса',\n",
       "       'посёлок Стеклянный', 'посёлок Стрельна', 'посёлок Суйда',\n",
       "       'посёлок Сумино', 'посёлок Тельмана', 'посёлок Терволово',\n",
       "       'посёлок Торфяное', 'посёлок Усть-Ижора', 'посёлок Усть-Луга',\n",
       "       'посёлок Форт Красная Горка', 'посёлок Шугозеро', 'посёлок Шушары',\n",
       "       'посёлок Щеглово', 'посёлок городского типа Важины',\n",
       "       'посёлок городского типа Вознесенье',\n",
       "       'посёлок городского типа Вырица',\n",
       "       'посёлок городского типа Красный Бор',\n",
       "       'посёлок городского типа Кузнечное',\n",
       "       'посёлок городского типа Кузьмоловский',\n",
       "       'посёлок городского типа Лебяжье', 'посёлок городского типа Мга',\n",
       "       'посёлок городского типа Павлово',\n",
       "       'посёлок городского типа Рощино', 'посёлок городского типа Рябово',\n",
       "       'посёлок городского типа Сиверский',\n",
       "       'посёлок городского типа Тайцы', 'посёлок городского типа Токсово',\n",
       "       'посёлок городского типа Ульяновка',\n",
       "       'посёлок городского типа Форносово',\n",
       "       'посёлок городского типа имени Морозова',\n",
       "       'посёлок городского типа имени Свердлова',\n",
       "       'посёлок при железнодорожной станции Вещево',\n",
       "       'посёлок при железнодорожной станции Приветнинское',\n",
       "       'посёлок станции Громово', 'посёлок станции Свирь',\n",
       "       'садоводческое некоммерческое товарищество Лесная Поляна',\n",
       "       'садовое товарищество Новая Ропша',\n",
       "       'садовое товарищество Приладожский', 'садовое товарищество Рахья',\n",
       "       'садовое товарищество Садко', 'село Копорье', 'село Никольское',\n",
       "       'село Павлово', 'село Паша', 'село Путилово', 'село Рождествено',\n",
       "       'село Русско-Высоцкое', 'село Старая Ладога', 'село Шум'],\n",
       "      dtype=object)"
      ]
     },
     "execution_count": 100,
     "metadata": {},
     "output_type": "execute_result"
    }
   ],
   "source": [
    "data['locality_name'] = data['locality_name'].astype('str') # меняем тип данных на строковый и выводим уникальные значения\n",
    "data['locality_name'].sort_values().unique()"
   ]
  },
  {
   "cell_type": "markdown",
   "metadata": {},
   "source": [
    "Чтобы автоматизировать поиск неявных дубликатов, создадим новый столбец с названиями населенных пунктов. Так как опечатки и расхождения чаще происходят не из самого названия, а из типа населённого пункта - поселок/посёлок и т.д., удалим их все, оставив только топонимы. Для этого введём вспомогательную функцию создания коротких названий"
   ]
  },
  {
   "cell_type": "code",
   "execution_count": 101,
   "metadata": {},
   "outputs": [],
   "source": [
    "bad_word = ['посёлок', 'поселок','коттеджный', 'городского', 'типа', 'городской', 'при', 'железнодорожной','станции', 'село', 'деревня', 'садовое', 'товарищество', 'садоводческое', 'некоммерческое']\n",
    "# функция для создания вспомогательного столбца с короткими названиями населенных пунктов без типа\n",
    "def short_name(local_name):\n",
    "    local_name_list = local_name.split()\n",
    "    for word in bad_word:\n",
    "        if word in local_name_list:\n",
    "            local_name_list.remove(word)\n",
    "    new_name = ' '.join(local_name_list)\n",
    "    if new_name != local_name:\n",
    "        return new_name\n",
    "    else: \n",
    "        return local_name"
   ]
  },
  {
   "cell_type": "markdown",
   "metadata": {},
   "source": [
    "В таблице остались пропуски, где nan записан как строка. Таких значений всего 49,  заменим их на 'unknown'"
   ]
  },
  {
   "cell_type": "code",
   "execution_count": 102,
   "metadata": {},
   "outputs": [],
   "source": [
    "data.loc[data['locality_name'] == 'nan', 'locality_name'] = 'unknown'"
   ]
  },
  {
   "cell_type": "code",
   "execution_count": 103,
   "metadata": {
    "scrolled": true
   },
   "outputs": [
    {
     "data": {
      "text/plain": [
       "array(['unknown', 'Агалатово', 'Александровская', 'Алексеевка', 'Аннино',\n",
       "       'Аро', 'Барышево', 'Батово', 'Бегуницы', 'Белогорка', 'Белоостров',\n",
       "       'Бокситогорск', 'Большая Вруда', 'Большая Ижора',\n",
       "       'Большая Пустомержа', 'Большие Колпаны', 'Большое Рейзино',\n",
       "       'Большой Сабск', 'Бор', 'Борисова Грива', 'Бугры', 'Будогощь',\n",
       "       'Ваганово', 'Важины', 'Вартемяги', 'Вахнова Кара', 'Вещево',\n",
       "       'Виллози', 'Вознесенье', 'Возрождение', 'Войсковицы', 'Войскорово',\n",
       "       'Володарское', 'Волосово', 'Волхов', 'Всеволожск', 'Выборг',\n",
       "       'Вырица', 'Выскатка', 'Высокоключевой', 'Высоцк', 'Гаврилово',\n",
       "       'Гарболово', 'Гатчина', 'Гладкое', 'Глажево', 'Глебычево',\n",
       "       'Глинка', 'Гончарово', 'Горбунки', 'Гостилицы', 'Громово',\n",
       "       'Дзержинского', 'Дружная Горка', 'Дружноселье', 'Дубровка',\n",
       "       'Елизаветино', 'Ефимовский', 'Жилгородок', 'Жилпосёлок', 'Житково',\n",
       "       'Заводской', 'Заклинье', 'Заневка', 'Запорожское', 'Зеленогорск',\n",
       "       'Зимитицы', 'Ивангород', 'Извара', 'Ильичёво', 'Иссад', 'Калитино',\n",
       "       'Каложицы', 'Кальтино', 'Каменногорск', 'Камышовка', 'Каськово',\n",
       "       'Келози', 'Кивеннапа Север', 'Кикерино', 'Кингисепп',\n",
       "       'Кингисеппский', 'Кипень', 'Кириши', 'Кировск', 'Кирпичное',\n",
       "       'Кисельня', 'Кобралово', 'Кобринское', 'Колпино', 'Колтуши',\n",
       "       'Коммунар', 'Коммунары', 'Кондратьево', 'Копорье', 'Коркино',\n",
       "       'Корнево', 'Коробицыно', 'Котельский', 'Котлы', 'Красная Долина',\n",
       "       'Красное Село', 'Красносельское', 'Красный Бор', 'Кривко',\n",
       "       'Кронштадт', 'Кудрово', 'Кузнечное', 'Кузьмолово', 'Кузьмоловский',\n",
       "       'Курковицы', 'Куровицы', 'Куттузи', 'Лаврики', 'Лаголово',\n",
       "       'Лампово', 'Лебяжье', 'Левашово', 'Ленинское', 'Лесколово',\n",
       "       'Лесная Поляна', 'Лесное', 'Лесогорский', 'Лисий Нос',\n",
       "       'Лодейное Поле', 'Ломоносов', 'Лопухинка', 'Луга', 'Лужайка',\n",
       "       'Лукаши', 'Лупполово', 'Любань', 'Малая Романовка', 'Малое Верево',\n",
       "       'Малое Карлино', 'Малые Колпаны', 'Мануйлово', 'Мга', 'Мельниково',\n",
       "       'Меньково', 'Металлострой', 'Мины', 'Мистолово', 'Мичуринское',\n",
       "       'Молодцово', 'Молодёжное', 'Мурино', 'Мыза-Ивановка', 'Назия',\n",
       "       'Ненимяки', 'Нижние Осельки', 'Нижняя', 'Низино', 'Никольский',\n",
       "       'Никольское', 'Новая Ладога', 'Новая Ропша', 'Новогорелово',\n",
       "       'Новое Девяткино', 'Новолисино', 'Новоселье', 'Новый Свет',\n",
       "       'Новый Учхоз', 'Нурма', 'Оредеж', 'Оржицы', 'Отрадное', 'Павлово',\n",
       "       'Павловск', 'Пансионат Зелёный Бор', 'Парголово', 'Парицы', 'Паша',\n",
       "       'Пельгора', 'Пеники', 'Первомайское', 'Перово', 'Песочный',\n",
       "       'Петергоф', 'Петро-Славянка', 'Петровское', 'Пижма', 'Пикалёво',\n",
       "       'Пикколово', 'Платформа 69-й километр', 'Плодовое', 'Плоское',\n",
       "       'Победа', 'Подпорожье', 'Поляны', 'Понтонный', 'Почап', 'Починок',\n",
       "       'Приветнинское', 'Пригородный', 'Приладожский', 'Приморск',\n",
       "       'Приозерск', 'Пудомяги', 'Пудость', 'Пустынка', 'Путилово',\n",
       "       'Пушкин', 'Пушное', 'Пчева', 'Пчевжа', 'Рабитицы', 'Разбегаево',\n",
       "       'Раздолье', 'Разметелево', 'Рапполово', 'Рахья', 'Реброво',\n",
       "       'Репино', 'Рождествено', 'Романовка', 'Ромашки', 'Ропша', 'Рощино',\n",
       "       'Русско', 'Русско-Высоцкое', 'Рябово', 'Садко', 'Санкт-Петербург',\n",
       "       'Сапёрное', 'Сапёрный', 'Светогорск', 'Свирь', 'Свирьстрой',\n",
       "       'Севастьяново', 'Селезнёво', 'Сельцо', 'Семиозерье', 'Семрино',\n",
       "       'Серебрянский', 'Сертолово', 'Сестрорецк', 'Сиверский', 'Сижно',\n",
       "       'Синявино', 'Сланцы', 'Снегирёвка', 'Советский', 'Совхозный',\n",
       "       'Сосново', 'Сосновый Бор', 'Старая', 'Старая Ладога',\n",
       "       'Старая Малукса', 'Старая Пустошь', 'Старое Хинколово',\n",
       "       'Старополье', 'Старосиверская', 'Старые Бегуницы', 'Стеклянный',\n",
       "       'Стрельна', 'Суйда', 'Сумино', 'Суоранда', 'Суходолье', 'Счастье',\n",
       "       'Сяськелево', 'Сясьстрой', 'Тайцы', 'Тарасово', 'Тельмана',\n",
       "       'Терволово', 'Терпилицы', 'Тихвин', 'Тихковицы', 'Тойворово',\n",
       "       'Токсово', 'Торковичи', 'Торосово', 'Торошковичи', 'Торфяное',\n",
       "       'Тосно', 'Трубников Бор', 'Тёсово-4', 'Углово', 'Ульяновка',\n",
       "       'Усть-Ижора', 'Усть-Луга', 'Ушаки', 'Фалилеево', 'Форносово',\n",
       "       'Форт Красная Горка', 'Фёдоровское', 'Хапо-Ое', 'Хязельки',\n",
       "       'Цвелодубово', 'Цвылёво', 'Чудской Бор', 'Шлиссельбург',\n",
       "       'Шпаньково', 'Шугозеро', 'Шум', 'Шушары', 'Щеглово', 'Юкки',\n",
       "       'Ялгино', 'Яльгелево', 'Ям-Тесово', 'Янино-1', 'имени Морозова',\n",
       "       'имени Свердлова'], dtype=object)"
      ]
     },
     "execution_count": 103,
     "metadata": {},
     "output_type": "execute_result"
    }
   ],
   "source": [
    "data['short_locality_name'] = data['locality_name'].apply(short_name) \n",
    "data['short_locality_name'].sort_values().unique() # выведем уникальные значения после удаления неявных дубликатов"
   ]
  },
  {
   "cell_type": "markdown",
   "metadata": {},
   "source": [
    "### Столбец last_price\n",
    "В этом столбце нет пропусков, но его нужно изучить на наличие выбросов. В выборке имеется большое количество элитной недвижимости со стоимостью на порядки отличающейся от средней. Оставим для анализа только квартиры дешевле 30 млн рублей "
   ]
  },
  {
   "cell_type": "code",
   "execution_count": 104,
   "metadata": {
    "scrolled": false
   },
   "outputs": [
    {
     "data": {
      "text/plain": [
       "<AxesSubplot:>"
      ]
     },
     "execution_count": 104,
     "metadata": {},
     "output_type": "execute_result"
    },
    {
     "data": {
      "image/png": "[encoded data removed]",
      "text/plain": [
       "<Figure size 288x288 with 1 Axes>"
      ]
     },
     "metadata": {
      "needs_background": "light"
     },
     "output_type": "display_data"
    }
   ],
   "source": [
    "data['last_price'].plot(kind = 'box', figsize = (4,4), grid = True) # статистические характеристики цены на недвижимость"
   ]
  },
  {
   "cell_type": "code",
   "execution_count": 105,
   "metadata": {},
   "outputs": [],
   "source": [
    "data_midclass = data.query('last_price <30000000') # создаём новый датасет для анализа недвижимости среднего рынка"
   ]
  },
  {
   "cell_type": "markdown",
   "metadata": {},
   "source": [
    "### Столбцы rooms, kitchen_area, living_area\n",
    "\n",
    "Эти столбцы непосредственно связаны друг с другом, поэтому проанализируем их совместно. Для начала изучим статистику медианных значений в зависимости от количества комнат в квартире и наличие пропусков в данных по ним. Параметры площадей заполняются пользователем вручную, поэтому служат серьёзным источником пропущенных и некорректных данных"
   ]
  },
  {
   "cell_type": "code",
   "execution_count": 106,
   "metadata": {
    "scrolled": true
   },
   "outputs": [
    {
     "data": {
      "text/html": [
       "<div>\n",
       "<style scoped>\n",
       "    .dataframe tbody tr th:only-of-type {\n",
       "        vertical-align: middle;\n",
       "    }\n",
       "\n",
       "    .dataframe tbody tr th {\n",
       "        vertical-align: top;\n",
       "    }\n",
       "\n",
       "    .dataframe thead tr th {\n",
       "        text-align: left;\n",
       "    }\n",
       "\n",
       "    .dataframe thead tr:last-of-type th {\n",
       "        text-align: right;\n",
       "    }\n",
       "</style>\n",
       "<table border=\"1\" class=\"dataframe\">\n",
       "  <thead>\n",
       "    <tr>\n",
       "      <th></th>\n",
       "      <th colspan=\"3\" halign=\"left\">median</th>\n",
       "      <th colspan=\"3\" halign=\"left\">count</th>\n",
       "    </tr>\n",
       "    <tr>\n",
       "      <th></th>\n",
       "      <th>kitchen_area</th>\n",
       "      <th>living_area</th>\n",
       "      <th>total_area</th>\n",
       "      <th>kitchen_area</th>\n",
       "      <th>living_area</th>\n",
       "      <th>total_area</th>\n",
       "    </tr>\n",
       "    <tr>\n",
       "      <th>rooms</th>\n",
       "      <th></th>\n",
       "      <th></th>\n",
       "      <th></th>\n",
       "      <th></th>\n",
       "      <th></th>\n",
       "      <th></th>\n",
       "    </tr>\n",
       "  </thead>\n",
       "  <tbody>\n",
       "    <tr>\n",
       "      <th>0</th>\n",
       "      <td>NaN</td>\n",
       "      <td>18.00</td>\n",
       "      <td>26.025</td>\n",
       "      <td>0</td>\n",
       "      <td>183</td>\n",
       "      <td>196</td>\n",
       "    </tr>\n",
       "    <tr>\n",
       "      <th>1</th>\n",
       "      <td>9.01</td>\n",
       "      <td>17.60</td>\n",
       "      <td>36.500</td>\n",
       "      <td>7209</td>\n",
       "      <td>7384</td>\n",
       "      <td>8042</td>\n",
       "    </tr>\n",
       "    <tr>\n",
       "      <th>2</th>\n",
       "      <td>8.70</td>\n",
       "      <td>30.50</td>\n",
       "      <td>53.000</td>\n",
       "      <td>7267</td>\n",
       "      <td>7280</td>\n",
       "      <td>7918</td>\n",
       "    </tr>\n",
       "    <tr>\n",
       "      <th>3</th>\n",
       "      <td>9.40</td>\n",
       "      <td>44.90</td>\n",
       "      <td>72.300</td>\n",
       "      <td>5287</td>\n",
       "      <td>5274</td>\n",
       "      <td>5713</td>\n",
       "    </tr>\n",
       "    <tr>\n",
       "      <th>4</th>\n",
       "      <td>10.90</td>\n",
       "      <td>62.50</td>\n",
       "      <td>96.450</td>\n",
       "      <td>1016</td>\n",
       "      <td>1023</td>\n",
       "      <td>1108</td>\n",
       "    </tr>\n",
       "    <tr>\n",
       "      <th>5</th>\n",
       "      <td>14.00</td>\n",
       "      <td>88.05</td>\n",
       "      <td>133.000</td>\n",
       "      <td>233</td>\n",
       "      <td>240</td>\n",
       "      <td>265</td>\n",
       "    </tr>\n",
       "    <tr>\n",
       "      <th>6</th>\n",
       "      <td>16.90</td>\n",
       "      <td>114.80</td>\n",
       "      <td>167.750</td>\n",
       "      <td>68</td>\n",
       "      <td>71</td>\n",
       "      <td>76</td>\n",
       "    </tr>\n",
       "    <tr>\n",
       "      <th>7</th>\n",
       "      <td>17.00</td>\n",
       "      <td>130.50</td>\n",
       "      <td>196.500</td>\n",
       "      <td>33</td>\n",
       "      <td>34</td>\n",
       "      <td>36</td>\n",
       "    </tr>\n",
       "    <tr>\n",
       "      <th>8</th>\n",
       "      <td>22.60</td>\n",
       "      <td>155.00</td>\n",
       "      <td>229.000</td>\n",
       "      <td>5</td>\n",
       "      <td>7</td>\n",
       "      <td>7</td>\n",
       "    </tr>\n",
       "    <tr>\n",
       "      <th>9</th>\n",
       "      <td>13.20</td>\n",
       "      <td>179.20</td>\n",
       "      <td>271.100</td>\n",
       "      <td>5</td>\n",
       "      <td>5</td>\n",
       "      <td>6</td>\n",
       "    </tr>\n",
       "    <tr>\n",
       "      <th>10</th>\n",
       "      <td>19.30</td>\n",
       "      <td>153.65</td>\n",
       "      <td>244.350</td>\n",
       "      <td>2</td>\n",
       "      <td>2</td>\n",
       "      <td>2</td>\n",
       "    </tr>\n",
       "    <tr>\n",
       "      <th>11</th>\n",
       "      <td>13.30</td>\n",
       "      <td>138.80</td>\n",
       "      <td>183.700</td>\n",
       "      <td>1</td>\n",
       "      <td>1</td>\n",
       "      <td>1</td>\n",
       "    </tr>\n",
       "    <tr>\n",
       "      <th>14</th>\n",
       "      <td>21.25</td>\n",
       "      <td>195.15</td>\n",
       "      <td>304.200</td>\n",
       "      <td>2</td>\n",
       "      <td>2</td>\n",
       "      <td>2</td>\n",
       "    </tr>\n",
       "    <tr>\n",
       "      <th>16</th>\n",
       "      <td>13.00</td>\n",
       "      <td>180.00</td>\n",
       "      <td>270.000</td>\n",
       "      <td>1</td>\n",
       "      <td>1</td>\n",
       "      <td>1</td>\n",
       "    </tr>\n",
       "  </tbody>\n",
       "</table>\n",
       "</div>"
      ],
      "text/plain": [
       "            median                               count                       \n",
       "      kitchen_area living_area total_area kitchen_area living_area total_area\n",
       "rooms                                                                        \n",
       "0              NaN       18.00     26.025            0         183        196\n",
       "1             9.01       17.60     36.500         7209        7384       8042\n",
       "2             8.70       30.50     53.000         7267        7280       7918\n",
       "3             9.40       44.90     72.300         5287        5274       5713\n",
       "4            10.90       62.50     96.450         1016        1023       1108\n",
       "5            14.00       88.05    133.000          233         240        265\n",
       "6            16.90      114.80    167.750           68          71         76\n",
       "7            17.00      130.50    196.500           33          34         36\n",
       "8            22.60      155.00    229.000            5           7          7\n",
       "9            13.20      179.20    271.100            5           5          6\n",
       "10           19.30      153.65    244.350            2           2          2\n",
       "11           13.30      138.80    183.700            1           1          1\n",
       "14           21.25      195.15    304.200            2           2          2\n",
       "16           13.00      180.00    270.000            1           1          1"
      ]
     },
     "execution_count": 106,
     "metadata": {},
     "output_type": "execute_result"
    }
   ],
   "source": [
    "data_midclass.pivot_table(index = 'rooms', values = ['total_area', 'kitchen_area', 'living_area'], aggfunc = ['median','count'])"
   ]
  },
  {
   "cell_type": "markdown",
   "metadata": {},
   "source": [
    "В выборке присутствуют квартиры и, вероятно, коттеджи с большим количеством комнат. Это также элитная недвижимость либо ошибки в данных. Удалим все объекты более 6 комнат."
   ]
  },
  {
   "cell_type": "code",
   "execution_count": 107,
   "metadata": {},
   "outputs": [],
   "source": [
    "data_midclass = data_midclass.query('rooms <=6')"
   ]
  },
  {
   "cell_type": "markdown",
   "metadata": {},
   "source": [
    "Отдельно рассмотрим студии. Пропущенные значения для площади кухни заменим на 0, а жилую площадь - на общую. Те студии, где количество комнат указано 0, заменим на 1."
   ]
  },
  {
   "cell_type": "code",
   "execution_count": 108,
   "metadata": {},
   "outputs": [],
   "source": [
    "#заменям 0комнатные квартиры на 1\n",
    "data_midclass.loc[data_midclass['rooms'] == 0, 'rooms'] = 1\n",
    "#проставляем 0 в кухни студий\n",
    "data_midclass.loc[(data_midclass['kitchen_area'].isna()) & (data_midclass['studio'] == True), 'kitchen_area'] = 0  \n",
    "#заполняем пропуски жилой площади студий общей площадью\n",
    "data_midclass.loc[(data['living_area'].isna()) & (data_midclass['studio'] == True), 'living_area'] = data_midclass.loc[(data['living_area'].isna()) & (data_midclass['studio'] == True), 'total_area']     "
   ]
  },
  {
   "cell_type": "markdown",
   "metadata": {},
   "source": [
    "Изучим выбросы данных. Для каждого типа квартир отбросим квартиры, где общая площадь явно превышает разумные пределы для рынка стандартной недвижимости "
   ]
  },
  {
   "cell_type": "code",
   "execution_count": 109,
   "metadata": {
    "scrolled": true
   },
   "outputs": [
    {
     "data": {
      "text/plain": [
       "<AxesSubplot:>"
      ]
     },
     "execution_count": 109,
     "metadata": {},
     "output_type": "execute_result"
    },
    {
     "data": {
      "image/png": "[encoded data removed]",
      "text/plain": [
       "<Figure size 288x288 with 1 Axes>"
      ]
     },
     "metadata": {
      "needs_background": "light"
     },
     "output_type": "display_data"
    }
   ],
   "source": [
    "data_midclass['total_area'].plot(kind = 'box', figsize = (4,4), grid = True) #статистические характеристики общей площади жилья"
   ]
  },
  {
   "cell_type": "code",
   "execution_count": 110,
   "metadata": {},
   "outputs": [],
   "source": [
    "# Обрезаем данные, удаляя слишком большие квартиры\n",
    "data_midclass = data_midclass.query('(rooms == 0 and total_area<70) or (rooms == 1 and total_area<80) or (rooms == 2 and total_area<100) or (rooms == 3 and total_area<150) or (rooms == 4 and total_area<200) or (rooms == 5 and total_area<250) or (rooms == 6 and total_area<300)')"
   ]
  },
  {
   "cell_type": "markdown",
   "metadata": {},
   "source": [
    "Пропуски в столбце kitchen_area могут быть случайными, а могут обозначать, что выделенной кухни в квартире нет(европланировка), поэтому их заполнять не будем, чтобы не искажать статистику.\n",
    "Пропуски в столбце living_area также оставим незаполненными, так как среди квартир есть недвижимость свободной и нестандартной планировки и заполнять их усреднёнными значениями будет ошибочно "
   ]
  },
  {
   "cell_type": "markdown",
   "metadata": {},
   "source": [
    "Теперь изучим эти столбцы на предмет выбросов значений"
   ]
  },
  {
   "cell_type": "code",
   "execution_count": 111,
   "metadata": {
    "scrolled": false
   },
   "outputs": [
    {
     "data": {
      "text/plain": [
       "<AxesSubplot:>"
      ]
     },
     "execution_count": 111,
     "metadata": {},
     "output_type": "execute_result"
    },
    {
     "data": {
      "image/png": "[encoded data removed]",
      "text/plain": [
       "<Figure size 288x288 with 1 Axes>"
      ]
     },
     "metadata": {
      "needs_background": "light"
     },
     "output_type": "display_data"
    }
   ],
   "source": [
    "data_midclass['living_area'].plot(kind = 'box', figsize = (4,4), grid = True)#статистические характеристики жилой площади жилья"
   ]
  },
  {
   "cell_type": "code",
   "execution_count": 112,
   "metadata": {},
   "outputs": [
    {
     "data": {
      "text/plain": [
       "<AxesSubplot:>"
      ]
     },
     "execution_count": 112,
     "metadata": {},
     "output_type": "execute_result"
    },
    {
     "data": {
      "image/png": "[encoded data removed]",
      "text/plain": [
       "<Figure size 288x288 with 1 Axes>"
      ]
     },
     "metadata": {
      "needs_background": "light"
     },
     "output_type": "display_data"
    }
   ],
   "source": [
    "data_midclass['kitchen_area'].plot(kind = 'box', figsize = (4,4), grid = True)#статистические характеристики площади кухни"
   ]
  },
  {
   "cell_type": "markdown",
   "metadata": {},
   "source": [
    "Среди величин жилой площади и кухни остались неправдоподобно маленькие значения. Они могли возникнуть из-за опечатки в количестве нулей, или если жилая площадь и кухня были заполнены в неправильном порядке. Проверить или восстановить данные не представляется возможным, поэтому удалим такие строки."
   ]
  },
  {
   "cell_type": "code",
   "execution_count": 113,
   "metadata": {},
   "outputs": [],
   "source": [
    "# удаляем объекты с жилой площадью менее 10\n",
    "data_midclass = data_midclass.loc[(data_midclass['living_area']>10) | (data_midclass['living_area'].isna())]"
   ]
  },
  {
   "cell_type": "code",
   "execution_count": 114,
   "metadata": {},
   "outputs": [],
   "source": [
    "# удаляем объекты с площадью кухни менее 5\n",
    "data_midclass = data_midclass.loc[(data_midclass['kitchen_area']>5) | (data_midclass['living_area'].isna())]"
   ]
  },
  {
   "cell_type": "markdown",
   "metadata": {},
   "source": [
    "### Столбец ceiling_height\n",
    "Высота потолков обычно имеет стандартные значения в зависимости от серии дома. В таблице нет данных ни о годах строительства, ни о типе домов, поэтому будем отталкиваться от количества этажей в доме. Вычислим медианные значения высоты потолков для каждого типа дома и заполним ими пропуски, но сначала избавимся от выбросов в этом столбце"
   ]
  },
  {
   "cell_type": "markdown",
   "metadata": {},
   "source": [
    "Выведем строки с объектами, где высота потолков превышает 5 м или менее 2 м. Слишком высокие значения, очевидно связаны со съехавшей запятой в дроби. Их можно исправить"
   ]
  },
  {
   "cell_type": "code",
   "execution_count": 115,
   "metadata": {
    "scrolled": false
   },
   "outputs": [
    {
     "data": {
      "text/html": [
       "<div>\n",
       "<style scoped>\n",
       "    .dataframe tbody tr th:only-of-type {\n",
       "        vertical-align: middle;\n",
       "    }\n",
       "\n",
       "    .dataframe tbody tr th {\n",
       "        vertical-align: top;\n",
       "    }\n",
       "\n",
       "    .dataframe thead th {\n",
       "        text-align: right;\n",
       "    }\n",
       "</style>\n",
       "<table border=\"1\" class=\"dataframe\">\n",
       "  <thead>\n",
       "    <tr style=\"text-align: right;\">\n",
       "      <th></th>\n",
       "      <th>total_images</th>\n",
       "      <th>last_price</th>\n",
       "      <th>total_area</th>\n",
       "      <th>first_day_exposition</th>\n",
       "      <th>rooms</th>\n",
       "      <th>ceiling_height</th>\n",
       "      <th>floors_total</th>\n",
       "      <th>living_area</th>\n",
       "      <th>floor</th>\n",
       "      <th>is_apartment</th>\n",
       "      <th>...</th>\n",
       "      <th>balcony</th>\n",
       "      <th>locality_name</th>\n",
       "      <th>airports_nearest</th>\n",
       "      <th>cityCenters_nearest</th>\n",
       "      <th>parks_around3000</th>\n",
       "      <th>parks_nearest</th>\n",
       "      <th>ponds_around3000</th>\n",
       "      <th>ponds_nearest</th>\n",
       "      <th>days_exposition</th>\n",
       "      <th>short_locality_name</th>\n",
       "    </tr>\n",
       "  </thead>\n",
       "  <tbody>\n",
       "    <tr>\n",
       "      <th>3148</th>\n",
       "      <td>14</td>\n",
       "      <td>2900000.0</td>\n",
       "      <td>75.0</td>\n",
       "      <td>2018-11-12T00:00:00</td>\n",
       "      <td>3</td>\n",
       "      <td>32.00</td>\n",
       "      <td>3</td>\n",
       "      <td>53.0</td>\n",
       "      <td>2</td>\n",
       "      <td>True</td>\n",
       "      <td>...</td>\n",
       "      <td>0</td>\n",
       "      <td>Волхов</td>\n",
       "      <td>NaN</td>\n",
       "      <td>NaN</td>\n",
       "      <td>0</td>\n",
       "      <td>NaN</td>\n",
       "      <td>0</td>\n",
       "      <td>NaN</td>\n",
       "      <td>NaN</td>\n",
       "      <td>Волхов</td>\n",
       "    </tr>\n",
       "    <tr>\n",
       "      <th>3474</th>\n",
       "      <td>3</td>\n",
       "      <td>1400000.0</td>\n",
       "      <td>30.0</td>\n",
       "      <td>2018-03-16T00:00:00</td>\n",
       "      <td>1</td>\n",
       "      <td>8.00</td>\n",
       "      <td>5</td>\n",
       "      <td>15.3</td>\n",
       "      <td>2</td>\n",
       "      <td>False</td>\n",
       "      <td>...</td>\n",
       "      <td>0</td>\n",
       "      <td>деревня Нурма</td>\n",
       "      <td>NaN</td>\n",
       "      <td>NaN</td>\n",
       "      <td>0</td>\n",
       "      <td>NaN</td>\n",
       "      <td>0</td>\n",
       "      <td>NaN</td>\n",
       "      <td>125.0</td>\n",
       "      <td>Нурма</td>\n",
       "    </tr>\n",
       "    <tr>\n",
       "      <th>4643</th>\n",
       "      <td>0</td>\n",
       "      <td>4300000.0</td>\n",
       "      <td>45.0</td>\n",
       "      <td>2018-02-01T00:00:00</td>\n",
       "      <td>2</td>\n",
       "      <td>25.00</td>\n",
       "      <td>9</td>\n",
       "      <td>30.0</td>\n",
       "      <td>2</td>\n",
       "      <td>True</td>\n",
       "      <td>...</td>\n",
       "      <td>1</td>\n",
       "      <td>Санкт-Петербург</td>\n",
       "      <td>12016.0</td>\n",
       "      <td>13256.0</td>\n",
       "      <td>1</td>\n",
       "      <td>658.0</td>\n",
       "      <td>1</td>\n",
       "      <td>331.0</td>\n",
       "      <td>181.0</td>\n",
       "      <td>Санкт-Петербург</td>\n",
       "    </tr>\n",
       "    <tr>\n",
       "      <th>5076</th>\n",
       "      <td>0</td>\n",
       "      <td>3850000.0</td>\n",
       "      <td>30.5</td>\n",
       "      <td>2018-10-03T00:00:00</td>\n",
       "      <td>1</td>\n",
       "      <td>24.00</td>\n",
       "      <td>5</td>\n",
       "      <td>19.5</td>\n",
       "      <td>1</td>\n",
       "      <td>True</td>\n",
       "      <td>...</td>\n",
       "      <td>0</td>\n",
       "      <td>Санкт-Петербург</td>\n",
       "      <td>29686.0</td>\n",
       "      <td>8389.0</td>\n",
       "      <td>3</td>\n",
       "      <td>397.0</td>\n",
       "      <td>1</td>\n",
       "      <td>578.0</td>\n",
       "      <td>7.0</td>\n",
       "      <td>Санкт-Петербург</td>\n",
       "    </tr>\n",
       "    <tr>\n",
       "      <th>5246</th>\n",
       "      <td>0</td>\n",
       "      <td>2500000.0</td>\n",
       "      <td>54.0</td>\n",
       "      <td>2017-10-13T00:00:00</td>\n",
       "      <td>2</td>\n",
       "      <td>27.00</td>\n",
       "      <td>5</td>\n",
       "      <td>30.0</td>\n",
       "      <td>3</td>\n",
       "      <td>True</td>\n",
       "      <td>...</td>\n",
       "      <td>2</td>\n",
       "      <td>деревня Мины</td>\n",
       "      <td>NaN</td>\n",
       "      <td>NaN</td>\n",
       "      <td>0</td>\n",
       "      <td>NaN</td>\n",
       "      <td>0</td>\n",
       "      <td>NaN</td>\n",
       "      <td>540.0</td>\n",
       "      <td>Мины</td>\n",
       "    </tr>\n",
       "    <tr>\n",
       "      <th>5669</th>\n",
       "      <td>4</td>\n",
       "      <td>4400000.0</td>\n",
       "      <td>50.0</td>\n",
       "      <td>2017-08-08T00:00:00</td>\n",
       "      <td>2</td>\n",
       "      <td>26.00</td>\n",
       "      <td>9</td>\n",
       "      <td>21.3</td>\n",
       "      <td>3</td>\n",
       "      <td>True</td>\n",
       "      <td>...</td>\n",
       "      <td>2</td>\n",
       "      <td>Санкт-Петербург</td>\n",
       "      <td>28981.0</td>\n",
       "      <td>10912.0</td>\n",
       "      <td>1</td>\n",
       "      <td>305.0</td>\n",
       "      <td>0</td>\n",
       "      <td>NaN</td>\n",
       "      <td>267.0</td>\n",
       "      <td>Санкт-Петербург</td>\n",
       "    </tr>\n",
       "    <tr>\n",
       "      <th>5712</th>\n",
       "      <td>5</td>\n",
       "      <td>1500000.0</td>\n",
       "      <td>42.8</td>\n",
       "      <td>2017-08-14T00:00:00</td>\n",
       "      <td>2</td>\n",
       "      <td>1.20</td>\n",
       "      <td>2</td>\n",
       "      <td>27.5</td>\n",
       "      <td>1</td>\n",
       "      <td>True</td>\n",
       "      <td>...</td>\n",
       "      <td>0</td>\n",
       "      <td>городской посёлок Мга</td>\n",
       "      <td>NaN</td>\n",
       "      <td>NaN</td>\n",
       "      <td>0</td>\n",
       "      <td>NaN</td>\n",
       "      <td>0</td>\n",
       "      <td>NaN</td>\n",
       "      <td>248.0</td>\n",
       "      <td>Мга</td>\n",
       "    </tr>\n",
       "    <tr>\n",
       "      <th>5807</th>\n",
       "      <td>17</td>\n",
       "      <td>8150000.0</td>\n",
       "      <td>80.0</td>\n",
       "      <td>2019-01-09T00:00:00</td>\n",
       "      <td>2</td>\n",
       "      <td>27.00</td>\n",
       "      <td>36</td>\n",
       "      <td>41.0</td>\n",
       "      <td>13</td>\n",
       "      <td>True</td>\n",
       "      <td>...</td>\n",
       "      <td>5</td>\n",
       "      <td>Санкт-Петербург</td>\n",
       "      <td>18732.0</td>\n",
       "      <td>20444.0</td>\n",
       "      <td>0</td>\n",
       "      <td>NaN</td>\n",
       "      <td>3</td>\n",
       "      <td>80.0</td>\n",
       "      <td>38.0</td>\n",
       "      <td>Санкт-Петербург</td>\n",
       "    </tr>\n",
       "    <tr>\n",
       "      <th>5863</th>\n",
       "      <td>20</td>\n",
       "      <td>5650000.0</td>\n",
       "      <td>45.0</td>\n",
       "      <td>2018-08-15T00:00:00</td>\n",
       "      <td>1</td>\n",
       "      <td>8.30</td>\n",
       "      <td>16</td>\n",
       "      <td>19.3</td>\n",
       "      <td>14</td>\n",
       "      <td>True</td>\n",
       "      <td>...</td>\n",
       "      <td>1</td>\n",
       "      <td>Санкт-Петербург</td>\n",
       "      <td>13069.0</td>\n",
       "      <td>10763.0</td>\n",
       "      <td>0</td>\n",
       "      <td>NaN</td>\n",
       "      <td>1</td>\n",
       "      <td>613.0</td>\n",
       "      <td>14.0</td>\n",
       "      <td>Санкт-Петербург</td>\n",
       "    </tr>\n",
       "    <tr>\n",
       "      <th>6246</th>\n",
       "      <td>6</td>\n",
       "      <td>3300000.0</td>\n",
       "      <td>44.4</td>\n",
       "      <td>2019-03-25T00:00:00</td>\n",
       "      <td>2</td>\n",
       "      <td>25.00</td>\n",
       "      <td>5</td>\n",
       "      <td>31.3</td>\n",
       "      <td>5</td>\n",
       "      <td>True</td>\n",
       "      <td>...</td>\n",
       "      <td>0</td>\n",
       "      <td>Кронштадт</td>\n",
       "      <td>68923.0</td>\n",
       "      <td>50649.0</td>\n",
       "      <td>1</td>\n",
       "      <td>417.0</td>\n",
       "      <td>2</td>\n",
       "      <td>73.0</td>\n",
       "      <td>NaN</td>\n",
       "      <td>Кронштадт</td>\n",
       "    </tr>\n",
       "    <tr>\n",
       "      <th>9379</th>\n",
       "      <td>5</td>\n",
       "      <td>3950000.0</td>\n",
       "      <td>42.0</td>\n",
       "      <td>2017-03-26T00:00:00</td>\n",
       "      <td>3</td>\n",
       "      <td>25.00</td>\n",
       "      <td>5</td>\n",
       "      <td>30.0</td>\n",
       "      <td>2</td>\n",
       "      <td>True</td>\n",
       "      <td>...</td>\n",
       "      <td>0</td>\n",
       "      <td>Санкт-Петербург</td>\n",
       "      <td>11647.0</td>\n",
       "      <td>13581.0</td>\n",
       "      <td>0</td>\n",
       "      <td>NaN</td>\n",
       "      <td>0</td>\n",
       "      <td>NaN</td>\n",
       "      <td>NaN</td>\n",
       "      <td>Санкт-Петербург</td>\n",
       "    </tr>\n",
       "    <tr>\n",
       "      <th>10773</th>\n",
       "      <td>8</td>\n",
       "      <td>3800000.0</td>\n",
       "      <td>58.0</td>\n",
       "      <td>2017-10-13T00:00:00</td>\n",
       "      <td>2</td>\n",
       "      <td>27.00</td>\n",
       "      <td>10</td>\n",
       "      <td>30.1</td>\n",
       "      <td>3</td>\n",
       "      <td>False</td>\n",
       "      <td>...</td>\n",
       "      <td>2</td>\n",
       "      <td>посёлок Мурино</td>\n",
       "      <td>NaN</td>\n",
       "      <td>NaN</td>\n",
       "      <td>0</td>\n",
       "      <td>NaN</td>\n",
       "      <td>0</td>\n",
       "      <td>NaN</td>\n",
       "      <td>71.0</td>\n",
       "      <td>Мурино</td>\n",
       "    </tr>\n",
       "    <tr>\n",
       "      <th>11285</th>\n",
       "      <td>0</td>\n",
       "      <td>1950000.0</td>\n",
       "      <td>37.0</td>\n",
       "      <td>2019-03-20T00:00:00</td>\n",
       "      <td>1</td>\n",
       "      <td>25.00</td>\n",
       "      <td>5</td>\n",
       "      <td>17.0</td>\n",
       "      <td>4</td>\n",
       "      <td>False</td>\n",
       "      <td>...</td>\n",
       "      <td>2</td>\n",
       "      <td>Луга</td>\n",
       "      <td>NaN</td>\n",
       "      <td>NaN</td>\n",
       "      <td>0</td>\n",
       "      <td>NaN</td>\n",
       "      <td>0</td>\n",
       "      <td>NaN</td>\n",
       "      <td>18.0</td>\n",
       "      <td>Луга</td>\n",
       "    </tr>\n",
       "    <tr>\n",
       "      <th>14382</th>\n",
       "      <td>9</td>\n",
       "      <td>1700000.0</td>\n",
       "      <td>35.0</td>\n",
       "      <td>2015-12-04T00:00:00</td>\n",
       "      <td>1</td>\n",
       "      <td>25.00</td>\n",
       "      <td>5</td>\n",
       "      <td>20.0</td>\n",
       "      <td>2</td>\n",
       "      <td>False</td>\n",
       "      <td>...</td>\n",
       "      <td>1</td>\n",
       "      <td>поселок Новый Свет</td>\n",
       "      <td>NaN</td>\n",
       "      <td>NaN</td>\n",
       "      <td>0</td>\n",
       "      <td>NaN</td>\n",
       "      <td>0</td>\n",
       "      <td>NaN</td>\n",
       "      <td>206.0</td>\n",
       "      <td>Новый Свет</td>\n",
       "    </tr>\n",
       "    <tr>\n",
       "      <th>15061</th>\n",
       "      <td>19</td>\n",
       "      <td>5600000.0</td>\n",
       "      <td>56.4</td>\n",
       "      <td>2018-05-11T00:00:00</td>\n",
       "      <td>2</td>\n",
       "      <td>14.00</td>\n",
       "      <td>14</td>\n",
       "      <td>32.4</td>\n",
       "      <td>5</td>\n",
       "      <td>True</td>\n",
       "      <td>...</td>\n",
       "      <td>2</td>\n",
       "      <td>Санкт-Петербург</td>\n",
       "      <td>14814.0</td>\n",
       "      <td>13610.0</td>\n",
       "      <td>0</td>\n",
       "      <td>NaN</td>\n",
       "      <td>0</td>\n",
       "      <td>NaN</td>\n",
       "      <td>315.0</td>\n",
       "      <td>Санкт-Петербург</td>\n",
       "    </tr>\n",
       "    <tr>\n",
       "      <th>15743</th>\n",
       "      <td>14</td>\n",
       "      <td>5600000.0</td>\n",
       "      <td>67.0</td>\n",
       "      <td>2016-11-11T00:00:00</td>\n",
       "      <td>3</td>\n",
       "      <td>8.00</td>\n",
       "      <td>16</td>\n",
       "      <td>41.0</td>\n",
       "      <td>1</td>\n",
       "      <td>True</td>\n",
       "      <td>...</td>\n",
       "      <td>0</td>\n",
       "      <td>Санкт-Петербург</td>\n",
       "      <td>32691.0</td>\n",
       "      <td>11035.0</td>\n",
       "      <td>1</td>\n",
       "      <td>723.0</td>\n",
       "      <td>0</td>\n",
       "      <td>NaN</td>\n",
       "      <td>474.0</td>\n",
       "      <td>Санкт-Петербург</td>\n",
       "    </tr>\n",
       "    <tr>\n",
       "      <th>16934</th>\n",
       "      <td>5</td>\n",
       "      <td>4100000.0</td>\n",
       "      <td>40.0</td>\n",
       "      <td>2017-10-17T00:00:00</td>\n",
       "      <td>1</td>\n",
       "      <td>1.75</td>\n",
       "      <td>37</td>\n",
       "      <td>17.4</td>\n",
       "      <td>5</td>\n",
       "      <td>True</td>\n",
       "      <td>...</td>\n",
       "      <td>0</td>\n",
       "      <td>Санкт-Петербург</td>\n",
       "      <td>18732.0</td>\n",
       "      <td>20444.0</td>\n",
       "      <td>0</td>\n",
       "      <td>NaN</td>\n",
       "      <td>3</td>\n",
       "      <td>80.0</td>\n",
       "      <td>71.0</td>\n",
       "      <td>Санкт-Петербург</td>\n",
       "    </tr>\n",
       "    <tr>\n",
       "      <th>17496</th>\n",
       "      <td>15</td>\n",
       "      <td>6700000.0</td>\n",
       "      <td>92.9</td>\n",
       "      <td>2019-02-19T00:00:00</td>\n",
       "      <td>3</td>\n",
       "      <td>20.00</td>\n",
       "      <td>17</td>\n",
       "      <td>53.2</td>\n",
       "      <td>14</td>\n",
       "      <td>True</td>\n",
       "      <td>...</td>\n",
       "      <td>5</td>\n",
       "      <td>Санкт-Петербург</td>\n",
       "      <td>16295.0</td>\n",
       "      <td>15092.0</td>\n",
       "      <td>1</td>\n",
       "      <td>967.0</td>\n",
       "      <td>0</td>\n",
       "      <td>NaN</td>\n",
       "      <td>NaN</td>\n",
       "      <td>Санкт-Петербург</td>\n",
       "    </tr>\n",
       "    <tr>\n",
       "      <th>20478</th>\n",
       "      <td>11</td>\n",
       "      <td>8000000.0</td>\n",
       "      <td>45.0</td>\n",
       "      <td>2017-07-18T00:00:00</td>\n",
       "      <td>1</td>\n",
       "      <td>27.00</td>\n",
       "      <td>4</td>\n",
       "      <td>22.0</td>\n",
       "      <td>2</td>\n",
       "      <td>True</td>\n",
       "      <td>...</td>\n",
       "      <td>1</td>\n",
       "      <td>Санкт-Петербург</td>\n",
       "      <td>18975.0</td>\n",
       "      <td>3246.0</td>\n",
       "      <td>0</td>\n",
       "      <td>NaN</td>\n",
       "      <td>3</td>\n",
       "      <td>449.0</td>\n",
       "      <td>429.0</td>\n",
       "      <td>Санкт-Петербург</td>\n",
       "    </tr>\n",
       "    <tr>\n",
       "      <th>20507</th>\n",
       "      <td>12</td>\n",
       "      <td>5950000.0</td>\n",
       "      <td>60.0</td>\n",
       "      <td>2018-02-19T00:00:00</td>\n",
       "      <td>2</td>\n",
       "      <td>22.60</td>\n",
       "      <td>14</td>\n",
       "      <td>35.0</td>\n",
       "      <td>11</td>\n",
       "      <td>True</td>\n",
       "      <td>...</td>\n",
       "      <td>1</td>\n",
       "      <td>Санкт-Петербург</td>\n",
       "      <td>27028.0</td>\n",
       "      <td>12570.0</td>\n",
       "      <td>0</td>\n",
       "      <td>NaN</td>\n",
       "      <td>0</td>\n",
       "      <td>NaN</td>\n",
       "      <td>40.0</td>\n",
       "      <td>Санкт-Петербург</td>\n",
       "    </tr>\n",
       "    <tr>\n",
       "      <th>21377</th>\n",
       "      <td>19</td>\n",
       "      <td>4900000.0</td>\n",
       "      <td>42.0</td>\n",
       "      <td>2017-04-18T00:00:00</td>\n",
       "      <td>1</td>\n",
       "      <td>27.50</td>\n",
       "      <td>24</td>\n",
       "      <td>37.7</td>\n",
       "      <td>19</td>\n",
       "      <td>False</td>\n",
       "      <td>...</td>\n",
       "      <td>2</td>\n",
       "      <td>Санкт-Петербург</td>\n",
       "      <td>42742.0</td>\n",
       "      <td>9760.0</td>\n",
       "      <td>0</td>\n",
       "      <td>NaN</td>\n",
       "      <td>0</td>\n",
       "      <td>NaN</td>\n",
       "      <td>61.0</td>\n",
       "      <td>Санкт-Петербург</td>\n",
       "    </tr>\n",
       "    <tr>\n",
       "      <th>21824</th>\n",
       "      <td>20</td>\n",
       "      <td>2450000.0</td>\n",
       "      <td>44.0</td>\n",
       "      <td>2019-02-12T00:00:00</td>\n",
       "      <td>2</td>\n",
       "      <td>27.00</td>\n",
       "      <td>2</td>\n",
       "      <td>38.0</td>\n",
       "      <td>2</td>\n",
       "      <td>False</td>\n",
       "      <td>...</td>\n",
       "      <td>2</td>\n",
       "      <td>городской поселок Большая Ижора</td>\n",
       "      <td>NaN</td>\n",
       "      <td>NaN</td>\n",
       "      <td>0</td>\n",
       "      <td>NaN</td>\n",
       "      <td>0</td>\n",
       "      <td>NaN</td>\n",
       "      <td>NaN</td>\n",
       "      <td>Большая Ижора</td>\n",
       "    </tr>\n",
       "    <tr>\n",
       "      <th>22336</th>\n",
       "      <td>19</td>\n",
       "      <td>9999000.0</td>\n",
       "      <td>92.4</td>\n",
       "      <td>2019-04-05T00:00:00</td>\n",
       "      <td>2</td>\n",
       "      <td>32.00</td>\n",
       "      <td>6</td>\n",
       "      <td>55.5</td>\n",
       "      <td>5</td>\n",
       "      <td>False</td>\n",
       "      <td>...</td>\n",
       "      <td>4</td>\n",
       "      <td>Санкт-Петербург</td>\n",
       "      <td>18838.0</td>\n",
       "      <td>3506.0</td>\n",
       "      <td>0</td>\n",
       "      <td>NaN</td>\n",
       "      <td>3</td>\n",
       "      <td>511.0</td>\n",
       "      <td>NaN</td>\n",
       "      <td>Санкт-Петербург</td>\n",
       "    </tr>\n",
       "    <tr>\n",
       "      <th>22590</th>\n",
       "      <td>16</td>\n",
       "      <td>6000000.0</td>\n",
       "      <td>55.0</td>\n",
       "      <td>2018-10-31T00:00:00</td>\n",
       "      <td>2</td>\n",
       "      <td>1.00</td>\n",
       "      <td>12</td>\n",
       "      <td>32.4</td>\n",
       "      <td>7</td>\n",
       "      <td>True</td>\n",
       "      <td>...</td>\n",
       "      <td>0</td>\n",
       "      <td>Санкт-Петербург</td>\n",
       "      <td>33053.0</td>\n",
       "      <td>14217.0</td>\n",
       "      <td>2</td>\n",
       "      <td>293.0</td>\n",
       "      <td>2</td>\n",
       "      <td>289.0</td>\n",
       "      <td>13.0</td>\n",
       "      <td>Санкт-Петербург</td>\n",
       "    </tr>\n",
       "    <tr>\n",
       "      <th>22869</th>\n",
       "      <td>0</td>\n",
       "      <td>15000000.0</td>\n",
       "      <td>25.0</td>\n",
       "      <td>2018-07-25T00:00:00</td>\n",
       "      <td>1</td>\n",
       "      <td>100.00</td>\n",
       "      <td>5</td>\n",
       "      <td>14.0</td>\n",
       "      <td>5</td>\n",
       "      <td>True</td>\n",
       "      <td>...</td>\n",
       "      <td>5</td>\n",
       "      <td>Санкт-Петербург</td>\n",
       "      <td>34963.0</td>\n",
       "      <td>8283.0</td>\n",
       "      <td>1</td>\n",
       "      <td>223.0</td>\n",
       "      <td>3</td>\n",
       "      <td>30.0</td>\n",
       "      <td>19.0</td>\n",
       "      <td>Санкт-Петербург</td>\n",
       "    </tr>\n",
       "    <tr>\n",
       "      <th>22938</th>\n",
       "      <td>14</td>\n",
       "      <td>4000000.0</td>\n",
       "      <td>98.0</td>\n",
       "      <td>2018-03-15T00:00:00</td>\n",
       "      <td>4</td>\n",
       "      <td>27.00</td>\n",
       "      <td>2</td>\n",
       "      <td>73.0</td>\n",
       "      <td>2</td>\n",
       "      <td>True</td>\n",
       "      <td>...</td>\n",
       "      <td>1</td>\n",
       "      <td>деревня Нижняя</td>\n",
       "      <td>NaN</td>\n",
       "      <td>NaN</td>\n",
       "      <td>0</td>\n",
       "      <td>NaN</td>\n",
       "      <td>0</td>\n",
       "      <td>NaN</td>\n",
       "      <td>27.0</td>\n",
       "      <td>Нижняя</td>\n",
       "    </tr>\n",
       "  </tbody>\n",
       "</table>\n",
       "<p>26 rows × 23 columns</p>\n",
       "</div>"
      ],
      "text/plain": [
       "       total_images  last_price  total_area first_day_exposition  rooms  \\\n",
       "3148             14   2900000.0        75.0  2018-11-12T00:00:00      3   \n",
       "3474              3   1400000.0        30.0  2018-03-16T00:00:00      1   \n",
       "4643              0   4300000.0        45.0  2018-02-01T00:00:00      2   \n",
       "5076              0   3850000.0        30.5  2018-10-03T00:00:00      1   \n",
       "5246              0   2500000.0        54.0  2017-10-13T00:00:00      2   \n",
       "5669              4   4400000.0        50.0  2017-08-08T00:00:00      2   \n",
       "5712              5   1500000.0        42.8  2017-08-14T00:00:00      2   \n",
       "5807             17   8150000.0        80.0  2019-01-09T00:00:00      2   \n",
       "5863             20   5650000.0        45.0  2018-08-15T00:00:00      1   \n",
       "6246              6   3300000.0        44.4  2019-03-25T00:00:00      2   \n",
       "9379              5   3950000.0        42.0  2017-03-26T00:00:00      3   \n",
       "10773             8   3800000.0        58.0  2017-10-13T00:00:00      2   \n",
       "11285             0   1950000.0        37.0  2019-03-20T00:00:00      1   \n",
       "14382             9   1700000.0        35.0  2015-12-04T00:00:00      1   \n",
       "15061            19   5600000.0        56.4  2018-05-11T00:00:00      2   \n",
       "15743            14   5600000.0        67.0  2016-11-11T00:00:00      3   \n",
       "16934             5   4100000.0        40.0  2017-10-17T00:00:00      1   \n",
       "17496            15   6700000.0        92.9  2019-02-19T00:00:00      3   \n",
       "20478            11   8000000.0        45.0  2017-07-18T00:00:00      1   \n",
       "20507            12   5950000.0        60.0  2018-02-19T00:00:00      2   \n",
       "21377            19   4900000.0        42.0  2017-04-18T00:00:00      1   \n",
       "21824            20   2450000.0        44.0  2019-02-12T00:00:00      2   \n",
       "22336            19   9999000.0        92.4  2019-04-05T00:00:00      2   \n",
       "22590            16   6000000.0        55.0  2018-10-31T00:00:00      2   \n",
       "22869             0  15000000.0        25.0  2018-07-25T00:00:00      1   \n",
       "22938            14   4000000.0        98.0  2018-03-15T00:00:00      4   \n",
       "\n",
       "       ceiling_height  floors_total  living_area  floor  is_apartment  ...  \\\n",
       "3148            32.00             3         53.0      2          True  ...   \n",
       "3474             8.00             5         15.3      2         False  ...   \n",
       "4643            25.00             9         30.0      2          True  ...   \n",
       "5076            24.00             5         19.5      1          True  ...   \n",
       "5246            27.00             5         30.0      3          True  ...   \n",
       "5669            26.00             9         21.3      3          True  ...   \n",
       "5712             1.20             2         27.5      1          True  ...   \n",
       "5807            27.00            36         41.0     13          True  ...   \n",
       "5863             8.30            16         19.3     14          True  ...   \n",
       "6246            25.00             5         31.3      5          True  ...   \n",
       "9379            25.00             5         30.0      2          True  ...   \n",
       "10773           27.00            10         30.1      3         False  ...   \n",
       "11285           25.00             5         17.0      4         False  ...   \n",
       "14382           25.00             5         20.0      2         False  ...   \n",
       "15061           14.00            14         32.4      5          True  ...   \n",
       "15743            8.00            16         41.0      1          True  ...   \n",
       "16934            1.75            37         17.4      5          True  ...   \n",
       "17496           20.00            17         53.2     14          True  ...   \n",
       "20478           27.00             4         22.0      2          True  ...   \n",
       "20507           22.60            14         35.0     11          True  ...   \n",
       "21377           27.50            24         37.7     19         False  ...   \n",
       "21824           27.00             2         38.0      2         False  ...   \n",
       "22336           32.00             6         55.5      5         False  ...   \n",
       "22590            1.00            12         32.4      7          True  ...   \n",
       "22869          100.00             5         14.0      5          True  ...   \n",
       "22938           27.00             2         73.0      2          True  ...   \n",
       "\n",
       "       balcony                    locality_name  airports_nearest  \\\n",
       "3148         0                           Волхов               NaN   \n",
       "3474         0                    деревня Нурма               NaN   \n",
       "4643         1                  Санкт-Петербург           12016.0   \n",
       "5076         0                  Санкт-Петербург           29686.0   \n",
       "5246         2                     деревня Мины               NaN   \n",
       "5669         2                  Санкт-Петербург           28981.0   \n",
       "5712         0            городской посёлок Мга               NaN   \n",
       "5807         5                  Санкт-Петербург           18732.0   \n",
       "5863         1                  Санкт-Петербург           13069.0   \n",
       "6246         0                        Кронштадт           68923.0   \n",
       "9379         0                  Санкт-Петербург           11647.0   \n",
       "10773        2                   посёлок Мурино               NaN   \n",
       "11285        2                             Луга               NaN   \n",
       "14382        1               поселок Новый Свет               NaN   \n",
       "15061        2                  Санкт-Петербург           14814.0   \n",
       "15743        0                  Санкт-Петербург           32691.0   \n",
       "16934        0                  Санкт-Петербург           18732.0   \n",
       "17496        5                  Санкт-Петербург           16295.0   \n",
       "20478        1                  Санкт-Петербург           18975.0   \n",
       "20507        1                  Санкт-Петербург           27028.0   \n",
       "21377        2                  Санкт-Петербург           42742.0   \n",
       "21824        2  городской поселок Большая Ижора               NaN   \n",
       "22336        4                  Санкт-Петербург           18838.0   \n",
       "22590        0                  Санкт-Петербург           33053.0   \n",
       "22869        5                  Санкт-Петербург           34963.0   \n",
       "22938        1                   деревня Нижняя               NaN   \n",
       "\n",
       "       cityCenters_nearest parks_around3000  parks_nearest  ponds_around3000  \\\n",
       "3148                   NaN                0            NaN                 0   \n",
       "3474                   NaN                0            NaN                 0   \n",
       "4643               13256.0                1          658.0                 1   \n",
       "5076                8389.0                3          397.0                 1   \n",
       "5246                   NaN                0            NaN                 0   \n",
       "5669               10912.0                1          305.0                 0   \n",
       "5712                   NaN                0            NaN                 0   \n",
       "5807               20444.0                0            NaN                 3   \n",
       "5863               10763.0                0            NaN                 1   \n",
       "6246               50649.0                1          417.0                 2   \n",
       "9379               13581.0                0            NaN                 0   \n",
       "10773                  NaN                0            NaN                 0   \n",
       "11285                  NaN                0            NaN                 0   \n",
       "14382                  NaN                0            NaN                 0   \n",
       "15061              13610.0                0            NaN                 0   \n",
       "15743              11035.0                1          723.0                 0   \n",
       "16934              20444.0                0            NaN                 3   \n",
       "17496              15092.0                1          967.0                 0   \n",
       "20478               3246.0                0            NaN                 3   \n",
       "20507              12570.0                0            NaN                 0   \n",
       "21377               9760.0                0            NaN                 0   \n",
       "21824                  NaN                0            NaN                 0   \n",
       "22336               3506.0                0            NaN                 3   \n",
       "22590              14217.0                2          293.0                 2   \n",
       "22869               8283.0                1          223.0                 3   \n",
       "22938                  NaN                0            NaN                 0   \n",
       "\n",
       "       ponds_nearest  days_exposition  short_locality_name  \n",
       "3148             NaN              NaN               Волхов  \n",
       "3474             NaN            125.0                Нурма  \n",
       "4643           331.0            181.0      Санкт-Петербург  \n",
       "5076           578.0              7.0      Санкт-Петербург  \n",
       "5246             NaN            540.0                 Мины  \n",
       "5669             NaN            267.0      Санкт-Петербург  \n",
       "5712             NaN            248.0                  Мга  \n",
       "5807            80.0             38.0      Санкт-Петербург  \n",
       "5863           613.0             14.0      Санкт-Петербург  \n",
       "6246            73.0              NaN            Кронштадт  \n",
       "9379             NaN              NaN      Санкт-Петербург  \n",
       "10773            NaN             71.0               Мурино  \n",
       "11285            NaN             18.0                 Луга  \n",
       "14382            NaN            206.0           Новый Свет  \n",
       "15061            NaN            315.0      Санкт-Петербург  \n",
       "15743            NaN            474.0      Санкт-Петербург  \n",
       "16934           80.0             71.0      Санкт-Петербург  \n",
       "17496            NaN              NaN      Санкт-Петербург  \n",
       "20478          449.0            429.0      Санкт-Петербург  \n",
       "20507            NaN             40.0      Санкт-Петербург  \n",
       "21377            NaN             61.0      Санкт-Петербург  \n",
       "21824            NaN              NaN        Большая Ижора  \n",
       "22336          511.0              NaN      Санкт-Петербург  \n",
       "22590          289.0             13.0      Санкт-Петербург  \n",
       "22869           30.0             19.0      Санкт-Петербург  \n",
       "22938            NaN             27.0               Нижняя  \n",
       "\n",
       "[26 rows x 23 columns]"
      ]
     },
     "execution_count": 115,
     "metadata": {},
     "output_type": "execute_result"
    }
   ],
   "source": [
    "data_midclass.query('ceiling_height>6 or ceiling_height<2')"
   ]
  },
  {
   "cell_type": "code",
   "execution_count": 116,
   "metadata": {},
   "outputs": [],
   "source": [
    "# разделим на 10 все выделяющиеся значения\n",
    "data_midclass.loc[data_midclass['ceiling_height']>6 , 'ceiling_height'] = data_midclass['ceiling_height'] / 10"
   ]
  },
  {
   "cell_type": "code",
   "execution_count": 117,
   "metadata": {},
   "outputs": [],
   "source": [
    "# оставим только объекты с высотой потолков от 2 до 5 метров или с пропусками\n",
    "data_midclass = data_midclass.loc[((data_midclass['ceiling_height']>2)&(data_midclass['ceiling_height']<5)) | (data_midclass['ceiling_height'].isna())]"
   ]
  },
  {
   "cell_type": "code",
   "execution_count": 118,
   "metadata": {},
   "outputs": [],
   "source": [
    "#заполняем пропуски медианой по домам разной этажности\n",
    "for floors in data_midclass['floors_total'].unique():\n",
    "    data_midclass['ceiling_height'] = data_midclass['ceiling_height'].fillna(data_midclass.loc[data_midclass['floors_total'] == floors, 'ceiling_height'].median())"
   ]
  },
  {
   "cell_type": "markdown",
   "metadata": {},
   "source": [
    "### Столбец airports_nearest\n",
    "В соответствии с идеей из прошлого пункта, заполним пропуски в расстояниях до ближайшего аэропорта усреднёнными значениями по каждому населённому пункту. По гистограмме видно, что в данных нет выбросов, все значения правдоподобны.\n",
    "Здесь и далее пропуски в необязательных параметрах вероятнее всего связаны с тем, что пользователи не считают нужным их заполнять, если они не указывают на явные преимущества объекта недвижимости."
   ]
  },
  {
   "cell_type": "code",
   "execution_count": 119,
   "metadata": {
    "scrolled": false
   },
   "outputs": [
    {
     "data": {
      "text/plain": [
       "array([[<AxesSubplot:title={'center':'airports_nearest'}>]], dtype=object)"
      ]
     },
     "execution_count": 119,
     "metadata": {},
     "output_type": "execute_result"
    },
    {
     "data": {
      "image/png": "[encoded data removed]",
      "text/plain": [
       "<Figure size 288x288 with 1 Axes>"
      ]
     },
     "metadata": {
      "needs_background": "light"
     },
     "output_type": "display_data"
    }
   ],
   "source": [
    "data_midclass.hist('airports_nearest', bins = 50, figsize = (4,4))"
   ]
  },
  {
   "cell_type": "code",
   "execution_count": 120,
   "metadata": {},
   "outputs": [],
   "source": [
    "# заполняем пропуски медианой по каждому населенному пункту\n",
    "for local_name in data_midclass['short_locality_name']:\n",
    "    data_midclass['airports_nearest'] = data_midclass['airports_nearest'].fillna(data_midclass.loc[data_midclass['short_locality_name'] == local_name, 'airports_nearest'].median())"
   ]
  },
  {
   "cell_type": "markdown",
   "metadata": {},
   "source": [
    "### Столбец parks_nearest\n",
    "Чтобы заполнить колонку parks_nearest возьмём средние значения в зависимости от количества парков parks_around3000. Для случая, когда парков близко нет, значение в таблице выглядит достаточно неправдоподобным, чтобы заполнять им все пропуски. Поэтому поставим значение в 5000 метров, так как в абсолютном большинстве населенных пунктов парк или лес в радиусе 5 км всегда найдётся."
   ]
  },
  {
   "cell_type": "code",
   "execution_count": 121,
   "metadata": {
    "scrolled": false
   },
   "outputs": [
    {
     "data": {
      "text/html": [
       "<div>\n",
       "<style scoped>\n",
       "    .dataframe tbody tr th:only-of-type {\n",
       "        vertical-align: middle;\n",
       "    }\n",
       "\n",
       "    .dataframe tbody tr th {\n",
       "        vertical-align: top;\n",
       "    }\n",
       "\n",
       "    .dataframe thead th {\n",
       "        text-align: right;\n",
       "    }\n",
       "</style>\n",
       "<table border=\"1\" class=\"dataframe\">\n",
       "  <thead>\n",
       "    <tr style=\"text-align: right;\">\n",
       "      <th></th>\n",
       "      <th>parks_nearest</th>\n",
       "    </tr>\n",
       "    <tr>\n",
       "      <th>parks_around3000</th>\n",
       "      <th></th>\n",
       "    </tr>\n",
       "  </thead>\n",
       "  <tbody>\n",
       "    <tr>\n",
       "      <th>0</th>\n",
       "      <td>3127.0</td>\n",
       "    </tr>\n",
       "    <tr>\n",
       "      <th>1</th>\n",
       "      <td>502.0</td>\n",
       "    </tr>\n",
       "    <tr>\n",
       "      <th>2</th>\n",
       "      <td>371.0</td>\n",
       "    </tr>\n",
       "    <tr>\n",
       "      <th>3</th>\n",
       "      <td>304.0</td>\n",
       "    </tr>\n",
       "  </tbody>\n",
       "</table>\n",
       "</div>"
      ],
      "text/plain": [
       "                  parks_nearest\n",
       "parks_around3000               \n",
       "0                        3127.0\n",
       "1                         502.0\n",
       "2                         371.0\n",
       "3                         304.0"
      ]
     },
     "execution_count": 121,
     "metadata": {},
     "output_type": "execute_result"
    }
   ],
   "source": [
    "data_midclass.pivot_table(index = 'parks_around3000', values = 'parks_nearest', aggfunc = 'median')"
   ]
  },
  {
   "cell_type": "code",
   "execution_count": 122,
   "metadata": {},
   "outputs": [],
   "source": [
    "# заполняем пропуски медианными значениями для каждого количества парков в отдельности\n",
    "for parks in range(1,3):\n",
    "    data_midclass['parks_nearest'] = data_midclass['parks_nearest'].fillna(data_midclass.loc[data['parks_around3000'] == parks, 'parks_nearest'].median())\n",
    "data_midclass.loc[data_midclass['parks_around3000'] == 0, 'parks_nearest'] = 5000"
   ]
  },
  {
   "cell_type": "markdown",
   "metadata": {},
   "source": [
    "### Столбец ponds_nearest\n",
    "Пруды встречаются в населённых пунктах гораздо реже, чем парки. Поэтому отсутствие данных о прудах вероятнее всего говорит о том, что в ближайшем окружении их нет. В сводной таблице средних расстояний видно,что те объекты, где наличие пруда в окрестности равно 0, не имеют в графе ponds_nearest никаких значений. Оставим эти пропуски незаполненными."
   ]
  },
  {
   "cell_type": "code",
   "execution_count": 123,
   "metadata": {
    "scrolled": true
   },
   "outputs": [
    {
     "data": {
      "text/html": [
       "<div>\n",
       "<style scoped>\n",
       "    .dataframe tbody tr th:only-of-type {\n",
       "        vertical-align: middle;\n",
       "    }\n",
       "\n",
       "    .dataframe tbody tr th {\n",
       "        vertical-align: top;\n",
       "    }\n",
       "\n",
       "    .dataframe thead th {\n",
       "        text-align: right;\n",
       "    }\n",
       "</style>\n",
       "<table border=\"1\" class=\"dataframe\">\n",
       "  <thead>\n",
       "    <tr style=\"text-align: right;\">\n",
       "      <th></th>\n",
       "      <th>ponds_nearest</th>\n",
       "    </tr>\n",
       "    <tr>\n",
       "      <th>ponds_around3000</th>\n",
       "      <th></th>\n",
       "    </tr>\n",
       "  </thead>\n",
       "  <tbody>\n",
       "    <tr>\n",
       "      <th>1</th>\n",
       "      <td>595.0</td>\n",
       "    </tr>\n",
       "    <tr>\n",
       "      <th>2</th>\n",
       "      <td>439.0</td>\n",
       "    </tr>\n",
       "    <tr>\n",
       "      <th>3</th>\n",
       "      <td>311.0</td>\n",
       "    </tr>\n",
       "  </tbody>\n",
       "</table>\n",
       "</div>"
      ],
      "text/plain": [
       "                  ponds_nearest\n",
       "ponds_around3000               \n",
       "1                         595.0\n",
       "2                         439.0\n",
       "3                         311.0"
      ]
     },
     "execution_count": 123,
     "metadata": {},
     "output_type": "execute_result"
    }
   ],
   "source": [
    "data_midclass.pivot_table(index = 'ponds_around3000', values = 'ponds_nearest', aggfunc = 'median')\n"
   ]
  },
  {
   "cell_type": "markdown",
   "metadata": {},
   "source": [
    "### Столбец cityCenters_nearest\n",
    "Расстояние до центра города для небольших населенных пунктов заполним медианным значением. Если такие пропуски есть для Санкт-Петербурга, их лучше оставить незаполненными, так как для большого города расстояние до центра имеет принципиальное значение и недостоверные данные могут исказить общую статистику."
   ]
  },
  {
   "cell_type": "code",
   "execution_count": 124,
   "metadata": {},
   "outputs": [],
   "source": [
    "#заполняем пропуски медианными значениями для каждого населенного пункта, кроме Санкт-Петербурга\n",
    "for local_name in data_midclass['short_locality_name']:\n",
    "    if local_name != 'Санкт-Петербург':\n",
    "        data_midclass['cityCenters_nearest'] = data_midclass['cityCenters_nearest'].fillna(data_midclass.loc[data['short_locality_name'] == local_name, 'cityCenters_nearest'].median())"
   ]
  },
  {
   "cell_type": "markdown",
   "metadata": {},
   "source": [
    "### Столбцы first_day_exposition и days_exposition\n",
    "В столбце  first_day_exposition нет пробелов, но его необходимо привести к формату datetime.\n",
    "В days_exposition довольно много пробелов, которые не представляется возможным заполнить - данные есть только о начале публикации, но никаких отметок, указывающих на дату продажи, в датасете нет. Эти пробелы могут быть объяснены тем, что квартира до сих пор выставлена на продажу, либо объявление не было вовремя снято. Также возможны сбои передачи данных с сайтов."
   ]
  },
  {
   "cell_type": "code",
   "execution_count": 125,
   "metadata": {},
   "outputs": [],
   "source": [
    "# переводим столбец в формат datetime\n",
    "data_midclass.loc[:, 'first_day_exposition'] = pd.to_datetime(data_midclass.loc[:, 'first_day_exposition'], format = '%Y-%m-%dT%H:%M:%S')"
   ]
  },
  {
   "cell_type": "markdown",
   "metadata": {},
   "source": [
    "### Заключительный анализ предобработки данных\n",
    "\n",
    "Сбросим индексы старого датасета. Проверим, остались ли явные дубликаты в таблице, чтобы удалить их при необходимости. Выведем первые 10 строк таблицы data_midclass, которая будет использоваться для дальнейшей обработки. Проверим оставшиеся пропуски."
   ]
  },
  {
   "cell_type": "code",
   "execution_count": 126,
   "metadata": {},
   "outputs": [
    {
     "data": {
      "text/plain": [
       "0"
      ]
     },
     "execution_count": 126,
     "metadata": {},
     "output_type": "execute_result"
    }
   ],
   "source": [
    "data_midclass = data_midclass.reset_index(drop = True) # сбрасываем индексы\n",
    "data_midclass.duplicated().sum() # считаем количество явных дубликатов"
   ]
  },
  {
   "cell_type": "code",
   "execution_count": 127,
   "metadata": {
    "scrolled": true
   },
   "outputs": [
    {
     "data": {
      "text/html": [
       "<div>\n",
       "<style scoped>\n",
       "    .dataframe tbody tr th:only-of-type {\n",
       "        vertical-align: middle;\n",
       "    }\n",
       "\n",
       "    .dataframe tbody tr th {\n",
       "        vertical-align: top;\n",
       "    }\n",
       "\n",
       "    .dataframe thead th {\n",
       "        text-align: right;\n",
       "    }\n",
       "</style>\n",
       "<table border=\"1\" class=\"dataframe\">\n",
       "  <thead>\n",
       "    <tr style=\"text-align: right;\">\n",
       "      <th></th>\n",
       "      <th>total_images</th>\n",
       "      <th>last_price</th>\n",
       "      <th>total_area</th>\n",
       "      <th>first_day_exposition</th>\n",
       "      <th>rooms</th>\n",
       "      <th>ceiling_height</th>\n",
       "      <th>floors_total</th>\n",
       "      <th>living_area</th>\n",
       "      <th>floor</th>\n",
       "      <th>is_apartment</th>\n",
       "      <th>...</th>\n",
       "      <th>balcony</th>\n",
       "      <th>locality_name</th>\n",
       "      <th>airports_nearest</th>\n",
       "      <th>cityCenters_nearest</th>\n",
       "      <th>parks_around3000</th>\n",
       "      <th>parks_nearest</th>\n",
       "      <th>ponds_around3000</th>\n",
       "      <th>ponds_nearest</th>\n",
       "      <th>days_exposition</th>\n",
       "      <th>short_locality_name</th>\n",
       "    </tr>\n",
       "  </thead>\n",
       "  <tbody>\n",
       "    <tr>\n",
       "      <th>0</th>\n",
       "      <td>20</td>\n",
       "      <td>13000000.0</td>\n",
       "      <td>108.0</td>\n",
       "      <td>2019-03-07</td>\n",
       "      <td>3</td>\n",
       "      <td>2.7</td>\n",
       "      <td>16</td>\n",
       "      <td>51.0</td>\n",
       "      <td>8</td>\n",
       "      <td>True</td>\n",
       "      <td>...</td>\n",
       "      <td>0</td>\n",
       "      <td>Санкт-Петербург</td>\n",
       "      <td>18863.0</td>\n",
       "      <td>16028.0</td>\n",
       "      <td>1</td>\n",
       "      <td>482.0</td>\n",
       "      <td>2</td>\n",
       "      <td>755.0</td>\n",
       "      <td>NaN</td>\n",
       "      <td>Санкт-Петербург</td>\n",
       "    </tr>\n",
       "    <tr>\n",
       "      <th>1</th>\n",
       "      <td>7</td>\n",
       "      <td>3350000.0</td>\n",
       "      <td>40.4</td>\n",
       "      <td>2018-12-04</td>\n",
       "      <td>1</td>\n",
       "      <td>2.7</td>\n",
       "      <td>11</td>\n",
       "      <td>18.6</td>\n",
       "      <td>1</td>\n",
       "      <td>True</td>\n",
       "      <td>...</td>\n",
       "      <td>2</td>\n",
       "      <td>посёлок Шушары</td>\n",
       "      <td>12817.0</td>\n",
       "      <td>18603.0</td>\n",
       "      <td>0</td>\n",
       "      <td>5000.0</td>\n",
       "      <td>0</td>\n",
       "      <td>NaN</td>\n",
       "      <td>81.0</td>\n",
       "      <td>Шушары</td>\n",
       "    </tr>\n",
       "    <tr>\n",
       "      <th>2</th>\n",
       "      <td>10</td>\n",
       "      <td>5196000.0</td>\n",
       "      <td>56.0</td>\n",
       "      <td>2015-08-20</td>\n",
       "      <td>2</td>\n",
       "      <td>2.7</td>\n",
       "      <td>5</td>\n",
       "      <td>34.3</td>\n",
       "      <td>4</td>\n",
       "      <td>True</td>\n",
       "      <td>...</td>\n",
       "      <td>0</td>\n",
       "      <td>Санкт-Петербург</td>\n",
       "      <td>21741.0</td>\n",
       "      <td>13933.0</td>\n",
       "      <td>1</td>\n",
       "      <td>90.0</td>\n",
       "      <td>2</td>\n",
       "      <td>574.0</td>\n",
       "      <td>558.0</td>\n",
       "      <td>Санкт-Петербург</td>\n",
       "    </tr>\n",
       "    <tr>\n",
       "      <th>3</th>\n",
       "      <td>10</td>\n",
       "      <td>2890000.0</td>\n",
       "      <td>30.4</td>\n",
       "      <td>2018-09-10</td>\n",
       "      <td>1</td>\n",
       "      <td>2.7</td>\n",
       "      <td>12</td>\n",
       "      <td>14.4</td>\n",
       "      <td>5</td>\n",
       "      <td>True</td>\n",
       "      <td>...</td>\n",
       "      <td>0</td>\n",
       "      <td>городской посёлок Янино-1</td>\n",
       "      <td>26980.0</td>\n",
       "      <td>24213.0</td>\n",
       "      <td>0</td>\n",
       "      <td>5000.0</td>\n",
       "      <td>0</td>\n",
       "      <td>NaN</td>\n",
       "      <td>55.0</td>\n",
       "      <td>Янино-1</td>\n",
       "    </tr>\n",
       "    <tr>\n",
       "      <th>4</th>\n",
       "      <td>6</td>\n",
       "      <td>3700000.0</td>\n",
       "      <td>37.3</td>\n",
       "      <td>2017-11-02</td>\n",
       "      <td>1</td>\n",
       "      <td>2.7</td>\n",
       "      <td>26</td>\n",
       "      <td>10.6</td>\n",
       "      <td>6</td>\n",
       "      <td>True</td>\n",
       "      <td>...</td>\n",
       "      <td>1</td>\n",
       "      <td>посёлок Парголово</td>\n",
       "      <td>52996.0</td>\n",
       "      <td>19143.0</td>\n",
       "      <td>0</td>\n",
       "      <td>5000.0</td>\n",
       "      <td>0</td>\n",
       "      <td>NaN</td>\n",
       "      <td>155.0</td>\n",
       "      <td>Парголово</td>\n",
       "    </tr>\n",
       "  </tbody>\n",
       "</table>\n",
       "<p>5 rows × 23 columns</p>\n",
       "</div>"
      ],
      "text/plain": [
       "   total_images  last_price  total_area first_day_exposition  rooms  \\\n",
       "0            20  13000000.0       108.0           2019-03-07      3   \n",
       "1             7   3350000.0        40.4           2018-12-04      1   \n",
       "2            10   5196000.0        56.0           2015-08-20      2   \n",
       "3            10   2890000.0        30.4           2018-09-10      1   \n",
       "4             6   3700000.0        37.3           2017-11-02      1   \n",
       "\n",
       "   ceiling_height  floors_total  living_area  floor  is_apartment  ...  \\\n",
       "0             2.7            16         51.0      8          True  ...   \n",
       "1             2.7            11         18.6      1          True  ...   \n",
       "2             2.7             5         34.3      4          True  ...   \n",
       "3             2.7            12         14.4      5          True  ...   \n",
       "4             2.7            26         10.6      6          True  ...   \n",
       "\n",
       "   balcony              locality_name  airports_nearest  cityCenters_nearest  \\\n",
       "0        0            Санкт-Петербург           18863.0              16028.0   \n",
       "1        2             посёлок Шушары           12817.0              18603.0   \n",
       "2        0            Санкт-Петербург           21741.0              13933.0   \n",
       "3        0  городской посёлок Янино-1           26980.0              24213.0   \n",
       "4        1          посёлок Парголово           52996.0              19143.0   \n",
       "\n",
       "  parks_around3000  parks_nearest  ponds_around3000  ponds_nearest  \\\n",
       "0                1          482.0                 2          755.0   \n",
       "1                0         5000.0                 0            NaN   \n",
       "2                1           90.0                 2          574.0   \n",
       "3                0         5000.0                 0            NaN   \n",
       "4                0         5000.0                 0            NaN   \n",
       "\n",
       "   days_exposition  short_locality_name  \n",
       "0              NaN      Санкт-Петербург  \n",
       "1             81.0               Шушары  \n",
       "2            558.0      Санкт-Петербург  \n",
       "3             55.0              Янино-1  \n",
       "4            155.0            Парголово  \n",
       "\n",
       "[5 rows x 23 columns]"
      ]
     },
     "execution_count": 127,
     "metadata": {},
     "output_type": "execute_result"
    }
   ],
   "source": [
    "data_midclass.head() #очищенный датасет с заполннеными по возможности пропусками"
   ]
  },
  {
   "cell_type": "code",
   "execution_count": 128,
   "metadata": {},
   "outputs": [
    {
     "data": {
      "text/plain": [
       "total_images                0\n",
       "last_price                  0\n",
       "total_area                  0\n",
       "first_day_exposition        0\n",
       "rooms                       0\n",
       "ceiling_height              0\n",
       "floors_total                0\n",
       "living_area              1815\n",
       "floor                       0\n",
       "is_apartment                0\n",
       "studio                      0\n",
       "open_plan                   0\n",
       "kitchen_area             1402\n",
       "balcony                     0\n",
       "locality_name               0\n",
       "airports_nearest            0\n",
       "cityCenters_nearest         0\n",
       "parks_around3000            0\n",
       "parks_nearest               0\n",
       "ponds_around3000            0\n",
       "ponds_nearest           13567\n",
       "days_exposition          2860\n",
       "short_locality_name         0\n",
       "dtype: int64"
      ]
     },
     "execution_count": 128,
     "metadata": {},
     "output_type": "execute_result"
    }
   ],
   "source": [
    "data_midclass.isna().sum() # оставшиеся пропуски в очищенном датасете"
   ]
  },
  {
   "cell_type": "markdown",
   "metadata": {},
   "source": [
    "## Добавление вспомогательных столбцов для анализа"
   ]
  },
  {
   "cell_type": "markdown",
   "metadata": {},
   "source": [
    "Добавим в таблицу следующие столбцы с дополнительными параметрами:\n",
    "- цена одного квадратного метра;\n",
    "- день недели публикации объявления (0 — понедельник, 1 — вторник и так далее);\n",
    "- месяц публикации объявления;\n",
    "- год публикации объявления;\n",
    "- тип этажа квартиры (значения — «‎первый», «последний», «другой»);\n",
    "- расстояние до центра города в километрах (переведите из м в км и округлите до целых значений)."
   ]
  },
  {
   "cell_type": "code",
   "execution_count": 129,
   "metadata": {},
   "outputs": [],
   "source": [
    "#стоимость квадратного метра\n",
    "data_midclass['price_per_metre'] =  (data_midclass['last_price'] / data_midclass ['total_area']).round(0)\n",
    "# день недели размещения объявления\n",
    "data_midclass['week_day'] = data_midclass['first_day_exposition'].dt.weekday\n",
    "# месяц размещения \n",
    "data_midclass['month'] = data_midclass['first_day_exposition'].dt.month\n",
    "# год размещения\n",
    "data_midclass['year'] = data_midclass['first_day_exposition'].dt.year\n",
    "# расстояние до центра в км\n",
    "data_midclass['city_center_km'] = (data_midclass['cityCenters_nearest']/1000).round(0)"
   ]
  },
  {
   "cell_type": "code",
   "execution_count": 130,
   "metadata": {},
   "outputs": [],
   "source": [
    "# функция для разделения этажей на первые/последние\n",
    "def floor_type(floor, floors_total):\n",
    "    if floor == floors_total:\n",
    "        return 'последний'\n",
    "    elif floor == 1:\n",
    "        return 'первый'\n",
    "    else:\n",
    "        return 'другой'"
   ]
  },
  {
   "cell_type": "code",
   "execution_count": 131,
   "metadata": {},
   "outputs": [],
   "source": [
    "# тип этажа\n",
    "data_midclass['floor_type'] = data_midclass.apply(lambda x: floor_type(x['floor'], x['floors_total']), axis = 1)"
   ]
  },
  {
   "cell_type": "code",
   "execution_count": 132,
   "metadata": {},
   "outputs": [
    {
     "data": {
      "text/html": [
       "<div>\n",
       "<style scoped>\n",
       "    .dataframe tbody tr th:only-of-type {\n",
       "        vertical-align: middle;\n",
       "    }\n",
       "\n",
       "    .dataframe tbody tr th {\n",
       "        vertical-align: top;\n",
       "    }\n",
       "\n",
       "    .dataframe thead th {\n",
       "        text-align: right;\n",
       "    }\n",
       "</style>\n",
       "<table border=\"1\" class=\"dataframe\">\n",
       "  <thead>\n",
       "    <tr style=\"text-align: right;\">\n",
       "      <th></th>\n",
       "      <th>total_images</th>\n",
       "      <th>last_price</th>\n",
       "      <th>total_area</th>\n",
       "      <th>first_day_exposition</th>\n",
       "      <th>rooms</th>\n",
       "      <th>ceiling_height</th>\n",
       "      <th>floors_total</th>\n",
       "      <th>living_area</th>\n",
       "      <th>floor</th>\n",
       "      <th>is_apartment</th>\n",
       "      <th>...</th>\n",
       "      <th>ponds_around3000</th>\n",
       "      <th>ponds_nearest</th>\n",
       "      <th>days_exposition</th>\n",
       "      <th>short_locality_name</th>\n",
       "      <th>price_per_metre</th>\n",
       "      <th>week_day</th>\n",
       "      <th>month</th>\n",
       "      <th>year</th>\n",
       "      <th>city_center_km</th>\n",
       "      <th>floor_type</th>\n",
       "    </tr>\n",
       "  </thead>\n",
       "  <tbody>\n",
       "    <tr>\n",
       "      <th>0</th>\n",
       "      <td>20</td>\n",
       "      <td>13000000.0</td>\n",
       "      <td>108.0</td>\n",
       "      <td>2019-03-07</td>\n",
       "      <td>3</td>\n",
       "      <td>2.7</td>\n",
       "      <td>16</td>\n",
       "      <td>51.0</td>\n",
       "      <td>8</td>\n",
       "      <td>True</td>\n",
       "      <td>...</td>\n",
       "      <td>2</td>\n",
       "      <td>755.0</td>\n",
       "      <td>NaN</td>\n",
       "      <td>Санкт-Петербург</td>\n",
       "      <td>120370.0</td>\n",
       "      <td>3</td>\n",
       "      <td>3</td>\n",
       "      <td>2019</td>\n",
       "      <td>16.0</td>\n",
       "      <td>другой</td>\n",
       "    </tr>\n",
       "    <tr>\n",
       "      <th>1</th>\n",
       "      <td>7</td>\n",
       "      <td>3350000.0</td>\n",
       "      <td>40.4</td>\n",
       "      <td>2018-12-04</td>\n",
       "      <td>1</td>\n",
       "      <td>2.7</td>\n",
       "      <td>11</td>\n",
       "      <td>18.6</td>\n",
       "      <td>1</td>\n",
       "      <td>True</td>\n",
       "      <td>...</td>\n",
       "      <td>0</td>\n",
       "      <td>NaN</td>\n",
       "      <td>81.0</td>\n",
       "      <td>Шушары</td>\n",
       "      <td>82921.0</td>\n",
       "      <td>1</td>\n",
       "      <td>12</td>\n",
       "      <td>2018</td>\n",
       "      <td>19.0</td>\n",
       "      <td>первый</td>\n",
       "    </tr>\n",
       "    <tr>\n",
       "      <th>2</th>\n",
       "      <td>10</td>\n",
       "      <td>5196000.0</td>\n",
       "      <td>56.0</td>\n",
       "      <td>2015-08-20</td>\n",
       "      <td>2</td>\n",
       "      <td>2.7</td>\n",
       "      <td>5</td>\n",
       "      <td>34.3</td>\n",
       "      <td>4</td>\n",
       "      <td>True</td>\n",
       "      <td>...</td>\n",
       "      <td>2</td>\n",
       "      <td>574.0</td>\n",
       "      <td>558.0</td>\n",
       "      <td>Санкт-Петербург</td>\n",
       "      <td>92786.0</td>\n",
       "      <td>3</td>\n",
       "      <td>8</td>\n",
       "      <td>2015</td>\n",
       "      <td>14.0</td>\n",
       "      <td>другой</td>\n",
       "    </tr>\n",
       "    <tr>\n",
       "      <th>3</th>\n",
       "      <td>10</td>\n",
       "      <td>2890000.0</td>\n",
       "      <td>30.4</td>\n",
       "      <td>2018-09-10</td>\n",
       "      <td>1</td>\n",
       "      <td>2.7</td>\n",
       "      <td>12</td>\n",
       "      <td>14.4</td>\n",
       "      <td>5</td>\n",
       "      <td>True</td>\n",
       "      <td>...</td>\n",
       "      <td>0</td>\n",
       "      <td>NaN</td>\n",
       "      <td>55.0</td>\n",
       "      <td>Янино-1</td>\n",
       "      <td>95066.0</td>\n",
       "      <td>0</td>\n",
       "      <td>9</td>\n",
       "      <td>2018</td>\n",
       "      <td>24.0</td>\n",
       "      <td>другой</td>\n",
       "    </tr>\n",
       "    <tr>\n",
       "      <th>4</th>\n",
       "      <td>6</td>\n",
       "      <td>3700000.0</td>\n",
       "      <td>37.3</td>\n",
       "      <td>2017-11-02</td>\n",
       "      <td>1</td>\n",
       "      <td>2.7</td>\n",
       "      <td>26</td>\n",
       "      <td>10.6</td>\n",
       "      <td>6</td>\n",
       "      <td>True</td>\n",
       "      <td>...</td>\n",
       "      <td>0</td>\n",
       "      <td>NaN</td>\n",
       "      <td>155.0</td>\n",
       "      <td>Парголово</td>\n",
       "      <td>99196.0</td>\n",
       "      <td>3</td>\n",
       "      <td>11</td>\n",
       "      <td>2017</td>\n",
       "      <td>19.0</td>\n",
       "      <td>другой</td>\n",
       "    </tr>\n",
       "  </tbody>\n",
       "</table>\n",
       "<p>5 rows × 29 columns</p>\n",
       "</div>"
      ],
      "text/plain": [
       "   total_images  last_price  total_area first_day_exposition  rooms  \\\n",
       "0            20  13000000.0       108.0           2019-03-07      3   \n",
       "1             7   3350000.0        40.4           2018-12-04      1   \n",
       "2            10   5196000.0        56.0           2015-08-20      2   \n",
       "3            10   2890000.0        30.4           2018-09-10      1   \n",
       "4             6   3700000.0        37.3           2017-11-02      1   \n",
       "\n",
       "   ceiling_height  floors_total  living_area  floor  is_apartment  ...  \\\n",
       "0             2.7            16         51.0      8          True  ...   \n",
       "1             2.7            11         18.6      1          True  ...   \n",
       "2             2.7             5         34.3      4          True  ...   \n",
       "3             2.7            12         14.4      5          True  ...   \n",
       "4             2.7            26         10.6      6          True  ...   \n",
       "\n",
       "   ponds_around3000  ponds_nearest  days_exposition  short_locality_name  \\\n",
       "0                 2          755.0              NaN      Санкт-Петербург   \n",
       "1                 0            NaN             81.0               Шушары   \n",
       "2                 2          574.0            558.0      Санкт-Петербург   \n",
       "3                 0            NaN             55.0              Янино-1   \n",
       "4                 0            NaN            155.0            Парголово   \n",
       "\n",
       "  price_per_metre  week_day  month  year  city_center_km  floor_type  \n",
       "0        120370.0         3      3  2019            16.0      другой  \n",
       "1         82921.0         1     12  2018            19.0      первый  \n",
       "2         92786.0         3      8  2015            14.0      другой  \n",
       "3         95066.0         0      9  2018            24.0      другой  \n",
       "4         99196.0         3     11  2017            19.0      другой  \n",
       "\n",
       "[5 rows x 29 columns]"
      ]
     },
     "execution_count": 132,
     "metadata": {},
     "output_type": "execute_result"
    }
   ],
   "source": [
    "data_midclass.head(5) # датасет с новыми столбцами"
   ]
  },
  {
   "cell_type": "markdown",
   "metadata": {},
   "source": [
    "## Исследовательский анализ данных"
   ]
  },
  {
   "cell_type": "markdown",
   "metadata": {},
   "source": [
    "### Общий анализ\n",
    "Построим и проанализируем гистограммы(для непрерывных) и столбчатые диаграммы(для дискретных) параметров. По ним можно сделать следующие выводы(подробнее см.ниже): \n",
    "\n",
    " - Пользовательские  характеристики(площади, стоимость) имеют ожидаемую форму распределения со смещенным влево максимумом. \n",
    " - Картографические - имеют пики в зависимости от расположения самого крупного населённого пункта в подборке - Санкт-Петербурга.\n",
    " -Расстояние до парков имеет искуственный пик из-за специфики выбранного способа заполнения пропусков\n",
    " - Высота потолков и этажность в домах обусловлена типовым строительством.\n",
    " - Календарные параметры подчиняются рыночным законам: большая активность по будням и в осенний/весенний периоды"
   ]
  },
  {
   "cell_type": "markdown",
   "metadata": {},
   "source": [
    "#### Общая площадь\n",
    "\n",
    "Максимум функции распределения приходится на самый популярный в спальных районах размер квартир - 30-60 м2. Средняя величина практически не отличается от медианной - 52 и 57 м2. 25% приходится на жильё более высокого класса - от 70 до 300 м2."
   ]
  },
  {
   "cell_type": "code",
   "execution_count": 133,
   "metadata": {
    "scrolled": false
   },
   "outputs": [
    {
     "data": {
      "text/plain": [
       "count    21809.000000\n",
       "mean        57.935807\n",
       "std         24.955455\n",
       "min         13.000000\n",
       "25%         40.400000\n",
       "50%         52.000000\n",
       "75%         68.600000\n",
       "max        281.100000\n",
       "Name: total_area, dtype: float64"
      ]
     },
     "execution_count": 133,
     "metadata": {},
     "output_type": "execute_result"
    }
   ],
   "source": [
    "data_midclass['total_area'].describe()"
   ]
  },
  {
   "cell_type": "code",
   "execution_count": 134,
   "metadata": {},
   "outputs": [
    {
     "data": {
      "text/plain": [
       "<AxesSubplot:ylabel='Frequency'>"
      ]
     },
     "execution_count": 134,
     "metadata": {},
     "output_type": "execute_result"
    },
    {
     "data": {
      "image/png": "[encoded data removed]",
      "text/plain": [
       "<Figure size 720x216 with 1 Axes>"
      ]
     },
     "metadata": {
      "needs_background": "light"
     },
     "output_type": "display_data"
    }
   ],
   "source": [
    "data_midclass['total_area'].plot(kind = 'hist', bins = 30, figsize = (10,3), grid = True)"
   ]
  },
  {
   "cell_type": "markdown",
   "metadata": {},
   "source": [
    "#### Жилая площадь\n",
    "Жилая площадь имеет бимодальное распределение, связанное с тем, что имеется разрыв в данных между квартирами с разным количеством комнат. Первый пик приходится вероятнее всего на однокомнатные квартиры с жилой площадью около 20 м2, второй - на двухкомнатные с площадью около 30. Среднее и медиана имеют близкое значение 30-33 м2. "
   ]
  },
  {
   "cell_type": "code",
   "execution_count": 135,
   "metadata": {
    "scrolled": true
   },
   "outputs": [
    {
     "data": {
      "text/plain": [
       "count    19994.000000\n",
       "mean        33.168854\n",
       "std         16.943989\n",
       "min         10.080000\n",
       "25%         18.700000\n",
       "50%         30.000000\n",
       "75%         42.000000\n",
       "max        200.000000\n",
       "Name: living_area, dtype: float64"
      ]
     },
     "execution_count": 135,
     "metadata": {},
     "output_type": "execute_result"
    }
   ],
   "source": [
    "data_midclass['living_area'].describe()"
   ]
  },
  {
   "cell_type": "code",
   "execution_count": 136,
   "metadata": {},
   "outputs": [
    {
     "data": {
      "text/plain": [
       "<AxesSubplot:ylabel='Frequency'>"
      ]
     },
     "execution_count": 136,
     "metadata": {},
     "output_type": "execute_result"
    },
    {
     "data": {
      "image/png": "[encoded data removed]",
      "text/plain": [
       "<Figure size 720x216 with 1 Axes>"
      ]
     },
     "metadata": {
      "needs_background": "light"
     },
     "output_type": "display_data"
    }
   ],
   "source": [
    "data_midclass['living_area'].plot(kind = 'hist', bins = 30, figsize = (10,3), grid = True)"
   ]
  },
  {
   "cell_type": "markdown",
   "metadata": {},
   "source": [
    "#### Площадь кухни\n",
    "Имеет распределение с максимумом на уровне медианы - около 9 м2. 75% значений укладываются в рамки стандартных планировок до 12 м2. Стоит отметить, что 1400 объектов не вошли в статистику из-за пропущенных значений. Это могут быть квартиры без выделенных кухонь, в таком случае в районе 0 можно было бы наблюдать ещё один пик. Среднее значение чуть больше медианы за счёт присутствия 25% довольно больших значений вплоть до 65 м2."
   ]
  },
  {
   "cell_type": "code",
   "execution_count": 137,
   "metadata": {},
   "outputs": [
    {
     "data": {
      "text/plain": [
       "count    20407.000000\n",
       "mean        10.292936\n",
       "std          4.774042\n",
       "min          4.000000\n",
       "25%          7.100000\n",
       "50%          9.100000\n",
       "75%         11.800000\n",
       "max         65.000000\n",
       "Name: kitchen_area, dtype: float64"
      ]
     },
     "execution_count": 137,
     "metadata": {},
     "output_type": "execute_result"
    }
   ],
   "source": [
    "data_midclass['kitchen_area'].describe()"
   ]
  },
  {
   "cell_type": "code",
   "execution_count": 138,
   "metadata": {
    "scrolled": true
   },
   "outputs": [
    {
     "data": {
      "text/plain": [
       "<AxesSubplot:ylabel='Frequency'>"
      ]
     },
     "execution_count": 138,
     "metadata": {},
     "output_type": "execute_result"
    },
    {
     "data": {
      "image/png": "[encoded data removed]",
      "text/plain": [
       "<Figure size 360x216 with 1 Axes>"
      ]
     },
     "metadata": {
      "needs_background": "light"
     },
     "output_type": "display_data"
    }
   ],
   "source": [
    "data_midclass['kitchen_area'].plot(kind = 'hist', bins = 35, figsize = (5,3), grid = True)"
   ]
  },
  {
   "cell_type": "markdown",
   "metadata": {},
   "source": [
    "#### Цена объекта\n",
    "\n",
    "Имеет наиболее близкое к нормальному распределение с максимумом в районе медианы - 4.6 млн рублей. Средняя цена отличается почти на миллион. Напомним, что в выборку включены только квартиры стоимостью до 30 млн, в оригинальном датасете смещение было бы значительно большим."
   ]
  },
  {
   "cell_type": "code",
   "execution_count": 139,
   "metadata": {},
   "outputs": [
    {
     "data": {
      "text/plain": [
       "count    2.180900e+04\n",
       "mean     5.692773e+06\n",
       "std      3.789074e+06\n",
       "min      4.300000e+05\n",
       "25%      3.499000e+06\n",
       "50%      4.650000e+06\n",
       "75%      6.650000e+06\n",
       "max      2.999900e+07\n",
       "Name: last_price, dtype: float64"
      ]
     },
     "execution_count": 139,
     "metadata": {},
     "output_type": "execute_result"
    }
   ],
   "source": [
    "data_midclass['last_price'].describe()"
   ]
  },
  {
   "cell_type": "code",
   "execution_count": 140,
   "metadata": {
    "scrolled": true
   },
   "outputs": [
    {
     "data": {
      "text/plain": [
       "<AxesSubplot:ylabel='Frequency'>"
      ]
     },
     "execution_count": 140,
     "metadata": {},
     "output_type": "execute_result"
    },
    {
     "data": {
      "image/png": "[encoded data removed]",
      "text/plain": [
       "<Figure size 504x216 with 1 Axes>"
      ]
     },
     "metadata": {
      "needs_background": "light"
     },
     "output_type": "display_data"
    }
   ],
   "source": [
    "data_midclass['last_price'].plot(kind = 'hist', bins = 30, figsize = (7,3), grid = True)"
   ]
  },
  {
   "cell_type": "markdown",
   "metadata": {},
   "source": [
    "#### Количество комнат\\\n",
    "\n",
    "Наиболее популярные на рынке - одно- и двухкомнатные квартиры, их примерно по 7500. Многокомнатных(5 и 6) квартир на порядок меньше. Из выборки были исключены все объекты более 6 комнат."
   ]
  },
  {
   "cell_type": "code",
   "execution_count": 141,
   "metadata": {
    "scrolled": true
   },
   "outputs": [
    {
     "data": {
      "text/plain": [
       "<AxesSubplot:xlabel='rooms'>"
      ]
     },
     "execution_count": 141,
     "metadata": {},
     "output_type": "execute_result"
    },
    {
     "data": {
      "image/png": "[encoded data removed]",
      "text/plain": [
       "<Figure size 360x216 with 1 Axes>"
      ]
     },
     "metadata": {
      "needs_background": "light"
     },
     "output_type": "display_data"
    }
   ],
   "source": [
    "data_midclass.groupby('rooms')['rooms'].count().plot(kind = 'bar',  figsize = (5,3), grid = True)"
   ]
  },
  {
   "cell_type": "markdown",
   "metadata": {},
   "source": [
    "#### Высота потолков\n",
    "Самая распространённая в российском строительстве высота потолков - 2.7 метра. Варьируется чаще всего не более чем на 0.5 метра. Однако в Санкт-Петербурге сохранилось много дореволюционной застройки с высотой потолков вплоть до 5 метров. Значения выше этого были отбракованы."
   ]
  },
  {
   "cell_type": "code",
   "execution_count": 142,
   "metadata": {},
   "outputs": [
    {
     "data": {
      "text/plain": [
       "count    21809.000000\n",
       "mean         2.709036\n",
       "std          0.201420\n",
       "min          2.250000\n",
       "25%          2.600000\n",
       "50%          2.700000\n",
       "75%          2.700000\n",
       "max          4.800000\n",
       "Name: ceiling_height, dtype: float64"
      ]
     },
     "execution_count": 142,
     "metadata": {},
     "output_type": "execute_result"
    }
   ],
   "source": [
    "data_midclass['ceiling_height'].describe()"
   ]
  },
  {
   "cell_type": "code",
   "execution_count": 143,
   "metadata": {
    "scrolled": true
   },
   "outputs": [
    {
     "data": {
      "text/plain": [
       "<AxesSubplot:ylabel='Frequency'>"
      ]
     },
     "execution_count": 143,
     "metadata": {},
     "output_type": "execute_result"
    },
    {
     "data": {
      "image/png": "[encoded data removed]",
      "text/plain": [
       "<Figure size 360x216 with 1 Axes>"
      ]
     },
     "metadata": {
      "needs_background": "light"
     },
     "output_type": "display_data"
    }
   ],
   "source": [
    "data_midclass['ceiling_height'].plot(kind = 'hist', bins = 10, figsize = (5,3), grid = True)"
   ]
  },
  {
   "cell_type": "markdown",
   "metadata": {},
   "source": [
    "#### Этаж квартиры\n",
    "\n",
    "Больше всего в российских городах пятиэтажных домов, соответственно и в продаже можно обнаружить в основном квартиры на 1-5 этажах. Чуть меньше - девятиэтажных домов. Однако в последние 20 лет активно развивается многоэтажное строительство, о чём говорит максимальное значение в выборке - 33 этаж."
   ]
  },
  {
   "cell_type": "code",
   "execution_count": 144,
   "metadata": {},
   "outputs": [
    {
     "data": {
      "text/plain": [
       "count    21809.000000\n",
       "mean         5.909670\n",
       "std          4.881774\n",
       "min          1.000000\n",
       "25%          2.000000\n",
       "50%          4.000000\n",
       "75%          8.000000\n",
       "max         33.000000\n",
       "Name: floor, dtype: float64"
      ]
     },
     "execution_count": 144,
     "metadata": {},
     "output_type": "execute_result"
    }
   ],
   "source": [
    "data_midclass['floor'].describe()"
   ]
  },
  {
   "cell_type": "code",
   "execution_count": 145,
   "metadata": {
    "scrolled": true
   },
   "outputs": [
    {
     "data": {
      "text/plain": [
       "<AxesSubplot:xlabel='floor'>"
      ]
     },
     "execution_count": 145,
     "metadata": {},
     "output_type": "execute_result"
    },
    {
     "data": {
      "image/png": "[encoded data removed]",
      "text/plain": [
       "<Figure size 1080x216 with 1 Axes>"
      ]
     },
     "metadata": {
      "needs_background": "light"
     },
     "output_type": "display_data"
    }
   ],
   "source": [
    "data_midclass.groupby('floor')['floor'].count().plot(kind = 'bar',  figsize = (15,3), grid = True)"
   ]
  },
  {
   "cell_type": "markdown",
   "metadata": {},
   "source": [
    "#### Тип этажа квартиры («первый», «последний», «другой»)"
   ]
  },
  {
   "cell_type": "code",
   "execution_count": 146,
   "metadata": {},
   "outputs": [
    {
     "data": {
      "text/plain": [
       "count      21809\n",
       "unique         3\n",
       "top       другой\n",
       "freq       16083\n",
       "Name: floor_type, dtype: object"
      ]
     },
     "execution_count": 146,
     "metadata": {},
     "output_type": "execute_result"
    }
   ],
   "source": [
    "data_midclass['floor_type'].describe()"
   ]
  },
  {
   "cell_type": "code",
   "execution_count": 147,
   "metadata": {
    "scrolled": true
   },
   "outputs": [
    {
     "data": {
      "text/plain": [
       "<AxesSubplot:xlabel='floor_type'>"
      ]
     },
     "execution_count": 147,
     "metadata": {},
     "output_type": "execute_result"
    },
    {
     "data": {
      "image/png": "[encoded data removed]",
      "text/plain": [
       "<Figure size 360x144 with 1 Axes>"
      ]
     },
     "metadata": {
      "needs_background": "light"
     },
     "output_type": "display_data"
    }
   ],
   "source": [
    "data_midclass.groupby('floor_type')['floor_type'].count().plot(kind = 'bar',  figsize = (5,2), grid = True)"
   ]
  },
  {
   "cell_type": "markdown",
   "metadata": {},
   "source": [
    "#### Общее количество этажей в доме\n",
    "\n",
    "Самые распространённые в выборке - 5 и 9 этажные дома. Весомую долю также составляют типовые 16 и 25 этажные дома, а также старинная малоэтажная застройка."
   ]
  },
  {
   "cell_type": "code",
   "execution_count": 148,
   "metadata": {},
   "outputs": [
    {
     "data": {
      "text/plain": [
       "count    21809.000000\n",
       "mean        10.746527\n",
       "std          6.576253\n",
       "min          1.000000\n",
       "25%          5.000000\n",
       "50%          9.000000\n",
       "75%         16.000000\n",
       "max         60.000000\n",
       "Name: floors_total, dtype: float64"
      ]
     },
     "execution_count": 148,
     "metadata": {},
     "output_type": "execute_result"
    }
   ],
   "source": [
    "data_midclass['floors_total'].describe()"
   ]
  },
  {
   "cell_type": "code",
   "execution_count": 149,
   "metadata": {
    "scrolled": true
   },
   "outputs": [
    {
     "data": {
      "text/plain": [
       "<AxesSubplot:xlabel='floors_total'>"
      ]
     },
     "execution_count": 149,
     "metadata": {},
     "output_type": "execute_result"
    },
    {
     "data": {
      "image/png": "[encoded data removed]",
      "text/plain": [
       "<Figure size 720x216 with 1 Axes>"
      ]
     },
     "metadata": {
      "needs_background": "light"
     },
     "output_type": "display_data"
    }
   ],
   "source": [
    "data_midclass.groupby('floors_total')['floors_total'].count().plot(kind = 'bar',  figsize = (10,3), grid = True)"
   ]
  },
  {
   "cell_type": "markdown",
   "metadata": {},
   "source": [
    "#### Расстояние до центра города в метрах\n",
    "\n",
    "Распределение имеет два пика - первый приходится на старые спальные районы в 10-15 км от центра. Второй - на окраину города, где идёт активная застройка(расстояние от центра до границ Санкт-Петербурга около 27-29 км). За пределами этого пика - пригородное жильё в малых населенных пунктах."
   ]
  },
  {
   "cell_type": "code",
   "execution_count": 150,
   "metadata": {},
   "outputs": [
    {
     "data": {
      "text/plain": [
       "count    21809.000000\n",
       "mean     16611.994727\n",
       "std       8490.140878\n",
       "min        208.000000\n",
       "25%      11133.000000\n",
       "50%      15033.000000\n",
       "75%      24213.000000\n",
       "max      65968.000000\n",
       "Name: cityCenters_nearest, dtype: float64"
      ]
     },
     "execution_count": 150,
     "metadata": {},
     "output_type": "execute_result"
    }
   ],
   "source": [
    "data_midclass['cityCenters_nearest'].describe()"
   ]
  },
  {
   "cell_type": "code",
   "execution_count": 151,
   "metadata": {
    "scrolled": true
   },
   "outputs": [
    {
     "data": {
      "text/plain": [
       "<AxesSubplot:ylabel='Frequency'>"
      ]
     },
     "execution_count": 151,
     "metadata": {},
     "output_type": "execute_result"
    },
    {
     "data": {
      "image/png": "[encoded data removed]",
      "text/plain": [
       "<Figure size 720x216 with 1 Axes>"
      ]
     },
     "metadata": {
      "needs_background": "light"
     },
     "output_type": "display_data"
    }
   ],
   "source": [
    "data_midclass['cityCenters_nearest'].plot(kind = 'hist', bins = 20, figsize = (10,3), grid = True)"
   ]
  },
  {
   "cell_type": "markdown",
   "metadata": {},
   "source": [
    "#### Расстояние до ближайшего аэропорта\n",
    "\n",
    "Этот столбец изначально имел большое количество пропусков, которые были заполнены усредненным значением. Отсюда внушительный максимум на 28 км - это медианное расстояние до аэропорта по Санкт-Петербургу. Наиболее удалённые населенные пункты достигают 80 км до ближайшего аэропорта."
   ]
  },
  {
   "cell_type": "code",
   "execution_count": 152,
   "metadata": {},
   "outputs": [
    {
     "data": {
      "text/plain": [
       "count    21809.000000\n",
       "mean     28433.224311\n",
       "std      11145.693316\n",
       "min          0.000000\n",
       "25%      20977.000000\n",
       "50%      26980.000000\n",
       "75%      34636.000000\n",
       "max      84869.000000\n",
       "Name: airports_nearest, dtype: float64"
      ]
     },
     "execution_count": 152,
     "metadata": {},
     "output_type": "execute_result"
    }
   ],
   "source": [
    "data_midclass['airports_nearest'].describe()"
   ]
  },
  {
   "cell_type": "code",
   "execution_count": 153,
   "metadata": {
    "scrolled": true
   },
   "outputs": [
    {
     "data": {
      "text/plain": [
       "<AxesSubplot:ylabel='Frequency'>"
      ]
     },
     "execution_count": 153,
     "metadata": {},
     "output_type": "execute_result"
    },
    {
     "data": {
      "image/png": "[encoded data removed]",
      "text/plain": [
       "<Figure size 720x216 with 1 Axes>"
      ]
     },
     "metadata": {
      "needs_background": "light"
     },
     "output_type": "display_data"
    }
   ],
   "source": [
    "data_midclass['airports_nearest'].plot(kind = 'hist', bins = 20, figsize = (10, 3), grid = True)"
   ]
  },
  {
   "cell_type": "markdown",
   "metadata": {},
   "source": [
    "#### Расстояние до ближайшего парка\n",
    "\n",
    "Максимум на 5000 метрах условный - он возник после заполнения пропусков и обозначает количество квартир, где нет парка в шаговой доступности. Чаще собственники указывают в объявлениях парк, если он находится в радиусе не более 1 км."
   ]
  },
  {
   "cell_type": "code",
   "execution_count": 154,
   "metadata": {},
   "outputs": [
    {
     "data": {
      "text/plain": [
       "count    21809.000000\n",
       "mean      3488.513320\n",
       "std       2136.925301\n",
       "min          1.000000\n",
       "25%        612.000000\n",
       "50%       5000.000000\n",
       "75%       5000.000000\n",
       "max       5000.000000\n",
       "Name: parks_nearest, dtype: float64"
      ]
     },
     "execution_count": 154,
     "metadata": {},
     "output_type": "execute_result"
    }
   ],
   "source": [
    "data_midclass['parks_nearest'].describe()"
   ]
  },
  {
   "cell_type": "code",
   "execution_count": 155,
   "metadata": {
    "scrolled": true
   },
   "outputs": [
    {
     "data": {
      "text/plain": [
       "<AxesSubplot:ylabel='Frequency'>"
      ]
     },
     "execution_count": 155,
     "metadata": {},
     "output_type": "execute_result"
    },
    {
     "data": {
      "image/png": "[encoded data removed]",
      "text/plain": [
       "<Figure size 360x216 with 1 Axes>"
      ]
     },
     "metadata": {
      "needs_background": "light"
     },
     "output_type": "display_data"
    }
   ],
   "source": [
    "data_midclass['parks_nearest'].plot(kind = 'hist', bins = 10, figsize = (5, 3), grid = True)"
   ]
  },
  {
   "cell_type": "markdown",
   "metadata": {},
   "source": [
    "#### День и месяц публикации объявления.\n",
    "\n",
    "По будням публикуется больше объявлений, чем по выходным. Наиболее горячие месяцы на рынке недвижимости приходятся на весну и осень."
   ]
  },
  {
   "cell_type": "code",
   "execution_count": 156,
   "metadata": {},
   "outputs": [
    {
     "data": {
      "text/plain": [
       "count    21809.000000\n",
       "mean         6.403366\n",
       "std          3.493683\n",
       "min          1.000000\n",
       "25%          3.000000\n",
       "50%          6.000000\n",
       "75%         10.000000\n",
       "max         12.000000\n",
       "Name: month, dtype: float64"
      ]
     },
     "execution_count": 156,
     "metadata": {},
     "output_type": "execute_result"
    }
   ],
   "source": [
    "data_midclass['month'].describe()"
   ]
  },
  {
   "cell_type": "code",
   "execution_count": 157,
   "metadata": {
    "scrolled": true
   },
   "outputs": [
    {
     "data": {
      "text/plain": [
       "<AxesSubplot:xlabel='month'>"
      ]
     },
     "execution_count": 157,
     "metadata": {},
     "output_type": "execute_result"
    },
    {
     "data": {
      "image/png": "[encoded data removed]",
      "text/plain": [
       "<Figure size 360x216 with 1 Axes>"
      ]
     },
     "metadata": {
      "needs_background": "light"
     },
     "output_type": "display_data"
    }
   ],
   "source": [
    "data_midclass.groupby('month')['month'].count().plot(kind = 'bar',  figsize = (5, 3), grid = True)"
   ]
  },
  {
   "cell_type": "code",
   "execution_count": 158,
   "metadata": {},
   "outputs": [
    {
     "data": {
      "text/plain": [
       "count    21809.000000\n",
       "mean         2.571095\n",
       "std          1.790474\n",
       "min          0.000000\n",
       "25%          1.000000\n",
       "50%          3.000000\n",
       "75%          4.000000\n",
       "max          6.000000\n",
       "Name: week_day, dtype: float64"
      ]
     },
     "execution_count": 158,
     "metadata": {},
     "output_type": "execute_result"
    }
   ],
   "source": [
    "data_midclass['week_day'].describe()"
   ]
  },
  {
   "cell_type": "code",
   "execution_count": 159,
   "metadata": {
    "scrolled": true
   },
   "outputs": [
    {
     "data": {
      "text/plain": [
       "<AxesSubplot:xlabel='week_day'>"
      ]
     },
     "execution_count": 159,
     "metadata": {},
     "output_type": "execute_result"
    },
    {
     "data": {
      "image/png": "[encoded data removed]",
      "text/plain": [
       "<Figure size 360x216 with 1 Axes>"
      ]
     },
     "metadata": {
      "needs_background": "light"
     },
     "output_type": "display_data"
    }
   ],
   "source": [
    "data_midclass.groupby('week_day')['week_day'].count().plot(kind = 'bar',  figsize = (5, 3), grid = True)"
   ]
  },
  {
   "cell_type": "markdown",
   "metadata": {},
   "source": [
    "### Анализ скорости продажи квартир\n",
    "\n",
    "Проанализируем скорость продажи квартир на рынке. Медианное значение - около трёх месяцев, при этом среднее - почти 6. Такая разница в значениях возникает из-за того, что некоторые объекты выставляются до 5 лет. При этом 75% процентов выставленных квартир были проданы в течение 8 месяцев. \n"
   ]
  },
  {
   "cell_type": "code",
   "execution_count": 160,
   "metadata": {
    "scrolled": true
   },
   "outputs": [
    {
     "data": {
      "text/plain": [
       "count    18949.000000\n",
       "mean       179.485725\n",
       "std        217.949255\n",
       "min          1.000000\n",
       "25%         45.000000\n",
       "50%         95.000000\n",
       "75%        229.000000\n",
       "max       1580.000000\n",
       "Name: days_exposition, dtype: float64"
      ]
     },
     "execution_count": 160,
     "metadata": {},
     "output_type": "execute_result"
    }
   ],
   "source": [
    "data_midclass['days_exposition'].describe()"
   ]
  },
  {
   "cell_type": "code",
   "execution_count": 161,
   "metadata": {},
   "outputs": [
    {
     "data": {
      "text/plain": [
       "<AxesSubplot:ylabel='Frequency'>"
      ]
     },
     "execution_count": 161,
     "metadata": {},
     "output_type": "execute_result"
    },
    {
     "data": {
      "image/png": "[encoded data removed]",
      "text/plain": [
       "<Figure size 504x360 with 1 Axes>"
      ]
     },
     "metadata": {
      "needs_background": "light"
     },
     "output_type": "display_data"
    }
   ],
   "source": [
    "data_midclass['days_exposition'].plot(kind = 'hist', bins = 30, figsize = (7, 5))"
   ]
  },
  {
   "cell_type": "code",
   "execution_count": 162,
   "metadata": {
    "scrolled": true
   },
   "outputs": [
    {
     "data": {
      "text/html": [
       "<div>\n",
       "<style scoped>\n",
       "    .dataframe tbody tr th:only-of-type {\n",
       "        vertical-align: middle;\n",
       "    }\n",
       "\n",
       "    .dataframe tbody tr th {\n",
       "        vertical-align: top;\n",
       "    }\n",
       "\n",
       "    .dataframe thead th {\n",
       "        text-align: right;\n",
       "    }\n",
       "</style>\n",
       "<table border=\"1\" class=\"dataframe\">\n",
       "  <thead>\n",
       "    <tr style=\"text-align: right;\">\n",
       "      <th></th>\n",
       "      <th>total_images</th>\n",
       "      <th>last_price</th>\n",
       "      <th>total_area</th>\n",
       "      <th>first_day_exposition</th>\n",
       "      <th>rooms</th>\n",
       "      <th>ceiling_height</th>\n",
       "      <th>floors_total</th>\n",
       "      <th>living_area</th>\n",
       "      <th>floor</th>\n",
       "      <th>is_apartment</th>\n",
       "      <th>...</th>\n",
       "      <th>ponds_around3000</th>\n",
       "      <th>ponds_nearest</th>\n",
       "      <th>days_exposition</th>\n",
       "      <th>short_locality_name</th>\n",
       "      <th>price_per_metre</th>\n",
       "      <th>week_day</th>\n",
       "      <th>month</th>\n",
       "      <th>year</th>\n",
       "      <th>city_center_km</th>\n",
       "      <th>floor_type</th>\n",
       "    </tr>\n",
       "  </thead>\n",
       "  <tbody>\n",
       "    <tr>\n",
       "      <th>17355</th>\n",
       "      <td>11</td>\n",
       "      <td>3500000.0</td>\n",
       "      <td>48.20</td>\n",
       "      <td>2014-12-15</td>\n",
       "      <td>2</td>\n",
       "      <td>2.50</td>\n",
       "      <td>5</td>\n",
       "      <td>27.40</td>\n",
       "      <td>2</td>\n",
       "      <td>True</td>\n",
       "      <td>...</td>\n",
       "      <td>0</td>\n",
       "      <td>NaN</td>\n",
       "      <td>1580.0</td>\n",
       "      <td>Новое Девяткино</td>\n",
       "      <td>72614.0</td>\n",
       "      <td>0</td>\n",
       "      <td>12</td>\n",
       "      <td>2014</td>\n",
       "      <td>24.0</td>\n",
       "      <td>другой</td>\n",
       "    </tr>\n",
       "    <tr>\n",
       "      <th>8774</th>\n",
       "      <td>11</td>\n",
       "      <td>10600000.0</td>\n",
       "      <td>80.00</td>\n",
       "      <td>2014-12-09</td>\n",
       "      <td>3</td>\n",
       "      <td>2.85</td>\n",
       "      <td>17</td>\n",
       "      <td>44.00</td>\n",
       "      <td>9</td>\n",
       "      <td>True</td>\n",
       "      <td>...</td>\n",
       "      <td>0</td>\n",
       "      <td>NaN</td>\n",
       "      <td>1553.0</td>\n",
       "      <td>Санкт-Петербург</td>\n",
       "      <td>132500.0</td>\n",
       "      <td>1</td>\n",
       "      <td>12</td>\n",
       "      <td>2014</td>\n",
       "      <td>17.0</td>\n",
       "      <td>другой</td>\n",
       "    </tr>\n",
       "    <tr>\n",
       "      <th>1726</th>\n",
       "      <td>2</td>\n",
       "      <td>13300000.0</td>\n",
       "      <td>79.60</td>\n",
       "      <td>2014-12-09</td>\n",
       "      <td>2</td>\n",
       "      <td>3.00</td>\n",
       "      <td>8</td>\n",
       "      <td>42.70</td>\n",
       "      <td>7</td>\n",
       "      <td>True</td>\n",
       "      <td>...</td>\n",
       "      <td>0</td>\n",
       "      <td>NaN</td>\n",
       "      <td>1513.0</td>\n",
       "      <td>Санкт-Петербург</td>\n",
       "      <td>167085.0</td>\n",
       "      <td>1</td>\n",
       "      <td>12</td>\n",
       "      <td>2014</td>\n",
       "      <td>11.0</td>\n",
       "      <td>другой</td>\n",
       "    </tr>\n",
       "    <tr>\n",
       "      <th>19304</th>\n",
       "      <td>18</td>\n",
       "      <td>13300000.0</td>\n",
       "      <td>133.00</td>\n",
       "      <td>2015-02-11</td>\n",
       "      <td>4</td>\n",
       "      <td>3.00</td>\n",
       "      <td>5</td>\n",
       "      <td>58.00</td>\n",
       "      <td>2</td>\n",
       "      <td>True</td>\n",
       "      <td>...</td>\n",
       "      <td>1</td>\n",
       "      <td>534.0</td>\n",
       "      <td>1512.0</td>\n",
       "      <td>Санкт-Петербург</td>\n",
       "      <td>100000.0</td>\n",
       "      <td>2</td>\n",
       "      <td>2</td>\n",
       "      <td>2015</td>\n",
       "      <td>5.0</td>\n",
       "      <td>другой</td>\n",
       "    </tr>\n",
       "    <tr>\n",
       "      <th>6124</th>\n",
       "      <td>3</td>\n",
       "      <td>4400000.0</td>\n",
       "      <td>42.98</td>\n",
       "      <td>2014-12-12</td>\n",
       "      <td>1</td>\n",
       "      <td>2.70</td>\n",
       "      <td>5</td>\n",
       "      <td>18.72</td>\n",
       "      <td>1</td>\n",
       "      <td>True</td>\n",
       "      <td>...</td>\n",
       "      <td>3</td>\n",
       "      <td>232.0</td>\n",
       "      <td>1512.0</td>\n",
       "      <td>Пушкин</td>\n",
       "      <td>102373.0</td>\n",
       "      <td>4</td>\n",
       "      <td>12</td>\n",
       "      <td>2014</td>\n",
       "      <td>30.0</td>\n",
       "      <td>первый</td>\n",
       "    </tr>\n",
       "    <tr>\n",
       "      <th>12963</th>\n",
       "      <td>7</td>\n",
       "      <td>9500000.0</td>\n",
       "      <td>100.00</td>\n",
       "      <td>2015-02-19</td>\n",
       "      <td>4</td>\n",
       "      <td>3.00</td>\n",
       "      <td>5</td>\n",
       "      <td>76.00</td>\n",
       "      <td>5</td>\n",
       "      <td>True</td>\n",
       "      <td>...</td>\n",
       "      <td>0</td>\n",
       "      <td>NaN</td>\n",
       "      <td>1497.0</td>\n",
       "      <td>Санкт-Петербург</td>\n",
       "      <td>95000.0</td>\n",
       "      <td>3</td>\n",
       "      <td>2</td>\n",
       "      <td>2015</td>\n",
       "      <td>5.0</td>\n",
       "      <td>последний</td>\n",
       "    </tr>\n",
       "    <tr>\n",
       "      <th>14093</th>\n",
       "      <td>1</td>\n",
       "      <td>9278000.0</td>\n",
       "      <td>139.80</td>\n",
       "      <td>2014-12-28</td>\n",
       "      <td>4</td>\n",
       "      <td>2.80</td>\n",
       "      <td>5</td>\n",
       "      <td>NaN</td>\n",
       "      <td>4</td>\n",
       "      <td>True</td>\n",
       "      <td>...</td>\n",
       "      <td>0</td>\n",
       "      <td>NaN</td>\n",
       "      <td>1489.0</td>\n",
       "      <td>Сестрорецк</td>\n",
       "      <td>66366.0</td>\n",
       "      <td>6</td>\n",
       "      <td>12</td>\n",
       "      <td>2014</td>\n",
       "      <td>36.0</td>\n",
       "      <td>другой</td>\n",
       "    </tr>\n",
       "    <tr>\n",
       "      <th>17612</th>\n",
       "      <td>9</td>\n",
       "      <td>5990000.0</td>\n",
       "      <td>82.00</td>\n",
       "      <td>2015-02-19</td>\n",
       "      <td>3</td>\n",
       "      <td>3.00</td>\n",
       "      <td>4</td>\n",
       "      <td>60.00</td>\n",
       "      <td>2</td>\n",
       "      <td>True</td>\n",
       "      <td>...</td>\n",
       "      <td>2</td>\n",
       "      <td>458.0</td>\n",
       "      <td>1485.0</td>\n",
       "      <td>Павловск</td>\n",
       "      <td>73049.0</td>\n",
       "      <td>3</td>\n",
       "      <td>2</td>\n",
       "      <td>2015</td>\n",
       "      <td>35.0</td>\n",
       "      <td>другой</td>\n",
       "    </tr>\n",
       "    <tr>\n",
       "      <th>10992</th>\n",
       "      <td>4</td>\n",
       "      <td>11400000.0</td>\n",
       "      <td>76.00</td>\n",
       "      <td>2014-12-09</td>\n",
       "      <td>2</td>\n",
       "      <td>2.70</td>\n",
       "      <td>9</td>\n",
       "      <td>36.00</td>\n",
       "      <td>3</td>\n",
       "      <td>True</td>\n",
       "      <td>...</td>\n",
       "      <td>0</td>\n",
       "      <td>NaN</td>\n",
       "      <td>1484.0</td>\n",
       "      <td>Санкт-Петербург</td>\n",
       "      <td>150000.0</td>\n",
       "      <td>1</td>\n",
       "      <td>12</td>\n",
       "      <td>2014</td>\n",
       "      <td>11.0</td>\n",
       "      <td>другой</td>\n",
       "    </tr>\n",
       "    <tr>\n",
       "      <th>4341</th>\n",
       "      <td>11</td>\n",
       "      <td>6650000.0</td>\n",
       "      <td>68.30</td>\n",
       "      <td>2015-02-19</td>\n",
       "      <td>4</td>\n",
       "      <td>2.63</td>\n",
       "      <td>5</td>\n",
       "      <td>45.10</td>\n",
       "      <td>4</td>\n",
       "      <td>True</td>\n",
       "      <td>...</td>\n",
       "      <td>3</td>\n",
       "      <td>453.0</td>\n",
       "      <td>1477.0</td>\n",
       "      <td>Санкт-Петербург</td>\n",
       "      <td>97365.0</td>\n",
       "      <td>3</td>\n",
       "      <td>2</td>\n",
       "      <td>2015</td>\n",
       "      <td>2.0</td>\n",
       "      <td>другой</td>\n",
       "    </tr>\n",
       "  </tbody>\n",
       "</table>\n",
       "<p>10 rows × 29 columns</p>\n",
       "</div>"
      ],
      "text/plain": [
       "       total_images  last_price  total_area first_day_exposition  rooms  \\\n",
       "17355            11   3500000.0       48.20           2014-12-15      2   \n",
       "8774             11  10600000.0       80.00           2014-12-09      3   \n",
       "1726              2  13300000.0       79.60           2014-12-09      2   \n",
       "19304            18  13300000.0      133.00           2015-02-11      4   \n",
       "6124              3   4400000.0       42.98           2014-12-12      1   \n",
       "12963             7   9500000.0      100.00           2015-02-19      4   \n",
       "14093             1   9278000.0      139.80           2014-12-28      4   \n",
       "17612             9   5990000.0       82.00           2015-02-19      3   \n",
       "10992             4  11400000.0       76.00           2014-12-09      2   \n",
       "4341             11   6650000.0       68.30           2015-02-19      4   \n",
       "\n",
       "       ceiling_height  floors_total  living_area  floor  is_apartment  ...  \\\n",
       "17355            2.50             5        27.40      2          True  ...   \n",
       "8774             2.85            17        44.00      9          True  ...   \n",
       "1726             3.00             8        42.70      7          True  ...   \n",
       "19304            3.00             5        58.00      2          True  ...   \n",
       "6124             2.70             5        18.72      1          True  ...   \n",
       "12963            3.00             5        76.00      5          True  ...   \n",
       "14093            2.80             5          NaN      4          True  ...   \n",
       "17612            3.00             4        60.00      2          True  ...   \n",
       "10992            2.70             9        36.00      3          True  ...   \n",
       "4341             2.63             5        45.10      4          True  ...   \n",
       "\n",
       "       ponds_around3000  ponds_nearest  days_exposition  short_locality_name  \\\n",
       "17355                 0            NaN           1580.0      Новое Девяткино   \n",
       "8774                  0            NaN           1553.0      Санкт-Петербург   \n",
       "1726                  0            NaN           1513.0      Санкт-Петербург   \n",
       "19304                 1          534.0           1512.0      Санкт-Петербург   \n",
       "6124                  3          232.0           1512.0               Пушкин   \n",
       "12963                 0            NaN           1497.0      Санкт-Петербург   \n",
       "14093                 0            NaN           1489.0           Сестрорецк   \n",
       "17612                 2          458.0           1485.0             Павловск   \n",
       "10992                 0            NaN           1484.0      Санкт-Петербург   \n",
       "4341                  3          453.0           1477.0      Санкт-Петербург   \n",
       "\n",
       "      price_per_metre  week_day  month  year  city_center_km  floor_type  \n",
       "17355         72614.0         0     12  2014            24.0      другой  \n",
       "8774         132500.0         1     12  2014            17.0      другой  \n",
       "1726         167085.0         1     12  2014            11.0      другой  \n",
       "19304        100000.0         2      2  2015             5.0      другой  \n",
       "6124         102373.0         4     12  2014            30.0      первый  \n",
       "12963         95000.0         3      2  2015             5.0   последний  \n",
       "14093         66366.0         6     12  2014            36.0      другой  \n",
       "17612         73049.0         3      2  2015            35.0      другой  \n",
       "10992        150000.0         1     12  2014            11.0      другой  \n",
       "4341          97365.0         3      2  2015             2.0      другой  \n",
       "\n",
       "[10 rows x 29 columns]"
      ]
     },
     "execution_count": 162,
     "metadata": {},
     "output_type": "execute_result"
    }
   ],
   "source": [
    "data_midclass.sort_values(by = 'days_exposition', ascending = False).head(10)"
   ]
  },
  {
   "cell_type": "code",
   "execution_count": 163,
   "metadata": {
    "scrolled": true
   },
   "outputs": [
    {
     "data": {
      "text/html": [
       "<div>\n",
       "<style scoped>\n",
       "    .dataframe tbody tr th:only-of-type {\n",
       "        vertical-align: middle;\n",
       "    }\n",
       "\n",
       "    .dataframe tbody tr th {\n",
       "        vertical-align: top;\n",
       "    }\n",
       "\n",
       "    .dataframe thead th {\n",
       "        text-align: right;\n",
       "    }\n",
       "</style>\n",
       "<table border=\"1\" class=\"dataframe\">\n",
       "  <thead>\n",
       "    <tr style=\"text-align: right;\">\n",
       "      <th></th>\n",
       "      <th>total_images</th>\n",
       "      <th>last_price</th>\n",
       "      <th>total_area</th>\n",
       "      <th>first_day_exposition</th>\n",
       "      <th>rooms</th>\n",
       "      <th>ceiling_height</th>\n",
       "      <th>floors_total</th>\n",
       "      <th>living_area</th>\n",
       "      <th>floor</th>\n",
       "      <th>is_apartment</th>\n",
       "      <th>...</th>\n",
       "      <th>ponds_around3000</th>\n",
       "      <th>ponds_nearest</th>\n",
       "      <th>days_exposition</th>\n",
       "      <th>short_locality_name</th>\n",
       "      <th>price_per_metre</th>\n",
       "      <th>week_day</th>\n",
       "      <th>month</th>\n",
       "      <th>year</th>\n",
       "      <th>city_center_km</th>\n",
       "      <th>floor_type</th>\n",
       "    </tr>\n",
       "  </thead>\n",
       "  <tbody>\n",
       "    <tr>\n",
       "      <th>1498</th>\n",
       "      <td>19</td>\n",
       "      <td>4000000.0</td>\n",
       "      <td>49.9</td>\n",
       "      <td>2019-05-01</td>\n",
       "      <td>2</td>\n",
       "      <td>2.50</td>\n",
       "      <td>9</td>\n",
       "      <td>25.0</td>\n",
       "      <td>1</td>\n",
       "      <td>True</td>\n",
       "      <td>...</td>\n",
       "      <td>1</td>\n",
       "      <td>681.0</td>\n",
       "      <td>1.0</td>\n",
       "      <td>Санкт-Петербург</td>\n",
       "      <td>80160.0</td>\n",
       "      <td>2</td>\n",
       "      <td>5</td>\n",
       "      <td>2019</td>\n",
       "      <td>14.0</td>\n",
       "      <td>первый</td>\n",
       "    </tr>\n",
       "    <tr>\n",
       "      <th>14777</th>\n",
       "      <td>4</td>\n",
       "      <td>4070000.0</td>\n",
       "      <td>45.1</td>\n",
       "      <td>2019-04-30</td>\n",
       "      <td>2</td>\n",
       "      <td>2.70</td>\n",
       "      <td>5</td>\n",
       "      <td>22.7</td>\n",
       "      <td>3</td>\n",
       "      <td>True</td>\n",
       "      <td>...</td>\n",
       "      <td>0</td>\n",
       "      <td>NaN</td>\n",
       "      <td>2.0</td>\n",
       "      <td>Санкт-Петербург</td>\n",
       "      <td>90244.0</td>\n",
       "      <td>1</td>\n",
       "      <td>4</td>\n",
       "      <td>2019</td>\n",
       "      <td>12.0</td>\n",
       "      <td>другой</td>\n",
       "    </tr>\n",
       "    <tr>\n",
       "      <th>12007</th>\n",
       "      <td>20</td>\n",
       "      <td>6100000.0</td>\n",
       "      <td>51.4</td>\n",
       "      <td>2019-04-29</td>\n",
       "      <td>2</td>\n",
       "      <td>3.00</td>\n",
       "      <td>5</td>\n",
       "      <td>31.7</td>\n",
       "      <td>4</td>\n",
       "      <td>True</td>\n",
       "      <td>...</td>\n",
       "      <td>0</td>\n",
       "      <td>NaN</td>\n",
       "      <td>2.0</td>\n",
       "      <td>Санкт-Петербург</td>\n",
       "      <td>118677.0</td>\n",
       "      <td>0</td>\n",
       "      <td>4</td>\n",
       "      <td>2019</td>\n",
       "      <td>9.0</td>\n",
       "      <td>другой</td>\n",
       "    </tr>\n",
       "    <tr>\n",
       "      <th>14923</th>\n",
       "      <td>0</td>\n",
       "      <td>7806000.0</td>\n",
       "      <td>25.0</td>\n",
       "      <td>2019-04-30</td>\n",
       "      <td>1</td>\n",
       "      <td>3.00</td>\n",
       "      <td>5</td>\n",
       "      <td>NaN</td>\n",
       "      <td>5</td>\n",
       "      <td>False</td>\n",
       "      <td>...</td>\n",
       "      <td>0</td>\n",
       "      <td>NaN</td>\n",
       "      <td>2.0</td>\n",
       "      <td>Санкт-Петербург</td>\n",
       "      <td>312240.0</td>\n",
       "      <td>1</td>\n",
       "      <td>4</td>\n",
       "      <td>2019</td>\n",
       "      <td>10.0</td>\n",
       "      <td>последний</td>\n",
       "    </tr>\n",
       "    <tr>\n",
       "      <th>8929</th>\n",
       "      <td>0</td>\n",
       "      <td>7740000.0</td>\n",
       "      <td>59.0</td>\n",
       "      <td>2018-08-31</td>\n",
       "      <td>2</td>\n",
       "      <td>2.70</td>\n",
       "      <td>6</td>\n",
       "      <td>28.0</td>\n",
       "      <td>4</td>\n",
       "      <td>True</td>\n",
       "      <td>...</td>\n",
       "      <td>0</td>\n",
       "      <td>NaN</td>\n",
       "      <td>3.0</td>\n",
       "      <td>Санкт-Петербург</td>\n",
       "      <td>131186.0</td>\n",
       "      <td>4</td>\n",
       "      <td>8</td>\n",
       "      <td>2018</td>\n",
       "      <td>5.0</td>\n",
       "      <td>другой</td>\n",
       "    </tr>\n",
       "    <tr>\n",
       "      <th>12696</th>\n",
       "      <td>12</td>\n",
       "      <td>4600000.0</td>\n",
       "      <td>38.0</td>\n",
       "      <td>2017-12-02</td>\n",
       "      <td>1</td>\n",
       "      <td>2.75</td>\n",
       "      <td>25</td>\n",
       "      <td>14.0</td>\n",
       "      <td>3</td>\n",
       "      <td>True</td>\n",
       "      <td>...</td>\n",
       "      <td>0</td>\n",
       "      <td>NaN</td>\n",
       "      <td>3.0</td>\n",
       "      <td>Санкт-Петербург</td>\n",
       "      <td>121053.0</td>\n",
       "      <td>5</td>\n",
       "      <td>12</td>\n",
       "      <td>2017</td>\n",
       "      <td>13.0</td>\n",
       "      <td>другой</td>\n",
       "    </tr>\n",
       "    <tr>\n",
       "      <th>3525</th>\n",
       "      <td>8</td>\n",
       "      <td>5200000.0</td>\n",
       "      <td>56.0</td>\n",
       "      <td>2019-03-16</td>\n",
       "      <td>2</td>\n",
       "      <td>2.70</td>\n",
       "      <td>18</td>\n",
       "      <td>NaN</td>\n",
       "      <td>6</td>\n",
       "      <td>False</td>\n",
       "      <td>...</td>\n",
       "      <td>0</td>\n",
       "      <td>NaN</td>\n",
       "      <td>3.0</td>\n",
       "      <td>Металлострой</td>\n",
       "      <td>92857.0</td>\n",
       "      <td>5</td>\n",
       "      <td>3</td>\n",
       "      <td>2019</td>\n",
       "      <td>27.0</td>\n",
       "      <td>другой</td>\n",
       "    </tr>\n",
       "    <tr>\n",
       "      <th>18130</th>\n",
       "      <td>9</td>\n",
       "      <td>5600000.0</td>\n",
       "      <td>48.0</td>\n",
       "      <td>2019-04-11</td>\n",
       "      <td>1</td>\n",
       "      <td>2.80</td>\n",
       "      <td>25</td>\n",
       "      <td>25.0</td>\n",
       "      <td>13</td>\n",
       "      <td>True</td>\n",
       "      <td>...</td>\n",
       "      <td>0</td>\n",
       "      <td>NaN</td>\n",
       "      <td>3.0</td>\n",
       "      <td>Санкт-Петербург</td>\n",
       "      <td>116667.0</td>\n",
       "      <td>3</td>\n",
       "      <td>4</td>\n",
       "      <td>2019</td>\n",
       "      <td>17.0</td>\n",
       "      <td>другой</td>\n",
       "    </tr>\n",
       "    <tr>\n",
       "      <th>15253</th>\n",
       "      <td>20</td>\n",
       "      <td>5000000.0</td>\n",
       "      <td>38.9</td>\n",
       "      <td>2018-12-10</td>\n",
       "      <td>1</td>\n",
       "      <td>2.60</td>\n",
       "      <td>25</td>\n",
       "      <td>17.4</td>\n",
       "      <td>14</td>\n",
       "      <td>True</td>\n",
       "      <td>...</td>\n",
       "      <td>1</td>\n",
       "      <td>392.0</td>\n",
       "      <td>3.0</td>\n",
       "      <td>Санкт-Петербург</td>\n",
       "      <td>128535.0</td>\n",
       "      <td>0</td>\n",
       "      <td>12</td>\n",
       "      <td>2018</td>\n",
       "      <td>14.0</td>\n",
       "      <td>другой</td>\n",
       "    </tr>\n",
       "    <tr>\n",
       "      <th>12683</th>\n",
       "      <td>0</td>\n",
       "      <td>3100000.0</td>\n",
       "      <td>45.0</td>\n",
       "      <td>2018-07-24</td>\n",
       "      <td>1</td>\n",
       "      <td>2.70</td>\n",
       "      <td>18</td>\n",
       "      <td>19.0</td>\n",
       "      <td>5</td>\n",
       "      <td>True</td>\n",
       "      <td>...</td>\n",
       "      <td>1</td>\n",
       "      <td>871.0</td>\n",
       "      <td>3.0</td>\n",
       "      <td>Санкт-Петербург</td>\n",
       "      <td>68889.0</td>\n",
       "      <td>1</td>\n",
       "      <td>7</td>\n",
       "      <td>2018</td>\n",
       "      <td>11.0</td>\n",
       "      <td>другой</td>\n",
       "    </tr>\n",
       "  </tbody>\n",
       "</table>\n",
       "<p>10 rows × 29 columns</p>\n",
       "</div>"
      ],
      "text/plain": [
       "       total_images  last_price  total_area first_day_exposition  rooms  \\\n",
       "1498             19   4000000.0        49.9           2019-05-01      2   \n",
       "14777             4   4070000.0        45.1           2019-04-30      2   \n",
       "12007            20   6100000.0        51.4           2019-04-29      2   \n",
       "14923             0   7806000.0        25.0           2019-04-30      1   \n",
       "8929              0   7740000.0        59.0           2018-08-31      2   \n",
       "12696            12   4600000.0        38.0           2017-12-02      1   \n",
       "3525              8   5200000.0        56.0           2019-03-16      2   \n",
       "18130             9   5600000.0        48.0           2019-04-11      1   \n",
       "15253            20   5000000.0        38.9           2018-12-10      1   \n",
       "12683             0   3100000.0        45.0           2018-07-24      1   \n",
       "\n",
       "       ceiling_height  floors_total  living_area  floor  is_apartment  ...  \\\n",
       "1498             2.50             9         25.0      1          True  ...   \n",
       "14777            2.70             5         22.7      3          True  ...   \n",
       "12007            3.00             5         31.7      4          True  ...   \n",
       "14923            3.00             5          NaN      5         False  ...   \n",
       "8929             2.70             6         28.0      4          True  ...   \n",
       "12696            2.75            25         14.0      3          True  ...   \n",
       "3525             2.70            18          NaN      6         False  ...   \n",
       "18130            2.80            25         25.0     13          True  ...   \n",
       "15253            2.60            25         17.4     14          True  ...   \n",
       "12683            2.70            18         19.0      5          True  ...   \n",
       "\n",
       "       ponds_around3000  ponds_nearest  days_exposition  short_locality_name  \\\n",
       "1498                  1          681.0              1.0      Санкт-Петербург   \n",
       "14777                 0            NaN              2.0      Санкт-Петербург   \n",
       "12007                 0            NaN              2.0      Санкт-Петербург   \n",
       "14923                 0            NaN              2.0      Санкт-Петербург   \n",
       "8929                  0            NaN              3.0      Санкт-Петербург   \n",
       "12696                 0            NaN              3.0      Санкт-Петербург   \n",
       "3525                  0            NaN              3.0         Металлострой   \n",
       "18130                 0            NaN              3.0      Санкт-Петербург   \n",
       "15253                 1          392.0              3.0      Санкт-Петербург   \n",
       "12683                 1          871.0              3.0      Санкт-Петербург   \n",
       "\n",
       "      price_per_metre  week_day  month  year  city_center_km  floor_type  \n",
       "1498          80160.0         2      5  2019            14.0      первый  \n",
       "14777         90244.0         1      4  2019            12.0      другой  \n",
       "12007        118677.0         0      4  2019             9.0      другой  \n",
       "14923        312240.0         1      4  2019            10.0   последний  \n",
       "8929         131186.0         4      8  2018             5.0      другой  \n",
       "12696        121053.0         5     12  2017            13.0      другой  \n",
       "3525          92857.0         5      3  2019            27.0      другой  \n",
       "18130        116667.0         3      4  2019            17.0      другой  \n",
       "15253        128535.0         0     12  2018            14.0      другой  \n",
       "12683         68889.0         1      7  2018            11.0      другой  \n",
       "\n",
       "[10 rows x 29 columns]"
      ]
     },
     "execution_count": 163,
     "metadata": {},
     "output_type": "execute_result"
    }
   ],
   "source": [
    "data_midclass.sort_values(by = 'days_exposition').head(10)"
   ]
  },
  {
   "cell_type": "markdown",
   "metadata": {},
   "source": [
    "**Вывод** Посмотрим на топ-10 самых быстрых и самых долгих продаж. Дольше других обычно продаются дорогие квартиры, либо, наоборот, дешевые - в плохом состоянии или в отдалённых районах. Быстрее других уходят хорошие квартиры в центре, либо недорогие в спальных районах. Но для полноценной проверки этих гипотез в выборке недостаточно характеристик"
   ]
  },
  {
   "cell_type": "markdown",
   "metadata": {},
   "source": [
    "### Анализ зависимости стоимости объектов\n",
    "\n",
    "Проанализируем факторы, влияющие на общую стоимость объекта. Сначала рассчитаем коэффициент корреляции Пирсона для всей таблицы, нас будет интересовать только столбец last_price. \n",
    "Затем построим диаграммы рассеяния и графики распределения параметров по различным категориям цен\n"
   ]
  },
  {
   "cell_type": "code",
   "execution_count": 164,
   "metadata": {
    "scrolled": false
   },
   "outputs": [
    {
     "data": {
      "text/plain": [
       "total_images           0.155732\n",
       "last_price             1.000000\n",
       "total_area             0.779075\n",
       "rooms                  0.507645\n",
       "ceiling_height         0.416105\n",
       "floors_total           0.092182\n",
       "living_area            0.670883\n",
       "floor                  0.086002\n",
       "is_apartment          -0.011647\n",
       "studio                      NaN\n",
       "open_plan             -0.007830\n",
       "kitchen_area           0.588161\n",
       "balcony                0.036702\n",
       "airports_nearest      -0.005810\n",
       "cityCenters_nearest   -0.459866\n",
       "parks_around3000       0.285540\n",
       "parks_nearest         -0.286908\n",
       "ponds_around3000       0.303898\n",
       "ponds_nearest         -0.100838\n",
       "days_exposition        0.131190\n",
       "price_per_metre        0.679569\n",
       "week_day              -0.021889\n",
       "month                  0.004548\n",
       "year                  -0.036652\n",
       "city_center_km        -0.458992\n",
       "Name: last_price, dtype: float64"
      ]
     },
     "execution_count": 164,
     "metadata": {},
     "output_type": "execute_result"
    }
   ],
   "source": [
    "corr_table = data_midclass.corr()\n",
    "corr_table['last_price'] # коэффициент корреляции для общей стоимости объекта"
   ]
  },
  {
   "cell_type": "markdown",
   "metadata": {},
   "source": [
    "Построим диаграммы рассеяния непрерывных параметров - общей площади, жилой, цены за м2, размера кухни"
   ]
  },
  {
   "cell_type": "code",
   "execution_count": 165,
   "metadata": {
    "scrolled": true
   },
   "outputs": [
    {
     "data": {
      "text/plain": [
       "<AxesSubplot:xlabel='last_price', ylabel='kitchen_area'>"
      ]
     },
     "execution_count": 165,
     "metadata": {},
     "output_type": "execute_result"
    },
    {
     "data": {
      "image/png": "[encoded data removed]",
      "text/plain": [
       "<Figure size 288x288 with 1 Axes>"
      ]
     },
     "metadata": {
      "needs_background": "light"
     },
     "output_type": "display_data"
    },
    {
     "data": {
      "image/png": "[encoded data removed]",
      "text/plain": [
       "<Figure size 288x288 with 1 Axes>"
      ]
     },
     "metadata": {
      "needs_background": "light"
     },
     "output_type": "display_data"
    },
    {
     "data": {
      "image/png": "[encoded data removed]",
      "text/plain": [
       "<Figure size 288x288 with 1 Axes>"
      ]
     },
     "metadata": {
      "needs_background": "light"
     },
     "output_type": "display_data"
    },
    {
     "data": {
      "image/png": "[encoded data removed]",
      "text/plain": [
       "<Figure size 288x288 with 1 Axes>"
      ]
     },
     "metadata": {
      "needs_background": "light"
     },
     "output_type": "display_data"
    }
   ],
   "source": [
    "# зависимость цены от общей площади\n",
    "data_midclass.plot(x='last_price', y='total_area', kind='scatter', figsize = (4,4))\n",
    "# зависимость цены от жилой площади\n",
    "data_midclass.plot(x='last_price', y='living_area', kind='scatter', figsize = (4,4))\n",
    "# зависимость цены от стоимости одного квадратного метра\n",
    "data_midclass.plot(x='last_price', y='price_per_metre', kind='scatter', figsize = (4,4))\n",
    "# зависимость цены от площади кухни\n",
    "data_midclass.plot(x='last_price', y='kitchen_area', kind='scatter', figsize = (4,4))"
   ]
  },
  {
   "cell_type": "markdown",
   "metadata": {},
   "source": [
    "Для категориальных переменных(год, месяц, день недели, тип этажа) построим графики изменения средней цены квадратного метра"
   ]
  },
  {
   "cell_type": "code",
   "execution_count": 166,
   "metadata": {
    "scrolled": true
   },
   "outputs": [
    {
     "data": {
      "text/plain": [
       "<AxesSubplot:xlabel='year'>"
      ]
     },
     "execution_count": 166,
     "metadata": {},
     "output_type": "execute_result"
    },
    {
     "data": {
      "image/png": "[encoded data removed]",
      "text/plain": [
       "<Figure size 432x288 with 1 Axes>"
      ]
     },
     "metadata": {
      "needs_background": "light"
     },
     "output_type": "display_data"
    }
   ],
   "source": [
    "data_midclass.pivot_table(index = 'year', values = 'price_per_metre', aggfunc = 'median').plot()"
   ]
  },
  {
   "cell_type": "code",
   "execution_count": 167,
   "metadata": {
    "scrolled": true
   },
   "outputs": [
    {
     "data": {
      "text/plain": [
       "<AxesSubplot:xlabel='month'>"
      ]
     },
     "execution_count": 167,
     "metadata": {},
     "output_type": "execute_result"
    },
    {
     "data": {
      "image/png": "[encoded data removed]",
      "text/plain": [
       "<Figure size 432x288 with 1 Axes>"
      ]
     },
     "metadata": {
      "needs_background": "light"
     },
     "output_type": "display_data"
    }
   ],
   "source": [
    "data_midclass.pivot_table(index = 'month', values = 'price_per_metre', aggfunc = 'median').plot()"
   ]
  },
  {
   "cell_type": "code",
   "execution_count": 168,
   "metadata": {},
   "outputs": [
    {
     "data": {
      "text/plain": [
       "<AxesSubplot:xlabel='week_day'>"
      ]
     },
     "execution_count": 168,
     "metadata": {},
     "output_type": "execute_result"
    },
    {
     "data": {
      "image/png": "[encoded data removed]",
      "text/plain": [
       "<Figure size 432x288 with 1 Axes>"
      ]
     },
     "metadata": {
      "needs_background": "light"
     },
     "output_type": "display_data"
    }
   ],
   "source": [
    "data_midclass.pivot_table(index = 'week_day', values = 'price_per_metre', aggfunc = 'median').plot()"
   ]
  },
  {
   "cell_type": "markdown",
   "metadata": {},
   "source": []
  },
  {
   "cell_type": "code",
   "execution_count": 169,
   "metadata": {
    "scrolled": true
   },
   "outputs": [
    {
     "data": {
      "text/plain": [
       "<AxesSubplot:xlabel='floor_type'>"
      ]
     },
     "execution_count": 169,
     "metadata": {},
     "output_type": "execute_result"
    },
    {
     "data": {
      "image/png": "[encoded data removed]",
      "text/plain": [
       "<Figure size 432x288 with 1 Axes>"
      ]
     },
     "metadata": {
      "needs_background": "light"
     },
     "output_type": "display_data"
    }
   ],
   "source": [
    "data_midclass.pivot_table(index = 'floor_type', values = 'price_per_metre', aggfunc = 'median').plot()"
   ]
  },
  {
   "cell_type": "markdown",
   "metadata": {},
   "source": [
    "**Вывод** Наиболее устойчивую корреляцию по этим значениям показывает общая площадь.  Чуть меньше - жилая и количество комнат. Относительная корреляция есть с площадью кухни, количеством комнат, расстоянием до центра. Этажность дома, тип этажа, дата размещения объявления на стоимость квартиры не имеют линейной корреляции со стоимостью квартиры. \n",
    "По графикам средней стоимости квадратного метра можно заметить, что квартиры на первом этаже имеют стоимость в среднем на 20 тысяч меньше, чем на остальных. Стоит отметить, что здесь нужно учитывать большое количество загородной недвижимости в выборке, которая чаще имеет 1-2 этажную застройку. \n",
    "По году размещения стоимость имеет значительный спад на 15000 во время экономического кризиса 2015-2016гг, но почти выходит на прежний уровень цен к 2019.\n",
    "В месяцах и днях недели прослеживается тенденция рынка к колебаниям - спад летом и по выходным, подъём в весенне-осенний период и по будням.\n"
   ]
  },
  {
   "cell_type": "markdown",
   "metadata": {},
   "source": [
    "### Стоимость квадратного метра в различных населенных пунктах\n",
    " \n",
    "Проанализируем 10 населённых пунктов с наибольшим количеством объявлений, для этого составим дополнительную таблицу с количеством объявлений и средней ценой за квадратный метр."
   ]
  },
  {
   "cell_type": "code",
   "execution_count": 170,
   "metadata": {
    "scrolled": true
   },
   "outputs": [
    {
     "data": {
      "text/html": [
       "<div>\n",
       "<style scoped>\n",
       "    .dataframe tbody tr th:only-of-type {\n",
       "        vertical-align: middle;\n",
       "    }\n",
       "\n",
       "    .dataframe tbody tr th {\n",
       "        vertical-align: top;\n",
       "    }\n",
       "\n",
       "    .dataframe thead th {\n",
       "        text-align: right;\n",
       "    }\n",
       "</style>\n",
       "<table border=\"1\" class=\"dataframe\">\n",
       "  <thead>\n",
       "    <tr style=\"text-align: right;\">\n",
       "      <th></th>\n",
       "      <th>last_price</th>\n",
       "    </tr>\n",
       "    <tr>\n",
       "      <th>short_locality_name</th>\n",
       "      <th></th>\n",
       "    </tr>\n",
       "  </thead>\n",
       "  <tbody>\n",
       "    <tr>\n",
       "      <th>Санкт-Петербург</th>\n",
       "      <td>14474</td>\n",
       "    </tr>\n",
       "    <tr>\n",
       "      <th>Мурино</th>\n",
       "      <td>513</td>\n",
       "    </tr>\n",
       "    <tr>\n",
       "      <th>Кудрово</th>\n",
       "      <td>421</td>\n",
       "    </tr>\n",
       "    <tr>\n",
       "      <th>Шушары</th>\n",
       "      <td>418</td>\n",
       "    </tr>\n",
       "    <tr>\n",
       "      <th>Всеволожск</th>\n",
       "      <td>378</td>\n",
       "    </tr>\n",
       "    <tr>\n",
       "      <th>Колпино</th>\n",
       "      <td>321</td>\n",
       "    </tr>\n",
       "    <tr>\n",
       "      <th>Пушкин</th>\n",
       "      <td>321</td>\n",
       "    </tr>\n",
       "    <tr>\n",
       "      <th>Парголово</th>\n",
       "      <td>312</td>\n",
       "    </tr>\n",
       "    <tr>\n",
       "      <th>Гатчина</th>\n",
       "      <td>277</td>\n",
       "    </tr>\n",
       "    <tr>\n",
       "      <th>Выборг</th>\n",
       "      <td>217</td>\n",
       "    </tr>\n",
       "  </tbody>\n",
       "</table>\n",
       "</div>"
      ],
      "text/plain": [
       "                     last_price\n",
       "short_locality_name            \n",
       "Санкт-Петербург           14474\n",
       "Мурино                      513\n",
       "Кудрово                     421\n",
       "Шушары                      418\n",
       "Всеволожск                  378\n",
       "Колпино                     321\n",
       "Пушкин                      321\n",
       "Парголово                   312\n",
       "Гатчина                     277\n",
       "Выборг                      217"
      ]
     },
     "execution_count": 170,
     "metadata": {},
     "output_type": "execute_result"
    }
   ],
   "source": [
    "#создадим таблицу с топ-10 объявлений\n",
    "big_town = data_midclass.groupby('short_locality_name')['last_price'].count().sort_values(ascending = False).head(10)\n",
    "big_town = big_town.to_frame()\n",
    "big_town"
   ]
  },
  {
   "cell_type": "code",
   "execution_count": 171,
   "metadata": {
    "scrolled": true
   },
   "outputs": [
    {
     "data": {
      "text/html": [
       "<div>\n",
       "<style scoped>\n",
       "    .dataframe tbody tr th:only-of-type {\n",
       "        vertical-align: middle;\n",
       "    }\n",
       "\n",
       "    .dataframe tbody tr th {\n",
       "        vertical-align: top;\n",
       "    }\n",
       "\n",
       "    .dataframe thead th {\n",
       "        text-align: right;\n",
       "    }\n",
       "</style>\n",
       "<table border=\"1\" class=\"dataframe\">\n",
       "  <thead>\n",
       "    <tr style=\"text-align: right;\">\n",
       "      <th></th>\n",
       "      <th>price_per_metre</th>\n",
       "    </tr>\n",
       "    <tr>\n",
       "      <th>short_locality_name</th>\n",
       "      <th></th>\n",
       "    </tr>\n",
       "  </thead>\n",
       "  <tbody>\n",
       "    <tr>\n",
       "      <th>unknown</th>\n",
       "      <td>93241.0</td>\n",
       "    </tr>\n",
       "    <tr>\n",
       "      <th>Агалатово</th>\n",
       "      <td>71215.0</td>\n",
       "    </tr>\n",
       "    <tr>\n",
       "      <th>Александровская</th>\n",
       "      <td>70262.0</td>\n",
       "    </tr>\n",
       "    <tr>\n",
       "      <th>Алексеевка</th>\n",
       "      <td>22222.0</td>\n",
       "    </tr>\n",
       "    <tr>\n",
       "      <th>Аннино</th>\n",
       "      <td>63586.0</td>\n",
       "    </tr>\n",
       "  </tbody>\n",
       "</table>\n",
       "</div>"
      ],
      "text/plain": [
       "                     price_per_metre\n",
       "short_locality_name                 \n",
       "unknown                      93241.0\n",
       "Агалатово                    71215.0\n",
       "Александровская              70262.0\n",
       "Алексеевка                   22222.0\n",
       "Аннино                       63586.0"
      ]
     },
     "execution_count": 171,
     "metadata": {},
     "output_type": "execute_result"
    }
   ],
   "source": [
    "#создадим таблицу средних цен по населённому пункту\n",
    "mean_price = data_midclass.groupby('short_locality_name')['price_per_metre'].mean().round(0)\n",
    "mean_price = mean_price.to_frame()\n",
    "mean_price.head()"
   ]
  },
  {
   "cell_type": "code",
   "execution_count": 172,
   "metadata": {
    "scrolled": true
   },
   "outputs": [
    {
     "data": {
      "text/html": [
       "<div>\n",
       "<style scoped>\n",
       "    .dataframe tbody tr th:only-of-type {\n",
       "        vertical-align: middle;\n",
       "    }\n",
       "\n",
       "    .dataframe tbody tr th {\n",
       "        vertical-align: top;\n",
       "    }\n",
       "\n",
       "    .dataframe thead th {\n",
       "        text-align: right;\n",
       "    }\n",
       "</style>\n",
       "<table border=\"1\" class=\"dataframe\">\n",
       "  <thead>\n",
       "    <tr style=\"text-align: right;\">\n",
       "      <th></th>\n",
       "      <th>last_price</th>\n",
       "      <th>price_per_metre</th>\n",
       "    </tr>\n",
       "    <tr>\n",
       "      <th>short_locality_name</th>\n",
       "      <th></th>\n",
       "      <th></th>\n",
       "    </tr>\n",
       "  </thead>\n",
       "  <tbody>\n",
       "    <tr>\n",
       "      <th>Санкт-Петербург</th>\n",
       "      <td>14474</td>\n",
       "      <td>110089.0</td>\n",
       "    </tr>\n",
       "    <tr>\n",
       "      <th>Мурино</th>\n",
       "      <td>513</td>\n",
       "      <td>84821.0</td>\n",
       "    </tr>\n",
       "    <tr>\n",
       "      <th>Кудрово</th>\n",
       "      <td>421</td>\n",
       "      <td>94793.0</td>\n",
       "    </tr>\n",
       "    <tr>\n",
       "      <th>Шушары</th>\n",
       "      <td>418</td>\n",
       "      <td>78415.0</td>\n",
       "    </tr>\n",
       "    <tr>\n",
       "      <th>Всеволожск</th>\n",
       "      <td>378</td>\n",
       "      <td>68929.0</td>\n",
       "    </tr>\n",
       "    <tr>\n",
       "      <th>Колпино</th>\n",
       "      <td>321</td>\n",
       "      <td>75280.0</td>\n",
       "    </tr>\n",
       "    <tr>\n",
       "      <th>Пушкин</th>\n",
       "      <td>321</td>\n",
       "      <td>102976.0</td>\n",
       "    </tr>\n",
       "    <tr>\n",
       "      <th>Парголово</th>\n",
       "      <td>312</td>\n",
       "      <td>90517.0</td>\n",
       "    </tr>\n",
       "    <tr>\n",
       "      <th>Гатчина</th>\n",
       "      <td>277</td>\n",
       "      <td>69266.0</td>\n",
       "    </tr>\n",
       "    <tr>\n",
       "      <th>Выборг</th>\n",
       "      <td>217</td>\n",
       "      <td>58574.0</td>\n",
       "    </tr>\n",
       "  </tbody>\n",
       "</table>\n",
       "</div>"
      ],
      "text/plain": [
       "                     last_price  price_per_metre\n",
       "short_locality_name                             \n",
       "Санкт-Петербург           14474         110089.0\n",
       "Мурино                      513          84821.0\n",
       "Кудрово                     421          94793.0\n",
       "Шушары                      418          78415.0\n",
       "Всеволожск                  378          68929.0\n",
       "Колпино                     321          75280.0\n",
       "Пушкин                      321         102976.0\n",
       "Парголово                   312          90517.0\n",
       "Гатчина                     277          69266.0\n",
       "Выборг                      217          58574.0"
      ]
     },
     "execution_count": 172,
     "metadata": {},
     "output_type": "execute_result"
    }
   ],
   "source": [
    "big_town.join(mean_price, how = 'inner') #объединим таблицы"
   ]
  },
  {
   "cell_type": "markdown",
   "metadata": {},
   "source": [
    "**Вывод** Самым дорогим населённым пунктом ожидаемо является Санкт-Петербург, но Пушкин отстаёт менее чем на 10%. Это может быть связано с тем, что в популярных туристических направлениях часто покупают квартиры под апартаменты. \n",
    "Самая недорогая недвижимость из представленных в таблице городов - в Выборге. Хотя это тоже туристический город, сказывается сильная удалённость от Санкт-Петербурга."
   ]
  },
  {
   "cell_type": "markdown",
   "metadata": {},
   "source": [
    "### Стоимость квартир в Санкт-Петербурге\n",
    "\n",
    "Выясним, как меняется стоимость квадратного метра при удалении от центра города. Для этого составим вспомогательную таблицу с данными только по Санкт-Петербургу и построим графики зависимости медианной и средней цены от расстояния. \n",
    "На этих графиках прослеживается общий тренд снижения цены при удаления от центра, однако есть локальные максимумы, связанные с тем, что в спальных и отдалённых районах активно ведется застройка новостройками разного класса, в том числе элитного. В то же время в центре может присутствовать ветхое бывшее коммунальное жилье, которое имеет невысокую стоимость."
   ]
  },
  {
   "cell_type": "code",
   "execution_count": 173,
   "metadata": {
    "scrolled": false
   },
   "outputs": [
    {
     "data": {
      "text/html": [
       "<div>\n",
       "<style scoped>\n",
       "    .dataframe tbody tr th:only-of-type {\n",
       "        vertical-align: middle;\n",
       "    }\n",
       "\n",
       "    .dataframe tbody tr th {\n",
       "        vertical-align: top;\n",
       "    }\n",
       "\n",
       "    .dataframe thead th {\n",
       "        text-align: right;\n",
       "    }\n",
       "</style>\n",
       "<table border=\"1\" class=\"dataframe\">\n",
       "  <thead>\n",
       "    <tr style=\"text-align: right;\">\n",
       "      <th></th>\n",
       "      <th>total_images</th>\n",
       "      <th>last_price</th>\n",
       "      <th>total_area</th>\n",
       "      <th>first_day_exposition</th>\n",
       "      <th>rooms</th>\n",
       "      <th>ceiling_height</th>\n",
       "      <th>floors_total</th>\n",
       "      <th>living_area</th>\n",
       "      <th>floor</th>\n",
       "      <th>is_apartment</th>\n",
       "      <th>...</th>\n",
       "      <th>ponds_around3000</th>\n",
       "      <th>ponds_nearest</th>\n",
       "      <th>days_exposition</th>\n",
       "      <th>short_locality_name</th>\n",
       "      <th>price_per_metre</th>\n",
       "      <th>week_day</th>\n",
       "      <th>month</th>\n",
       "      <th>year</th>\n",
       "      <th>city_center_km</th>\n",
       "      <th>floor_type</th>\n",
       "    </tr>\n",
       "  </thead>\n",
       "  <tbody>\n",
       "    <tr>\n",
       "      <th>0</th>\n",
       "      <td>20</td>\n",
       "      <td>13000000.0</td>\n",
       "      <td>108.0</td>\n",
       "      <td>2019-03-07</td>\n",
       "      <td>3</td>\n",
       "      <td>2.70</td>\n",
       "      <td>16</td>\n",
       "      <td>51.0</td>\n",
       "      <td>8</td>\n",
       "      <td>True</td>\n",
       "      <td>...</td>\n",
       "      <td>2</td>\n",
       "      <td>755.0</td>\n",
       "      <td>NaN</td>\n",
       "      <td>Санкт-Петербург</td>\n",
       "      <td>120370.0</td>\n",
       "      <td>3</td>\n",
       "      <td>3</td>\n",
       "      <td>2019</td>\n",
       "      <td>16.0</td>\n",
       "      <td>другой</td>\n",
       "    </tr>\n",
       "    <tr>\n",
       "      <th>1</th>\n",
       "      <td>10</td>\n",
       "      <td>5196000.0</td>\n",
       "      <td>56.0</td>\n",
       "      <td>2015-08-20</td>\n",
       "      <td>2</td>\n",
       "      <td>2.70</td>\n",
       "      <td>5</td>\n",
       "      <td>34.3</td>\n",
       "      <td>4</td>\n",
       "      <td>True</td>\n",
       "      <td>...</td>\n",
       "      <td>2</td>\n",
       "      <td>574.0</td>\n",
       "      <td>558.0</td>\n",
       "      <td>Санкт-Петербург</td>\n",
       "      <td>92786.0</td>\n",
       "      <td>3</td>\n",
       "      <td>8</td>\n",
       "      <td>2015</td>\n",
       "      <td>14.0</td>\n",
       "      <td>другой</td>\n",
       "    </tr>\n",
       "    <tr>\n",
       "      <th>2</th>\n",
       "      <td>5</td>\n",
       "      <td>7915000.0</td>\n",
       "      <td>71.6</td>\n",
       "      <td>2019-04-18</td>\n",
       "      <td>2</td>\n",
       "      <td>2.70</td>\n",
       "      <td>24</td>\n",
       "      <td>NaN</td>\n",
       "      <td>22</td>\n",
       "      <td>True</td>\n",
       "      <td>...</td>\n",
       "      <td>0</td>\n",
       "      <td>NaN</td>\n",
       "      <td>NaN</td>\n",
       "      <td>Санкт-Петербург</td>\n",
       "      <td>110545.0</td>\n",
       "      <td>3</td>\n",
       "      <td>4</td>\n",
       "      <td>2019</td>\n",
       "      <td>12.0</td>\n",
       "      <td>другой</td>\n",
       "    </tr>\n",
       "    <tr>\n",
       "      <th>3</th>\n",
       "      <td>18</td>\n",
       "      <td>5400000.0</td>\n",
       "      <td>61.0</td>\n",
       "      <td>2017-02-26</td>\n",
       "      <td>3</td>\n",
       "      <td>2.50</td>\n",
       "      <td>9</td>\n",
       "      <td>43.6</td>\n",
       "      <td>7</td>\n",
       "      <td>True</td>\n",
       "      <td>...</td>\n",
       "      <td>0</td>\n",
       "      <td>NaN</td>\n",
       "      <td>289.0</td>\n",
       "      <td>Санкт-Петербург</td>\n",
       "      <td>88525.0</td>\n",
       "      <td>6</td>\n",
       "      <td>2</td>\n",
       "      <td>2017</td>\n",
       "      <td>15.0</td>\n",
       "      <td>другой</td>\n",
       "    </tr>\n",
       "    <tr>\n",
       "      <th>4</th>\n",
       "      <td>5</td>\n",
       "      <td>5050000.0</td>\n",
       "      <td>39.6</td>\n",
       "      <td>2017-11-16</td>\n",
       "      <td>1</td>\n",
       "      <td>2.67</td>\n",
       "      <td>12</td>\n",
       "      <td>20.3</td>\n",
       "      <td>3</td>\n",
       "      <td>True</td>\n",
       "      <td>...</td>\n",
       "      <td>2</td>\n",
       "      <td>553.0</td>\n",
       "      <td>137.0</td>\n",
       "      <td>Санкт-Петербург</td>\n",
       "      <td>127525.0</td>\n",
       "      <td>3</td>\n",
       "      <td>11</td>\n",
       "      <td>2017</td>\n",
       "      <td>14.0</td>\n",
       "      <td>другой</td>\n",
       "    </tr>\n",
       "  </tbody>\n",
       "</table>\n",
       "<p>5 rows × 29 columns</p>\n",
       "</div>"
      ],
      "text/plain": [
       "   total_images  last_price  total_area first_day_exposition  rooms  \\\n",
       "0            20  13000000.0       108.0           2019-03-07      3   \n",
       "1            10   5196000.0        56.0           2015-08-20      2   \n",
       "2             5   7915000.0        71.6           2019-04-18      2   \n",
       "3            18   5400000.0        61.0           2017-02-26      3   \n",
       "4             5   5050000.0        39.6           2017-11-16      1   \n",
       "\n",
       "   ceiling_height  floors_total  living_area  floor  is_apartment  ...  \\\n",
       "0            2.70            16         51.0      8          True  ...   \n",
       "1            2.70             5         34.3      4          True  ...   \n",
       "2            2.70            24          NaN     22          True  ...   \n",
       "3            2.50             9         43.6      7          True  ...   \n",
       "4            2.67            12         20.3      3          True  ...   \n",
       "\n",
       "   ponds_around3000  ponds_nearest  days_exposition  short_locality_name  \\\n",
       "0                 2          755.0              NaN      Санкт-Петербург   \n",
       "1                 2          574.0            558.0      Санкт-Петербург   \n",
       "2                 0            NaN              NaN      Санкт-Петербург   \n",
       "3                 0            NaN            289.0      Санкт-Петербург   \n",
       "4                 2          553.0            137.0      Санкт-Петербург   \n",
       "\n",
       "  price_per_metre  week_day  month  year  city_center_km  floor_type  \n",
       "0        120370.0         3      3  2019            16.0      другой  \n",
       "1         92786.0         3      8  2015            14.0      другой  \n",
       "2        110545.0         3      4  2019            12.0      другой  \n",
       "3         88525.0         6      2  2017            15.0      другой  \n",
       "4        127525.0         3     11  2017            14.0      другой  \n",
       "\n",
       "[5 rows x 29 columns]"
      ]
     },
     "execution_count": 173,
     "metadata": {},
     "output_type": "execute_result"
    }
   ],
   "source": [
    "data_SP = data_midclass.query('short_locality_name == \"Санкт-Петербург\" and city_center_km>0').reset_index(drop = True)\n",
    "data_SP.head() # таблица данных по Санкт-Петербургу"
   ]
  },
  {
   "cell_type": "code",
   "execution_count": 174,
   "metadata": {
    "scrolled": true
   },
   "outputs": [
    {
     "data": {
      "image/png": "[encoded data removed]",
      "text/plain": [
       "<Figure size 720x216 with 1 Axes>"
      ]
     },
     "metadata": {
      "needs_background": "light"
     },
     "output_type": "display_data"
    },
    {
     "data": {
      "text/plain": [
       "<AxesSubplot:title={'center':'mean_price'}, xlabel='city_center_km'>"
      ]
     },
     "execution_count": 174,
     "metadata": {},
     "output_type": "execute_result"
    },
    {
     "data": {
      "image/png": "[encoded data removed]",
      "text/plain": [
       "<Figure size 720x216 with 1 Axes>"
      ]
     },
     "metadata": {
      "needs_background": "light"
     },
     "output_type": "display_data"
    }
   ],
   "source": [
    "# графики зависимости средней стоимости от расстояния от центра\n",
    "data_SP.groupby('city_center_km')['price_per_metre'].median().plot(title = 'median_price', figsize = (10, 3))\n",
    "plt.show()\n",
    "data_SP.groupby('city_center_km')['price_per_metre'].mean().plot(title = 'mean_price', figsize = (10, 3))"
   ]
  },
  {
   "cell_type": "markdown",
   "metadata": {},
   "source": [
    "**Вывод** На этих графиках прослеживается общий тренд снижения цены при удаления от центра, однако есть локальные максимумы, \n",
    "связанные с тем, что в спальных и отдалённых районах активно ведется застройка новостройками разного класса, в том числе \n",
    "элитного. В то же время в центре может присутствовать ветхое бывшее коммунальное жилье, которое имеет невысокую стоимость."
   ]
  },
  {
   "cell_type": "markdown",
   "metadata": {},
   "source": [
    "## Общий вывод\n",
    "\n"
   ]
  },
  {
   "cell_type": "markdown",
   "metadata": {},
   "source": [
    "Производилось исследование рынка недвижимости Санкт-Петербурга и Ленинградской области. Была проанализирована выборка 2014-2019 гг., содержащая изначально 23700 строк, после очистки и преобразования данных - 21800 с характеристиками по 29 категориям. Очистка проводилась с целью удаления бракованных данных и элитной недвижимости, чтобы не искажать средние значения по рынку. В результате для анализа оставили выборку из 1-6-комнатных квартир и загородную недвижимость площадью до 300 м2.\n",
    "    Были изучены распределения и статистические свойства различных параметров - количественные, качественные и картографические характеристики недвижимости, а также даты и сроки публикации объявлений. \n",
    "     На рынке преобладают стандартные по площади и планировке 1-3х комнатные квартиры в 5 и 9 этажных домах, с высотой потолков 2.7 м, жилой площадью 20-30 м2 и площадью кухни до 12. При этом активно развивается рынок многоэтажных дорогостоящих новостроек на окраине города - ощутимую долю рынка составляют квартиры с большим метражом и в домах с 16-37 этажами. Остаётся также и дореволюционная малоэтажная застойка в центре Санкт-Петербурга с потолками до 4.5 метров. \n",
    "    Средняя стоимость квадратного метра в Санкт-Петербурге - 110 тыс руб. В целом по региону она варьируется от 55 до 110 тыс.руб. Самые дешевые квартиры из крупных городов Ленинградской области в Выборге, Всеволожске и Гатчине. Самый дорогой город области - Пушкин, там стоимость квартир почти не уступает петербургской.   \n",
    "    На формирование окончательной стоимости объекта прямо пропорционально влияют его размеры и планировка(корреляция ~0.7). Расстояние от центра города имеет значение, но нелинейное, хотя в целом для обычных спальных районов имеется тренд к снижению стимости при отдалении от центра. Квартиры на первых и последних этажах в среднем на 15-20 тысяч за метр дешевле(без учета разделения на городскую и загородную недвижимость). В 2015-2016 гг. рынок переживал сильный спад(цена за метр упала примерно на 15 тыс руб), но стоимость почти вышла на докризисные значения к 2019 году. \n",
    "    Абсолютное большинство квартир продаётся в течение 9 месяцев, хотя есть случаи долгосрочных продаж до 5 лет и сверхбыстрых в течение нескольких дней. Наиболее активен рынок по будням и в весенне-осенний период, поэтому средняя стоимость в эти периоды возрастает по сравнению с выходными днями и летом соответственно.\n",
    "    Так как в текущем варианте все параметры имеют очень большой размах, для более точного понимания структуры рынка выборку следует разбить на более узкие категории - загородная недвижимость, элитная, коммерческие апартаменты и т.д. и проанализировать по отдельности. Также желательно привлечь дополнительные параметры, которые обычно указывают в объявлении о продаже - косметическое состояние квартиры, точное местоположение по районам, близость к метро, наличие инфраструктуры.\n",
    "  \n"
   ]
  },
  {
   "cell_type": "code",
   "execution_count": null,
   "metadata": {},
   "outputs": [],
   "source": []
  }
 ],
 "metadata": {
  "ExecuteTimeLog": [
   {
    "duration": 785,
    "start_time": "2023-02-16T12:31:03.242Z"
   },
   {
    "duration": 15,
    "start_time": "2023-02-16T12:32:26.020Z"
   },
   {
    "duration": 151,
    "start_time": "2023-02-16T12:32:47.126Z"
   },
   {
    "duration": 124,
    "start_time": "2023-02-16T12:32:56.375Z"
   },
   {
    "duration": 46,
    "start_time": "2023-02-16T12:33:20.621Z"
   },
   {
    "duration": 11,
    "start_time": "2023-02-16T12:34:50.698Z"
   },
   {
    "duration": 48,
    "start_time": "2023-02-16T18:09:03.927Z"
   },
   {
    "duration": 592,
    "start_time": "2023-02-16T18:09:08.729Z"
   },
   {
    "duration": 36,
    "start_time": "2023-02-16T18:09:09.323Z"
   },
   {
    "duration": 10,
    "start_time": "2023-02-16T18:09:09.360Z"
   },
   {
    "duration": 4,
    "start_time": "2023-02-16T18:09:09.372Z"
   },
   {
    "duration": 5,
    "start_time": "2023-02-16T18:09:12.910Z"
   },
   {
    "duration": 6,
    "start_time": "2023-02-16T18:10:58.250Z"
   },
   {
    "duration": 4,
    "start_time": "2023-02-16T18:11:02.624Z"
   },
   {
    "duration": 3,
    "start_time": "2023-02-16T18:11:05.252Z"
   },
   {
    "duration": 30,
    "start_time": "2023-02-16T18:11:30.341Z"
   },
   {
    "duration": 25,
    "start_time": "2023-02-16T18:16:47.477Z"
   },
   {
    "duration": 35,
    "start_time": "2023-02-16T18:20:39.987Z"
   },
   {
    "duration": 14,
    "start_time": "2023-02-16T18:21:30.999Z"
   },
   {
    "duration": 12,
    "start_time": "2023-02-16T18:21:39.121Z"
   },
   {
    "duration": 1014,
    "start_time": "2023-02-16T18:21:48.469Z"
   },
   {
    "duration": 32,
    "start_time": "2023-02-16T18:21:51.115Z"
   },
   {
    "duration": 9,
    "start_time": "2023-02-16T18:21:52.006Z"
   },
   {
    "duration": 5,
    "start_time": "2023-02-16T18:21:52.872Z"
   },
   {
    "duration": 5,
    "start_time": "2023-02-16T18:21:53.818Z"
   },
   {
    "duration": 816,
    "start_time": "2023-02-16T18:21:54.738Z"
   },
   {
    "duration": 15,
    "start_time": "2023-02-16T18:22:42.385Z"
   },
   {
    "duration": 28,
    "start_time": "2023-02-16T18:22:50.667Z"
   },
   {
    "duration": 10,
    "start_time": "2023-02-16T18:23:26.381Z"
   },
   {
    "duration": 10,
    "start_time": "2023-02-16T18:23:31.644Z"
   },
   {
    "duration": 329,
    "start_time": "2023-02-16T18:24:01.967Z"
   },
   {
    "duration": 26,
    "start_time": "2023-02-16T18:27:17.980Z"
   },
   {
    "duration": 15,
    "start_time": "2023-02-16T18:37:38.417Z"
   },
   {
    "duration": 10,
    "start_time": "2023-02-16T18:38:29.212Z"
   },
   {
    "duration": 111,
    "start_time": "2023-02-16T18:38:51.596Z"
   },
   {
    "duration": 34,
    "start_time": "2023-02-16T18:38:51.709Z"
   },
   {
    "duration": 15,
    "start_time": "2023-02-16T18:38:51.745Z"
   },
   {
    "duration": 8,
    "start_time": "2023-02-16T18:38:51.762Z"
   },
   {
    "duration": 11,
    "start_time": "2023-02-16T18:38:51.772Z"
   },
   {
    "duration": 360,
    "start_time": "2023-02-16T18:38:51.784Z"
   },
   {
    "duration": 45,
    "start_time": "2023-02-16T18:38:52.146Z"
   },
   {
    "duration": 9,
    "start_time": "2023-02-16T18:39:31.831Z"
   },
   {
    "duration": 5,
    "start_time": "2023-02-16T18:40:20.507Z"
   },
   {
    "duration": 17,
    "start_time": "2023-02-16T18:41:11.699Z"
   },
   {
    "duration": 100,
    "start_time": "2023-02-16T18:42:12.800Z"
   },
   {
    "duration": 34,
    "start_time": "2023-02-16T18:42:13.466Z"
   },
   {
    "duration": 11,
    "start_time": "2023-02-16T18:42:14.963Z"
   },
   {
    "duration": 5,
    "start_time": "2023-02-16T18:42:15.985Z"
   },
   {
    "duration": 6,
    "start_time": "2023-02-16T18:42:16.914Z"
   },
   {
    "duration": 291,
    "start_time": "2023-02-16T18:42:17.907Z"
   },
   {
    "duration": 13,
    "start_time": "2023-02-16T18:42:19.155Z"
   },
   {
    "duration": 14,
    "start_time": "2023-02-16T18:42:30.664Z"
   },
   {
    "duration": 9,
    "start_time": "2023-02-16T18:43:00.310Z"
   },
   {
    "duration": 718,
    "start_time": "2023-02-16T18:46:05.487Z"
   },
   {
    "duration": 12,
    "start_time": "2023-02-16T18:47:26.184Z"
   },
   {
    "duration": 78,
    "start_time": "2023-02-16T18:47:34.135Z"
   },
   {
    "duration": 84,
    "start_time": "2023-02-16T18:47:45.374Z"
   },
   {
    "duration": 100,
    "start_time": "2023-02-16T18:47:53.137Z"
   },
   {
    "duration": 30,
    "start_time": "2023-02-16T18:47:53.239Z"
   },
   {
    "duration": 58,
    "start_time": "2023-02-16T18:47:53.271Z"
   },
   {
    "duration": 65,
    "start_time": "2023-02-16T18:47:53.331Z"
   },
   {
    "duration": 61,
    "start_time": "2023-02-16T18:47:53.397Z"
   },
   {
    "duration": 394,
    "start_time": "2023-02-16T18:47:53.460Z"
   },
   {
    "duration": 26,
    "start_time": "2023-02-16T18:47:53.856Z"
   },
   {
    "duration": 95,
    "start_time": "2023-02-16T18:47:53.883Z"
   },
   {
    "duration": 58,
    "start_time": "2023-02-16T18:48:02.087Z"
   },
   {
    "duration": 73,
    "start_time": "2023-02-16T18:50:32.067Z"
   },
   {
    "duration": 67,
    "start_time": "2023-02-16T18:50:40.582Z"
   },
   {
    "duration": 61,
    "start_time": "2023-02-16T18:52:46.078Z"
   },
   {
    "duration": 61,
    "start_time": "2023-02-16T18:53:44.836Z"
   },
   {
    "duration": 153,
    "start_time": "2023-02-16T18:56:34.800Z"
   },
   {
    "duration": 65,
    "start_time": "2023-02-16T18:57:03.957Z"
   },
   {
    "duration": 60,
    "start_time": "2023-02-16T18:57:10.092Z"
   },
   {
    "duration": 59,
    "start_time": "2023-02-16T18:58:37.093Z"
   },
   {
    "duration": 65,
    "start_time": "2023-02-16T18:58:59.727Z"
   },
   {
    "duration": 6,
    "start_time": "2023-02-16T18:59:31.735Z"
   },
   {
    "duration": 5,
    "start_time": "2023-02-16T18:59:46.319Z"
   },
   {
    "duration": 44,
    "start_time": "2023-02-16T19:02:42.784Z"
   },
   {
    "duration": 84,
    "start_time": "2023-02-16T19:02:52.825Z"
   },
   {
    "duration": 177,
    "start_time": "2023-02-16T19:03:18.153Z"
   },
   {
    "duration": 253,
    "start_time": "2023-02-16T19:03:52.026Z"
   },
   {
    "duration": 12,
    "start_time": "2023-02-16T19:05:01.707Z"
   },
   {
    "duration": 6,
    "start_time": "2023-02-16T19:06:21.693Z"
   },
   {
    "duration": 6,
    "start_time": "2023-02-16T19:06:47.635Z"
   },
   {
    "duration": 7,
    "start_time": "2023-02-16T19:08:33.410Z"
   },
   {
    "duration": 31,
    "start_time": "2023-02-16T19:08:40.371Z"
   },
   {
    "duration": 37,
    "start_time": "2023-02-16T19:09:29.935Z"
   },
   {
    "duration": 8,
    "start_time": "2023-02-16T19:11:01.807Z"
   },
   {
    "duration": 44,
    "start_time": "2023-02-16T19:11:06.471Z"
   },
   {
    "duration": 1627,
    "start_time": "2023-02-16T19:12:15.973Z"
   },
   {
    "duration": 1515,
    "start_time": "2023-02-16T19:12:34.946Z"
   },
   {
    "duration": 1614,
    "start_time": "2023-02-16T19:12:52.713Z"
   },
   {
    "duration": 1845,
    "start_time": "2023-02-16T19:13:04.788Z"
   },
   {
    "duration": 2578,
    "start_time": "2023-02-16T19:13:45.331Z"
   },
   {
    "duration": 17,
    "start_time": "2023-02-16T19:17:52.844Z"
   },
   {
    "duration": 535,
    "start_time": "2023-02-16T19:21:04.926Z"
   },
   {
    "duration": 335,
    "start_time": "2023-02-16T19:22:17.101Z"
   },
   {
    "duration": 350,
    "start_time": "2023-02-16T19:22:23.828Z"
   },
   {
    "duration": 6,
    "start_time": "2023-02-16T19:22:30.860Z"
   },
   {
    "duration": 36,
    "start_time": "2023-02-16T19:22:37.149Z"
   },
   {
    "duration": 8,
    "start_time": "2023-02-16T19:25:11.874Z"
   },
   {
    "duration": 6,
    "start_time": "2023-02-16T19:25:25.102Z"
   },
   {
    "duration": 331,
    "start_time": "2023-02-16T19:25:28.714Z"
   },
   {
    "duration": 41,
    "start_time": "2023-02-16T19:26:58.807Z"
   },
   {
    "duration": 325,
    "start_time": "2023-02-16T19:27:00.465Z"
   },
   {
    "duration": 52,
    "start_time": "2023-02-16T19:27:31.433Z"
   },
   {
    "duration": 23,
    "start_time": "2023-02-16T19:30:41.541Z"
   },
   {
    "duration": 8,
    "start_time": "2023-02-16T19:31:32.258Z"
   },
   {
    "duration": 334,
    "start_time": "2023-02-16T19:31:32.268Z"
   },
   {
    "duration": 25,
    "start_time": "2023-02-16T19:31:32.603Z"
   },
   {
    "duration": 52,
    "start_time": "2023-02-16T19:31:32.630Z"
   },
   {
    "duration": 7517,
    "start_time": "2023-02-16T19:31:32.683Z"
   },
   {
    "duration": 48003,
    "start_time": "2023-02-16T19:31:40.202Z"
   },
   {
    "duration": 61,
    "start_time": "2023-02-16T19:32:28.208Z"
   },
   {
    "duration": 2299,
    "start_time": "2023-02-16T19:32:28.413Z"
   },
   {
    "duration": 10,
    "start_time": "2023-02-16T19:32:30.714Z"
   },
   {
    "duration": 49,
    "start_time": "2023-02-16T19:32:30.726Z"
   },
   {
    "duration": 137,
    "start_time": "2023-02-16T19:32:30.777Z"
   },
   {
    "duration": 39,
    "start_time": "2023-02-16T19:32:30.916Z"
   },
   {
    "duration": 110,
    "start_time": "2023-02-16T20:02:33.482Z"
   },
   {
    "duration": 47,
    "start_time": "2023-02-16T20:02:33.596Z"
   },
   {
    "duration": 2772,
    "start_time": "2023-02-16T20:03:04.081Z"
   },
   {
    "duration": 5,
    "start_time": "2023-02-16T20:04:35.317Z"
   },
   {
    "duration": 6,
    "start_time": "2023-02-16T20:04:36.259Z"
   },
   {
    "duration": 385,
    "start_time": "2023-02-16T20:04:37.420Z"
   },
   {
    "duration": 27,
    "start_time": "2023-02-16T20:04:39.397Z"
   },
   {
    "duration": 38,
    "start_time": "2023-02-16T20:04:40.714Z"
   },
   {
    "duration": 317,
    "start_time": "2023-02-16T20:04:44.892Z"
   },
   {
    "duration": 30,
    "start_time": "2023-02-16T20:07:02.989Z"
   },
   {
    "duration": 7045,
    "start_time": "2023-02-16T20:07:17.891Z"
   },
   {
    "duration": 7627,
    "start_time": "2023-02-16T20:08:20.105Z"
   },
   {
    "duration": 47845,
    "start_time": "2023-02-16T20:08:27.734Z"
   },
   {
    "duration": 7395,
    "start_time": "2023-02-16T20:09:27.238Z"
   },
   {
    "duration": 7297,
    "start_time": "2023-02-16T20:09:47.976Z"
   },
   {
    "duration": 51572,
    "start_time": "2023-02-16T20:09:55.276Z"
   },
   {
    "duration": 6,
    "start_time": "2023-02-16T20:11:28.811Z"
   },
   {
    "duration": 7,
    "start_time": "2023-02-16T20:16:38.031Z"
   },
   {
    "duration": 12,
    "start_time": "2023-02-16T20:17:47.486Z"
   },
   {
    "duration": 9,
    "start_time": "2023-02-16T20:17:58.391Z"
   },
   {
    "duration": 8,
    "start_time": "2023-02-16T20:18:13.482Z"
   },
   {
    "duration": 10,
    "start_time": "2023-02-16T20:19:36.732Z"
   },
   {
    "duration": 52,
    "start_time": "2023-02-16T20:25:33.967Z"
   },
   {
    "duration": 50,
    "start_time": "2023-02-16T20:25:47.271Z"
   },
   {
    "duration": 16,
    "start_time": "2023-02-16T20:26:39.617Z"
   },
   {
    "duration": 17,
    "start_time": "2023-02-16T20:27:47.092Z"
   },
   {
    "duration": 11,
    "start_time": "2023-02-16T20:28:01.980Z"
   },
   {
    "duration": 24,
    "start_time": "2023-02-16T20:28:37.154Z"
   },
   {
    "duration": 24,
    "start_time": "2023-02-16T20:28:48.893Z"
   },
   {
    "duration": 60,
    "start_time": "2023-02-16T21:12:07.887Z"
   },
   {
    "duration": 11,
    "start_time": "2023-02-16T21:12:24.079Z"
   },
   {
    "duration": 5572,
    "start_time": "2023-02-16T21:12:49.705Z"
   },
   {
    "duration": 1106,
    "start_time": "2023-02-16T21:19:34.446Z"
   },
   {
    "duration": 2121,
    "start_time": "2023-02-17T13:15:04.181Z"
   },
   {
    "duration": 31,
    "start_time": "2023-02-17T13:15:06.303Z"
   },
   {
    "duration": 2230,
    "start_time": "2023-02-17T13:15:06.336Z"
   },
   {
    "duration": 9,
    "start_time": "2023-02-17T13:15:08.569Z"
   },
   {
    "duration": 5,
    "start_time": "2023-02-17T13:15:08.579Z"
   },
   {
    "duration": 11,
    "start_time": "2023-02-17T13:15:08.585Z"
   },
   {
    "duration": 291,
    "start_time": "2023-02-17T13:15:08.597Z"
   },
   {
    "duration": 24,
    "start_time": "2023-02-17T13:15:08.889Z"
   },
   {
    "duration": 53,
    "start_time": "2023-02-17T13:15:08.914Z"
   },
   {
    "duration": 28,
    "start_time": "2023-02-17T13:15:08.969Z"
   },
   {
    "duration": 1488,
    "start_time": "2023-02-17T13:18:27.834Z"
   },
   {
    "duration": 29,
    "start_time": "2023-02-17T13:18:29.325Z"
   },
   {
    "duration": 2270,
    "start_time": "2023-02-17T13:18:29.356Z"
   },
   {
    "duration": 10,
    "start_time": "2023-02-17T13:18:31.629Z"
   },
   {
    "duration": 15,
    "start_time": "2023-02-17T13:18:31.641Z"
   },
   {
    "duration": 12,
    "start_time": "2023-02-17T13:18:31.658Z"
   },
   {
    "duration": 285,
    "start_time": "2023-02-17T13:18:31.671Z"
   },
   {
    "duration": 25,
    "start_time": "2023-02-17T13:18:31.960Z"
   },
   {
    "duration": 40,
    "start_time": "2023-02-17T13:18:31.986Z"
   },
   {
    "duration": 43,
    "start_time": "2023-02-17T13:18:32.028Z"
   },
   {
    "duration": 93,
    "start_time": "2023-02-17T13:18:36.051Z"
   },
   {
    "duration": 3,
    "start_time": "2023-02-17T13:18:42.517Z"
   },
   {
    "duration": 3,
    "start_time": "2023-02-17T13:18:43.377Z"
   },
   {
    "duration": 17,
    "start_time": "2023-02-17T13:22:54.120Z"
   },
   {
    "duration": 16,
    "start_time": "2023-02-17T13:22:58.703Z"
   },
   {
    "duration": 31,
    "start_time": "2023-02-17T13:23:22.426Z"
   },
   {
    "duration": 87,
    "start_time": "2023-02-17T13:32:57.076Z"
   },
   {
    "duration": 11,
    "start_time": "2023-02-17T13:37:07.535Z"
   },
   {
    "duration": 23,
    "start_time": "2023-02-17T13:37:57.386Z"
   },
   {
    "duration": 25,
    "start_time": "2023-02-17T13:38:47.040Z"
   },
   {
    "duration": 20,
    "start_time": "2023-02-17T13:39:14.148Z"
   },
   {
    "duration": 8,
    "start_time": "2023-02-17T13:39:32.150Z"
   },
   {
    "duration": 90,
    "start_time": "2023-02-17T13:43:07.477Z"
   },
   {
    "duration": 96,
    "start_time": "2023-02-17T13:43:56.478Z"
   },
   {
    "duration": 8,
    "start_time": "2023-02-17T13:44:07.799Z"
   },
   {
    "duration": 11,
    "start_time": "2023-02-17T13:44:23.614Z"
   },
   {
    "duration": 124,
    "start_time": "2023-02-17T13:51:47.776Z"
   },
   {
    "duration": 9,
    "start_time": "2023-02-17T13:54:25.175Z"
   },
   {
    "duration": 85,
    "start_time": "2023-02-17T13:54:47.400Z"
   },
   {
    "duration": 9,
    "start_time": "2023-02-17T13:54:53.559Z"
   },
   {
    "duration": 12,
    "start_time": "2023-02-17T13:57:54.212Z"
   },
   {
    "duration": 9,
    "start_time": "2023-02-17T13:58:10.206Z"
   },
   {
    "duration": 13,
    "start_time": "2023-02-17T13:58:11.021Z"
   },
   {
    "duration": 10,
    "start_time": "2023-02-17T13:58:15.397Z"
   },
   {
    "duration": 11,
    "start_time": "2023-02-17T13:58:15.973Z"
   },
   {
    "duration": 10,
    "start_time": "2023-02-17T13:58:16.617Z"
   },
   {
    "duration": 9,
    "start_time": "2023-02-17T13:58:17.085Z"
   },
   {
    "duration": 124,
    "start_time": "2023-02-17T13:58:23.105Z"
   },
   {
    "duration": 35,
    "start_time": "2023-02-17T13:58:23.231Z"
   },
   {
    "duration": 2340,
    "start_time": "2023-02-17T13:58:23.268Z"
   },
   {
    "duration": 9,
    "start_time": "2023-02-17T13:58:25.609Z"
   },
   {
    "duration": 13,
    "start_time": "2023-02-17T13:58:25.620Z"
   },
   {
    "duration": 12,
    "start_time": "2023-02-17T13:58:25.635Z"
   },
   {
    "duration": 313,
    "start_time": "2023-02-17T13:58:25.648Z"
   },
   {
    "duration": 27,
    "start_time": "2023-02-17T13:58:25.963Z"
   },
   {
    "duration": 39,
    "start_time": "2023-02-17T13:58:25.994Z"
   },
   {
    "duration": 34,
    "start_time": "2023-02-17T13:58:26.035Z"
   },
   {
    "duration": 5,
    "start_time": "2023-02-17T13:58:26.070Z"
   },
   {
    "duration": 35,
    "start_time": "2023-02-17T13:58:26.076Z"
   },
   {
    "duration": 36,
    "start_time": "2023-02-17T13:58:43.904Z"
   },
   {
    "duration": 34,
    "start_time": "2023-02-17T13:58:52.272Z"
   },
   {
    "duration": 25,
    "start_time": "2023-02-17T13:59:00.352Z"
   },
   {
    "duration": 1366,
    "start_time": "2023-02-17T18:12:53.470Z"
   },
   {
    "duration": 30,
    "start_time": "2023-02-17T18:12:54.838Z"
   },
   {
    "duration": 2175,
    "start_time": "2023-02-17T18:12:54.869Z"
   },
   {
    "duration": 11,
    "start_time": "2023-02-17T18:12:57.047Z"
   },
   {
    "duration": 7,
    "start_time": "2023-02-17T18:12:57.060Z"
   },
   {
    "duration": 8,
    "start_time": "2023-02-17T18:12:57.068Z"
   },
   {
    "duration": 302,
    "start_time": "2023-02-17T18:12:57.078Z"
   },
   {
    "duration": 30,
    "start_time": "2023-02-17T18:12:57.381Z"
   },
   {
    "duration": 37,
    "start_time": "2023-02-17T18:12:57.412Z"
   },
   {
    "duration": 20,
    "start_time": "2023-02-17T18:12:57.450Z"
   },
   {
    "duration": 4,
    "start_time": "2023-02-17T18:12:57.472Z"
   },
   {
    "duration": 97,
    "start_time": "2023-02-17T18:13:09.006Z"
   },
   {
    "duration": 26,
    "start_time": "2023-02-17T18:13:09.105Z"
   },
   {
    "duration": 2112,
    "start_time": "2023-02-17T18:13:09.133Z"
   },
   {
    "duration": 9,
    "start_time": "2023-02-17T18:13:11.246Z"
   },
   {
    "duration": 5,
    "start_time": "2023-02-17T18:13:11.257Z"
   },
   {
    "duration": 5,
    "start_time": "2023-02-17T18:13:11.263Z"
   },
   {
    "duration": 289,
    "start_time": "2023-02-17T18:13:11.270Z"
   },
   {
    "duration": 24,
    "start_time": "2023-02-17T18:13:11.561Z"
   },
   {
    "duration": 45,
    "start_time": "2023-02-17T18:13:11.586Z"
   },
   {
    "duration": 18,
    "start_time": "2023-02-17T18:13:11.632Z"
   },
   {
    "duration": 3,
    "start_time": "2023-02-17T18:13:11.652Z"
   },
   {
    "duration": 134,
    "start_time": "2023-02-17T18:13:11.748Z"
   },
   {
    "duration": 33,
    "start_time": "2023-02-17T18:13:24.663Z"
   },
   {
    "duration": 285,
    "start_time": "2023-02-17T18:13:31.198Z"
   },
   {
    "duration": 10,
    "start_time": "2023-02-17T18:14:26.707Z"
   },
   {
    "duration": 17,
    "start_time": "2023-02-17T18:14:29.840Z"
   },
   {
    "duration": 12,
    "start_time": "2023-02-17T18:14:31.312Z"
   },
   {
    "duration": 10,
    "start_time": "2023-02-17T18:16:26.180Z"
   },
   {
    "duration": 4,
    "start_time": "2023-02-17T18:16:35.114Z"
   },
   {
    "duration": 14,
    "start_time": "2023-02-17T18:16:36.821Z"
   },
   {
    "duration": 196,
    "start_time": "2023-02-17T18:16:53.368Z"
   },
   {
    "duration": 28,
    "start_time": "2023-02-17T18:16:53.566Z"
   },
   {
    "duration": 2216,
    "start_time": "2023-02-17T18:16:53.595Z"
   },
   {
    "duration": 8,
    "start_time": "2023-02-17T18:16:55.813Z"
   },
   {
    "duration": 4,
    "start_time": "2023-02-17T18:16:55.823Z"
   },
   {
    "duration": 13,
    "start_time": "2023-02-17T18:16:55.828Z"
   },
   {
    "duration": 280,
    "start_time": "2023-02-17T18:16:55.842Z"
   },
   {
    "duration": 22,
    "start_time": "2023-02-17T18:16:56.124Z"
   },
   {
    "duration": 34,
    "start_time": "2023-02-17T18:16:56.148Z"
   },
   {
    "duration": 33,
    "start_time": "2023-02-17T18:16:56.184Z"
   },
   {
    "duration": 3,
    "start_time": "2023-02-17T18:16:56.218Z"
   },
   {
    "duration": 4,
    "start_time": "2023-02-17T18:17:04.262Z"
   },
   {
    "duration": 33,
    "start_time": "2023-02-17T18:17:04.829Z"
   },
   {
    "duration": 8,
    "start_time": "2023-02-17T18:17:11.262Z"
   },
   {
    "duration": 5,
    "start_time": "2023-02-17T18:17:12.125Z"
   },
   {
    "duration": 32,
    "start_time": "2023-02-17T18:17:14.727Z"
   },
   {
    "duration": 7,
    "start_time": "2023-02-17T18:17:43.271Z"
   },
   {
    "duration": 32,
    "start_time": "2023-02-17T18:17:44.038Z"
   },
   {
    "duration": 274,
    "start_time": "2023-02-17T18:17:49.743Z"
   },
   {
    "duration": 43007,
    "start_time": "2023-02-17T18:27:51.611Z"
   },
   {
    "duration": 9,
    "start_time": "2023-02-17T18:29:29.681Z"
   },
   {
    "duration": 43,
    "start_time": "2023-02-17T18:34:35.826Z"
   },
   {
    "duration": 4,
    "start_time": "2023-02-17T18:37:24.103Z"
   },
   {
    "duration": 295,
    "start_time": "2023-02-17T18:37:26.391Z"
   },
   {
    "duration": 25,
    "start_time": "2023-02-17T18:37:29.216Z"
   },
   {
    "duration": 34,
    "start_time": "2023-02-17T18:37:31.798Z"
   },
   {
    "duration": 19,
    "start_time": "2023-02-17T18:37:33.495Z"
   },
   {
    "duration": 4,
    "start_time": "2023-02-17T18:38:08.496Z"
   },
   {
    "duration": 36,
    "start_time": "2023-02-17T18:38:09.162Z"
   },
   {
    "duration": 8,
    "start_time": "2023-02-17T18:38:12.883Z"
   },
   {
    "duration": 5,
    "start_time": "2023-02-17T18:38:13.456Z"
   },
   {
    "duration": 34,
    "start_time": "2023-02-17T18:38:16.472Z"
   },
   {
    "duration": 4928,
    "start_time": "2023-02-17T18:38:17.837Z"
   },
   {
    "duration": 5,
    "start_time": "2023-02-17T18:38:36.570Z"
   },
   {
    "duration": 34,
    "start_time": "2023-02-17T18:38:37.009Z"
   },
   {
    "duration": 4804,
    "start_time": "2023-02-17T18:38:37.674Z"
   },
   {
    "duration": 11,
    "start_time": "2023-02-17T18:38:49.410Z"
   },
   {
    "duration": 10,
    "start_time": "2023-02-17T18:38:51.445Z"
   },
   {
    "duration": 17,
    "start_time": "2023-02-17T18:39:00.686Z"
   },
   {
    "duration": 1437,
    "start_time": "2023-02-19T20:21:47.364Z"
   },
   {
    "duration": 0,
    "start_time": "2023-02-19T20:21:48.805Z"
   },
   {
    "duration": 0,
    "start_time": "2023-02-19T20:21:48.806Z"
   },
   {
    "duration": 0,
    "start_time": "2023-02-19T20:21:48.807Z"
   },
   {
    "duration": 0,
    "start_time": "2023-02-19T20:21:48.808Z"
   },
   {
    "duration": 0,
    "start_time": "2023-02-19T20:21:48.809Z"
   },
   {
    "duration": 0,
    "start_time": "2023-02-19T20:21:48.810Z"
   },
   {
    "duration": 0,
    "start_time": "2023-02-19T20:21:48.811Z"
   },
   {
    "duration": 0,
    "start_time": "2023-02-19T20:21:48.812Z"
   },
   {
    "duration": 0,
    "start_time": "2023-02-19T20:21:48.813Z"
   },
   {
    "duration": 0,
    "start_time": "2023-02-19T20:21:48.815Z"
   },
   {
    "duration": 0,
    "start_time": "2023-02-19T20:21:48.816Z"
   },
   {
    "duration": 0,
    "start_time": "2023-02-19T20:21:48.817Z"
   },
   {
    "duration": 0,
    "start_time": "2023-02-19T20:21:48.840Z"
   },
   {
    "duration": 0,
    "start_time": "2023-02-19T20:21:48.842Z"
   },
   {
    "duration": 0,
    "start_time": "2023-02-19T20:21:48.843Z"
   },
   {
    "duration": 0,
    "start_time": "2023-02-19T20:21:48.845Z"
   },
   {
    "duration": 0,
    "start_time": "2023-02-19T20:21:48.846Z"
   },
   {
    "duration": 0,
    "start_time": "2023-02-19T20:21:48.848Z"
   },
   {
    "duration": 0,
    "start_time": "2023-02-19T20:21:48.849Z"
   },
   {
    "duration": 0,
    "start_time": "2023-02-19T20:21:48.851Z"
   },
   {
    "duration": 0,
    "start_time": "2023-02-19T20:21:48.852Z"
   },
   {
    "duration": 0,
    "start_time": "2023-02-19T20:21:48.853Z"
   },
   {
    "duration": 0,
    "start_time": "2023-02-19T20:21:48.855Z"
   },
   {
    "duration": 0,
    "start_time": "2023-02-19T20:21:48.856Z"
   },
   {
    "duration": 0,
    "start_time": "2023-02-19T20:21:48.857Z"
   },
   {
    "duration": 0,
    "start_time": "2023-02-19T20:21:48.858Z"
   },
   {
    "duration": 0,
    "start_time": "2023-02-19T20:21:48.860Z"
   },
   {
    "duration": 0,
    "start_time": "2023-02-19T20:21:48.861Z"
   },
   {
    "duration": 0,
    "start_time": "2023-02-19T20:21:48.863Z"
   },
   {
    "duration": 0,
    "start_time": "2023-02-19T20:21:48.864Z"
   },
   {
    "duration": 0,
    "start_time": "2023-02-19T20:21:48.865Z"
   },
   {
    "duration": 0,
    "start_time": "2023-02-19T20:21:48.866Z"
   },
   {
    "duration": 0,
    "start_time": "2023-02-19T20:21:48.867Z"
   },
   {
    "duration": 0,
    "start_time": "2023-02-19T20:21:48.869Z"
   },
   {
    "duration": 0,
    "start_time": "2023-02-19T20:21:48.870Z"
   },
   {
    "duration": 0,
    "start_time": "2023-02-19T20:21:48.871Z"
   },
   {
    "duration": 0,
    "start_time": "2023-02-19T20:21:48.872Z"
   },
   {
    "duration": 0,
    "start_time": "2023-02-19T20:21:48.873Z"
   },
   {
    "duration": 0,
    "start_time": "2023-02-19T20:21:48.874Z"
   },
   {
    "duration": 0,
    "start_time": "2023-02-19T20:21:48.876Z"
   },
   {
    "duration": 0,
    "start_time": "2023-02-19T20:21:48.877Z"
   },
   {
    "duration": 0,
    "start_time": "2023-02-19T20:21:48.878Z"
   },
   {
    "duration": 0,
    "start_time": "2023-02-19T20:21:48.879Z"
   },
   {
    "duration": 0,
    "start_time": "2023-02-19T20:21:48.940Z"
   },
   {
    "duration": 0,
    "start_time": "2023-02-19T20:21:48.941Z"
   },
   {
    "duration": 0,
    "start_time": "2023-02-19T20:21:48.942Z"
   },
   {
    "duration": 0,
    "start_time": "2023-02-19T20:21:48.943Z"
   },
   {
    "duration": 0,
    "start_time": "2023-02-19T20:21:48.944Z"
   },
   {
    "duration": 0,
    "start_time": "2023-02-19T20:21:48.945Z"
   },
   {
    "duration": 0,
    "start_time": "2023-02-19T20:21:48.946Z"
   },
   {
    "duration": 0,
    "start_time": "2023-02-19T20:21:48.948Z"
   },
   {
    "duration": 0,
    "start_time": "2023-02-19T20:21:48.949Z"
   },
   {
    "duration": 0,
    "start_time": "2023-02-19T20:21:48.951Z"
   },
   {
    "duration": 0,
    "start_time": "2023-02-19T20:21:48.952Z"
   },
   {
    "duration": 0,
    "start_time": "2023-02-19T20:21:48.954Z"
   },
   {
    "duration": 0,
    "start_time": "2023-02-19T20:21:48.955Z"
   },
   {
    "duration": 0,
    "start_time": "2023-02-19T20:21:48.956Z"
   },
   {
    "duration": 0,
    "start_time": "2023-02-19T20:21:48.958Z"
   },
   {
    "duration": 0,
    "start_time": "2023-02-19T20:21:48.959Z"
   },
   {
    "duration": 0,
    "start_time": "2023-02-19T20:21:48.960Z"
   },
   {
    "duration": 0,
    "start_time": "2023-02-19T20:21:48.961Z"
   },
   {
    "duration": 0,
    "start_time": "2023-02-19T20:21:48.962Z"
   },
   {
    "duration": 0,
    "start_time": "2023-02-19T20:21:48.963Z"
   },
   {
    "duration": 0,
    "start_time": "2023-02-19T20:21:48.964Z"
   },
   {
    "duration": 0,
    "start_time": "2023-02-19T20:21:48.964Z"
   },
   {
    "duration": 0,
    "start_time": "2023-02-19T20:21:48.965Z"
   },
   {
    "duration": 0,
    "start_time": "2023-02-19T20:21:48.966Z"
   },
   {
    "duration": 0,
    "start_time": "2023-02-19T20:21:48.967Z"
   },
   {
    "duration": 0,
    "start_time": "2023-02-19T20:21:48.968Z"
   },
   {
    "duration": 0,
    "start_time": "2023-02-19T20:21:48.969Z"
   },
   {
    "duration": 0,
    "start_time": "2023-02-19T20:21:48.971Z"
   },
   {
    "duration": 0,
    "start_time": "2023-02-19T20:21:48.972Z"
   },
   {
    "duration": 0,
    "start_time": "2023-02-19T20:21:48.974Z"
   },
   {
    "duration": 0,
    "start_time": "2023-02-19T20:21:48.975Z"
   },
   {
    "duration": 0,
    "start_time": "2023-02-19T20:21:48.976Z"
   },
   {
    "duration": 0,
    "start_time": "2023-02-19T20:21:49.040Z"
   },
   {
    "duration": 0,
    "start_time": "2023-02-19T20:21:49.042Z"
   },
   {
    "duration": 0,
    "start_time": "2023-02-19T20:21:49.045Z"
   },
   {
    "duration": 0,
    "start_time": "2023-02-19T20:21:49.046Z"
   },
   {
    "duration": 0,
    "start_time": "2023-02-19T20:21:49.048Z"
   },
   {
    "duration": 0,
    "start_time": "2023-02-19T20:21:49.049Z"
   },
   {
    "duration": 0,
    "start_time": "2023-02-19T20:21:49.050Z"
   },
   {
    "duration": 0,
    "start_time": "2023-02-19T20:21:49.052Z"
   },
   {
    "duration": 1699,
    "start_time": "2023-02-19T21:36:12.959Z"
   },
   {
    "duration": 32,
    "start_time": "2023-02-19T21:36:14.660Z"
   },
   {
    "duration": 2355,
    "start_time": "2023-02-19T21:36:14.693Z"
   },
   {
    "duration": 9,
    "start_time": "2023-02-19T21:36:17.050Z"
   },
   {
    "duration": 10,
    "start_time": "2023-02-19T21:36:17.060Z"
   },
   {
    "duration": 4,
    "start_time": "2023-02-19T21:36:17.072Z"
   },
   {
    "duration": 10,
    "start_time": "2023-02-19T21:36:17.077Z"
   },
   {
    "duration": 18,
    "start_time": "2023-02-19T21:36:17.089Z"
   },
   {
    "duration": 4,
    "start_time": "2023-02-19T21:36:17.109Z"
   },
   {
    "duration": 13,
    "start_time": "2023-02-19T21:36:17.116Z"
   },
   {
    "duration": 41,
    "start_time": "2023-02-19T21:36:17.131Z"
   },
   {
    "duration": 124,
    "start_time": "2023-02-19T21:36:17.174Z"
   },
   {
    "duration": 12,
    "start_time": "2023-02-19T21:36:17.300Z"
   },
   {
    "duration": 25,
    "start_time": "2023-02-19T21:36:17.313Z"
   },
   {
    "duration": 8,
    "start_time": "2023-02-19T21:36:17.339Z"
   },
   {
    "duration": 44,
    "start_time": "2023-02-19T21:36:17.348Z"
   },
   {
    "duration": 97,
    "start_time": "2023-02-19T21:36:17.394Z"
   },
   {
    "duration": 12,
    "start_time": "2023-02-19T21:36:17.493Z"
   },
   {
    "duration": 114,
    "start_time": "2023-02-19T21:36:17.507Z"
   },
   {
    "duration": 108,
    "start_time": "2023-02-19T21:36:17.623Z"
   },
   {
    "duration": 7,
    "start_time": "2023-02-19T21:36:17.733Z"
   },
   {
    "duration": 8,
    "start_time": "2023-02-19T21:36:17.741Z"
   },
   {
    "duration": 54,
    "start_time": "2023-02-19T21:36:17.751Z"
   },
   {
    "duration": 4,
    "start_time": "2023-02-19T21:36:17.807Z"
   },
   {
    "duration": 12,
    "start_time": "2023-02-19T21:36:17.813Z"
   },
   {
    "duration": 41,
    "start_time": "2023-02-19T21:36:17.827Z"
   },
   {
    "duration": 169,
    "start_time": "2023-02-19T21:36:17.870Z"
   },
   {
    "duration": 43958,
    "start_time": "2023-02-19T21:36:18.043Z"
   },
   {
    "duration": 12,
    "start_time": "2023-02-19T21:37:02.002Z"
   },
   {
    "duration": 8,
    "start_time": "2023-02-19T21:37:02.015Z"
   },
   {
    "duration": 10,
    "start_time": "2023-02-19T21:37:02.024Z"
   },
   {
    "duration": 18264,
    "start_time": "2023-02-19T21:37:02.036Z"
   },
   {
    "duration": 8,
    "start_time": "2023-02-19T21:37:20.301Z"
   },
   {
    "duration": 25,
    "start_time": "2023-02-19T21:37:20.311Z"
   },
   {
    "duration": 22,
    "start_time": "2023-02-19T21:37:20.337Z"
   },
   {
    "duration": 31,
    "start_time": "2023-02-19T21:37:20.361Z"
   },
   {
    "duration": 13,
    "start_time": "2023-02-19T21:37:20.393Z"
   },
   {
    "duration": 7,
    "start_time": "2023-02-19T21:37:20.407Z"
   },
   {
    "duration": 338,
    "start_time": "2023-02-19T21:37:20.415Z"
   },
   {
    "duration": 22,
    "start_time": "2023-02-19T21:37:20.755Z"
   },
   {
    "duration": 24,
    "start_time": "2023-02-19T21:37:20.778Z"
   },
   {
    "duration": 155,
    "start_time": "2023-02-19T21:37:20.803Z"
   },
   {
    "duration": 8,
    "start_time": "2023-02-19T21:37:20.960Z"
   },
   {
    "duration": 163,
    "start_time": "2023-02-19T21:37:20.969Z"
   },
   {
    "duration": 9,
    "start_time": "2023-02-19T21:37:21.134Z"
   },
   {
    "duration": 156,
    "start_time": "2023-02-19T21:37:21.144Z"
   },
   {
    "duration": 8,
    "start_time": "2023-02-19T21:37:21.302Z"
   },
   {
    "duration": 161,
    "start_time": "2023-02-19T21:37:21.311Z"
   },
   {
    "duration": 122,
    "start_time": "2023-02-19T21:37:21.474Z"
   },
   {
    "duration": 8,
    "start_time": "2023-02-19T21:37:21.598Z"
   },
   {
    "duration": 135,
    "start_time": "2023-02-19T21:37:21.608Z"
   },
   {
    "duration": 8,
    "start_time": "2023-02-19T21:37:21.744Z"
   },
   {
    "duration": 293,
    "start_time": "2023-02-19T21:37:21.753Z"
   },
   {
    "duration": 9,
    "start_time": "2023-02-19T21:37:22.047Z"
   },
   {
    "duration": 101,
    "start_time": "2023-02-19T21:37:22.057Z"
   },
   {
    "duration": 9,
    "start_time": "2023-02-19T21:37:22.160Z"
   },
   {
    "duration": 266,
    "start_time": "2023-02-19T21:37:22.170Z"
   },
   {
    "duration": 8,
    "start_time": "2023-02-19T21:37:22.438Z"
   },
   {
    "duration": 151,
    "start_time": "2023-02-19T21:37:22.448Z"
   },
   {
    "duration": 8,
    "start_time": "2023-02-19T21:37:22.601Z"
   },
   {
    "duration": 148,
    "start_time": "2023-02-19T21:37:22.611Z"
   },
   {
    "duration": 9,
    "start_time": "2023-02-19T21:37:22.760Z"
   },
   {
    "duration": 147,
    "start_time": "2023-02-19T21:37:22.770Z"
   },
   {
    "duration": 9,
    "start_time": "2023-02-19T21:37:22.919Z"
   },
   {
    "duration": 154,
    "start_time": "2023-02-19T21:37:22.930Z"
   },
   {
    "duration": 8,
    "start_time": "2023-02-19T21:37:23.090Z"
   },
   {
    "duration": 265,
    "start_time": "2023-02-19T21:37:23.100Z"
   },
   {
    "duration": 9,
    "start_time": "2023-02-19T21:37:23.366Z"
   },
   {
    "duration": 179,
    "start_time": "2023-02-19T21:37:23.376Z"
   },
   {
    "duration": 38,
    "start_time": "2023-02-19T21:37:23.557Z"
   },
   {
    "duration": 32,
    "start_time": "2023-02-19T21:37:23.597Z"
   },
   {
    "duration": 40,
    "start_time": "2023-02-19T21:37:23.630Z"
   },
   {
    "duration": 696,
    "start_time": "2023-02-19T21:37:23.672Z"
   },
   {
    "duration": 4,
    "start_time": "2023-02-19T21:37:24.370Z"
   },
   {
    "duration": 22,
    "start_time": "2023-02-19T21:37:24.375Z"
   },
   {
    "duration": 187,
    "start_time": "2023-02-19T21:37:24.399Z"
   },
   {
    "duration": 192,
    "start_time": "2023-02-19T21:37:24.590Z"
   },
   {
    "duration": 211,
    "start_time": "2023-02-19T21:37:24.785Z"
   },
   {
    "duration": 173,
    "start_time": "2023-02-19T21:37:24.997Z"
   },
   {
    "duration": 11,
    "start_time": "2023-02-19T21:37:25.171Z"
   },
   {
    "duration": 18,
    "start_time": "2023-02-19T21:37:25.192Z"
   },
   {
    "duration": 9,
    "start_time": "2023-02-19T21:37:25.215Z"
   },
   {
    "duration": 32,
    "start_time": "2023-02-19T21:37:25.226Z"
   },
   {
    "duration": 281,
    "start_time": "2023-02-19T21:37:25.259Z"
   },
   {
    "duration": 1289,
    "start_time": "2023-02-20T19:30:33.075Z"
   },
   {
    "duration": 41,
    "start_time": "2023-02-20T19:30:34.366Z"
   },
   {
    "duration": 2523,
    "start_time": "2023-02-20T19:30:34.409Z"
   },
   {
    "duration": 10,
    "start_time": "2023-02-20T19:30:36.934Z"
   },
   {
    "duration": 14,
    "start_time": "2023-02-20T19:30:36.945Z"
   },
   {
    "duration": 5,
    "start_time": "2023-02-20T19:30:36.960Z"
   },
   {
    "duration": 12,
    "start_time": "2023-02-20T19:30:36.967Z"
   },
   {
    "duration": 32,
    "start_time": "2023-02-20T19:30:36.980Z"
   },
   {
    "duration": 7,
    "start_time": "2023-02-20T19:30:37.013Z"
   },
   {
    "duration": 11,
    "start_time": "2023-02-20T19:30:37.023Z"
   },
   {
    "duration": 43,
    "start_time": "2023-02-20T19:30:37.035Z"
   },
   {
    "duration": 141,
    "start_time": "2023-02-20T19:30:37.079Z"
   },
   {
    "duration": 15,
    "start_time": "2023-02-20T19:30:37.222Z"
   },
   {
    "duration": 27,
    "start_time": "2023-02-20T19:30:37.238Z"
   },
   {
    "duration": 31,
    "start_time": "2023-02-20T19:30:37.267Z"
   },
   {
    "duration": 26,
    "start_time": "2023-02-20T19:30:37.300Z"
   },
   {
    "duration": 116,
    "start_time": "2023-02-20T19:30:37.327Z"
   },
   {
    "duration": 13,
    "start_time": "2023-02-20T19:30:37.445Z"
   },
   {
    "duration": 133,
    "start_time": "2023-02-20T19:30:37.460Z"
   },
   {
    "duration": 127,
    "start_time": "2023-02-20T19:30:37.595Z"
   },
   {
    "duration": 7,
    "start_time": "2023-02-20T19:30:37.724Z"
   },
   {
    "duration": 8,
    "start_time": "2023-02-20T19:30:37.732Z"
   },
   {
    "duration": 66,
    "start_time": "2023-02-20T19:30:37.741Z"
   },
   {
    "duration": 6,
    "start_time": "2023-02-20T19:30:37.809Z"
   },
   {
    "duration": 18,
    "start_time": "2023-02-20T19:30:37.817Z"
   },
   {
    "duration": 39,
    "start_time": "2023-02-20T19:30:37.837Z"
   },
   {
    "duration": 190,
    "start_time": "2023-02-20T19:30:37.877Z"
   },
   {
    "duration": 47501,
    "start_time": "2023-02-20T19:30:38.072Z"
   },
   {
    "duration": 18,
    "start_time": "2023-02-20T19:31:25.574Z"
   },
   {
    "duration": 10,
    "start_time": "2023-02-20T19:31:25.594Z"
   },
   {
    "duration": 18,
    "start_time": "2023-02-20T19:31:25.606Z"
   },
   {
    "duration": 19730,
    "start_time": "2023-02-20T19:31:25.626Z"
   },
   {
    "duration": 7,
    "start_time": "2023-02-20T19:31:45.357Z"
   },
   {
    "duration": 37,
    "start_time": "2023-02-20T19:31:45.366Z"
   },
   {
    "duration": 27,
    "start_time": "2023-02-20T19:31:45.404Z"
   },
   {
    "duration": 9,
    "start_time": "2023-02-20T19:31:45.432Z"
   },
   {
    "duration": 14,
    "start_time": "2023-02-20T19:31:45.442Z"
   },
   {
    "duration": 3,
    "start_time": "2023-02-20T19:31:45.457Z"
   },
   {
    "duration": 412,
    "start_time": "2023-02-20T19:31:45.462Z"
   },
   {
    "duration": 36,
    "start_time": "2023-02-20T19:31:45.876Z"
   },
   {
    "duration": 9,
    "start_time": "2023-02-20T19:31:45.915Z"
   },
   {
    "duration": 182,
    "start_time": "2023-02-20T19:31:45.926Z"
   },
   {
    "duration": 11,
    "start_time": "2023-02-20T19:31:46.110Z"
   },
   {
    "duration": 192,
    "start_time": "2023-02-20T19:31:46.123Z"
   },
   {
    "duration": 10,
    "start_time": "2023-02-20T19:31:46.317Z"
   },
   {
    "duration": 191,
    "start_time": "2023-02-20T19:31:46.329Z"
   },
   {
    "duration": 9,
    "start_time": "2023-02-20T19:31:46.522Z"
   },
   {
    "duration": 187,
    "start_time": "2023-02-20T19:31:46.533Z"
   },
   {
    "duration": 164,
    "start_time": "2023-02-20T19:31:46.722Z"
   },
   {
    "duration": 18,
    "start_time": "2023-02-20T19:31:46.891Z"
   },
   {
    "duration": 179,
    "start_time": "2023-02-20T19:31:46.912Z"
   },
   {
    "duration": 16,
    "start_time": "2023-02-20T19:31:47.104Z"
   },
   {
    "duration": 312,
    "start_time": "2023-02-20T19:31:47.121Z"
   },
   {
    "duration": 9,
    "start_time": "2023-02-20T19:31:47.434Z"
   },
   {
    "duration": 106,
    "start_time": "2023-02-20T19:31:47.444Z"
   },
   {
    "duration": 8,
    "start_time": "2023-02-20T19:31:47.551Z"
   },
   {
    "duration": 289,
    "start_time": "2023-02-20T19:31:47.561Z"
   },
   {
    "duration": 12,
    "start_time": "2023-02-20T19:31:47.852Z"
   },
   {
    "duration": 160,
    "start_time": "2023-02-20T19:31:47.870Z"
   },
   {
    "duration": 8,
    "start_time": "2023-02-20T19:31:48.032Z"
   },
   {
    "duration": 182,
    "start_time": "2023-02-20T19:31:48.042Z"
   },
   {
    "duration": 8,
    "start_time": "2023-02-20T19:31:48.226Z"
   },
   {
    "duration": 165,
    "start_time": "2023-02-20T19:31:48.235Z"
   },
   {
    "duration": 11,
    "start_time": "2023-02-20T19:31:48.402Z"
   },
   {
    "duration": 176,
    "start_time": "2023-02-20T19:31:48.415Z"
   },
   {
    "duration": 10,
    "start_time": "2023-02-20T19:31:48.595Z"
   },
   {
    "duration": 264,
    "start_time": "2023-02-20T19:31:48.609Z"
   },
   {
    "duration": 23,
    "start_time": "2023-02-20T19:31:48.875Z"
   },
   {
    "duration": 201,
    "start_time": "2023-02-20T19:31:48.901Z"
   },
   {
    "duration": 37,
    "start_time": "2023-02-20T19:31:49.104Z"
   },
   {
    "duration": 32,
    "start_time": "2023-02-20T19:31:49.143Z"
   },
   {
    "duration": 46,
    "start_time": "2023-02-20T19:31:49.196Z"
   },
   {
    "duration": 717,
    "start_time": "2023-02-20T19:31:49.244Z"
   },
   {
    "duration": 3,
    "start_time": "2023-02-20T19:31:49.963Z"
   },
   {
    "duration": 46,
    "start_time": "2023-02-20T19:31:49.968Z"
   },
   {
    "duration": 215,
    "start_time": "2023-02-20T19:31:50.018Z"
   },
   {
    "duration": 212,
    "start_time": "2023-02-20T19:31:50.235Z"
   },
   {
    "duration": 198,
    "start_time": "2023-02-20T19:31:50.449Z"
   },
   {
    "duration": 161,
    "start_time": "2023-02-20T19:31:50.649Z"
   },
   {
    "duration": 12,
    "start_time": "2023-02-20T19:31:50.813Z"
   },
   {
    "duration": 9,
    "start_time": "2023-02-20T19:31:50.827Z"
   },
   {
    "duration": 14,
    "start_time": "2023-02-20T19:31:50.841Z"
   },
   {
    "duration": 62,
    "start_time": "2023-02-20T19:31:50.856Z"
   },
   {
    "duration": 255,
    "start_time": "2023-02-20T19:31:50.920Z"
   },
   {
    "duration": 55,
    "start_time": "2023-02-21T12:41:01.993Z"
   },
   {
    "duration": 1622,
    "start_time": "2023-02-21T12:41:06.995Z"
   },
   {
    "duration": 32,
    "start_time": "2023-02-21T12:41:08.618Z"
   },
   {
    "duration": 2147,
    "start_time": "2023-02-21T12:41:08.652Z"
   },
   {
    "duration": 9,
    "start_time": "2023-02-21T12:41:10.801Z"
   },
   {
    "duration": 18,
    "start_time": "2023-02-21T12:41:10.811Z"
   },
   {
    "duration": 5,
    "start_time": "2023-02-21T12:41:10.831Z"
   },
   {
    "duration": 19,
    "start_time": "2023-02-21T12:41:10.838Z"
   },
   {
    "duration": 45,
    "start_time": "2023-02-21T12:41:10.858Z"
   },
   {
    "duration": 3,
    "start_time": "2023-02-21T12:41:10.905Z"
   },
   {
    "duration": 44,
    "start_time": "2023-02-21T12:41:10.910Z"
   },
   {
    "duration": 46,
    "start_time": "2023-02-21T12:41:10.955Z"
   },
   {
    "duration": 127,
    "start_time": "2023-02-21T12:41:11.003Z"
   },
   {
    "duration": 22,
    "start_time": "2023-02-21T12:41:11.131Z"
   },
   {
    "duration": 25,
    "start_time": "2023-02-21T12:41:11.164Z"
   },
   {
    "duration": 8,
    "start_time": "2023-02-21T12:41:11.190Z"
   },
   {
    "duration": 21,
    "start_time": "2023-02-21T12:41:11.199Z"
   },
   {
    "duration": 92,
    "start_time": "2023-02-21T12:41:11.221Z"
   },
   {
    "duration": 12,
    "start_time": "2023-02-21T12:41:11.314Z"
   },
   {
    "duration": 115,
    "start_time": "2023-02-21T12:41:11.327Z"
   },
   {
    "duration": 87,
    "start_time": "2023-02-21T12:41:11.448Z"
   },
   {
    "duration": 8,
    "start_time": "2023-02-21T12:41:11.547Z"
   },
   {
    "duration": 7,
    "start_time": "2023-02-21T12:41:11.556Z"
   },
   {
    "duration": 37,
    "start_time": "2023-02-21T12:41:11.564Z"
   },
   {
    "duration": 4,
    "start_time": "2023-02-21T12:41:11.602Z"
   },
   {
    "duration": 11,
    "start_time": "2023-02-21T12:41:11.608Z"
   },
   {
    "duration": 50,
    "start_time": "2023-02-21T12:41:11.620Z"
   },
   {
    "duration": 148,
    "start_time": "2023-02-21T12:41:11.671Z"
   },
   {
    "duration": 42052,
    "start_time": "2023-02-21T12:41:11.823Z"
   },
   {
    "duration": 11,
    "start_time": "2023-02-21T12:41:53.877Z"
   },
   {
    "duration": 16,
    "start_time": "2023-02-21T12:41:53.889Z"
   },
   {
    "duration": 28,
    "start_time": "2023-02-21T12:41:53.907Z"
   },
   {
    "duration": 17619,
    "start_time": "2023-02-21T12:41:53.937Z"
   },
   {
    "duration": 8,
    "start_time": "2023-02-21T12:42:11.557Z"
   },
   {
    "duration": 37,
    "start_time": "2023-02-21T12:42:11.566Z"
   },
   {
    "duration": 23,
    "start_time": "2023-02-21T12:42:11.605Z"
   },
   {
    "duration": 18,
    "start_time": "2023-02-21T12:42:11.630Z"
   },
   {
    "duration": 13,
    "start_time": "2023-02-21T12:42:11.649Z"
   },
   {
    "duration": 12,
    "start_time": "2023-02-21T12:42:11.663Z"
   },
   {
    "duration": 335,
    "start_time": "2023-02-21T12:42:11.676Z"
   },
   {
    "duration": 22,
    "start_time": "2023-02-21T12:42:12.012Z"
   },
   {
    "duration": 17,
    "start_time": "2023-02-21T12:42:12.035Z"
   },
   {
    "duration": 143,
    "start_time": "2023-02-21T12:42:12.054Z"
   },
   {
    "duration": 8,
    "start_time": "2023-02-21T12:42:12.199Z"
   },
   {
    "duration": 152,
    "start_time": "2023-02-21T12:42:12.208Z"
   },
   {
    "duration": 8,
    "start_time": "2023-02-21T12:42:12.362Z"
   },
   {
    "duration": 151,
    "start_time": "2023-02-21T12:42:12.371Z"
   },
   {
    "duration": 8,
    "start_time": "2023-02-21T12:42:12.523Z"
   },
   {
    "duration": 152,
    "start_time": "2023-02-21T12:42:12.533Z"
   },
   {
    "duration": 151,
    "start_time": "2023-02-21T12:42:12.686Z"
   },
   {
    "duration": 9,
    "start_time": "2023-02-21T12:42:12.839Z"
   },
   {
    "duration": 154,
    "start_time": "2023-02-21T12:42:12.850Z"
   },
   {
    "duration": 9,
    "start_time": "2023-02-21T12:42:13.006Z"
   },
   {
    "duration": 269,
    "start_time": "2023-02-21T12:42:13.016Z"
   },
   {
    "duration": 9,
    "start_time": "2023-02-21T12:42:13.287Z"
   },
   {
    "duration": 106,
    "start_time": "2023-02-21T12:42:13.298Z"
   },
   {
    "duration": 7,
    "start_time": "2023-02-21T12:42:13.406Z"
   },
   {
    "duration": 262,
    "start_time": "2023-02-21T12:42:13.414Z"
   },
   {
    "duration": 8,
    "start_time": "2023-02-21T12:42:13.678Z"
   },
   {
    "duration": 140,
    "start_time": "2023-02-21T12:42:13.687Z"
   },
   {
    "duration": 8,
    "start_time": "2023-02-21T12:42:13.829Z"
   },
   {
    "duration": 155,
    "start_time": "2023-02-21T12:42:13.838Z"
   },
   {
    "duration": 8,
    "start_time": "2023-02-21T12:42:13.994Z"
   },
   {
    "duration": 149,
    "start_time": "2023-02-21T12:42:14.003Z"
   },
   {
    "duration": 10,
    "start_time": "2023-02-21T12:42:14.154Z"
   },
   {
    "duration": 145,
    "start_time": "2023-02-21T12:42:14.165Z"
   },
   {
    "duration": 8,
    "start_time": "2023-02-21T12:42:14.311Z"
   },
   {
    "duration": 218,
    "start_time": "2023-02-21T12:42:14.320Z"
   },
   {
    "duration": 13,
    "start_time": "2023-02-21T12:42:14.540Z"
   },
   {
    "duration": 165,
    "start_time": "2023-02-21T12:42:14.555Z"
   },
   {
    "duration": 37,
    "start_time": "2023-02-21T12:42:14.721Z"
   },
   {
    "duration": 29,
    "start_time": "2023-02-21T12:42:14.760Z"
   },
   {
    "duration": 39,
    "start_time": "2023-02-21T12:42:14.791Z"
   },
   {
    "duration": 676,
    "start_time": "2023-02-21T12:42:14.831Z"
   },
   {
    "duration": 3,
    "start_time": "2023-02-21T12:42:15.509Z"
   },
   {
    "duration": 35,
    "start_time": "2023-02-21T12:42:15.514Z"
   },
   {
    "duration": 15,
    "start_time": "2023-02-21T12:42:23.193Z"
   },
   {
    "duration": 138,
    "start_time": "2023-02-21T12:42:32.824Z"
   },
   {
    "duration": 75,
    "start_time": "2023-02-21T12:42:49.757Z"
   },
   {
    "duration": 138,
    "start_time": "2023-02-21T12:43:07.228Z"
   },
   {
    "duration": 120,
    "start_time": "2023-02-21T12:43:29.551Z"
   },
   {
    "duration": 124,
    "start_time": "2023-02-21T12:43:43.359Z"
   },
   {
    "duration": 117,
    "start_time": "2023-02-21T13:03:53.110Z"
   },
   {
    "duration": 129,
    "start_time": "2023-02-21T13:04:05.865Z"
   },
   {
    "duration": 117,
    "start_time": "2023-02-21T13:04:11.052Z"
   },
   {
    "duration": 118,
    "start_time": "2023-02-21T13:04:16.300Z"
   },
   {
    "duration": 122,
    "start_time": "2023-02-21T13:04:21.614Z"
   },
   {
    "duration": 133,
    "start_time": "2023-02-21T13:04:25.832Z"
   },
   {
    "duration": 128,
    "start_time": "2023-02-21T13:04:31.172Z"
   },
   {
    "duration": 67,
    "start_time": "2023-02-21T13:50:32.221Z"
   },
   {
    "duration": 71,
    "start_time": "2023-02-21T13:50:36.723Z"
   },
   {
    "duration": 69,
    "start_time": "2023-02-21T13:50:41.130Z"
   },
   {
    "duration": 148,
    "start_time": "2023-02-21T13:51:59.266Z"
   },
   {
    "duration": 35,
    "start_time": "2023-02-21T13:51:59.416Z"
   },
   {
    "duration": 2258,
    "start_time": "2023-02-21T13:51:59.452Z"
   },
   {
    "duration": 8,
    "start_time": "2023-02-21T13:52:01.712Z"
   },
   {
    "duration": 19,
    "start_time": "2023-02-21T13:52:01.722Z"
   },
   {
    "duration": 43,
    "start_time": "2023-02-21T13:52:01.743Z"
   },
   {
    "duration": 47,
    "start_time": "2023-02-21T13:52:01.787Z"
   },
   {
    "duration": 39,
    "start_time": "2023-02-21T13:52:01.836Z"
   },
   {
    "duration": 6,
    "start_time": "2023-02-21T13:52:01.877Z"
   },
   {
    "duration": 17,
    "start_time": "2023-02-21T13:52:01.884Z"
   },
   {
    "duration": 69,
    "start_time": "2023-02-21T13:52:01.913Z"
   },
   {
    "duration": 130,
    "start_time": "2023-02-21T13:52:01.984Z"
   },
   {
    "duration": 11,
    "start_time": "2023-02-21T13:52:02.115Z"
   },
   {
    "duration": 34,
    "start_time": "2023-02-21T13:52:02.130Z"
   },
   {
    "duration": 174,
    "start_time": "2023-02-21T13:52:02.166Z"
   },
   {
    "duration": 19,
    "start_time": "2023-02-21T13:52:02.348Z"
   },
   {
    "duration": 100,
    "start_time": "2023-02-21T13:52:02.368Z"
   },
   {
    "duration": 12,
    "start_time": "2023-02-21T13:52:02.469Z"
   },
   {
    "duration": 119,
    "start_time": "2023-02-21T13:52:02.482Z"
   },
   {
    "duration": 117,
    "start_time": "2023-02-21T13:52:02.603Z"
   },
   {
    "duration": 7,
    "start_time": "2023-02-21T13:52:02.722Z"
   },
   {
    "duration": 18,
    "start_time": "2023-02-21T13:52:02.730Z"
   },
   {
    "duration": 40,
    "start_time": "2023-02-21T13:52:02.749Z"
   },
   {
    "duration": 5,
    "start_time": "2023-02-21T13:52:02.791Z"
   },
   {
    "duration": 31,
    "start_time": "2023-02-21T13:52:02.798Z"
   },
   {
    "duration": 35,
    "start_time": "2023-02-21T13:52:02.831Z"
   },
   {
    "duration": 169,
    "start_time": "2023-02-21T13:52:02.868Z"
   },
   {
    "duration": 42186,
    "start_time": "2023-02-21T13:52:03.039Z"
   },
   {
    "duration": 11,
    "start_time": "2023-02-21T13:52:45.226Z"
   },
   {
    "duration": 18,
    "start_time": "2023-02-21T13:52:45.238Z"
   },
   {
    "duration": 14,
    "start_time": "2023-02-21T13:52:45.257Z"
   },
   {
    "duration": 18933,
    "start_time": "2023-02-21T13:52:45.273Z"
   },
   {
    "duration": 8,
    "start_time": "2023-02-21T13:53:04.207Z"
   },
   {
    "duration": 33,
    "start_time": "2023-02-21T13:53:04.216Z"
   },
   {
    "duration": 22,
    "start_time": "2023-02-21T13:53:04.250Z"
   },
   {
    "duration": 22,
    "start_time": "2023-02-21T13:53:04.273Z"
   },
   {
    "duration": 26,
    "start_time": "2023-02-21T13:53:04.297Z"
   },
   {
    "duration": 3,
    "start_time": "2023-02-21T13:53:04.324Z"
   },
   {
    "duration": 261,
    "start_time": "2023-02-21T13:53:04.329Z"
   },
   {
    "duration": 23,
    "start_time": "2023-02-21T13:53:04.592Z"
   },
   {
    "duration": 12,
    "start_time": "2023-02-21T13:53:04.619Z"
   },
   {
    "duration": 169,
    "start_time": "2023-02-21T13:53:04.633Z"
   },
   {
    "duration": 8,
    "start_time": "2023-02-21T13:53:04.804Z"
   },
   {
    "duration": 162,
    "start_time": "2023-02-21T13:53:04.814Z"
   },
   {
    "duration": 8,
    "start_time": "2023-02-21T13:53:04.978Z"
   },
   {
    "duration": 173,
    "start_time": "2023-02-21T13:53:04.987Z"
   },
   {
    "duration": 9,
    "start_time": "2023-02-21T13:53:05.162Z"
   },
   {
    "duration": 200,
    "start_time": "2023-02-21T13:53:05.173Z"
   },
   {
    "duration": 154,
    "start_time": "2023-02-21T13:53:05.375Z"
   },
   {
    "duration": 19,
    "start_time": "2023-02-21T13:53:05.531Z"
   },
   {
    "duration": 126,
    "start_time": "2023-02-21T13:53:05.552Z"
   },
   {
    "duration": 8,
    "start_time": "2023-02-21T13:53:05.679Z"
   },
   {
    "duration": 269,
    "start_time": "2023-02-21T13:53:05.688Z"
   },
   {
    "duration": 9,
    "start_time": "2023-02-21T13:53:05.958Z"
   },
   {
    "duration": 98,
    "start_time": "2023-02-21T13:53:05.968Z"
   },
   {
    "duration": 7,
    "start_time": "2023-02-21T13:53:06.068Z"
   },
   {
    "duration": 258,
    "start_time": "2023-02-21T13:53:06.076Z"
   },
   {
    "duration": 14,
    "start_time": "2023-02-21T13:53:06.336Z"
   },
   {
    "duration": 140,
    "start_time": "2023-02-21T13:53:06.351Z"
   },
   {
    "duration": 7,
    "start_time": "2023-02-21T13:53:06.493Z"
   },
   {
    "duration": 139,
    "start_time": "2023-02-21T13:53:06.501Z"
   },
   {
    "duration": 7,
    "start_time": "2023-02-21T13:53:06.647Z"
   },
   {
    "duration": 130,
    "start_time": "2023-02-21T13:53:06.656Z"
   },
   {
    "duration": 7,
    "start_time": "2023-02-21T13:53:06.788Z"
   },
   {
    "duration": 137,
    "start_time": "2023-02-21T13:53:06.796Z"
   },
   {
    "duration": 14,
    "start_time": "2023-02-21T13:53:06.934Z"
   },
   {
    "duration": 109,
    "start_time": "2023-02-21T13:53:06.950Z"
   },
   {
    "duration": 8,
    "start_time": "2023-02-21T13:53:07.061Z"
   },
   {
    "duration": 337,
    "start_time": "2023-02-21T13:53:07.071Z"
   },
   {
    "duration": 29,
    "start_time": "2023-02-21T13:53:07.409Z"
   },
   {
    "duration": 31,
    "start_time": "2023-02-21T13:53:07.447Z"
   },
   {
    "duration": 38,
    "start_time": "2023-02-21T13:53:07.480Z"
   },
   {
    "duration": 638,
    "start_time": "2023-02-21T13:53:07.519Z"
   },
   {
    "duration": 141,
    "start_time": "2023-02-21T13:53:08.159Z"
   },
   {
    "duration": 137,
    "start_time": "2023-02-21T13:53:08.301Z"
   },
   {
    "duration": 132,
    "start_time": "2023-02-21T13:53:08.439Z"
   },
   {
    "duration": 132,
    "start_time": "2023-02-21T13:53:08.573Z"
   },
   {
    "duration": 10,
    "start_time": "2023-02-21T13:53:08.708Z"
   },
   {
    "duration": 10,
    "start_time": "2023-02-21T13:53:08.719Z"
   },
   {
    "duration": 23,
    "start_time": "2023-02-21T13:53:08.731Z"
   },
   {
    "duration": 29,
    "start_time": "2023-02-21T13:53:08.756Z"
   },
   {
    "duration": 240,
    "start_time": "2023-02-21T13:53:08.787Z"
   }
  ],
  "kernelspec": {
   "display_name": "Python 3 (ipykernel)",
   "language": "python",
   "name": "python3"
  },
  "language_info": {
   "codemirror_mode": {
    "name": "ipython",
    "version": 3
   },
   "file_extension": ".py",
   "mimetype": "text/x-python",
   "name": "python",
   "nbconvert_exporter": "python",
   "pygments_lexer": "ipython3",
   "version": "3.9.13"
  },
  "toc": {
   "base_numbering": 1,
   "nav_menu": {},
   "number_sections": true,
   "sideBar": true,
   "skip_h1_title": true,
   "title_cell": "Table of Contents",
   "title_sidebar": "Contents",
   "toc_cell": false,
   "toc_position": {},
   "toc_section_display": true,
   "toc_window_display": false
  }
 },
 "nbformat": 4,
 "nbformat_minor": 2
}
