{
 "cells": [
  {
   "cell_type": "markdown",
   "metadata": {},
   "source": [
    "# Проект \"Прогноз рынка видеоигр на 2017 год\"\n",
    "\n",
    "Производится анализ данных о продажах и рейтингах игр, выпущенных до 2016 года на различных игровых платформах. Цель исследования - определить стратегию выбора потенциально наиболее успешных продуктов на 2017 год. В исследовании будут выделены циклы развития рынка видеоигр и проведён подробный анализ текущего периода: определена целевая аудитория, игровая платформа и жанры, позволяющие получить максимальные показатели продаж."
   ]
  },
  {
   "cell_type": "markdown",
   "metadata": {},
   "source": [
    "## Предобработка данных"
   ]
  },
  {
   "cell_type": "markdown",
   "metadata": {},
   "source": [
    "### Первичный анализ и преобразования\n",
    "\n",
    "В исследовании участвует генеральная совокупность данных по 16715 релизам видеоигр. В базе данных указаны название, год релиза, жанр, возрастной рейтинг и платформа на которой выпущена игра, а также её показатели продаж в 3 макрорегионах(Северная Америка, Европа, Япония), пользовательские и профессиональные рейтинги."
   ]
  },
  {
   "cell_type": "code",
   "execution_count": 64,
   "metadata": {
    "scrolled": true
   },
   "outputs": [
    {
     "name": "stdout",
     "output_type": "stream",
     "text": [
      "<class 'pandas.core.frame.DataFrame'>\n",
      "RangeIndex: 16715 entries, 0 to 16714\n",
      "Data columns (total 11 columns):\n",
      " #   Column           Non-Null Count  Dtype  \n",
      "---  ------           --------------  -----  \n",
      " 0   Name             16713 non-null  object \n",
      " 1   Platform         16715 non-null  object \n",
      " 2   Year_of_Release  16446 non-null  float64\n",
      " 3   Genre            16713 non-null  object \n",
      " 4   NA_sales         16715 non-null  float64\n",
      " 5   EU_sales         16715 non-null  float64\n",
      " 6   JP_sales         16715 non-null  float64\n",
      " 7   Other_sales      16715 non-null  float64\n",
      " 8   Critic_Score     8137 non-null   float64\n",
      " 9   User_Score       10014 non-null  object \n",
      " 10  Rating           9949 non-null   object \n",
      "dtypes: float64(6), object(5)\n",
      "memory usage: 1.4+ MB\n"
     ]
    }
   ],
   "source": [
    "import pandas as pd\n",
    "import seaborn as sns\n",
    "import matplotlib.pyplot as plt\n",
    "from scipy import stats as st\n",
    "# импортируем данные в датафрейм и выведем краткую информацию\n",
    "try:\n",
    "    data = pd.read_csv('C:\\\\practicum\\\\games.csv')\n",
    "except:\n",
    "    data = pd.read_csv('/datasets/games.csv')\n",
    "data.info()"
   ]
  },
  {
   "cell_type": "code",
   "execution_count": 65,
   "metadata": {
    "scrolled": true
   },
   "outputs": [
    {
     "data": {
      "text/html": [
       "<div>\n",
       "<style scoped>\n",
       "    .dataframe tbody tr th:only-of-type {\n",
       "        vertical-align: middle;\n",
       "    }\n",
       "\n",
       "    .dataframe tbody tr th {\n",
       "        vertical-align: top;\n",
       "    }\n",
       "\n",
       "    .dataframe thead th {\n",
       "        text-align: right;\n",
       "    }\n",
       "</style>\n",
       "<table border=\"1\" class=\"dataframe\">\n",
       "  <thead>\n",
       "    <tr style=\"text-align: right;\">\n",
       "      <th></th>\n",
       "      <th>Name</th>\n",
       "      <th>Platform</th>\n",
       "      <th>Year_of_Release</th>\n",
       "      <th>Genre</th>\n",
       "      <th>NA_sales</th>\n",
       "      <th>EU_sales</th>\n",
       "      <th>JP_sales</th>\n",
       "      <th>Other_sales</th>\n",
       "      <th>Critic_Score</th>\n",
       "      <th>User_Score</th>\n",
       "      <th>Rating</th>\n",
       "    </tr>\n",
       "  </thead>\n",
       "  <tbody>\n",
       "    <tr>\n",
       "      <th>0</th>\n",
       "      <td>Wii Sports</td>\n",
       "      <td>Wii</td>\n",
       "      <td>2006.0</td>\n",
       "      <td>Sports</td>\n",
       "      <td>41.36</td>\n",
       "      <td>28.96</td>\n",
       "      <td>3.77</td>\n",
       "      <td>8.45</td>\n",
       "      <td>76.0</td>\n",
       "      <td>8</td>\n",
       "      <td>E</td>\n",
       "    </tr>\n",
       "    <tr>\n",
       "      <th>1</th>\n",
       "      <td>Super Mario Bros.</td>\n",
       "      <td>NES</td>\n",
       "      <td>1985.0</td>\n",
       "      <td>Platform</td>\n",
       "      <td>29.08</td>\n",
       "      <td>3.58</td>\n",
       "      <td>6.81</td>\n",
       "      <td>0.77</td>\n",
       "      <td>NaN</td>\n",
       "      <td>NaN</td>\n",
       "      <td>NaN</td>\n",
       "    </tr>\n",
       "    <tr>\n",
       "      <th>2</th>\n",
       "      <td>Mario Kart Wii</td>\n",
       "      <td>Wii</td>\n",
       "      <td>2008.0</td>\n",
       "      <td>Racing</td>\n",
       "      <td>15.68</td>\n",
       "      <td>12.76</td>\n",
       "      <td>3.79</td>\n",
       "      <td>3.29</td>\n",
       "      <td>82.0</td>\n",
       "      <td>8.3</td>\n",
       "      <td>E</td>\n",
       "    </tr>\n",
       "    <tr>\n",
       "      <th>3</th>\n",
       "      <td>Wii Sports Resort</td>\n",
       "      <td>Wii</td>\n",
       "      <td>2009.0</td>\n",
       "      <td>Sports</td>\n",
       "      <td>15.61</td>\n",
       "      <td>10.93</td>\n",
       "      <td>3.28</td>\n",
       "      <td>2.95</td>\n",
       "      <td>80.0</td>\n",
       "      <td>8</td>\n",
       "      <td>E</td>\n",
       "    </tr>\n",
       "    <tr>\n",
       "      <th>4</th>\n",
       "      <td>Pokemon Red/Pokemon Blue</td>\n",
       "      <td>GB</td>\n",
       "      <td>1996.0</td>\n",
       "      <td>Role-Playing</td>\n",
       "      <td>11.27</td>\n",
       "      <td>8.89</td>\n",
       "      <td>10.22</td>\n",
       "      <td>1.00</td>\n",
       "      <td>NaN</td>\n",
       "      <td>NaN</td>\n",
       "      <td>NaN</td>\n",
       "    </tr>\n",
       "    <tr>\n",
       "      <th>5</th>\n",
       "      <td>Tetris</td>\n",
       "      <td>GB</td>\n",
       "      <td>1989.0</td>\n",
       "      <td>Puzzle</td>\n",
       "      <td>23.20</td>\n",
       "      <td>2.26</td>\n",
       "      <td>4.22</td>\n",
       "      <td>0.58</td>\n",
       "      <td>NaN</td>\n",
       "      <td>NaN</td>\n",
       "      <td>NaN</td>\n",
       "    </tr>\n",
       "    <tr>\n",
       "      <th>6</th>\n",
       "      <td>New Super Mario Bros.</td>\n",
       "      <td>DS</td>\n",
       "      <td>2006.0</td>\n",
       "      <td>Platform</td>\n",
       "      <td>11.28</td>\n",
       "      <td>9.14</td>\n",
       "      <td>6.50</td>\n",
       "      <td>2.88</td>\n",
       "      <td>89.0</td>\n",
       "      <td>8.5</td>\n",
       "      <td>E</td>\n",
       "    </tr>\n",
       "    <tr>\n",
       "      <th>7</th>\n",
       "      <td>Wii Play</td>\n",
       "      <td>Wii</td>\n",
       "      <td>2006.0</td>\n",
       "      <td>Misc</td>\n",
       "      <td>13.96</td>\n",
       "      <td>9.18</td>\n",
       "      <td>2.93</td>\n",
       "      <td>2.84</td>\n",
       "      <td>58.0</td>\n",
       "      <td>6.6</td>\n",
       "      <td>E</td>\n",
       "    </tr>\n",
       "    <tr>\n",
       "      <th>8</th>\n",
       "      <td>New Super Mario Bros. Wii</td>\n",
       "      <td>Wii</td>\n",
       "      <td>2009.0</td>\n",
       "      <td>Platform</td>\n",
       "      <td>14.44</td>\n",
       "      <td>6.94</td>\n",
       "      <td>4.70</td>\n",
       "      <td>2.24</td>\n",
       "      <td>87.0</td>\n",
       "      <td>8.4</td>\n",
       "      <td>E</td>\n",
       "    </tr>\n",
       "    <tr>\n",
       "      <th>9</th>\n",
       "      <td>Duck Hunt</td>\n",
       "      <td>NES</td>\n",
       "      <td>1984.0</td>\n",
       "      <td>Shooter</td>\n",
       "      <td>26.93</td>\n",
       "      <td>0.63</td>\n",
       "      <td>0.28</td>\n",
       "      <td>0.47</td>\n",
       "      <td>NaN</td>\n",
       "      <td>NaN</td>\n",
       "      <td>NaN</td>\n",
       "    </tr>\n",
       "  </tbody>\n",
       "</table>\n",
       "</div>"
      ],
      "text/plain": [
       "                        Name Platform  Year_of_Release         Genre  \\\n",
       "0                 Wii Sports      Wii           2006.0        Sports   \n",
       "1          Super Mario Bros.      NES           1985.0      Platform   \n",
       "2             Mario Kart Wii      Wii           2008.0        Racing   \n",
       "3          Wii Sports Resort      Wii           2009.0        Sports   \n",
       "4   Pokemon Red/Pokemon Blue       GB           1996.0  Role-Playing   \n",
       "5                     Tetris       GB           1989.0        Puzzle   \n",
       "6      New Super Mario Bros.       DS           2006.0      Platform   \n",
       "7                   Wii Play      Wii           2006.0          Misc   \n",
       "8  New Super Mario Bros. Wii      Wii           2009.0      Platform   \n",
       "9                  Duck Hunt      NES           1984.0       Shooter   \n",
       "\n",
       "   NA_sales  EU_sales  JP_sales  Other_sales  Critic_Score User_Score Rating  \n",
       "0     41.36     28.96      3.77         8.45          76.0          8      E  \n",
       "1     29.08      3.58      6.81         0.77           NaN        NaN    NaN  \n",
       "2     15.68     12.76      3.79         3.29          82.0        8.3      E  \n",
       "3     15.61     10.93      3.28         2.95          80.0          8      E  \n",
       "4     11.27      8.89     10.22         1.00           NaN        NaN    NaN  \n",
       "5     23.20      2.26      4.22         0.58           NaN        NaN    NaN  \n",
       "6     11.28      9.14      6.50         2.88          89.0        8.5      E  \n",
       "7     13.96      9.18      2.93         2.84          58.0        6.6      E  \n",
       "8     14.44      6.94      4.70         2.24          87.0        8.4      E  \n",
       "9     26.93      0.63      0.28         0.47           NaN        NaN    NaN  "
      ]
     },
     "execution_count": 65,
     "metadata": {},
     "output_type": "execute_result"
    }
   ],
   "source": [
    "data.head(10) # выведем первые 10 строк исходной выборки"
   ]
  },
  {
   "cell_type": "code",
   "execution_count": 66,
   "metadata": {
    "scrolled": false
   },
   "outputs": [
    {
     "data": {
      "text/html": [
       "<div>\n",
       "<style scoped>\n",
       "    .dataframe tbody tr th:only-of-type {\n",
       "        vertical-align: middle;\n",
       "    }\n",
       "\n",
       "    .dataframe tbody tr th {\n",
       "        vertical-align: top;\n",
       "    }\n",
       "\n",
       "    .dataframe thead th {\n",
       "        text-align: right;\n",
       "    }\n",
       "</style>\n",
       "<table border=\"1\" class=\"dataframe\">\n",
       "  <thead>\n",
       "    <tr style=\"text-align: right;\">\n",
       "      <th></th>\n",
       "      <th>name</th>\n",
       "      <th>platform</th>\n",
       "      <th>year_of_release</th>\n",
       "      <th>genre</th>\n",
       "      <th>na_sales</th>\n",
       "      <th>eu_sales</th>\n",
       "      <th>jp_sales</th>\n",
       "      <th>other_sales</th>\n",
       "      <th>critic_score</th>\n",
       "      <th>user_score</th>\n",
       "      <th>rating</th>\n",
       "    </tr>\n",
       "  </thead>\n",
       "  <tbody>\n",
       "    <tr>\n",
       "      <th>0</th>\n",
       "      <td>Wii Sports</td>\n",
       "      <td>Wii</td>\n",
       "      <td>2006.0</td>\n",
       "      <td>Sports</td>\n",
       "      <td>41.36</td>\n",
       "      <td>28.96</td>\n",
       "      <td>3.77</td>\n",
       "      <td>8.45</td>\n",
       "      <td>76.0</td>\n",
       "      <td>8</td>\n",
       "      <td>E</td>\n",
       "    </tr>\n",
       "  </tbody>\n",
       "</table>\n",
       "</div>"
      ],
      "text/plain": [
       "         name platform  year_of_release   genre  na_sales  eu_sales  jp_sales  \\\n",
       "0  Wii Sports      Wii           2006.0  Sports     41.36     28.96      3.77   \n",
       "\n",
       "   other_sales  critic_score user_score rating  \n",
       "0         8.45          76.0          8      E  "
      ]
     },
     "execution_count": 66,
     "metadata": {},
     "output_type": "execute_result"
    }
   ],
   "source": [
    "data.columns = data.columns.str.lower()\n",
    "#приводим названия колонок к нижнему регистру и проверяем результат\n",
    "data.head(1)"
   ]
  },
  {
   "cell_type": "markdown",
   "metadata": {},
   "source": [
    "### Гистограммы исходных данных\n",
    "\n",
    "Построим гистограммы стартовых числовых параметров: год выпуска, уровни продаж, отзывы критиков. На гистрограммах продаж заметны существенные выбросы, которые нуждаются в дальнейшей корректировке"
   ]
  },
  {
   "cell_type": "code",
   "execution_count": 67,
   "metadata": {},
   "outputs": [
    {
     "data": {
      "text/plain": [
       "array([[<AxesSubplot:title={'center':'year_of_release'}>,\n",
       "        <AxesSubplot:title={'center':'na_sales'}>],\n",
       "       [<AxesSubplot:title={'center':'eu_sales'}>,\n",
       "        <AxesSubplot:title={'center':'jp_sales'}>],\n",
       "       [<AxesSubplot:title={'center':'other_sales'}>,\n",
       "        <AxesSubplot:title={'center':'critic_score'}>]], dtype=object)"
      ]
     },
     "execution_count": 67,
     "metadata": {},
     "output_type": "execute_result"
    },
    {
     "data": {
      "image/png": "[encoded data removed]",
      "text/plain": [
       "<Figure size 1080x1440 with 6 Axes>"
      ]
     },
     "metadata": {},
     "output_type": "display_data"
    }
   ],
   "source": [
    "data.hist(figsize = (15, 20), bins = 30)             "
   ]
  },
  {
   "cell_type": "markdown",
   "metadata": {},
   "source": [
    "### Столбец name\n",
    "\n",
    "В столбце с названиями игр всего два пропуска - удалим эти строки. Переведём названия к нижнему регистру и сформируем отдельную таблицу со списком игр, которые имели более одного релиза(вероятно, на разных платформах). Это поможет в дальнейшем при заполнении пропусков по другим параметрам."
   ]
  },
  {
   "cell_type": "code",
   "execution_count": 68,
   "metadata": {},
   "outputs": [],
   "source": [
    "data = data.dropna(subset=['name']) # удаляем пропуски\n",
    "data['name'] = data['name'].str.lower() # приводим названия к нижнему регистру\n",
    "name = data['name'].value_counts().to_frame().reset_index()\n",
    "name.rename(columns={'index': 'game', 'name': 'count'}, inplace=True)\n",
    "duplicates = name.query('count>1') # создаем таблицу повторных релизов и формируем из неё список названий\n",
    "duplicates_list = duplicates['game'].to_list()"
   ]
  },
  {
   "cell_type": "markdown",
   "metadata": {},
   "source": [
    "### Столбец platform\n",
    "\n",
    "Столбец с названиями платформ не содержит пропусков. Проверим список уникальных значений на наличие возможных некорректных параметров - они тоже отсутствуют."
   ]
  },
  {
   "cell_type": "code",
   "execution_count": 69,
   "metadata": {
    "scrolled": true
   },
   "outputs": [
    {
     "data": {
      "text/plain": [
       "array(['Wii', 'NES', 'GB', 'DS', 'X360', 'PS3', 'PS2', 'SNES', 'GBA',\n",
       "       'PS4', '3DS', 'N64', 'PS', 'XB', 'PC', '2600', 'PSP', 'XOne',\n",
       "       'WiiU', 'GC', 'GEN', 'DC', 'PSV', 'SAT', 'SCD', 'WS', 'NG', 'TG16',\n",
       "       '3DO', 'GG', 'PCFX'], dtype=object)"
      ]
     },
     "execution_count": 69,
     "metadata": {},
     "output_type": "execute_result"
    }
   ],
   "source": [
    "data['platform'].unique()"
   ]
  },
  {
   "cell_type": "markdown",
   "metadata": {},
   "source": [
    "### Столбец year_of_release\n",
    "\n",
    "Столбец с годами выпуска имеет 269 пропусков, что составляет около 1.5% от изначального объёма данных. Так как год релиза является принципиально важной информацией для анализа, а размер потерянных данных невелик - удалим эти строки. Кроме этого, переведём формат к целым числам и построим гистрограмму, чтобы проконтролировать чистоту данных."
   ]
  },
  {
   "cell_type": "code",
   "execution_count": 70,
   "metadata": {
    "scrolled": true
   },
   "outputs": [
    {
     "data": {
      "text/plain": [
       "<AxesSubplot:>"
      ]
     },
     "execution_count": 70,
     "metadata": {},
     "output_type": "execute_result"
    },
    {
     "data": {
      "image/png": "[encoded data removed]",
      "text/plain": [
       "<Figure size 864x288 with 1 Axes>"
      ]
     },
     "metadata": {},
     "output_type": "display_data"
    }
   ],
   "source": [
    "data = data.dropna(subset=['year_of_release']) # удаляем строки с пропусками в столбце год релиза\n",
    "data['year_of_release'] = data['year_of_release'].astype('int') # переводим в формат int\n",
    "data['year_of_release'].hist()"
   ]
  },
  {
   "cell_type": "markdown",
   "metadata": {},
   "source": [
    "### Столбец genre\n",
    "\n",
    "Столбец с названиями жанров не содержит пропусков. Проверим список уникальных значений на наличие возможных некорректных параметров - они  отсутствуют."
   ]
  },
  {
   "cell_type": "code",
   "execution_count": 71,
   "metadata": {
    "scrolled": true
   },
   "outputs": [
    {
     "data": {
      "text/plain": [
       "array(['Sports', 'Platform', 'Racing', 'Role-Playing', 'Puzzle', 'Misc',\n",
       "       'Shooter', 'Simulation', 'Action', 'Fighting', 'Adventure',\n",
       "       'Strategy'], dtype=object)"
      ]
     },
     "execution_count": 71,
     "metadata": {},
     "output_type": "execute_result"
    }
   ],
   "source": [
    "data['genre'].unique()"
   ]
  },
  {
   "cell_type": "markdown",
   "metadata": {},
   "source": [
    "### Столбцы со значениями продаж\n",
    "Как мы уже обращали внимание выше, столбцы с продажами содержат значительные выбросы. Выведем на экран строки с аномальными показателями по каждому региону. В каждой подгруппе содержится порядка 10-20 релизов, отличающихся от региона к региону. Среди них единичные мировые хиты - тетрис, Марио, The Sims или платформенные эксклюзивы, поставляемые в комплекте с покупкой игровой приставки. Чтобы эти значения не искажали средние показатели, оставим для дальнейшего анализа только те игры, которые дают не слишком выбивающиеся общие продажи."
   ]
  },
  {
   "cell_type": "code",
   "execution_count": 72,
   "metadata": {
    "scrolled": true
   },
   "outputs": [
    {
     "data": {
      "text/html": [
       "<div>\n",
       "<style scoped>\n",
       "    .dataframe tbody tr th:only-of-type {\n",
       "        vertical-align: middle;\n",
       "    }\n",
       "\n",
       "    .dataframe tbody tr th {\n",
       "        vertical-align: top;\n",
       "    }\n",
       "\n",
       "    .dataframe thead th {\n",
       "        text-align: right;\n",
       "    }\n",
       "</style>\n",
       "<table border=\"1\" class=\"dataframe\">\n",
       "  <thead>\n",
       "    <tr style=\"text-align: right;\">\n",
       "      <th></th>\n",
       "      <th>name</th>\n",
       "      <th>platform</th>\n",
       "      <th>year_of_release</th>\n",
       "      <th>genre</th>\n",
       "      <th>na_sales</th>\n",
       "      <th>eu_sales</th>\n",
       "      <th>jp_sales</th>\n",
       "      <th>other_sales</th>\n",
       "      <th>critic_score</th>\n",
       "      <th>user_score</th>\n",
       "      <th>rating</th>\n",
       "    </tr>\n",
       "  </thead>\n",
       "  <tbody>\n",
       "    <tr>\n",
       "      <th>0</th>\n",
       "      <td>wii sports</td>\n",
       "      <td>Wii</td>\n",
       "      <td>2006</td>\n",
       "      <td>Sports</td>\n",
       "      <td>41.36</td>\n",
       "      <td>28.96</td>\n",
       "      <td>3.77</td>\n",
       "      <td>8.45</td>\n",
       "      <td>76.0</td>\n",
       "      <td>8</td>\n",
       "      <td>E</td>\n",
       "    </tr>\n",
       "    <tr>\n",
       "      <th>1</th>\n",
       "      <td>super mario bros.</td>\n",
       "      <td>NES</td>\n",
       "      <td>1985</td>\n",
       "      <td>Platform</td>\n",
       "      <td>29.08</td>\n",
       "      <td>3.58</td>\n",
       "      <td>6.81</td>\n",
       "      <td>0.77</td>\n",
       "      <td>NaN</td>\n",
       "      <td>NaN</td>\n",
       "      <td>NaN</td>\n",
       "    </tr>\n",
       "    <tr>\n",
       "      <th>2</th>\n",
       "      <td>mario kart wii</td>\n",
       "      <td>Wii</td>\n",
       "      <td>2008</td>\n",
       "      <td>Racing</td>\n",
       "      <td>15.68</td>\n",
       "      <td>12.76</td>\n",
       "      <td>3.79</td>\n",
       "      <td>3.29</td>\n",
       "      <td>82.0</td>\n",
       "      <td>8.3</td>\n",
       "      <td>E</td>\n",
       "    </tr>\n",
       "    <tr>\n",
       "      <th>3</th>\n",
       "      <td>wii sports resort</td>\n",
       "      <td>Wii</td>\n",
       "      <td>2009</td>\n",
       "      <td>Sports</td>\n",
       "      <td>15.61</td>\n",
       "      <td>10.93</td>\n",
       "      <td>3.28</td>\n",
       "      <td>2.95</td>\n",
       "      <td>80.0</td>\n",
       "      <td>8</td>\n",
       "      <td>E</td>\n",
       "    </tr>\n",
       "    <tr>\n",
       "      <th>4</th>\n",
       "      <td>pokemon red/pokemon blue</td>\n",
       "      <td>GB</td>\n",
       "      <td>1996</td>\n",
       "      <td>Role-Playing</td>\n",
       "      <td>11.27</td>\n",
       "      <td>8.89</td>\n",
       "      <td>10.22</td>\n",
       "      <td>1.00</td>\n",
       "      <td>NaN</td>\n",
       "      <td>NaN</td>\n",
       "      <td>NaN</td>\n",
       "    </tr>\n",
       "    <tr>\n",
       "      <th>5</th>\n",
       "      <td>tetris</td>\n",
       "      <td>GB</td>\n",
       "      <td>1989</td>\n",
       "      <td>Puzzle</td>\n",
       "      <td>23.20</td>\n",
       "      <td>2.26</td>\n",
       "      <td>4.22</td>\n",
       "      <td>0.58</td>\n",
       "      <td>NaN</td>\n",
       "      <td>NaN</td>\n",
       "      <td>NaN</td>\n",
       "    </tr>\n",
       "    <tr>\n",
       "      <th>6</th>\n",
       "      <td>new super mario bros.</td>\n",
       "      <td>DS</td>\n",
       "      <td>2006</td>\n",
       "      <td>Platform</td>\n",
       "      <td>11.28</td>\n",
       "      <td>9.14</td>\n",
       "      <td>6.50</td>\n",
       "      <td>2.88</td>\n",
       "      <td>89.0</td>\n",
       "      <td>8.5</td>\n",
       "      <td>E</td>\n",
       "    </tr>\n",
       "    <tr>\n",
       "      <th>7</th>\n",
       "      <td>wii play</td>\n",
       "      <td>Wii</td>\n",
       "      <td>2006</td>\n",
       "      <td>Misc</td>\n",
       "      <td>13.96</td>\n",
       "      <td>9.18</td>\n",
       "      <td>2.93</td>\n",
       "      <td>2.84</td>\n",
       "      <td>58.0</td>\n",
       "      <td>6.6</td>\n",
       "      <td>E</td>\n",
       "    </tr>\n",
       "    <tr>\n",
       "      <th>8</th>\n",
       "      <td>new super mario bros. wii</td>\n",
       "      <td>Wii</td>\n",
       "      <td>2009</td>\n",
       "      <td>Platform</td>\n",
       "      <td>14.44</td>\n",
       "      <td>6.94</td>\n",
       "      <td>4.70</td>\n",
       "      <td>2.24</td>\n",
       "      <td>87.0</td>\n",
       "      <td>8.4</td>\n",
       "      <td>E</td>\n",
       "    </tr>\n",
       "    <tr>\n",
       "      <th>9</th>\n",
       "      <td>duck hunt</td>\n",
       "      <td>NES</td>\n",
       "      <td>1984</td>\n",
       "      <td>Shooter</td>\n",
       "      <td>26.93</td>\n",
       "      <td>0.63</td>\n",
       "      <td>0.28</td>\n",
       "      <td>0.47</td>\n",
       "      <td>NaN</td>\n",
       "      <td>NaN</td>\n",
       "      <td>NaN</td>\n",
       "    </tr>\n",
       "    <tr>\n",
       "      <th>14</th>\n",
       "      <td>kinect adventures!</td>\n",
       "      <td>X360</td>\n",
       "      <td>2010</td>\n",
       "      <td>Misc</td>\n",
       "      <td>15.00</td>\n",
       "      <td>4.89</td>\n",
       "      <td>0.24</td>\n",
       "      <td>1.69</td>\n",
       "      <td>61.0</td>\n",
       "      <td>6.3</td>\n",
       "      <td>E</td>\n",
       "    </tr>\n",
       "    <tr>\n",
       "      <th>18</th>\n",
       "      <td>super mario world</td>\n",
       "      <td>SNES</td>\n",
       "      <td>1990</td>\n",
       "      <td>Platform</td>\n",
       "      <td>12.78</td>\n",
       "      <td>3.75</td>\n",
       "      <td>3.54</td>\n",
       "      <td>0.55</td>\n",
       "      <td>NaN</td>\n",
       "      <td>NaN</td>\n",
       "      <td>NaN</td>\n",
       "    </tr>\n",
       "    <tr>\n",
       "      <th>21</th>\n",
       "      <td>super mario land</td>\n",
       "      <td>GB</td>\n",
       "      <td>1989</td>\n",
       "      <td>Platform</td>\n",
       "      <td>10.83</td>\n",
       "      <td>2.71</td>\n",
       "      <td>4.18</td>\n",
       "      <td>0.42</td>\n",
       "      <td>NaN</td>\n",
       "      <td>NaN</td>\n",
       "      <td>NaN</td>\n",
       "    </tr>\n",
       "  </tbody>\n",
       "</table>\n",
       "</div>"
      ],
      "text/plain": [
       "                         name platform  year_of_release         genre  \\\n",
       "0                  wii sports      Wii             2006        Sports   \n",
       "1           super mario bros.      NES             1985      Platform   \n",
       "2              mario kart wii      Wii             2008        Racing   \n",
       "3           wii sports resort      Wii             2009        Sports   \n",
       "4    pokemon red/pokemon blue       GB             1996  Role-Playing   \n",
       "5                      tetris       GB             1989        Puzzle   \n",
       "6       new super mario bros.       DS             2006      Platform   \n",
       "7                    wii play      Wii             2006          Misc   \n",
       "8   new super mario bros. wii      Wii             2009      Platform   \n",
       "9                   duck hunt      NES             1984       Shooter   \n",
       "14         kinect adventures!     X360             2010          Misc   \n",
       "18          super mario world     SNES             1990      Platform   \n",
       "21           super mario land       GB             1989      Platform   \n",
       "\n",
       "    na_sales  eu_sales  jp_sales  other_sales  critic_score user_score rating  \n",
       "0      41.36     28.96      3.77         8.45          76.0          8      E  \n",
       "1      29.08      3.58      6.81         0.77           NaN        NaN    NaN  \n",
       "2      15.68     12.76      3.79         3.29          82.0        8.3      E  \n",
       "3      15.61     10.93      3.28         2.95          80.0          8      E  \n",
       "4      11.27      8.89     10.22         1.00           NaN        NaN    NaN  \n",
       "5      23.20      2.26      4.22         0.58           NaN        NaN    NaN  \n",
       "6      11.28      9.14      6.50         2.88          89.0        8.5      E  \n",
       "7      13.96      9.18      2.93         2.84          58.0        6.6      E  \n",
       "8      14.44      6.94      4.70         2.24          87.0        8.4      E  \n",
       "9      26.93      0.63      0.28         0.47           NaN        NaN    NaN  \n",
       "14     15.00      4.89      0.24         1.69          61.0        6.3      E  \n",
       "18     12.78      3.75      3.54         0.55           NaN        NaN    NaN  \n",
       "21     10.83      2.71      4.18         0.42           NaN        NaN    NaN  "
      ]
     },
     "execution_count": 72,
     "metadata": {},
     "output_type": "execute_result"
    }
   ],
   "source": [
    "data.query('na_sales>10')"
   ]
  },
  {
   "cell_type": "code",
   "execution_count": 73,
   "metadata": {
    "scrolled": false
   },
   "outputs": [
    {
     "data": {
      "text/html": [
       "<div>\n",
       "<style scoped>\n",
       "    .dataframe tbody tr th:only-of-type {\n",
       "        vertical-align: middle;\n",
       "    }\n",
       "\n",
       "    .dataframe tbody tr th {\n",
       "        vertical-align: top;\n",
       "    }\n",
       "\n",
       "    .dataframe thead th {\n",
       "        text-align: right;\n",
       "    }\n",
       "</style>\n",
       "<table border=\"1\" class=\"dataframe\">\n",
       "  <thead>\n",
       "    <tr style=\"text-align: right;\">\n",
       "      <th></th>\n",
       "      <th>name</th>\n",
       "      <th>platform</th>\n",
       "      <th>year_of_release</th>\n",
       "      <th>genre</th>\n",
       "      <th>na_sales</th>\n",
       "      <th>eu_sales</th>\n",
       "      <th>jp_sales</th>\n",
       "      <th>other_sales</th>\n",
       "      <th>critic_score</th>\n",
       "      <th>user_score</th>\n",
       "      <th>rating</th>\n",
       "    </tr>\n",
       "  </thead>\n",
       "  <tbody>\n",
       "    <tr>\n",
       "      <th>0</th>\n",
       "      <td>wii sports</td>\n",
       "      <td>Wii</td>\n",
       "      <td>2006</td>\n",
       "      <td>Sports</td>\n",
       "      <td>41.36</td>\n",
       "      <td>28.96</td>\n",
       "      <td>3.77</td>\n",
       "      <td>8.45</td>\n",
       "      <td>76.0</td>\n",
       "      <td>8</td>\n",
       "      <td>E</td>\n",
       "    </tr>\n",
       "    <tr>\n",
       "      <th>2</th>\n",
       "      <td>mario kart wii</td>\n",
       "      <td>Wii</td>\n",
       "      <td>2008</td>\n",
       "      <td>Racing</td>\n",
       "      <td>15.68</td>\n",
       "      <td>12.76</td>\n",
       "      <td>3.79</td>\n",
       "      <td>3.29</td>\n",
       "      <td>82.0</td>\n",
       "      <td>8.3</td>\n",
       "      <td>E</td>\n",
       "    </tr>\n",
       "    <tr>\n",
       "      <th>3</th>\n",
       "      <td>wii sports resort</td>\n",
       "      <td>Wii</td>\n",
       "      <td>2009</td>\n",
       "      <td>Sports</td>\n",
       "      <td>15.61</td>\n",
       "      <td>10.93</td>\n",
       "      <td>3.28</td>\n",
       "      <td>2.95</td>\n",
       "      <td>80.0</td>\n",
       "      <td>8</td>\n",
       "      <td>E</td>\n",
       "    </tr>\n",
       "    <tr>\n",
       "      <th>4</th>\n",
       "      <td>pokemon red/pokemon blue</td>\n",
       "      <td>GB</td>\n",
       "      <td>1996</td>\n",
       "      <td>Role-Playing</td>\n",
       "      <td>11.27</td>\n",
       "      <td>8.89</td>\n",
       "      <td>10.22</td>\n",
       "      <td>1.00</td>\n",
       "      <td>NaN</td>\n",
       "      <td>NaN</td>\n",
       "      <td>NaN</td>\n",
       "    </tr>\n",
       "    <tr>\n",
       "      <th>6</th>\n",
       "      <td>new super mario bros.</td>\n",
       "      <td>DS</td>\n",
       "      <td>2006</td>\n",
       "      <td>Platform</td>\n",
       "      <td>11.28</td>\n",
       "      <td>9.14</td>\n",
       "      <td>6.50</td>\n",
       "      <td>2.88</td>\n",
       "      <td>89.0</td>\n",
       "      <td>8.5</td>\n",
       "      <td>E</td>\n",
       "    </tr>\n",
       "    <tr>\n",
       "      <th>7</th>\n",
       "      <td>wii play</td>\n",
       "      <td>Wii</td>\n",
       "      <td>2006</td>\n",
       "      <td>Misc</td>\n",
       "      <td>13.96</td>\n",
       "      <td>9.18</td>\n",
       "      <td>2.93</td>\n",
       "      <td>2.84</td>\n",
       "      <td>58.0</td>\n",
       "      <td>6.6</td>\n",
       "      <td>E</td>\n",
       "    </tr>\n",
       "    <tr>\n",
       "      <th>8</th>\n",
       "      <td>new super mario bros. wii</td>\n",
       "      <td>Wii</td>\n",
       "      <td>2009</td>\n",
       "      <td>Platform</td>\n",
       "      <td>14.44</td>\n",
       "      <td>6.94</td>\n",
       "      <td>4.70</td>\n",
       "      <td>2.24</td>\n",
       "      <td>87.0</td>\n",
       "      <td>8.4</td>\n",
       "      <td>E</td>\n",
       "    </tr>\n",
       "    <tr>\n",
       "      <th>10</th>\n",
       "      <td>nintendogs</td>\n",
       "      <td>DS</td>\n",
       "      <td>2005</td>\n",
       "      <td>Simulation</td>\n",
       "      <td>9.05</td>\n",
       "      <td>10.95</td>\n",
       "      <td>1.93</td>\n",
       "      <td>2.74</td>\n",
       "      <td>NaN</td>\n",
       "      <td>NaN</td>\n",
       "      <td>NaN</td>\n",
       "    </tr>\n",
       "    <tr>\n",
       "      <th>11</th>\n",
       "      <td>mario kart ds</td>\n",
       "      <td>DS</td>\n",
       "      <td>2005</td>\n",
       "      <td>Racing</td>\n",
       "      <td>9.71</td>\n",
       "      <td>7.47</td>\n",
       "      <td>4.13</td>\n",
       "      <td>1.90</td>\n",
       "      <td>91.0</td>\n",
       "      <td>8.6</td>\n",
       "      <td>E</td>\n",
       "    </tr>\n",
       "    <tr>\n",
       "      <th>12</th>\n",
       "      <td>pokemon gold/pokemon silver</td>\n",
       "      <td>GB</td>\n",
       "      <td>1999</td>\n",
       "      <td>Role-Playing</td>\n",
       "      <td>9.00</td>\n",
       "      <td>6.18</td>\n",
       "      <td>7.20</td>\n",
       "      <td>0.71</td>\n",
       "      <td>NaN</td>\n",
       "      <td>NaN</td>\n",
       "      <td>NaN</td>\n",
       "    </tr>\n",
       "    <tr>\n",
       "      <th>13</th>\n",
       "      <td>wii fit</td>\n",
       "      <td>Wii</td>\n",
       "      <td>2007</td>\n",
       "      <td>Sports</td>\n",
       "      <td>8.92</td>\n",
       "      <td>8.03</td>\n",
       "      <td>3.60</td>\n",
       "      <td>2.15</td>\n",
       "      <td>80.0</td>\n",
       "      <td>7.7</td>\n",
       "      <td>E</td>\n",
       "    </tr>\n",
       "    <tr>\n",
       "      <th>15</th>\n",
       "      <td>wii fit plus</td>\n",
       "      <td>Wii</td>\n",
       "      <td>2009</td>\n",
       "      <td>Sports</td>\n",
       "      <td>9.01</td>\n",
       "      <td>8.49</td>\n",
       "      <td>2.53</td>\n",
       "      <td>1.77</td>\n",
       "      <td>80.0</td>\n",
       "      <td>7.4</td>\n",
       "      <td>E</td>\n",
       "    </tr>\n",
       "    <tr>\n",
       "      <th>16</th>\n",
       "      <td>grand theft auto v</td>\n",
       "      <td>PS3</td>\n",
       "      <td>2013</td>\n",
       "      <td>Action</td>\n",
       "      <td>7.02</td>\n",
       "      <td>9.09</td>\n",
       "      <td>0.98</td>\n",
       "      <td>3.96</td>\n",
       "      <td>97.0</td>\n",
       "      <td>8.2</td>\n",
       "      <td>M</td>\n",
       "    </tr>\n",
       "    <tr>\n",
       "      <th>19</th>\n",
       "      <td>brain age: train your brain in minutes a day</td>\n",
       "      <td>DS</td>\n",
       "      <td>2005</td>\n",
       "      <td>Misc</td>\n",
       "      <td>4.74</td>\n",
       "      <td>9.20</td>\n",
       "      <td>4.16</td>\n",
       "      <td>2.04</td>\n",
       "      <td>77.0</td>\n",
       "      <td>7.9</td>\n",
       "      <td>E</td>\n",
       "    </tr>\n",
       "    <tr>\n",
       "      <th>42</th>\n",
       "      <td>grand theft auto v</td>\n",
       "      <td>PS4</td>\n",
       "      <td>2014</td>\n",
       "      <td>Action</td>\n",
       "      <td>3.96</td>\n",
       "      <td>6.31</td>\n",
       "      <td>0.38</td>\n",
       "      <td>1.97</td>\n",
       "      <td>97.0</td>\n",
       "      <td>8.3</td>\n",
       "      <td>M</td>\n",
       "    </tr>\n",
       "    <tr>\n",
       "      <th>77</th>\n",
       "      <td>fifa 16</td>\n",
       "      <td>PS4</td>\n",
       "      <td>2015</td>\n",
       "      <td>Sports</td>\n",
       "      <td>1.12</td>\n",
       "      <td>6.12</td>\n",
       "      <td>0.06</td>\n",
       "      <td>1.28</td>\n",
       "      <td>82.0</td>\n",
       "      <td>4.3</td>\n",
       "      <td>E</td>\n",
       "    </tr>\n",
       "    <tr>\n",
       "      <th>85</th>\n",
       "      <td>the sims 3</td>\n",
       "      <td>PC</td>\n",
       "      <td>2009</td>\n",
       "      <td>Simulation</td>\n",
       "      <td>0.99</td>\n",
       "      <td>6.42</td>\n",
       "      <td>0.00</td>\n",
       "      <td>0.60</td>\n",
       "      <td>86.0</td>\n",
       "      <td>7.6</td>\n",
       "      <td>T</td>\n",
       "    </tr>\n",
       "    <tr>\n",
       "      <th>138</th>\n",
       "      <td>world of warcraft</td>\n",
       "      <td>PC</td>\n",
       "      <td>2004</td>\n",
       "      <td>Role-Playing</td>\n",
       "      <td>0.08</td>\n",
       "      <td>6.21</td>\n",
       "      <td>0.00</td>\n",
       "      <td>0.00</td>\n",
       "      <td>93.0</td>\n",
       "      <td>7.3</td>\n",
       "      <td>T</td>\n",
       "    </tr>\n",
       "  </tbody>\n",
       "</table>\n",
       "</div>"
      ],
      "text/plain": [
       "                                             name platform  year_of_release  \\\n",
       "0                                      wii sports      Wii             2006   \n",
       "2                                  mario kart wii      Wii             2008   \n",
       "3                               wii sports resort      Wii             2009   \n",
       "4                        pokemon red/pokemon blue       GB             1996   \n",
       "6                           new super mario bros.       DS             2006   \n",
       "7                                        wii play      Wii             2006   \n",
       "8                       new super mario bros. wii      Wii             2009   \n",
       "10                                     nintendogs       DS             2005   \n",
       "11                                  mario kart ds       DS             2005   \n",
       "12                    pokemon gold/pokemon silver       GB             1999   \n",
       "13                                        wii fit      Wii             2007   \n",
       "15                                   wii fit plus      Wii             2009   \n",
       "16                             grand theft auto v      PS3             2013   \n",
       "19   brain age: train your brain in minutes a day       DS             2005   \n",
       "42                             grand theft auto v      PS4             2014   \n",
       "77                                        fifa 16      PS4             2015   \n",
       "85                                     the sims 3       PC             2009   \n",
       "138                             world of warcraft       PC             2004   \n",
       "\n",
       "            genre  na_sales  eu_sales  jp_sales  other_sales  critic_score  \\\n",
       "0          Sports     41.36     28.96      3.77         8.45          76.0   \n",
       "2          Racing     15.68     12.76      3.79         3.29          82.0   \n",
       "3          Sports     15.61     10.93      3.28         2.95          80.0   \n",
       "4    Role-Playing     11.27      8.89     10.22         1.00           NaN   \n",
       "6        Platform     11.28      9.14      6.50         2.88          89.0   \n",
       "7            Misc     13.96      9.18      2.93         2.84          58.0   \n",
       "8        Platform     14.44      6.94      4.70         2.24          87.0   \n",
       "10     Simulation      9.05     10.95      1.93         2.74           NaN   \n",
       "11         Racing      9.71      7.47      4.13         1.90          91.0   \n",
       "12   Role-Playing      9.00      6.18      7.20         0.71           NaN   \n",
       "13         Sports      8.92      8.03      3.60         2.15          80.0   \n",
       "15         Sports      9.01      8.49      2.53         1.77          80.0   \n",
       "16         Action      7.02      9.09      0.98         3.96          97.0   \n",
       "19           Misc      4.74      9.20      4.16         2.04          77.0   \n",
       "42         Action      3.96      6.31      0.38         1.97          97.0   \n",
       "77         Sports      1.12      6.12      0.06         1.28          82.0   \n",
       "85     Simulation      0.99      6.42      0.00         0.60          86.0   \n",
       "138  Role-Playing      0.08      6.21      0.00         0.00          93.0   \n",
       "\n",
       "    user_score rating  \n",
       "0            8      E  \n",
       "2          8.3      E  \n",
       "3            8      E  \n",
       "4          NaN    NaN  \n",
       "6          8.5      E  \n",
       "7          6.6      E  \n",
       "8          8.4      E  \n",
       "10         NaN    NaN  \n",
       "11         8.6      E  \n",
       "12         NaN    NaN  \n",
       "13         7.7      E  \n",
       "15         7.4      E  \n",
       "16         8.2      M  \n",
       "19         7.9      E  \n",
       "42         8.3      M  \n",
       "77         4.3      E  \n",
       "85         7.6      T  \n",
       "138        7.3      T  "
      ]
     },
     "execution_count": 73,
     "metadata": {},
     "output_type": "execute_result"
    }
   ],
   "source": [
    "data.query('eu_sales>6')"
   ]
  },
  {
   "cell_type": "code",
   "execution_count": 74,
   "metadata": {
    "scrolled": true
   },
   "outputs": [
    {
     "data": {
      "text/html": [
       "<div>\n",
       "<style scoped>\n",
       "    .dataframe tbody tr th:only-of-type {\n",
       "        vertical-align: middle;\n",
       "    }\n",
       "\n",
       "    .dataframe tbody tr th {\n",
       "        vertical-align: top;\n",
       "    }\n",
       "\n",
       "    .dataframe thead th {\n",
       "        text-align: right;\n",
       "    }\n",
       "</style>\n",
       "<table border=\"1\" class=\"dataframe\">\n",
       "  <thead>\n",
       "    <tr style=\"text-align: right;\">\n",
       "      <th></th>\n",
       "      <th>name</th>\n",
       "      <th>platform</th>\n",
       "      <th>year_of_release</th>\n",
       "      <th>genre</th>\n",
       "      <th>na_sales</th>\n",
       "      <th>eu_sales</th>\n",
       "      <th>jp_sales</th>\n",
       "      <th>other_sales</th>\n",
       "      <th>critic_score</th>\n",
       "      <th>user_score</th>\n",
       "      <th>rating</th>\n",
       "    </tr>\n",
       "  </thead>\n",
       "  <tbody>\n",
       "    <tr>\n",
       "      <th>1</th>\n",
       "      <td>super mario bros.</td>\n",
       "      <td>NES</td>\n",
       "      <td>1985</td>\n",
       "      <td>Platform</td>\n",
       "      <td>29.08</td>\n",
       "      <td>3.58</td>\n",
       "      <td>6.81</td>\n",
       "      <td>0.77</td>\n",
       "      <td>NaN</td>\n",
       "      <td>NaN</td>\n",
       "      <td>NaN</td>\n",
       "    </tr>\n",
       "    <tr>\n",
       "      <th>4</th>\n",
       "      <td>pokemon red/pokemon blue</td>\n",
       "      <td>GB</td>\n",
       "      <td>1996</td>\n",
       "      <td>Role-Playing</td>\n",
       "      <td>11.27</td>\n",
       "      <td>8.89</td>\n",
       "      <td>10.22</td>\n",
       "      <td>1.00</td>\n",
       "      <td>NaN</td>\n",
       "      <td>NaN</td>\n",
       "      <td>NaN</td>\n",
       "    </tr>\n",
       "    <tr>\n",
       "      <th>5</th>\n",
       "      <td>tetris</td>\n",
       "      <td>GB</td>\n",
       "      <td>1989</td>\n",
       "      <td>Puzzle</td>\n",
       "      <td>23.20</td>\n",
       "      <td>2.26</td>\n",
       "      <td>4.22</td>\n",
       "      <td>0.58</td>\n",
       "      <td>NaN</td>\n",
       "      <td>NaN</td>\n",
       "      <td>NaN</td>\n",
       "    </tr>\n",
       "    <tr>\n",
       "      <th>6</th>\n",
       "      <td>new super mario bros.</td>\n",
       "      <td>DS</td>\n",
       "      <td>2006</td>\n",
       "      <td>Platform</td>\n",
       "      <td>11.28</td>\n",
       "      <td>9.14</td>\n",
       "      <td>6.50</td>\n",
       "      <td>2.88</td>\n",
       "      <td>89.0</td>\n",
       "      <td>8.5</td>\n",
       "      <td>E</td>\n",
       "    </tr>\n",
       "    <tr>\n",
       "      <th>8</th>\n",
       "      <td>new super mario bros. wii</td>\n",
       "      <td>Wii</td>\n",
       "      <td>2009</td>\n",
       "      <td>Platform</td>\n",
       "      <td>14.44</td>\n",
       "      <td>6.94</td>\n",
       "      <td>4.70</td>\n",
       "      <td>2.24</td>\n",
       "      <td>87.0</td>\n",
       "      <td>8.4</td>\n",
       "      <td>E</td>\n",
       "    </tr>\n",
       "    <tr>\n",
       "      <th>11</th>\n",
       "      <td>mario kart ds</td>\n",
       "      <td>DS</td>\n",
       "      <td>2005</td>\n",
       "      <td>Racing</td>\n",
       "      <td>9.71</td>\n",
       "      <td>7.47</td>\n",
       "      <td>4.13</td>\n",
       "      <td>1.90</td>\n",
       "      <td>91.0</td>\n",
       "      <td>8.6</td>\n",
       "      <td>E</td>\n",
       "    </tr>\n",
       "    <tr>\n",
       "      <th>12</th>\n",
       "      <td>pokemon gold/pokemon silver</td>\n",
       "      <td>GB</td>\n",
       "      <td>1999</td>\n",
       "      <td>Role-Playing</td>\n",
       "      <td>9.00</td>\n",
       "      <td>6.18</td>\n",
       "      <td>7.20</td>\n",
       "      <td>0.71</td>\n",
       "      <td>NaN</td>\n",
       "      <td>NaN</td>\n",
       "      <td>NaN</td>\n",
       "    </tr>\n",
       "    <tr>\n",
       "      <th>19</th>\n",
       "      <td>brain age: train your brain in minutes a day</td>\n",
       "      <td>DS</td>\n",
       "      <td>2005</td>\n",
       "      <td>Misc</td>\n",
       "      <td>4.74</td>\n",
       "      <td>9.20</td>\n",
       "      <td>4.16</td>\n",
       "      <td>2.04</td>\n",
       "      <td>77.0</td>\n",
       "      <td>7.9</td>\n",
       "      <td>E</td>\n",
       "    </tr>\n",
       "    <tr>\n",
       "      <th>20</th>\n",
       "      <td>pokemon diamond/pokemon pearl</td>\n",
       "      <td>DS</td>\n",
       "      <td>2006</td>\n",
       "      <td>Role-Playing</td>\n",
       "      <td>6.38</td>\n",
       "      <td>4.46</td>\n",
       "      <td>6.04</td>\n",
       "      <td>1.36</td>\n",
       "      <td>NaN</td>\n",
       "      <td>NaN</td>\n",
       "      <td>NaN</td>\n",
       "    </tr>\n",
       "    <tr>\n",
       "      <th>21</th>\n",
       "      <td>super mario land</td>\n",
       "      <td>GB</td>\n",
       "      <td>1989</td>\n",
       "      <td>Platform</td>\n",
       "      <td>10.83</td>\n",
       "      <td>2.71</td>\n",
       "      <td>4.18</td>\n",
       "      <td>0.42</td>\n",
       "      <td>NaN</td>\n",
       "      <td>NaN</td>\n",
       "      <td>NaN</td>\n",
       "    </tr>\n",
       "    <tr>\n",
       "      <th>25</th>\n",
       "      <td>pokemon ruby/pokemon sapphire</td>\n",
       "      <td>GBA</td>\n",
       "      <td>2002</td>\n",
       "      <td>Role-Playing</td>\n",
       "      <td>6.06</td>\n",
       "      <td>3.90</td>\n",
       "      <td>5.38</td>\n",
       "      <td>0.50</td>\n",
       "      <td>NaN</td>\n",
       "      <td>NaN</td>\n",
       "      <td>NaN</td>\n",
       "    </tr>\n",
       "    <tr>\n",
       "      <th>26</th>\n",
       "      <td>brain age 2: more training in minutes a day</td>\n",
       "      <td>DS</td>\n",
       "      <td>2005</td>\n",
       "      <td>Puzzle</td>\n",
       "      <td>3.43</td>\n",
       "      <td>5.35</td>\n",
       "      <td>5.32</td>\n",
       "      <td>1.18</td>\n",
       "      <td>77.0</td>\n",
       "      <td>7.1</td>\n",
       "      <td>E</td>\n",
       "    </tr>\n",
       "    <tr>\n",
       "      <th>27</th>\n",
       "      <td>pokemon black/pokemon white</td>\n",
       "      <td>DS</td>\n",
       "      <td>2010</td>\n",
       "      <td>Role-Playing</td>\n",
       "      <td>5.51</td>\n",
       "      <td>3.17</td>\n",
       "      <td>5.65</td>\n",
       "      <td>0.80</td>\n",
       "      <td>NaN</td>\n",
       "      <td>NaN</td>\n",
       "      <td>NaN</td>\n",
       "    </tr>\n",
       "    <tr>\n",
       "      <th>33</th>\n",
       "      <td>pokemon x/pokemon y</td>\n",
       "      <td>3DS</td>\n",
       "      <td>2013</td>\n",
       "      <td>Role-Playing</td>\n",
       "      <td>5.28</td>\n",
       "      <td>4.19</td>\n",
       "      <td>4.35</td>\n",
       "      <td>0.78</td>\n",
       "      <td>NaN</td>\n",
       "      <td>NaN</td>\n",
       "      <td>NaN</td>\n",
       "    </tr>\n",
       "    <tr>\n",
       "      <th>43</th>\n",
       "      <td>animal crossing: wild world</td>\n",
       "      <td>DS</td>\n",
       "      <td>2005</td>\n",
       "      <td>Simulation</td>\n",
       "      <td>2.50</td>\n",
       "      <td>3.45</td>\n",
       "      <td>5.33</td>\n",
       "      <td>0.86</td>\n",
       "      <td>86.0</td>\n",
       "      <td>8.7</td>\n",
       "      <td>E</td>\n",
       "    </tr>\n",
       "    <tr>\n",
       "      <th>73</th>\n",
       "      <td>animal crossing: new leaf</td>\n",
       "      <td>3DS</td>\n",
       "      <td>2012</td>\n",
       "      <td>Simulation</td>\n",
       "      <td>2.03</td>\n",
       "      <td>2.36</td>\n",
       "      <td>4.39</td>\n",
       "      <td>0.39</td>\n",
       "      <td>88.0</td>\n",
       "      <td>8.7</td>\n",
       "      <td>E</td>\n",
       "    </tr>\n",
       "    <tr>\n",
       "      <th>152</th>\n",
       "      <td>dragon quest ix: sentinels of the starry skies</td>\n",
       "      <td>DS</td>\n",
       "      <td>2009</td>\n",
       "      <td>Role-Playing</td>\n",
       "      <td>0.63</td>\n",
       "      <td>0.67</td>\n",
       "      <td>4.35</td>\n",
       "      <td>0.15</td>\n",
       "      <td>87.0</td>\n",
       "      <td>8.8</td>\n",
       "      <td>E10+</td>\n",
       "    </tr>\n",
       "    <tr>\n",
       "      <th>163</th>\n",
       "      <td>monster hunter freedom unite</td>\n",
       "      <td>PSP</td>\n",
       "      <td>2008</td>\n",
       "      <td>Role-Playing</td>\n",
       "      <td>0.47</td>\n",
       "      <td>0.55</td>\n",
       "      <td>4.13</td>\n",
       "      <td>0.34</td>\n",
       "      <td>81.0</td>\n",
       "      <td>8.7</td>\n",
       "      <td>T</td>\n",
       "    </tr>\n",
       "    <tr>\n",
       "      <th>215</th>\n",
       "      <td>monster hunter freedom 3</td>\n",
       "      <td>PSP</td>\n",
       "      <td>2010</td>\n",
       "      <td>Role-Playing</td>\n",
       "      <td>0.00</td>\n",
       "      <td>0.00</td>\n",
       "      <td>4.87</td>\n",
       "      <td>0.00</td>\n",
       "      <td>NaN</td>\n",
       "      <td>NaN</td>\n",
       "      <td>NaN</td>\n",
       "    </tr>\n",
       "    <tr>\n",
       "      <th>244</th>\n",
       "      <td>dragon quest vii: warriors of eden</td>\n",
       "      <td>PS</td>\n",
       "      <td>2000</td>\n",
       "      <td>Role-Playing</td>\n",
       "      <td>0.20</td>\n",
       "      <td>0.14</td>\n",
       "      <td>4.10</td>\n",
       "      <td>0.02</td>\n",
       "      <td>NaN</td>\n",
       "      <td>NaN</td>\n",
       "      <td>NaN</td>\n",
       "    </tr>\n",
       "  </tbody>\n",
       "</table>\n",
       "</div>"
      ],
      "text/plain": [
       "                                               name platform  year_of_release  \\\n",
       "1                                 super mario bros.      NES             1985   \n",
       "4                          pokemon red/pokemon blue       GB             1996   \n",
       "5                                            tetris       GB             1989   \n",
       "6                             new super mario bros.       DS             2006   \n",
       "8                         new super mario bros. wii      Wii             2009   \n",
       "11                                    mario kart ds       DS             2005   \n",
       "12                      pokemon gold/pokemon silver       GB             1999   \n",
       "19     brain age: train your brain in minutes a day       DS             2005   \n",
       "20                    pokemon diamond/pokemon pearl       DS             2006   \n",
       "21                                 super mario land       GB             1989   \n",
       "25                    pokemon ruby/pokemon sapphire      GBA             2002   \n",
       "26      brain age 2: more training in minutes a day       DS             2005   \n",
       "27                      pokemon black/pokemon white       DS             2010   \n",
       "33                              pokemon x/pokemon y      3DS             2013   \n",
       "43                      animal crossing: wild world       DS             2005   \n",
       "73                        animal crossing: new leaf      3DS             2012   \n",
       "152  dragon quest ix: sentinels of the starry skies       DS             2009   \n",
       "163                    monster hunter freedom unite      PSP             2008   \n",
       "215                        monster hunter freedom 3      PSP             2010   \n",
       "244              dragon quest vii: warriors of eden       PS             2000   \n",
       "\n",
       "            genre  na_sales  eu_sales  jp_sales  other_sales  critic_score  \\\n",
       "1        Platform     29.08      3.58      6.81         0.77           NaN   \n",
       "4    Role-Playing     11.27      8.89     10.22         1.00           NaN   \n",
       "5          Puzzle     23.20      2.26      4.22         0.58           NaN   \n",
       "6        Platform     11.28      9.14      6.50         2.88          89.0   \n",
       "8        Platform     14.44      6.94      4.70         2.24          87.0   \n",
       "11         Racing      9.71      7.47      4.13         1.90          91.0   \n",
       "12   Role-Playing      9.00      6.18      7.20         0.71           NaN   \n",
       "19           Misc      4.74      9.20      4.16         2.04          77.0   \n",
       "20   Role-Playing      6.38      4.46      6.04         1.36           NaN   \n",
       "21       Platform     10.83      2.71      4.18         0.42           NaN   \n",
       "25   Role-Playing      6.06      3.90      5.38         0.50           NaN   \n",
       "26         Puzzle      3.43      5.35      5.32         1.18          77.0   \n",
       "27   Role-Playing      5.51      3.17      5.65         0.80           NaN   \n",
       "33   Role-Playing      5.28      4.19      4.35         0.78           NaN   \n",
       "43     Simulation      2.50      3.45      5.33         0.86          86.0   \n",
       "73     Simulation      2.03      2.36      4.39         0.39          88.0   \n",
       "152  Role-Playing      0.63      0.67      4.35         0.15          87.0   \n",
       "163  Role-Playing      0.47      0.55      4.13         0.34          81.0   \n",
       "215  Role-Playing      0.00      0.00      4.87         0.00           NaN   \n",
       "244  Role-Playing      0.20      0.14      4.10         0.02           NaN   \n",
       "\n",
       "    user_score rating  \n",
       "1          NaN    NaN  \n",
       "4          NaN    NaN  \n",
       "5          NaN    NaN  \n",
       "6          8.5      E  \n",
       "8          8.4      E  \n",
       "11         8.6      E  \n",
       "12         NaN    NaN  \n",
       "19         7.9      E  \n",
       "20         NaN    NaN  \n",
       "21         NaN    NaN  \n",
       "25         NaN    NaN  \n",
       "26         7.1      E  \n",
       "27         NaN    NaN  \n",
       "33         NaN    NaN  \n",
       "43         8.7      E  \n",
       "73         8.7      E  \n",
       "152        8.8   E10+  \n",
       "163        8.7      T  \n",
       "215        NaN    NaN  \n",
       "244        NaN    NaN  "
      ]
     },
     "execution_count": 74,
     "metadata": {},
     "output_type": "execute_result"
    }
   ],
   "source": [
    "data.query('jp_sales>4')"
   ]
  },
  {
   "cell_type": "code",
   "execution_count": 75,
   "metadata": {
    "scrolled": false
   },
   "outputs": [
    {
     "data": {
      "text/html": [
       "<div>\n",
       "<style scoped>\n",
       "    .dataframe tbody tr th:only-of-type {\n",
       "        vertical-align: middle;\n",
       "    }\n",
       "\n",
       "    .dataframe tbody tr th {\n",
       "        vertical-align: top;\n",
       "    }\n",
       "\n",
       "    .dataframe thead th {\n",
       "        text-align: right;\n",
       "    }\n",
       "</style>\n",
       "<table border=\"1\" class=\"dataframe\">\n",
       "  <thead>\n",
       "    <tr style=\"text-align: right;\">\n",
       "      <th></th>\n",
       "      <th>name</th>\n",
       "      <th>platform</th>\n",
       "      <th>year_of_release</th>\n",
       "      <th>genre</th>\n",
       "      <th>na_sales</th>\n",
       "      <th>eu_sales</th>\n",
       "      <th>jp_sales</th>\n",
       "      <th>other_sales</th>\n",
       "      <th>critic_score</th>\n",
       "      <th>user_score</th>\n",
       "      <th>rating</th>\n",
       "      <th>all_sales</th>\n",
       "    </tr>\n",
       "  </thead>\n",
       "  <tbody>\n",
       "    <tr>\n",
       "      <th>0</th>\n",
       "      <td>wii sports</td>\n",
       "      <td>Wii</td>\n",
       "      <td>2006</td>\n",
       "      <td>Sports</td>\n",
       "      <td>41.36</td>\n",
       "      <td>28.96</td>\n",
       "      <td>3.77</td>\n",
       "      <td>8.45</td>\n",
       "      <td>76.0</td>\n",
       "      <td>8</td>\n",
       "      <td>E</td>\n",
       "      <td>82.54</td>\n",
       "    </tr>\n",
       "    <tr>\n",
       "      <th>1</th>\n",
       "      <td>super mario bros.</td>\n",
       "      <td>NES</td>\n",
       "      <td>1985</td>\n",
       "      <td>Platform</td>\n",
       "      <td>29.08</td>\n",
       "      <td>3.58</td>\n",
       "      <td>6.81</td>\n",
       "      <td>0.77</td>\n",
       "      <td>NaN</td>\n",
       "      <td>NaN</td>\n",
       "      <td>NaN</td>\n",
       "      <td>40.24</td>\n",
       "    </tr>\n",
       "    <tr>\n",
       "      <th>2</th>\n",
       "      <td>mario kart wii</td>\n",
       "      <td>Wii</td>\n",
       "      <td>2008</td>\n",
       "      <td>Racing</td>\n",
       "      <td>15.68</td>\n",
       "      <td>12.76</td>\n",
       "      <td>3.79</td>\n",
       "      <td>3.29</td>\n",
       "      <td>82.0</td>\n",
       "      <td>8.3</td>\n",
       "      <td>E</td>\n",
       "      <td>35.52</td>\n",
       "    </tr>\n",
       "    <tr>\n",
       "      <th>3</th>\n",
       "      <td>wii sports resort</td>\n",
       "      <td>Wii</td>\n",
       "      <td>2009</td>\n",
       "      <td>Sports</td>\n",
       "      <td>15.61</td>\n",
       "      <td>10.93</td>\n",
       "      <td>3.28</td>\n",
       "      <td>2.95</td>\n",
       "      <td>80.0</td>\n",
       "      <td>8</td>\n",
       "      <td>E</td>\n",
       "      <td>32.77</td>\n",
       "    </tr>\n",
       "    <tr>\n",
       "      <th>4</th>\n",
       "      <td>pokemon red/pokemon blue</td>\n",
       "      <td>GB</td>\n",
       "      <td>1996</td>\n",
       "      <td>Role-Playing</td>\n",
       "      <td>11.27</td>\n",
       "      <td>8.89</td>\n",
       "      <td>10.22</td>\n",
       "      <td>1.00</td>\n",
       "      <td>NaN</td>\n",
       "      <td>NaN</td>\n",
       "      <td>NaN</td>\n",
       "      <td>31.38</td>\n",
       "    </tr>\n",
       "    <tr>\n",
       "      <th>5</th>\n",
       "      <td>tetris</td>\n",
       "      <td>GB</td>\n",
       "      <td>1989</td>\n",
       "      <td>Puzzle</td>\n",
       "      <td>23.20</td>\n",
       "      <td>2.26</td>\n",
       "      <td>4.22</td>\n",
       "      <td>0.58</td>\n",
       "      <td>NaN</td>\n",
       "      <td>NaN</td>\n",
       "      <td>NaN</td>\n",
       "      <td>30.26</td>\n",
       "    </tr>\n",
       "    <tr>\n",
       "      <th>6</th>\n",
       "      <td>new super mario bros.</td>\n",
       "      <td>DS</td>\n",
       "      <td>2006</td>\n",
       "      <td>Platform</td>\n",
       "      <td>11.28</td>\n",
       "      <td>9.14</td>\n",
       "      <td>6.50</td>\n",
       "      <td>2.88</td>\n",
       "      <td>89.0</td>\n",
       "      <td>8.5</td>\n",
       "      <td>E</td>\n",
       "      <td>29.80</td>\n",
       "    </tr>\n",
       "    <tr>\n",
       "      <th>7</th>\n",
       "      <td>wii play</td>\n",
       "      <td>Wii</td>\n",
       "      <td>2006</td>\n",
       "      <td>Misc</td>\n",
       "      <td>13.96</td>\n",
       "      <td>9.18</td>\n",
       "      <td>2.93</td>\n",
       "      <td>2.84</td>\n",
       "      <td>58.0</td>\n",
       "      <td>6.6</td>\n",
       "      <td>E</td>\n",
       "      <td>28.91</td>\n",
       "    </tr>\n",
       "    <tr>\n",
       "      <th>8</th>\n",
       "      <td>new super mario bros. wii</td>\n",
       "      <td>Wii</td>\n",
       "      <td>2009</td>\n",
       "      <td>Platform</td>\n",
       "      <td>14.44</td>\n",
       "      <td>6.94</td>\n",
       "      <td>4.70</td>\n",
       "      <td>2.24</td>\n",
       "      <td>87.0</td>\n",
       "      <td>8.4</td>\n",
       "      <td>E</td>\n",
       "      <td>28.32</td>\n",
       "    </tr>\n",
       "    <tr>\n",
       "      <th>9</th>\n",
       "      <td>duck hunt</td>\n",
       "      <td>NES</td>\n",
       "      <td>1984</td>\n",
       "      <td>Shooter</td>\n",
       "      <td>26.93</td>\n",
       "      <td>0.63</td>\n",
       "      <td>0.28</td>\n",
       "      <td>0.47</td>\n",
       "      <td>NaN</td>\n",
       "      <td>NaN</td>\n",
       "      <td>NaN</td>\n",
       "      <td>28.31</td>\n",
       "    </tr>\n",
       "  </tbody>\n",
       "</table>\n",
       "</div>"
      ],
      "text/plain": [
       "                        name platform  year_of_release         genre  \\\n",
       "0                 wii sports      Wii             2006        Sports   \n",
       "1          super mario bros.      NES             1985      Platform   \n",
       "2             mario kart wii      Wii             2008        Racing   \n",
       "3          wii sports resort      Wii             2009        Sports   \n",
       "4   pokemon red/pokemon blue       GB             1996  Role-Playing   \n",
       "5                     tetris       GB             1989        Puzzle   \n",
       "6      new super mario bros.       DS             2006      Platform   \n",
       "7                   wii play      Wii             2006          Misc   \n",
       "8  new super mario bros. wii      Wii             2009      Platform   \n",
       "9                  duck hunt      NES             1984       Shooter   \n",
       "\n",
       "   na_sales  eu_sales  jp_sales  other_sales  critic_score user_score rating  \\\n",
       "0     41.36     28.96      3.77         8.45          76.0          8      E   \n",
       "1     29.08      3.58      6.81         0.77           NaN        NaN    NaN   \n",
       "2     15.68     12.76      3.79         3.29          82.0        8.3      E   \n",
       "3     15.61     10.93      3.28         2.95          80.0          8      E   \n",
       "4     11.27      8.89     10.22         1.00           NaN        NaN    NaN   \n",
       "5     23.20      2.26      4.22         0.58           NaN        NaN    NaN   \n",
       "6     11.28      9.14      6.50         2.88          89.0        8.5      E   \n",
       "7     13.96      9.18      2.93         2.84          58.0        6.6      E   \n",
       "8     14.44      6.94      4.70         2.24          87.0        8.4      E   \n",
       "9     26.93      0.63      0.28         0.47           NaN        NaN    NaN   \n",
       "\n",
       "   all_sales  \n",
       "0      82.54  \n",
       "1      40.24  \n",
       "2      35.52  \n",
       "3      32.77  \n",
       "4      31.38  \n",
       "5      30.26  \n",
       "6      29.80  \n",
       "7      28.91  \n",
       "8      28.32  \n",
       "9      28.31  "
      ]
     },
     "execution_count": 75,
     "metadata": {},
     "output_type": "execute_result"
    }
   ],
   "source": [
    "data['all_sales'] = data['na_sales'] + data['eu_sales'] + data['jp_sales']+data['other_sales'] \n",
    "# создаем столбец с суммарными продажами\n",
    "data.sort_values(by = 'all_sales', ascending = False).head(10) #выведем топ-10 игр за всю историю"
   ]
  },
  {
   "cell_type": "markdown",
   "metadata": {},
   "source": [
    "Определим границу для отбора данных. Для этого выведем параметры общего количества продаж. Прибавив к среднему значению утроенное стандартное отклонение, получим верхнюю границу для отсечения - 5.2 млн копий."
   ]
  },
  {
   "cell_type": "code",
   "execution_count": 76,
   "metadata": {
    "scrolled": true
   },
   "outputs": [
    {
     "data": {
      "text/plain": [
       "count    16444.000000\n",
       "mean         0.536023\n",
       "std          1.558786\n",
       "min          0.000000\n",
       "25%          0.060000\n",
       "50%          0.170000\n",
       "75%          0.470000\n",
       "max         82.540000\n",
       "Name: all_sales, dtype: float64"
      ]
     },
     "execution_count": 76,
     "metadata": {},
     "output_type": "execute_result"
    }
   ],
   "source": [
    "data['all_sales'].describe()"
   ]
  },
  {
   "cell_type": "code",
   "execution_count": 77,
   "metadata": {},
   "outputs": [],
   "source": [
    "data = data.query('all_sales<5.2')"
   ]
  },
  {
   "cell_type": "markdown",
   "metadata": {},
   "source": [
    "### Столбец critic_score\n",
    "\n",
    "Рейтинговые параметры имеют огромную долю пропусков - их чуть менее половины от общего числа строк. Частично такая ситуация могла возникнуть у старых релизов, так как до масштабного развития рынка видеоигр рейтинги не систематизировались в едином источнике. \n",
    "Выбрасывать такое количество данных будет нерациональным. Пропуски заполним значением \"заглушкой\" 0. "
   ]
  },
  {
   "cell_type": "code",
   "execution_count": 78,
   "metadata": {
    "scrolled": true
   },
   "outputs": [
    {
     "data": {
      "text/plain": [
       "<AxesSubplot:>"
      ]
     },
     "execution_count": 78,
     "metadata": {},
     "output_type": "execute_result"
    },
    {
     "data": {
      "image/png": "[encoded data removed]",
      "text/plain": [
       "<Figure size 864x288 with 1 Axes>"
      ]
     },
     "metadata": {},
     "output_type": "display_data"
    }
   ],
   "source": [
    "data['critic_score'].hist()"
   ]
  },
  {
   "cell_type": "code",
   "execution_count": 122,
   "metadata": {},
   "outputs": [],
   "source": [
    "data['critic_score'] = data['critic_score'].fillna(0) #проставляем 0"
   ]
  },
  {
   "cell_type": "markdown",
   "metadata": {},
   "source": [
    "### Столбец user_score\n",
    "\n",
    "Аналогично оценкам критиков, пользовательские оценки получили распространённость только с появлением игровых цифровых маркетплейсов. Не все платформы собирают отзывы игроков в своих магазинах. Некоторые нишевые или старые игры могут иметь недостаточно оценок для выставления среднего. Всё это приводит к многочисленным пропускам в этом столбце. Новые релизы ещё могли не успеть собрать оценок пользователей, тогда возникает значение tbd='to be discussed'. Из-за наличия строкового значения, весь столбец получил формат object. Заменим tbd  и пропуски на 0 и переведём столбец в числовой формат."
   ]
  },
  {
   "cell_type": "code",
   "execution_count": 80,
   "metadata": {},
   "outputs": [
    {
     "data": {
      "text/plain": [
       "array(['8.6', nan, '6.1', '4', '7.6', '8.5', '6.5', '7.5', '8', '9',\n",
       "       '9.2', '8.2', '7.1', '8.1', '7.3', '8.7', '5.4', '7.7', '8.9',\n",
       "       '8.4', '7.9', '6.4', '3.4', '9.1', '8.3', '4.8', '4.9', '4.5',\n",
       "       '9.3', '6.2', '4.2', '7.8', '7.2', '6', '6.3', 'tbd', '8.8', '6.7',\n",
       "       '7.4', '3.7', '7', '6.9', '6.8', '4.1', '5.8', '5.6', '5.5', '4.4',\n",
       "       '4.6', '5.9', '3.9', '6.6', '4.3', '5.3', '3.2', '5.7', '3.1',\n",
       "       '2.9', '9.4', '5.2', '5', '3.3', '4.7', '5.1', '3.5', '2.5', '1.9',\n",
       "       '3', '2.7', '2.2', '2', '9.5', '2.6', '2.1', '3.6', '2.8', '1.8',\n",
       "       '3.8', '0', '1.6', '9.6', '2.4', '1.7', '1.1', '0.3', '1.5', '0.7',\n",
       "       '1.2', '2.3', '0.5', '1.3', '0.2', '0.6', '1.4', '0.9', '1', '9.7'],\n",
       "      dtype=object)"
      ]
     },
     "execution_count": 80,
     "metadata": {},
     "output_type": "execute_result"
    }
   ],
   "source": [
    "data['user_score'].unique() #проверим уникальные значения, среди чисел есть одна строка"
   ]
  },
  {
   "cell_type": "code",
   "execution_count": 81,
   "metadata": {
    "scrolled": true
   },
   "outputs": [
    {
     "data": {
      "text/plain": [
       "<AxesSubplot:>"
      ]
     },
     "execution_count": 81,
     "metadata": {},
     "output_type": "execute_result"
    },
    {
     "data": {
      "image/png": "[encoded data removed]",
      "text/plain": [
       "<Figure size 864x288 with 1 Axes>"
      ]
     },
     "metadata": {},
     "output_type": "display_data"
    }
   ],
   "source": [
    "data['user_score'] = data['user_score'].replace('tbd', '0') #заменяем неопределенный рейтинг на 0\n",
    "data['user_score'] = data['user_score'].astype('float') #переводим в числовой формат\n",
    "data['user_score'] = data['user_score'].fillna(0) # остальные пропуски заменяем на 0\n",
    "data.loc[data['user_score']!=0, 'user_score'].hist() # итоговая гистограмма без 0"
   ]
  },
  {
   "cell_type": "markdown",
   "metadata": {},
   "source": [
    "### Столбец rating\n",
    "\n",
    "Рейтинг видеоигр используется для определения допустимости контента для разных возрастных групп. В базе данных представлен Entertainment Software Rating Board (ESRB) - это северо-американская классификация. Игры, ориентированные только на азиатские рынки могут её не иметь. Кроме этого, есть альтернативные системы, такие как PEGI, в случае, если игра была классифицирована по ней, аналог в ESRB мог не указываться. Всё это приводит к большому количеству невосстанавливаемых пропусков. Заменим в дубликатах на моду, а во все остальные проставим unknown. Также создадим дополнительный столбец, где для удобства анализа переведём буквенную кодировку в значения возраста."
   ]
  },
  {
   "cell_type": "code",
   "execution_count": 82,
   "metadata": {},
   "outputs": [
    {
     "data": {
      "text/plain": [
       "array(['E', nan, 'M', 'T', 'E10+', 'K-A', 'AO', 'EC', 'RP'], dtype=object)"
      ]
     },
     "execution_count": 82,
     "metadata": {},
     "output_type": "execute_result"
    }
   ],
   "source": [
    "data['rating'].unique() #уникальные значения соответствуют ESRB"
   ]
  },
  {
   "cell_type": "code",
   "execution_count": 83,
   "metadata": {},
   "outputs": [],
   "source": [
    "for game in duplicates_list: #замена пропусков в дубликатах на моду\n",
    "    data['rating'] = data['rating'].fillna(data.loc[data['name'] == game, 'rating'].mode()) \n",
    "data['rating'] = data['rating'].fillna('unknown') #остальные пропуски заменяем заглушкой"
   ]
  },
  {
   "cell_type": "code",
   "execution_count": 84,
   "metadata": {},
   "outputs": [],
   "source": [
    "def rating_age(rating): #функция для перевода буквенной классификации в возрастную\n",
    "    if rating == 'E':\n",
    "        return '0+'\n",
    "    elif rating == 'K-A':\n",
    "        return '0+'\n",
    "    elif rating == 'EC':\n",
    "        return '3+'\n",
    "    elif rating == 'E10+':\n",
    "        return '10+'\n",
    "    elif rating == 'T':\n",
    "        return '13+'\n",
    "    elif rating == 'M':\n",
    "        return '17+'\n",
    "    elif rating == 'AO':\n",
    "        return '18+'\n",
    "    elif rating == 'RP':\n",
    "        return 'NoCat'\n",
    "    elif rating == 'unknown':\n",
    "        return 'NoCat'"
   ]
  },
  {
   "cell_type": "code",
   "execution_count": 85,
   "metadata": {},
   "outputs": [],
   "source": [
    "data['rating_age'] = data['rating'].apply(rating_age) #создаём дополнительный столбец с возрастами"
   ]
  },
  {
   "cell_type": "code",
   "execution_count": 86,
   "metadata": {},
   "outputs": [
    {
     "data": {
      "text/plain": [
       "name               0\n",
       "platform           0\n",
       "year_of_release    0\n",
       "genre              0\n",
       "na_sales           0\n",
       "eu_sales           0\n",
       "jp_sales           0\n",
       "other_sales        0\n",
       "critic_score       0\n",
       "user_score         0\n",
       "rating             0\n",
       "all_sales          0\n",
       "rating_age         0\n",
       "dtype: int64"
      ]
     },
     "execution_count": 86,
     "metadata": {},
     "output_type": "execute_result"
    }
   ],
   "source": [
    "data.drop_duplicates() #удаляем полные дубликаты \n",
    "data.isna().sum() #проверяем заполненность всех пропусков"
   ]
  },
  {
   "cell_type": "markdown",
   "metadata": {},
   "source": [
    "## Исследовательский анализ данных\n",
    "\n",
    "Главная цель исследования - сделать прогноз на 2017 год. Данные изначальной выборки для этого явно излишни. Нам предстоит выделить циклы развития рынка видеоигр, чтобы оставить для анализа данные только текущего периода."
   ]
  },
  {
   "cell_type": "markdown",
   "metadata": {},
   "source": [
    "### Количество выпущенных игр по годам\n",
    "\n",
    "Выведем общую статистику продаж игр по годам с 1980 по 2016. Можно выделить следующие периоды: зачатки индустрии с 1980 по 1993, бурное развитие технологий с 1994 по 2001. Выход на массовый рынок и бум выпуска видеоигр в 2002-2010. С 2010 происходит постепенное усложнение процесса разработки, которое делает его более долгим и менее доступным для инди-разработчиков. С 2013 года количество выпущенных игр становится на поток и выходит на плато. "
   ]
  },
  {
   "cell_type": "code",
   "execution_count": 87,
   "metadata": {},
   "outputs": [
    {
     "data": {
      "text/plain": [
       "<AxesSubplot:xlabel='год выпуска', ylabel='количество'>"
      ]
     },
     "execution_count": 87,
     "metadata": {},
     "output_type": "execute_result"
    },
    {
     "data": {
      "image/png": "[encoded data removed]",
      "text/plain": [
       "<Figure size 720x288 with 1 Axes>"
      ]
     },
     "metadata": {},
     "output_type": "display_data"
    }
   ],
   "source": [
    "data.groupby('year_of_release')['year_of_release'].count().plot(kind = 'bar', figsize = (10, 4), xlabel = 'год выпуска', ylabel = 'количество')"
   ]
  },
  {
   "cell_type": "markdown",
   "metadata": {},
   "source": [
    "### Продажи на разных платформах\n",
    "\n",
    "Так как технические требования к играм постоянно меняются, срок жизни игровой платформы составляет всего несколько лет, и выпускать продукты для устаревших платформ не имеет смысла. Выясним, какие 15 игровых платформ были наиболее популярны за весь период исследования и построим хитмеп с распределением продаж по годам, чтобы выделить наиболее перспективные модели.\n"
   ]
  },
  {
   "cell_type": "code",
   "execution_count": 88,
   "metadata": {
    "scrolled": true
   },
   "outputs": [
    {
     "data": {
      "text/plain": [
       "<AxesSubplot:title={'center':'топ-15 игровых платформ'}, xlabel='игровая платформа', ylabel='количество проданных игр'>"
      ]
     },
     "execution_count": 88,
     "metadata": {},
     "output_type": "execute_result"
    },
    {
     "data": {
      "image/png": "[encoded data removed]",
      "text/plain": [
       "<Figure size 864x288 with 1 Axes>"
      ]
     },
     "metadata": {},
     "output_type": "display_data"
    }
   ],
   "source": [
    "#Построим столбчатую диаграмму общих продаж по разным платформам и выведем топ-15\n",
    "max_sales = data.pivot_table(index = 'platform', values = 'all_sales', aggfunc = 'sum').sort_values(by = 'all_sales', ascending = False).head(15)\n",
    "max_sales.plot(kind = 'bar', xlabel = 'игровая платформа', ylabel = 'количество проданных игр', title = 'топ-15 игровых платформ')"
   ]
  },
  {
   "cell_type": "code",
   "execution_count": 89,
   "metadata": {},
   "outputs": [
    {
     "data": {
      "text/plain": [
       "Text(0.5, 1.0, 'Распределение продаж на разных платформах по годам')"
      ]
     },
     "execution_count": 89,
     "metadata": {},
     "output_type": "execute_result"
    },
    {
     "data": {
      "image/png": "[encoded data removed]",
      "text/plain": [
       "<Figure size 864x288 with 2 Axes>"
      ]
     },
     "metadata": {},
     "output_type": "display_data"
    }
   ],
   "source": [
    "# сформируем сводную таблицу продаж по годам и платформам\n",
    "year_sales = data.pivot_table(index = 'platform', columns = 'year_of_release', values = 'all_sales', aggfunc = 'sum')\n",
    "year_max_sales = max_sales.join(year_sales, how = 'inner') #объединим её с таблицей топ-15 платформ\n",
    "sns.heatmap(year_max_sales, cmap=\"crest\")#строим хитмеп распределения продаж по годам\n",
    "plt.title('Распределение продаж на разных платформах по годам')"
   ]
  },
  {
   "cell_type": "code",
   "execution_count": 90,
   "metadata": {},
   "outputs": [],
   "source": [
    "data_new = data.query('year_of_release>2013').reset_index(drop = True) \n",
    "# создаём новый датасет для анализа с датами начиная с 2014 "
   ]
  },
  {
   "cell_type": "code",
   "execution_count": 91,
   "metadata": {},
   "outputs": [
    {
     "data": {
      "text/html": [
       "<div>\n",
       "<style scoped>\n",
       "    .dataframe tbody tr th:only-of-type {\n",
       "        vertical-align: middle;\n",
       "    }\n",
       "\n",
       "    .dataframe tbody tr th {\n",
       "        vertical-align: top;\n",
       "    }\n",
       "\n",
       "    .dataframe thead th {\n",
       "        text-align: right;\n",
       "    }\n",
       "</style>\n",
       "<table border=\"1\" class=\"dataframe\">\n",
       "  <thead>\n",
       "    <tr style=\"text-align: right;\">\n",
       "      <th>year_of_release</th>\n",
       "      <th>2014</th>\n",
       "      <th>2015</th>\n",
       "      <th>2016</th>\n",
       "      <th>total_sales</th>\n",
       "    </tr>\n",
       "    <tr>\n",
       "      <th>platform</th>\n",
       "      <th></th>\n",
       "      <th></th>\n",
       "      <th></th>\n",
       "      <th></th>\n",
       "    </tr>\n",
       "  </thead>\n",
       "  <tbody>\n",
       "    <tr>\n",
       "      <th>3DS</th>\n",
       "      <td>24.53</td>\n",
       "      <td>27.78</td>\n",
       "      <td>8.00</td>\n",
       "      <td>60.31</td>\n",
       "    </tr>\n",
       "    <tr>\n",
       "      <th>PC</th>\n",
       "      <td>13.28</td>\n",
       "      <td>8.52</td>\n",
       "      <td>5.25</td>\n",
       "      <td>27.05</td>\n",
       "    </tr>\n",
       "    <tr>\n",
       "      <th>PS3</th>\n",
       "      <td>42.49</td>\n",
       "      <td>16.82</td>\n",
       "      <td>3.60</td>\n",
       "      <td>62.91</td>\n",
       "    </tr>\n",
       "    <tr>\n",
       "      <th>PS4</th>\n",
       "      <td>68.00</td>\n",
       "      <td>80.54</td>\n",
       "      <td>56.26</td>\n",
       "      <td>204.80</td>\n",
       "    </tr>\n",
       "    <tr>\n",
       "      <th>PSP</th>\n",
       "      <td>0.24</td>\n",
       "      <td>0.12</td>\n",
       "      <td>NaN</td>\n",
       "      <td>NaN</td>\n",
       "    </tr>\n",
       "    <tr>\n",
       "      <th>PSV</th>\n",
       "      <td>11.90</td>\n",
       "      <td>6.25</td>\n",
       "      <td>4.25</td>\n",
       "      <td>22.40</td>\n",
       "    </tr>\n",
       "    <tr>\n",
       "      <th>Wii</th>\n",
       "      <td>3.75</td>\n",
       "      <td>1.14</td>\n",
       "      <td>0.18</td>\n",
       "      <td>5.07</td>\n",
       "    </tr>\n",
       "    <tr>\n",
       "      <th>WiiU</th>\n",
       "      <td>14.94</td>\n",
       "      <td>16.35</td>\n",
       "      <td>4.60</td>\n",
       "      <td>35.89</td>\n",
       "    </tr>\n",
       "    <tr>\n",
       "      <th>X360</th>\n",
       "      <td>34.74</td>\n",
       "      <td>11.96</td>\n",
       "      <td>1.52</td>\n",
       "      <td>48.22</td>\n",
       "    </tr>\n",
       "    <tr>\n",
       "      <th>XOne</th>\n",
       "      <td>43.34</td>\n",
       "      <td>52.75</td>\n",
       "      <td>26.15</td>\n",
       "      <td>122.24</td>\n",
       "    </tr>\n",
       "  </tbody>\n",
       "</table>\n",
       "</div>"
      ],
      "text/plain": [
       "year_of_release   2014   2015   2016  total_sales\n",
       "platform                                         \n",
       "3DS              24.53  27.78   8.00        60.31\n",
       "PC               13.28   8.52   5.25        27.05\n",
       "PS3              42.49  16.82   3.60        62.91\n",
       "PS4              68.00  80.54  56.26       204.80\n",
       "PSP               0.24   0.12    NaN          NaN\n",
       "PSV              11.90   6.25   4.25        22.40\n",
       "Wii               3.75   1.14   0.18         5.07\n",
       "WiiU             14.94  16.35   4.60        35.89\n",
       "X360             34.74  11.96   1.52        48.22\n",
       "XOne             43.34  52.75  26.15       122.24"
      ]
     },
     "execution_count": 91,
     "metadata": {},
     "output_type": "execute_result"
    }
   ],
   "source": [
    "#сводная таблица продаж по годам\n",
    "sales_new = data_new.pivot_table(index = 'platform', columns = 'year_of_release', values = 'all_sales', aggfunc = 'sum')\n",
    "sales_new['total_sales'] = sales_new[2014]+sales_new[2015]+sales_new[2016] #столбец с суммой продаж за 3 года\n",
    "sales_new"
   ]
  },
  {
   "cell_type": "code",
   "execution_count": 92,
   "metadata": {
    "scrolled": true
   },
   "outputs": [
    {
     "data": {
      "image/png": "[encoded data removed]",
      "text/plain": [
       "<Figure size 864x288 with 1 Axes>"
      ]
     },
     "metadata": {},
     "output_type": "display_data"
    }
   ],
   "source": [
    "# датасет только по 4 актуальным платформам\n",
    "data_actual = data_new.loc[(data_new['platform'] == '3DS') | (data_new['platform'] == 'PS4') | (data_new['platform'] == 'XOne') | (data_new['platform'] == 'PC')]\n",
    "sns.set(rc = {\"figure.figsize\":(12, 4)})\n",
    "box = sns.boxplot(data = data_actual, x='all_sales', y = 'platform') #ящики со статистикой продаж"
   ]
  },
  {
   "cell_type": "markdown",
   "metadata": {},
   "source": [
    "**Вывод** Временные циклы в развитии рынка игровых платформ примерно соответствуют предыдущим выводам по уровню продаж. Становится понятным, что для анализа стоит выбрать промежуток с 2014 по 2016 год. Большинство старых платформ уже не поддерживается новыми релизами, а все новые поколения укрепились на рынке в этот период. Бум портативных и малоизвестных на мировом рынке азиатских платформ к 2014 уже завершился и остались только три крупных производителя - Sony(PS4), Microsoft(Xbox One), Nintengo(3DS). Кроме этого, ПК остаётся хотя и не лидирующей, но стабильно используемой платформой для видеоигр. Игровые приставки в разы превосходят продажи игр на ПК, но при этом имеют небольшой срок жизни не более 5-10 лет, в то время как ПК показывает стабильный уровень из года в год. Компактные платформы почти полностью уступили рынок стационарным. Единственная оставшаяся мобильная платформа 3DS к 2016 году потеряла в объёмах продаж, но всё ещё занимает ощутимую долю рынка, поэтому в 2017 её ещё не стоит исключать из списка лидеров. \n"
   ]
  },
  {
   "cell_type": "markdown",
   "metadata": {},
   "source": [
    "  ### Анализ влияния рейтингов на уровень продаж\n",
    "  \n",
    "  Проанализируем, стоит ли опираться на оценки игроков и критиков при выборе наиболее прибыльных направлений. Заметим, что при обработке данных в столбцах были проставлены 0 в качестве заглушек, поэтому, чтобы не искажать статистику, исключим такие строки из анализа. Для более точного исследования проведём его сначала только внутри одной платформы, наиболее популярной PS4. Вычислим корреляцию и построим диаграммы рассеивания"
   ]
  },
  {
   "cell_type": "code",
   "execution_count": 93,
   "metadata": {},
   "outputs": [
    {
     "data": {
      "text/plain": [
       "(226, 13)"
      ]
     },
     "execution_count": 93,
     "metadata": {},
     "output_type": "execute_result"
    }
   ],
   "source": [
    "data_PS = data_new.query('platform == \"PS4\" and critic_score>0 and user_score>0').reset_index(drop = True)\n",
    "data_PS.shape"
   ]
  },
  {
   "cell_type": "code",
   "execution_count": 94,
   "metadata": {},
   "outputs": [
    {
     "data": {
      "text/plain": [
       "year_of_release   -0.207710\n",
       "na_sales           0.919769\n",
       "eu_sales           0.931685\n",
       "jp_sales           0.554828\n",
       "other_sales        0.996519\n",
       "critic_score       0.393945\n",
       "user_score         0.020501\n",
       "all_sales          1.000000\n",
       "Name: all_sales, dtype: float64"
      ]
     },
     "execution_count": 94,
     "metadata": {},
     "output_type": "execute_result"
    }
   ],
   "source": [
    "data_PS.corr()['all_sales'] # корреляция общего уровня продаж с другими параметрами"
   ]
  },
  {
   "cell_type": "code",
   "execution_count": 95,
   "metadata": {},
   "outputs": [
    {
     "name": "stderr",
     "output_type": "stream",
     "text": [
      "*c* argument looks like a single numeric RGB or RGBA sequence, which should be avoided as value-mapping will have precedence in case its length matches with *x* & *y*.  Please use the *color* keyword-argument or provide a 2-D array with a single row if you intend to specify the same RGB or RGBA value for all points.\n"
     ]
    },
    {
     "data": {
      "text/plain": [
       "<AxesSubplot:title={'center':'зависимость продаж от оценки критиков PS4'}, xlabel='продажи', ylabel='оценка критиков'>"
      ]
     },
     "execution_count": 95,
     "metadata": {},
     "output_type": "execute_result"
    },
    {
     "data": {
      "image/png": "[encoded data removed]",
      "text/plain": [
       "<Figure size 288x288 with 1 Axes>"
      ]
     },
     "metadata": {},
     "output_type": "display_data"
    }
   ],
   "source": [
    "#диаграмма рассеивания зависимости продаж от оценки критиков\n",
    "data_PS.plot(x ='all_sales', y ='critic_score', kind='scatter', figsize = (4,4), ylabel = 'оценка критиков', xlabel = 'продажи', title = 'зависимость продаж от оценки критиков PS4')"
   ]
  },
  {
   "cell_type": "code",
   "execution_count": 96,
   "metadata": {
    "scrolled": false
   },
   "outputs": [
    {
     "name": "stderr",
     "output_type": "stream",
     "text": [
      "*c* argument looks like a single numeric RGB or RGBA sequence, which should be avoided as value-mapping will have precedence in case its length matches with *x* & *y*.  Please use the *color* keyword-argument or provide a 2-D array with a single row if you intend to specify the same RGB or RGBA value for all points.\n"
     ]
    },
    {
     "data": {
      "text/plain": [
       "<AxesSubplot:title={'center':'зависимость продаж от оценки пользователей'}, xlabel='продажи', ylabel='оценка игроков'>"
      ]
     },
     "execution_count": 96,
     "metadata": {},
     "output_type": "execute_result"
    },
    {
     "data": {
      "image/png": "[encoded data removed]",
      "text/plain": [
       "<Figure size 288x288 with 1 Axes>"
      ]
     },
     "metadata": {},
     "output_type": "display_data"
    }
   ],
   "source": [
    "#диаграмма рассеивания зависимости продаж от оценки пользователей\n",
    "data_PS.plot(x ='all_sales', y ='user_score', kind='scatter', figsize = (4,4), ylabel = 'оценка игроков', xlabel = 'продажи', title = 'зависимость продаж от оценки пользователей')"
   ]
  },
  {
   "cell_type": "markdown",
   "metadata": {},
   "source": [
    "Корреляция между продажами и оценкой критиков невысокая, но всё же есть - около 0,4. На графике видно, что бестселлерами становятся только высоко оцененные критиками игры. Для оценки игроков корреляция почти 0 - игра очень низкой оценкой может выходить в топ продаж. В этом случае, как правило, ожидания игроков становятся завышенными и они начинают критичнее относится к любым недостаткам.\n",
    "Изучим аномальные случаи - найдём самую продаваемую игру с низкой оценкой игроков и самую высокооценённую критиками игру, провалившую продажи."
   ]
  },
  {
   "cell_type": "code",
   "execution_count": 97,
   "metadata": {},
   "outputs": [
    {
     "data": {
      "text/html": [
       "<div>\n",
       "<style scoped>\n",
       "    .dataframe tbody tr th:only-of-type {\n",
       "        vertical-align: middle;\n",
       "    }\n",
       "\n",
       "    .dataframe tbody tr th {\n",
       "        vertical-align: top;\n",
       "    }\n",
       "\n",
       "    .dataframe thead th {\n",
       "        text-align: right;\n",
       "    }\n",
       "</style>\n",
       "<table border=\"1\" class=\"dataframe\">\n",
       "  <thead>\n",
       "    <tr style=\"text-align: right;\">\n",
       "      <th></th>\n",
       "      <th>name</th>\n",
       "      <th>platform</th>\n",
       "      <th>year_of_release</th>\n",
       "      <th>genre</th>\n",
       "      <th>na_sales</th>\n",
       "      <th>eu_sales</th>\n",
       "      <th>jp_sales</th>\n",
       "      <th>other_sales</th>\n",
       "      <th>critic_score</th>\n",
       "      <th>user_score</th>\n",
       "      <th>rating</th>\n",
       "      <th>all_sales</th>\n",
       "      <th>rating_age</th>\n",
       "    </tr>\n",
       "  </thead>\n",
       "  <tbody>\n",
       "    <tr>\n",
       "      <th>1</th>\n",
       "      <td>call of duty: infinite warfare</td>\n",
       "      <td>PS4</td>\n",
       "      <td>2016</td>\n",
       "      <td>Shooter</td>\n",
       "      <td>1.61</td>\n",
       "      <td>2.00</td>\n",
       "      <td>0.15</td>\n",
       "      <td>0.71</td>\n",
       "      <td>77.0</td>\n",
       "      <td>3.4</td>\n",
       "      <td>M</td>\n",
       "      <td>4.47</td>\n",
       "      <td>17+</td>\n",
       "    </tr>\n",
       "    <tr>\n",
       "      <th>6</th>\n",
       "      <td>assassin's creed: unity</td>\n",
       "      <td>PS4</td>\n",
       "      <td>2014</td>\n",
       "      <td>Action</td>\n",
       "      <td>1.19</td>\n",
       "      <td>2.07</td>\n",
       "      <td>0.08</td>\n",
       "      <td>0.62</td>\n",
       "      <td>70.0</td>\n",
       "      <td>4.9</td>\n",
       "      <td>M</td>\n",
       "      <td>3.96</td>\n",
       "      <td>17+</td>\n",
       "    </tr>\n",
       "    <tr>\n",
       "      <th>32</th>\n",
       "      <td>madden nfl 17</td>\n",
       "      <td>PS4</td>\n",
       "      <td>2016</td>\n",
       "      <td>Sports</td>\n",
       "      <td>1.25</td>\n",
       "      <td>0.17</td>\n",
       "      <td>0.00</td>\n",
       "      <td>0.32</td>\n",
       "      <td>82.0</td>\n",
       "      <td>4.9</td>\n",
       "      <td>E</td>\n",
       "      <td>1.74</td>\n",
       "      <td>0+</td>\n",
       "    </tr>\n",
       "    <tr>\n",
       "      <th>35</th>\n",
       "      <td>no man's sky</td>\n",
       "      <td>PS4</td>\n",
       "      <td>2016</td>\n",
       "      <td>Action</td>\n",
       "      <td>0.63</td>\n",
       "      <td>0.76</td>\n",
       "      <td>0.03</td>\n",
       "      <td>0.27</td>\n",
       "      <td>71.0</td>\n",
       "      <td>4.5</td>\n",
       "      <td>T</td>\n",
       "      <td>1.69</td>\n",
       "      <td>13+</td>\n",
       "    </tr>\n",
       "  </tbody>\n",
       "</table>\n",
       "</div>"
      ],
      "text/plain": [
       "                              name platform  year_of_release    genre  \\\n",
       "1   call of duty: infinite warfare      PS4             2016  Shooter   \n",
       "6          assassin's creed: unity      PS4             2014   Action   \n",
       "32                   madden nfl 17      PS4             2016   Sports   \n",
       "35                    no man's sky      PS4             2016   Action   \n",
       "\n",
       "    na_sales  eu_sales  jp_sales  other_sales  critic_score  user_score  \\\n",
       "1       1.61      2.00      0.15         0.71          77.0         3.4   \n",
       "6       1.19      2.07      0.08         0.62          70.0         4.9   \n",
       "32      1.25      0.17      0.00         0.32          82.0         4.9   \n",
       "35      0.63      0.76      0.03         0.27          71.0         4.5   \n",
       "\n",
       "   rating  all_sales rating_age  \n",
       "1       M       4.47        17+  \n",
       "6       M       3.96        17+  \n",
       "32      E       1.74         0+  \n",
       "35      T       1.69        13+  "
      ]
     },
     "execution_count": 97,
     "metadata": {},
     "output_type": "execute_result"
    }
   ],
   "source": [
    "data_PS.query('all_sales>1 and user_score<5') # игры с высокими продажами и низким рейтингом"
   ]
  },
  {
   "cell_type": "code",
   "execution_count": 98,
   "metadata": {},
   "outputs": [
    {
     "data": {
      "text/html": [
       "<div>\n",
       "<style scoped>\n",
       "    .dataframe tbody tr th:only-of-type {\n",
       "        vertical-align: middle;\n",
       "    }\n",
       "\n",
       "    .dataframe tbody tr th {\n",
       "        vertical-align: top;\n",
       "    }\n",
       "\n",
       "    .dataframe thead th {\n",
       "        text-align: right;\n",
       "    }\n",
       "</style>\n",
       "<table border=\"1\" class=\"dataframe\">\n",
       "  <thead>\n",
       "    <tr style=\"text-align: right;\">\n",
       "      <th></th>\n",
       "      <th>name</th>\n",
       "      <th>platform</th>\n",
       "      <th>year_of_release</th>\n",
       "      <th>genre</th>\n",
       "      <th>na_sales</th>\n",
       "      <th>eu_sales</th>\n",
       "      <th>jp_sales</th>\n",
       "      <th>other_sales</th>\n",
       "      <th>critic_score</th>\n",
       "      <th>user_score</th>\n",
       "      <th>rating</th>\n",
       "      <th>all_sales</th>\n",
       "      <th>rating_age</th>\n",
       "    </tr>\n",
       "  </thead>\n",
       "  <tbody>\n",
       "    <tr>\n",
       "      <th>159</th>\n",
       "      <td>blazblue central fiction</td>\n",
       "      <td>PS4</td>\n",
       "      <td>2016</td>\n",
       "      <td>Fighting</td>\n",
       "      <td>0.04</td>\n",
       "      <td>0.00</td>\n",
       "      <td>0.03</td>\n",
       "      <td>0.01</td>\n",
       "      <td>85.0</td>\n",
       "      <td>7.6</td>\n",
       "      <td>T</td>\n",
       "      <td>0.08</td>\n",
       "      <td>13+</td>\n",
       "    </tr>\n",
       "    <tr>\n",
       "      <th>162</th>\n",
       "      <td>shovel knight</td>\n",
       "      <td>PS4</td>\n",
       "      <td>2015</td>\n",
       "      <td>Platform</td>\n",
       "      <td>0.03</td>\n",
       "      <td>0.03</td>\n",
       "      <td>0.00</td>\n",
       "      <td>0.01</td>\n",
       "      <td>90.0</td>\n",
       "      <td>7.6</td>\n",
       "      <td>E</td>\n",
       "      <td>0.07</td>\n",
       "      <td>0+</td>\n",
       "    </tr>\n",
       "    <tr>\n",
       "      <th>173</th>\n",
       "      <td>terraria</td>\n",
       "      <td>PS4</td>\n",
       "      <td>2014</td>\n",
       "      <td>Action</td>\n",
       "      <td>0.00</td>\n",
       "      <td>0.05</td>\n",
       "      <td>0.01</td>\n",
       "      <td>0.01</td>\n",
       "      <td>83.0</td>\n",
       "      <td>7.9</td>\n",
       "      <td>T</td>\n",
       "      <td>0.07</td>\n",
       "      <td>13+</td>\n",
       "    </tr>\n",
       "    <tr>\n",
       "      <th>184</th>\n",
       "      <td>steins;gate 0</td>\n",
       "      <td>PS4</td>\n",
       "      <td>2015</td>\n",
       "      <td>Adventure</td>\n",
       "      <td>0.00</td>\n",
       "      <td>0.00</td>\n",
       "      <td>0.05</td>\n",
       "      <td>0.00</td>\n",
       "      <td>81.0</td>\n",
       "      <td>8.3</td>\n",
       "      <td>M</td>\n",
       "      <td>0.05</td>\n",
       "      <td>17+</td>\n",
       "    </tr>\n",
       "    <tr>\n",
       "      <th>188</th>\n",
       "      <td>child of light</td>\n",
       "      <td>PS4</td>\n",
       "      <td>2014</td>\n",
       "      <td>Role-Playing</td>\n",
       "      <td>0.00</td>\n",
       "      <td>0.01</td>\n",
       "      <td>0.04</td>\n",
       "      <td>0.00</td>\n",
       "      <td>82.0</td>\n",
       "      <td>8.0</td>\n",
       "      <td>E10+</td>\n",
       "      <td>0.05</td>\n",
       "      <td>10+</td>\n",
       "    </tr>\n",
       "    <tr>\n",
       "      <th>205</th>\n",
       "      <td>the talos principle</td>\n",
       "      <td>PS4</td>\n",
       "      <td>2015</td>\n",
       "      <td>Puzzle</td>\n",
       "      <td>0.00</td>\n",
       "      <td>0.02</td>\n",
       "      <td>0.00</td>\n",
       "      <td>0.00</td>\n",
       "      <td>88.0</td>\n",
       "      <td>8.4</td>\n",
       "      <td>E10+</td>\n",
       "      <td>0.02</td>\n",
       "      <td>10+</td>\n",
       "    </tr>\n",
       "    <tr>\n",
       "      <th>206</th>\n",
       "      <td>dead rising 2</td>\n",
       "      <td>PS4</td>\n",
       "      <td>2016</td>\n",
       "      <td>Action</td>\n",
       "      <td>0.01</td>\n",
       "      <td>0.00</td>\n",
       "      <td>0.01</td>\n",
       "      <td>0.00</td>\n",
       "      <td>82.0</td>\n",
       "      <td>6.6</td>\n",
       "      <td>M</td>\n",
       "      <td>0.02</td>\n",
       "      <td>17+</td>\n",
       "    </tr>\n",
       "  </tbody>\n",
       "</table>\n",
       "</div>"
      ],
      "text/plain": [
       "                         name platform  year_of_release         genre  \\\n",
       "159  blazblue central fiction      PS4             2016      Fighting   \n",
       "162             shovel knight      PS4             2015      Platform   \n",
       "173                  terraria      PS4             2014        Action   \n",
       "184             steins;gate 0      PS4             2015     Adventure   \n",
       "188            child of light      PS4             2014  Role-Playing   \n",
       "205       the talos principle      PS4             2015        Puzzle   \n",
       "206             dead rising 2      PS4             2016        Action   \n",
       "\n",
       "     na_sales  eu_sales  jp_sales  other_sales  critic_score  user_score  \\\n",
       "159      0.04      0.00      0.03         0.01          85.0         7.6   \n",
       "162      0.03      0.03      0.00         0.01          90.0         7.6   \n",
       "173      0.00      0.05      0.01         0.01          83.0         7.9   \n",
       "184      0.00      0.00      0.05         0.00          81.0         8.3   \n",
       "188      0.00      0.01      0.04         0.00          82.0         8.0   \n",
       "205      0.00      0.02      0.00         0.00          88.0         8.4   \n",
       "206      0.01      0.00      0.01         0.00          82.0         6.6   \n",
       "\n",
       "    rating  all_sales rating_age  \n",
       "159      T       0.08        13+  \n",
       "162      E       0.07         0+  \n",
       "173      T       0.07        13+  \n",
       "184      M       0.05        17+  \n",
       "188   E10+       0.05        10+  \n",
       "205   E10+       0.02        10+  \n",
       "206      M       0.02        17+  "
      ]
     },
     "execution_count": 98,
     "metadata": {},
     "output_type": "execute_result"
    }
   ],
   "source": [
    "data_PS.query('all_sales<0.1 and critic_score>80') # игры с низкими продажами и высоким рейтингом"
   ]
  },
  {
   "cell_type": "code",
   "execution_count": 99,
   "metadata": {},
   "outputs": [
    {
     "data": {
      "text/html": [
       "<div>\n",
       "<style scoped>\n",
       "    .dataframe tbody tr th:only-of-type {\n",
       "        vertical-align: middle;\n",
       "    }\n",
       "\n",
       "    .dataframe tbody tr th {\n",
       "        vertical-align: top;\n",
       "    }\n",
       "\n",
       "    .dataframe thead th {\n",
       "        text-align: right;\n",
       "    }\n",
       "</style>\n",
       "<table border=\"1\" class=\"dataframe\">\n",
       "  <thead>\n",
       "    <tr style=\"text-align: right;\">\n",
       "      <th></th>\n",
       "      <th>name</th>\n",
       "      <th>platform</th>\n",
       "      <th>year_of_release</th>\n",
       "      <th>genre</th>\n",
       "      <th>na_sales</th>\n",
       "      <th>eu_sales</th>\n",
       "      <th>jp_sales</th>\n",
       "      <th>other_sales</th>\n",
       "      <th>critic_score</th>\n",
       "      <th>user_score</th>\n",
       "      <th>rating</th>\n",
       "      <th>all_sales</th>\n",
       "      <th>rating_age</th>\n",
       "    </tr>\n",
       "  </thead>\n",
       "  <tbody>\n",
       "    <tr>\n",
       "      <th>4</th>\n",
       "      <td>call of duty: infinite warfare</td>\n",
       "      <td>PS4</td>\n",
       "      <td>2016</td>\n",
       "      <td>Shooter</td>\n",
       "      <td>1.61</td>\n",
       "      <td>2.00</td>\n",
       "      <td>0.15</td>\n",
       "      <td>0.71</td>\n",
       "      <td>77.0</td>\n",
       "      <td>3.4</td>\n",
       "      <td>M</td>\n",
       "      <td>4.47</td>\n",
       "      <td>17+</td>\n",
       "    </tr>\n",
       "    <tr>\n",
       "      <th>46</th>\n",
       "      <td>call of duty: infinite warfare</td>\n",
       "      <td>XOne</td>\n",
       "      <td>2016</td>\n",
       "      <td>Shooter</td>\n",
       "      <td>1.46</td>\n",
       "      <td>0.74</td>\n",
       "      <td>0.00</td>\n",
       "      <td>0.22</td>\n",
       "      <td>78.0</td>\n",
       "      <td>3.1</td>\n",
       "      <td>M</td>\n",
       "      <td>2.42</td>\n",
       "      <td>17+</td>\n",
       "    </tr>\n",
       "    <tr>\n",
       "      <th>700</th>\n",
       "      <td>call of duty: infinite warfare</td>\n",
       "      <td>PC</td>\n",
       "      <td>2016</td>\n",
       "      <td>Shooter</td>\n",
       "      <td>0.04</td>\n",
       "      <td>0.08</td>\n",
       "      <td>0.00</td>\n",
       "      <td>0.01</td>\n",
       "      <td>73.0</td>\n",
       "      <td>3.0</td>\n",
       "      <td>M</td>\n",
       "      <td>0.13</td>\n",
       "      <td>17+</td>\n",
       "    </tr>\n",
       "  </tbody>\n",
       "</table>\n",
       "</div>"
      ],
      "text/plain": [
       "                               name platform  year_of_release    genre  \\\n",
       "4    call of duty: infinite warfare      PS4             2016  Shooter   \n",
       "46   call of duty: infinite warfare     XOne             2016  Shooter   \n",
       "700  call of duty: infinite warfare       PC             2016  Shooter   \n",
       "\n",
       "     na_sales  eu_sales  jp_sales  other_sales  critic_score  user_score  \\\n",
       "4        1.61      2.00      0.15         0.71          77.0         3.4   \n",
       "46       1.46      0.74      0.00         0.22          78.0         3.1   \n",
       "700      0.04      0.08      0.00         0.01          73.0         3.0   \n",
       "\n",
       "    rating  all_sales rating_age  \n",
       "4        M       4.47        17+  \n",
       "46       M       2.42        17+  \n",
       "700      M       0.13        17+  "
      ]
     },
     "execution_count": 99,
     "metadata": {},
     "output_type": "execute_result"
    }
   ],
   "source": [
    "data_new.query('name == \"call of duty: infinite warfare\"') #самая продаваемая игра с плохим рейтингом"
   ]
  },
  {
   "cell_type": "code",
   "execution_count": 100,
   "metadata": {
    "scrolled": true
   },
   "outputs": [
    {
     "data": {
      "text/html": [
       "<div>\n",
       "<style scoped>\n",
       "    .dataframe tbody tr th:only-of-type {\n",
       "        vertical-align: middle;\n",
       "    }\n",
       "\n",
       "    .dataframe tbody tr th {\n",
       "        vertical-align: top;\n",
       "    }\n",
       "\n",
       "    .dataframe thead th {\n",
       "        text-align: right;\n",
       "    }\n",
       "</style>\n",
       "<table border=\"1\" class=\"dataframe\">\n",
       "  <thead>\n",
       "    <tr style=\"text-align: right;\">\n",
       "      <th></th>\n",
       "      <th>name</th>\n",
       "      <th>platform</th>\n",
       "      <th>year_of_release</th>\n",
       "      <th>genre</th>\n",
       "      <th>na_sales</th>\n",
       "      <th>eu_sales</th>\n",
       "      <th>jp_sales</th>\n",
       "      <th>other_sales</th>\n",
       "      <th>critic_score</th>\n",
       "      <th>user_score</th>\n",
       "      <th>rating</th>\n",
       "      <th>all_sales</th>\n",
       "      <th>rating_age</th>\n",
       "    </tr>\n",
       "  </thead>\n",
       "  <tbody>\n",
       "    <tr>\n",
       "      <th>683</th>\n",
       "      <td>shovel knight</td>\n",
       "      <td>3DS</td>\n",
       "      <td>2015</td>\n",
       "      <td>Platform</td>\n",
       "      <td>0.08</td>\n",
       "      <td>0.04</td>\n",
       "      <td>0.02</td>\n",
       "      <td>0.01</td>\n",
       "      <td>90.0</td>\n",
       "      <td>8.2</td>\n",
       "      <td>E</td>\n",
       "      <td>0.15</td>\n",
       "      <td>0+</td>\n",
       "    </tr>\n",
       "    <tr>\n",
       "      <th>824</th>\n",
       "      <td>shovel knight</td>\n",
       "      <td>WiiU</td>\n",
       "      <td>2015</td>\n",
       "      <td>Platform</td>\n",
       "      <td>0.05</td>\n",
       "      <td>0.04</td>\n",
       "      <td>0.00</td>\n",
       "      <td>0.01</td>\n",
       "      <td>88.0</td>\n",
       "      <td>8.3</td>\n",
       "      <td>E</td>\n",
       "      <td>0.10</td>\n",
       "      <td>0+</td>\n",
       "    </tr>\n",
       "    <tr>\n",
       "      <th>892</th>\n",
       "      <td>shovel knight</td>\n",
       "      <td>PS4</td>\n",
       "      <td>2015</td>\n",
       "      <td>Platform</td>\n",
       "      <td>0.03</td>\n",
       "      <td>0.03</td>\n",
       "      <td>0.00</td>\n",
       "      <td>0.01</td>\n",
       "      <td>90.0</td>\n",
       "      <td>7.6</td>\n",
       "      <td>E</td>\n",
       "      <td>0.07</td>\n",
       "      <td>0+</td>\n",
       "    </tr>\n",
       "  </tbody>\n",
       "</table>\n",
       "</div>"
      ],
      "text/plain": [
       "              name platform  year_of_release     genre  na_sales  eu_sales  \\\n",
       "683  shovel knight      3DS             2015  Platform      0.08      0.04   \n",
       "824  shovel knight     WiiU             2015  Platform      0.05      0.04   \n",
       "892  shovel knight      PS4             2015  Platform      0.03      0.03   \n",
       "\n",
       "     jp_sales  other_sales  critic_score  user_score rating  all_sales  \\\n",
       "683      0.02         0.01          90.0         8.2      E       0.15   \n",
       "824      0.00         0.01          88.0         8.3      E       0.10   \n",
       "892      0.00         0.01          90.0         7.6      E       0.07   \n",
       "\n",
       "    rating_age  \n",
       "683         0+  \n",
       "824         0+  \n",
       "892         0+  "
      ]
     },
     "execution_count": 100,
     "metadata": {},
     "output_type": "execute_result"
    }
   ],
   "source": [
    "data_new.query('name == \"shovel knight\"') # игра с самым высоким рейтингом и очень низкими продажами"
   ]
  },
  {
   "cell_type": "code",
   "execution_count": 101,
   "metadata": {
    "scrolled": false
   },
   "outputs": [
    {
     "data": {
      "text/plain": [
       "year_of_release   -0.223474\n",
       "na_sales           0.944750\n",
       "eu_sales           0.826405\n",
       "jp_sales           0.473960\n",
       "other_sales        0.991016\n",
       "critic_score       0.410363\n",
       "user_score        -0.110096\n",
       "all_sales          1.000000\n",
       "Name: all_sales, dtype: float64"
      ]
     },
     "execution_count": 101,
     "metadata": {},
     "output_type": "execute_result"
    }
   ],
   "source": [
    "data_Xone = data_new.query('platform == \"XOne\" and critic_score>0 and user_score>0').reset_index(drop = True)\n",
    "data_Xone.corr()['all_sales']"
   ]
  },
  {
   "cell_type": "code",
   "execution_count": 102,
   "metadata": {
    "scrolled": true
   },
   "outputs": [
    {
     "data": {
      "text/plain": [
       "year_of_release   -0.186145\n",
       "na_sales           0.854967\n",
       "eu_sales           0.886130\n",
       "jp_sales           0.914767\n",
       "other_sales        0.902070\n",
       "critic_score       0.284686\n",
       "user_score         0.279850\n",
       "all_sales          1.000000\n",
       "Name: all_sales, dtype: float64"
      ]
     },
     "execution_count": 102,
     "metadata": {},
     "output_type": "execute_result"
    }
   ],
   "source": [
    "data_3DS = data_new.query('platform == \"3DS\" and critic_score>0 and user_score>0').reset_index(drop = True)\n",
    "data_3DS.corr()['all_sales']"
   ]
  },
  {
   "cell_type": "markdown",
   "metadata": {},
   "source": [
    "Построим диаграммы рассеивания для влияния оценки критиков на Xbox One и 3DS"
   ]
  },
  {
   "cell_type": "code",
   "execution_count": 103,
   "metadata": {
    "scrolled": false
   },
   "outputs": [
    {
     "name": "stderr",
     "output_type": "stream",
     "text": [
      "*c* argument looks like a single numeric RGB or RGBA sequence, which should be avoided as value-mapping will have precedence in case its length matches with *x* & *y*.  Please use the *color* keyword-argument or provide a 2-D array with a single row if you intend to specify the same RGB or RGBA value for all points.\n",
      "*c* argument looks like a single numeric RGB or RGBA sequence, which should be avoided as value-mapping will have precedence in case its length matches with *x* & *y*.  Please use the *color* keyword-argument or provide a 2-D array with a single row if you intend to specify the same RGB or RGBA value for all points.\n"
     ]
    },
    {
     "data": {
      "text/plain": [
       "<AxesSubplot:title={'center':'зависимость продаж от оценки критиков 3DS'}, xlabel='продажи', ylabel='оценка критиков'>"
      ]
     },
     "execution_count": 103,
     "metadata": {},
     "output_type": "execute_result"
    },
    {
     "data": {
      "image/png": "[encoded data removed]",
      "text/plain": [
       "<Figure size 288x288 with 1 Axes>"
      ]
     },
     "metadata": {},
     "output_type": "display_data"
    },
    {
     "data": {
      "image/png": "[encoded data removed]",
      "text/plain": [
       "<Figure size 288x288 with 1 Axes>"
      ]
     },
     "metadata": {},
     "output_type": "display_data"
    }
   ],
   "source": [
    "#диаграмма рассеивания зависимости продаж от оценки критиков\n",
    "data_Xone.plot(x ='all_sales', y ='critic_score', kind='scatter', figsize = (4,4), ylabel = 'оценка критиков', xlabel = 'продажи', title = 'зависимость продаж от оценки критиков Xbox One')\n",
    "#диаграмма рассеивания зависимости продаж от оценки критиков\n",
    "data_3DS.plot(x ='all_sales', y ='critic_score', kind='scatter', figsize = (4,4), ylabel = 'оценка критиков', xlabel = 'продажи', title = 'зависимость продаж от оценки критиков 3DS')"
   ]
  },
  {
   "cell_type": "markdown",
   "metadata": {},
   "source": [
    "Построим диаграммы рассеивания для влияния оценки пользователей на Xbox One и 3DS"
   ]
  },
  {
   "cell_type": "code",
   "execution_count": 104,
   "metadata": {
    "scrolled": false
   },
   "outputs": [
    {
     "name": "stderr",
     "output_type": "stream",
     "text": [
      "*c* argument looks like a single numeric RGB or RGBA sequence, which should be avoided as value-mapping will have precedence in case its length matches with *x* & *y*.  Please use the *color* keyword-argument or provide a 2-D array with a single row if you intend to specify the same RGB or RGBA value for all points.\n",
      "*c* argument looks like a single numeric RGB or RGBA sequence, which should be avoided as value-mapping will have precedence in case its length matches with *x* & *y*.  Please use the *color* keyword-argument or provide a 2-D array with a single row if you intend to specify the same RGB or RGBA value for all points.\n"
     ]
    },
    {
     "data": {
      "text/plain": [
       "<AxesSubplot:title={'center':'зависимость продаж от оценки пользователей 3DS'}, xlabel='продажи', ylabel='оценка игроков'>"
      ]
     },
     "execution_count": 104,
     "metadata": {},
     "output_type": "execute_result"
    },
    {
     "data": {
      "image/png": "[encoded data removed]",
      "text/plain": [
       "<Figure size 288x288 with 1 Axes>"
      ]
     },
     "metadata": {},
     "output_type": "display_data"
    },
    {
     "data": {
      "image/png": "[encoded data removed]",
      "text/plain": [
       "<Figure size 288x288 with 1 Axes>"
      ]
     },
     "metadata": {},
     "output_type": "display_data"
    }
   ],
   "source": [
    "#диаграмма рассеивания зависимости продаж от оценки пользователей\n",
    "data_Xone.plot(x ='all_sales', y ='user_score', kind='scatter', figsize = (4,4), ylabel = 'оценка игроков', xlabel = 'продажи', title = 'зависимость продаж от оценки пользователей Xbox One')\n",
    "#диаграмма рассеивания зависимости продаж от оценки пользователей\n",
    "data_3DS.plot(x ='all_sales', y ='user_score', kind='scatter', figsize = (4,4), ylabel = 'оценка игроков', xlabel = 'продажи', title = 'зависимость продаж от оценки пользователей 3DS')"
   ]
  },
  {
   "cell_type": "markdown",
   "metadata": {},
   "source": [
    "Оценки критиков являются необходимым условием для хороших продаж - успешными становятся только высокооценённые игры. Посмотрим, как распределяются медианные оценки критиков и пользователей по жанрам на разных плафтормах."
   ]
  },
  {
   "cell_type": "code",
   "execution_count": 105,
   "metadata": {
    "scrolled": true
   },
   "outputs": [
    {
     "data": {
      "text/html": [
       "<div>\n",
       "<style scoped>\n",
       "    .dataframe tbody tr th:only-of-type {\n",
       "        vertical-align: middle;\n",
       "    }\n",
       "\n",
       "    .dataframe tbody tr th {\n",
       "        vertical-align: top;\n",
       "    }\n",
       "\n",
       "    .dataframe thead th {\n",
       "        text-align: right;\n",
       "    }\n",
       "</style>\n",
       "<table border=\"1\" class=\"dataframe\">\n",
       "  <thead>\n",
       "    <tr style=\"text-align: right;\">\n",
       "      <th>platform</th>\n",
       "      <th>3DS</th>\n",
       "      <th>PC</th>\n",
       "      <th>PS4</th>\n",
       "      <th>XOne</th>\n",
       "    </tr>\n",
       "    <tr>\n",
       "      <th>genre</th>\n",
       "      <th></th>\n",
       "      <th></th>\n",
       "      <th></th>\n",
       "      <th></th>\n",
       "    </tr>\n",
       "  </thead>\n",
       "  <tbody>\n",
       "    <tr>\n",
       "      <th>Action</th>\n",
       "      <td>0.0</td>\n",
       "      <td>72.0</td>\n",
       "      <td>59.0</td>\n",
       "      <td>60.0</td>\n",
       "    </tr>\n",
       "    <tr>\n",
       "      <th>Adventure</th>\n",
       "      <td>0.0</td>\n",
       "      <td>32.5</td>\n",
       "      <td>31.0</td>\n",
       "      <td>0.0</td>\n",
       "    </tr>\n",
       "    <tr>\n",
       "      <th>Fighting</th>\n",
       "      <td>0.0</td>\n",
       "      <td>75.0</td>\n",
       "      <td>66.0</td>\n",
       "      <td>67.0</td>\n",
       "    </tr>\n",
       "    <tr>\n",
       "      <th>Misc</th>\n",
       "      <td>0.0</td>\n",
       "      <td>0.0</td>\n",
       "      <td>0.0</td>\n",
       "      <td>66.0</td>\n",
       "    </tr>\n",
       "    <tr>\n",
       "      <th>Platform</th>\n",
       "      <td>70.5</td>\n",
       "      <td>74.0</td>\n",
       "      <td>79.0</td>\n",
       "      <td>75.0</td>\n",
       "    </tr>\n",
       "    <tr>\n",
       "      <th>Puzzle</th>\n",
       "      <td>0.0</td>\n",
       "      <td>NaN</td>\n",
       "      <td>88.0</td>\n",
       "      <td>NaN</td>\n",
       "    </tr>\n",
       "    <tr>\n",
       "      <th>Racing</th>\n",
       "      <td>NaN</td>\n",
       "      <td>71.0</td>\n",
       "      <td>69.0</td>\n",
       "      <td>64.0</td>\n",
       "    </tr>\n",
       "    <tr>\n",
       "      <th>Role-Playing</th>\n",
       "      <td>0.0</td>\n",
       "      <td>83.5</td>\n",
       "      <td>0.0</td>\n",
       "      <td>74.0</td>\n",
       "    </tr>\n",
       "    <tr>\n",
       "      <th>Shooter</th>\n",
       "      <td>NaN</td>\n",
       "      <td>78.0</td>\n",
       "      <td>73.0</td>\n",
       "      <td>78.0</td>\n",
       "    </tr>\n",
       "    <tr>\n",
       "      <th>Simulation</th>\n",
       "      <td>0.0</td>\n",
       "      <td>70.0</td>\n",
       "      <td>0.0</td>\n",
       "      <td>53.0</td>\n",
       "    </tr>\n",
       "    <tr>\n",
       "      <th>Sports</th>\n",
       "      <td>0.0</td>\n",
       "      <td>81.0</td>\n",
       "      <td>69.0</td>\n",
       "      <td>71.0</td>\n",
       "    </tr>\n",
       "    <tr>\n",
       "      <th>Strategy</th>\n",
       "      <td>0.0</td>\n",
       "      <td>72.0</td>\n",
       "      <td>64.0</td>\n",
       "      <td>43.5</td>\n",
       "    </tr>\n",
       "  </tbody>\n",
       "</table>\n",
       "</div>"
      ],
      "text/plain": [
       "platform       3DS    PC   PS4  XOne\n",
       "genre                               \n",
       "Action         0.0  72.0  59.0  60.0\n",
       "Adventure      0.0  32.5  31.0   0.0\n",
       "Fighting       0.0  75.0  66.0  67.0\n",
       "Misc           0.0   0.0   0.0  66.0\n",
       "Platform      70.5  74.0  79.0  75.0\n",
       "Puzzle         0.0   NaN  88.0   NaN\n",
       "Racing         NaN  71.0  69.0  64.0\n",
       "Role-Playing   0.0  83.5   0.0  74.0\n",
       "Shooter        NaN  78.0  73.0  78.0\n",
       "Simulation     0.0  70.0   0.0  53.0\n",
       "Sports         0.0  81.0  69.0  71.0\n",
       "Strategy       0.0  72.0  64.0  43.5"
      ]
     },
     "execution_count": 105,
     "metadata": {},
     "output_type": "execute_result"
    }
   ],
   "source": [
    "data_actual.pivot_table(index = 'genre', columns = 'platform', values = 'critic_score', aggfunc = 'median').round(1)\n",
    "#сводная таблица медианных рейтингов критиков разных жанров на разных платформах"
   ]
  },
  {
   "cell_type": "markdown",
   "metadata": {},
   "source": [
    "**Выводы** Коэффициент корреляции на PS4 и Xbox one между продажами и рейтингом пользователей крайне близок к нулю, поэтому нельзя говорить об однозначной зависимости между этими параметрами. Однако при построении диаграмм рассеивания становится понятно, что шанс на высокие продажи среди игр заслуживших положительные оценки всё же выше. В то время как хорошие продажи для низко оценённых игр это аномалия. Большинство игр не выходят за рамки полумиллиона, но в верхней части обеих диаграмм облако более плотное.\n",
    "Корреляция с оценками критиков не сильная, но присутствует - в районе 0,4 на PS4 и Xbox One. Хорошие продажи получают только высоко оценённые критиками игры. \n",
    "Приведены данные по двум самым аномальным играм. call of duty: infinite warfare имеет низкие оценки и высокие продажи(даже при учете, что данные за 2016 год неполные), а shovel knight с максимально положительными оценками остаётся нишевой малопопулярной игрой на всех платформах, где она выходила.\n",
    "При этом в целом пользовательские рейтинги в среднем по жанру имеют существенные различия на разных платформах. Стоит обратить внимание, что пользователи ПК более критично относятся к играм, а пользователи 3DS - лояльно. Даже корреляция на этой платформе имеет отличия - для критиков и пользователей она примерно совпадает и равна 0.28. "
   ]
  },
  {
   "cell_type": "markdown",
   "metadata": {},
   "source": [
    "### Распределение продаж по жанрам\n",
    "\n",
    "Проанализируем, какие жанры имеют большие шансы на аномальный успех, а какие показывают самые стабильные продажи. Для этого построим ящики по продажам на 4 популярных платформах по всем представленным в 2014-2016 годах на рынке жанрам. Также проверим распределение успешных жанров внутри платформ."
   ]
  },
  {
   "cell_type": "code",
   "execution_count": 107,
   "metadata": {
    "scrolled": false
   },
   "outputs": [
    {
     "data": {
      "image/png": "[encoded data removed]",
      "text/plain": [
       "<Figure size 864x288 with 1 Axes>"
      ]
     },
     "metadata": {},
     "output_type": "display_data"
    }
   ],
   "source": [
    "sns.set(rc = {\"figure.figsize\":(12, 4)})\n",
    "box = sns.boxplot(data = data_actual, x='all_sales', y = 'genre') #ящики продаж по актуальным платформам за 2014-2016 гг"
   ]
  },
  {
   "cell_type": "code",
   "execution_count": 108,
   "metadata": {},
   "outputs": [
    {
     "data": {
      "text/plain": [
       "genre\n",
       "Action          347\n",
       "Adventure        71\n",
       "Fighting         28\n",
       "Misc             59\n",
       "Platform         22\n",
       "Puzzle            8\n",
       "Racing           49\n",
       "Role-Playing    121\n",
       "Shooter          88\n",
       "Simulation       37\n",
       "Sports           89\n",
       "Strategy         32\n",
       "Name: name, dtype: int64"
      ]
     },
     "execution_count": 108,
     "metadata": {},
     "output_type": "execute_result"
    }
   ],
   "source": [
    "data_actual.groupby('genre')['name'].count() # количество выпущенных игр каждого жанра"
   ]
  },
  {
   "cell_type": "code",
   "execution_count": 109,
   "metadata": {},
   "outputs": [
    {
     "data": {
      "text/plain": [
       "array([<AxesSubplot:title={'center':'3DS'}, xlabel='genre'>,\n",
       "       <AxesSubplot:title={'center':'PC'}, xlabel='genre'>,\n",
       "       <AxesSubplot:title={'center':'PS4'}, xlabel='genre'>,\n",
       "       <AxesSubplot:title={'center':'Xone'}, xlabel='genre'>],\n",
       "      dtype=object)"
      ]
     },
     "execution_count": 109,
     "metadata": {},
     "output_type": "execute_result"
    },
    {
     "data": {
      "image/png": "[encoded data removed]",
      "text/plain": [
       "<Figure size 720x288 with 4 Axes>"
      ]
     },
     "metadata": {},
     "output_type": "display_data"
    }
   ],
   "source": [
    "genre_sales = data_actual.pivot_table(index = 'genre', columns = 'platform', values = 'all_sales', aggfunc = 'sum')\n",
    "genre_sales.plot(kind = 'bar', subplots=True, figsize=(10, 4), legend = False, title = ['3DS', 'PC', 'PS4', 'Xone'])\n",
    "#столбчатые диаграммы распределения продаж по жанрам внутри платформ"
   ]
  },
  {
   "cell_type": "markdown",
   "metadata": {},
   "source": [
    "**Выводы** \n",
    "- Шутеры(Shooter) лидируют с большим отрывом от всех жанров, почти не имея совсем провальных релизов. При этом среди пользователей ПК и Xbox One они занимают лидирующую позицию, но крайне плохо продаются на портативной 3DS. \n",
    "- Спортивные симуляторы(Sports) имеют хорошие шансы на успех, но только среди пользователей стационарных приставок PS4 и Xbox One. \n",
    "- Жанр Action стабильно популярен среди пользователей всех платформ, причём имеет наибольшее количество сверхпопулярных игр\n",
    "- Сим игры(Simulation) и стратегии успешны только при выпуске на ПК\n",
    "- РПГ(Role-Playing) показывают стабильно хорошие продажи, для пользователей 3DS это наиболее предпочтительный жанр\n",
    "- Fighting потенциально успешен только среди пользователей PS4, имеет средний, но стабильный результат\n",
    "- традиционные инди-жанры: Adventure, платформеры(Platform), головоломки(Puzzle) как правило рассчитаны на небольшой круг игроков и имеют ограниченные продажи. \n",
    "- Гонки(racing) это жанр с несколькими крупными тайтлами, занимающими подавляющую долю рынка, все остальные имеют довольно скромные показатели."
   ]
  },
  {
   "cell_type": "markdown",
   "metadata": {},
   "source": [
    "## Типичные пользователи регионов\n",
    "\n",
    "Для различных регионов характерны разные предпочтения в жанрах и игровых платформах. Для каждого региона построим рейтинг топ-5 игровых платформ и жанров, а также самые востребованные возрастные категории игр. Стоит обратить внимание, что возрастная категория игры не может в точности указывать на возраст игрока."
   ]
  },
  {
   "cell_type": "markdown",
   "metadata": {},
   "source": [
    "### Северная Америка"
   ]
  },
  {
   "cell_type": "code",
   "execution_count": 110,
   "metadata": {
    "scrolled": true
   },
   "outputs": [
    {
     "data": {
      "text/html": [
       "<div>\n",
       "<style scoped>\n",
       "    .dataframe tbody tr th:only-of-type {\n",
       "        vertical-align: middle;\n",
       "    }\n",
       "\n",
       "    .dataframe tbody tr th {\n",
       "        vertical-align: top;\n",
       "    }\n",
       "\n",
       "    .dataframe thead th {\n",
       "        text-align: right;\n",
       "    }\n",
       "</style>\n",
       "<table border=\"1\" class=\"dataframe\">\n",
       "  <thead>\n",
       "    <tr style=\"text-align: right;\">\n",
       "      <th></th>\n",
       "      <th>name</th>\n",
       "      <th>platform</th>\n",
       "      <th>year_of_release</th>\n",
       "      <th>genre</th>\n",
       "      <th>na_sales</th>\n",
       "      <th>eu_sales</th>\n",
       "      <th>jp_sales</th>\n",
       "      <th>other_sales</th>\n",
       "      <th>critic_score</th>\n",
       "      <th>user_score</th>\n",
       "      <th>rating</th>\n",
       "      <th>all_sales</th>\n",
       "      <th>rating_age</th>\n",
       "    </tr>\n",
       "  </thead>\n",
       "  <tbody>\n",
       "    <tr>\n",
       "      <th>3</th>\n",
       "      <td>halo 5: guardians</td>\n",
       "      <td>XOne</td>\n",
       "      <td>2015</td>\n",
       "      <td>Shooter</td>\n",
       "      <td>2.78</td>\n",
       "      <td>1.27</td>\n",
       "      <td>0.03</td>\n",
       "      <td>0.41</td>\n",
       "      <td>84.0</td>\n",
       "      <td>6.4</td>\n",
       "      <td>T</td>\n",
       "      <td>4.49</td>\n",
       "      <td>13+</td>\n",
       "    </tr>\n",
       "    <tr>\n",
       "      <th>8</th>\n",
       "      <td>call of duty: advanced warfare</td>\n",
       "      <td>X360</td>\n",
       "      <td>2014</td>\n",
       "      <td>Shooter</td>\n",
       "      <td>2.77</td>\n",
       "      <td>1.11</td>\n",
       "      <td>0.00</td>\n",
       "      <td>0.40</td>\n",
       "      <td>0.0</td>\n",
       "      <td>4.9</td>\n",
       "      <td>M</td>\n",
       "      <td>4.28</td>\n",
       "      <td>17+</td>\n",
       "    </tr>\n",
       "    <tr>\n",
       "      <th>27</th>\n",
       "      <td>gears of war: ultimate edition</td>\n",
       "      <td>XOne</td>\n",
       "      <td>2015</td>\n",
       "      <td>Shooter</td>\n",
       "      <td>2.61</td>\n",
       "      <td>0.33</td>\n",
       "      <td>0.00</td>\n",
       "      <td>0.34</td>\n",
       "      <td>82.0</td>\n",
       "      <td>7.5</td>\n",
       "      <td>M</td>\n",
       "      <td>3.28</td>\n",
       "      <td>17+</td>\n",
       "    </tr>\n",
       "    <tr>\n",
       "      <th>0</th>\n",
       "      <td>super smash bros. for wii u and 3ds</td>\n",
       "      <td>WiiU</td>\n",
       "      <td>2014</td>\n",
       "      <td>Fighting</td>\n",
       "      <td>2.60</td>\n",
       "      <td>1.08</td>\n",
       "      <td>0.81</td>\n",
       "      <td>0.38</td>\n",
       "      <td>0.0</td>\n",
       "      <td>0.0</td>\n",
       "      <td>unknown</td>\n",
       "      <td>4.87</td>\n",
       "      <td>NoCat</td>\n",
       "    </tr>\n",
       "    <tr>\n",
       "      <th>10</th>\n",
       "      <td>fallout 4</td>\n",
       "      <td>XOne</td>\n",
       "      <td>2015</td>\n",
       "      <td>Role-Playing</td>\n",
       "      <td>2.51</td>\n",
       "      <td>1.32</td>\n",
       "      <td>0.01</td>\n",
       "      <td>0.38</td>\n",
       "      <td>88.0</td>\n",
       "      <td>6.2</td>\n",
       "      <td>M</td>\n",
       "      <td>4.22</td>\n",
       "      <td>17+</td>\n",
       "    </tr>\n",
       "  </tbody>\n",
       "</table>\n",
       "</div>"
      ],
      "text/plain": [
       "                                   name platform  year_of_release  \\\n",
       "3                     halo 5: guardians     XOne             2015   \n",
       "8        call of duty: advanced warfare     X360             2014   \n",
       "27       gears of war: ultimate edition     XOne             2015   \n",
       "0   super smash bros. for wii u and 3ds     WiiU             2014   \n",
       "10                            fallout 4     XOne             2015   \n",
       "\n",
       "           genre  na_sales  eu_sales  jp_sales  other_sales  critic_score  \\\n",
       "3        Shooter      2.78      1.27      0.03         0.41          84.0   \n",
       "8        Shooter      2.77      1.11      0.00         0.40           0.0   \n",
       "27       Shooter      2.61      0.33      0.00         0.34          82.0   \n",
       "0       Fighting      2.60      1.08      0.81         0.38           0.0   \n",
       "10  Role-Playing      2.51      1.32      0.01         0.38          88.0   \n",
       "\n",
       "    user_score   rating  all_sales rating_age  \n",
       "3          6.4        T       4.49        13+  \n",
       "8          4.9        M       4.28        17+  \n",
       "27         7.5        M       3.28        17+  \n",
       "0          0.0  unknown       4.87      NoCat  \n",
       "10         6.2        M       4.22        17+  "
      ]
     },
     "execution_count": 110,
     "metadata": {},
     "output_type": "execute_result"
    }
   ],
   "source": [
    "data_NA = data_new.sort_values(by = 'na_sales', ascending = False) # датасет отсортирован по успешности в Северной Америке\n",
    "data_NA.head()"
   ]
  },
  {
   "cell_type": "code",
   "execution_count": 111,
   "metadata": {
    "scrolled": true
   },
   "outputs": [
    {
     "data": {
      "text/plain": [
       "<AxesSubplot:title={'center':'топ-5 Платформ Северной Америки'}, ylabel='platform'>"
      ]
     },
     "execution_count": 111,
     "metadata": {},
     "output_type": "execute_result"
    },
    {
     "data": {
      "image/png": "[encoded data removed]",
      "text/plain": [
       "<Figure size 864x288 with 1 Axes>"
      ]
     },
     "metadata": {},
     "output_type": "display_data"
    }
   ],
   "source": [
    "NA_top_platform = data_new.groupby('platform')['na_sales'].sum().sort_values(ascending = False).head()\n",
    "NA_top_platform.plot(kind = 'barh', title = 'топ-5 Платформ Северной Америки')"
   ]
  },
  {
   "cell_type": "code",
   "execution_count": 112,
   "metadata": {
    "scrolled": true
   },
   "outputs": [
    {
     "data": {
      "text/plain": [
       "<AxesSubplot:title={'center':'топ-5 жанров Северной Америки'}, ylabel='genre'>"
      ]
     },
     "execution_count": 112,
     "metadata": {},
     "output_type": "execute_result"
    },
    {
     "data": {
      "image/png": "[encoded data removed]",
      "text/plain": [
       "<Figure size 864x288 with 1 Axes>"
      ]
     },
     "metadata": {},
     "output_type": "display_data"
    }
   ],
   "source": [
    "NA_top_genre = data_new.groupby('genre')['na_sales'].sum().sort_values(ascending = False).head()\n",
    "NA_top_genre.plot(kind = 'barh', title = 'топ-5 жанров Северной Америки')"
   ]
  },
  {
   "cell_type": "markdown",
   "metadata": {},
   "source": [
    "### Европа"
   ]
  },
  {
   "cell_type": "code",
   "execution_count": 113,
   "metadata": {
    "scrolled": true
   },
   "outputs": [
    {
     "data": {
      "text/html": [
       "<div>\n",
       "<style scoped>\n",
       "    .dataframe tbody tr th:only-of-type {\n",
       "        vertical-align: middle;\n",
       "    }\n",
       "\n",
       "    .dataframe tbody tr th {\n",
       "        vertical-align: top;\n",
       "    }\n",
       "\n",
       "    .dataframe thead th {\n",
       "        text-align: right;\n",
       "    }\n",
       "</style>\n",
       "<table border=\"1\" class=\"dataframe\">\n",
       "  <thead>\n",
       "    <tr style=\"text-align: right;\">\n",
       "      <th></th>\n",
       "      <th>name</th>\n",
       "      <th>platform</th>\n",
       "      <th>year_of_release</th>\n",
       "      <th>genre</th>\n",
       "      <th>na_sales</th>\n",
       "      <th>eu_sales</th>\n",
       "      <th>jp_sales</th>\n",
       "      <th>other_sales</th>\n",
       "      <th>critic_score</th>\n",
       "      <th>user_score</th>\n",
       "      <th>rating</th>\n",
       "      <th>all_sales</th>\n",
       "      <th>rating_age</th>\n",
       "    </tr>\n",
       "  </thead>\n",
       "  <tbody>\n",
       "    <tr>\n",
       "      <th>9</th>\n",
       "      <td>fifa 15</td>\n",
       "      <td>PS3</td>\n",
       "      <td>2014</td>\n",
       "      <td>Sports</td>\n",
       "      <td>0.58</td>\n",
       "      <td>3.02</td>\n",
       "      <td>0.04</td>\n",
       "      <td>0.64</td>\n",
       "      <td>0.0</td>\n",
       "      <td>4.5</td>\n",
       "      <td>E</td>\n",
       "      <td>4.28</td>\n",
       "      <td>0+</td>\n",
       "    </tr>\n",
       "    <tr>\n",
       "      <th>13</th>\n",
       "      <td>far cry 4</td>\n",
       "      <td>PS4</td>\n",
       "      <td>2014</td>\n",
       "      <td>Shooter</td>\n",
       "      <td>1.13</td>\n",
       "      <td>2.18</td>\n",
       "      <td>0.10</td>\n",
       "      <td>0.63</td>\n",
       "      <td>85.0</td>\n",
       "      <td>7.7</td>\n",
       "      <td>M</td>\n",
       "      <td>4.04</td>\n",
       "      <td>17+</td>\n",
       "    </tr>\n",
       "    <tr>\n",
       "      <th>11</th>\n",
       "      <td>battlefield 1</td>\n",
       "      <td>PS4</td>\n",
       "      <td>2016</td>\n",
       "      <td>Shooter</td>\n",
       "      <td>1.10</td>\n",
       "      <td>2.15</td>\n",
       "      <td>0.21</td>\n",
       "      <td>0.61</td>\n",
       "      <td>88.0</td>\n",
       "      <td>8.4</td>\n",
       "      <td>M</td>\n",
       "      <td>4.07</td>\n",
       "      <td>17+</td>\n",
       "    </tr>\n",
       "    <tr>\n",
       "      <th>14</th>\n",
       "      <td>the witcher 3: wild hunt</td>\n",
       "      <td>PS4</td>\n",
       "      <td>2015</td>\n",
       "      <td>Role-Playing</td>\n",
       "      <td>1.02</td>\n",
       "      <td>2.13</td>\n",
       "      <td>0.23</td>\n",
       "      <td>0.59</td>\n",
       "      <td>92.0</td>\n",
       "      <td>9.2</td>\n",
       "      <td>M</td>\n",
       "      <td>3.97</td>\n",
       "      <td>17+</td>\n",
       "    </tr>\n",
       "    <tr>\n",
       "      <th>28</th>\n",
       "      <td>fifa 16</td>\n",
       "      <td>XOne</td>\n",
       "      <td>2015</td>\n",
       "      <td>Sports</td>\n",
       "      <td>0.89</td>\n",
       "      <td>2.12</td>\n",
       "      <td>0.00</td>\n",
       "      <td>0.24</td>\n",
       "      <td>84.0</td>\n",
       "      <td>4.4</td>\n",
       "      <td>E</td>\n",
       "      <td>3.25</td>\n",
       "      <td>0+</td>\n",
       "    </tr>\n",
       "  </tbody>\n",
       "</table>\n",
       "</div>"
      ],
      "text/plain": [
       "                        name platform  year_of_release         genre  \\\n",
       "9                    fifa 15      PS3             2014        Sports   \n",
       "13                 far cry 4      PS4             2014       Shooter   \n",
       "11             battlefield 1      PS4             2016       Shooter   \n",
       "14  the witcher 3: wild hunt      PS4             2015  Role-Playing   \n",
       "28                   fifa 16     XOne             2015        Sports   \n",
       "\n",
       "    na_sales  eu_sales  jp_sales  other_sales  critic_score  user_score  \\\n",
       "9       0.58      3.02      0.04         0.64           0.0         4.5   \n",
       "13      1.13      2.18      0.10         0.63          85.0         7.7   \n",
       "11      1.10      2.15      0.21         0.61          88.0         8.4   \n",
       "14      1.02      2.13      0.23         0.59          92.0         9.2   \n",
       "28      0.89      2.12      0.00         0.24          84.0         4.4   \n",
       "\n",
       "   rating  all_sales rating_age  \n",
       "9       E       4.28         0+  \n",
       "13      M       4.04        17+  \n",
       "11      M       4.07        17+  \n",
       "14      M       3.97        17+  \n",
       "28      E       3.25         0+  "
      ]
     },
     "execution_count": 113,
     "metadata": {},
     "output_type": "execute_result"
    }
   ],
   "source": [
    "data_EU = data_new.sort_values(by = 'eu_sales', ascending = False) # датасет отсортирован по успешности в Европе\n",
    "data_EU.head()"
   ]
  },
  {
   "cell_type": "code",
   "execution_count": 114,
   "metadata": {
    "scrolled": true
   },
   "outputs": [
    {
     "data": {
      "text/plain": [
       "<AxesSubplot:title={'center':'топ-5 Платформ Европы'}, ylabel='platform'>"
      ]
     },
     "execution_count": 114,
     "metadata": {},
     "output_type": "execute_result"
    },
    {
     "data": {
      "image/png": "[encoded data removed]",
      "text/plain": [
       "<Figure size 864x288 with 1 Axes>"
      ]
     },
     "metadata": {},
     "output_type": "display_data"
    }
   ],
   "source": [
    "EU_top_platform = data_new.groupby('platform')['eu_sales'].sum().sort_values(ascending = False).head()\n",
    "EU_top_platform.plot(kind = 'barh', title = 'топ-5 Платформ Европы')"
   ]
  },
  {
   "cell_type": "code",
   "execution_count": 115,
   "metadata": {
    "scrolled": true
   },
   "outputs": [
    {
     "data": {
      "text/plain": [
       "<AxesSubplot:title={'center':'топ-5 жанров Европы'}, ylabel='genre'>"
      ]
     },
     "execution_count": 115,
     "metadata": {},
     "output_type": "execute_result"
    },
    {
     "data": {
      "image/png": "[encoded data removed]",
      "text/plain": [
       "<Figure size 864x288 with 1 Axes>"
      ]
     },
     "metadata": {},
     "output_type": "display_data"
    }
   ],
   "source": [
    "EU_top_genre = data_new.groupby('genre')['eu_sales'].sum().sort_values(ascending = False).head()\n",
    "EU_top_genre.plot(kind = 'barh', title = 'топ-5 жанров Европы')"
   ]
  },
  {
   "cell_type": "markdown",
   "metadata": {},
   "source": [
    "### Япония"
   ]
  },
  {
   "cell_type": "code",
   "execution_count": 116,
   "metadata": {
    "scrolled": true
   },
   "outputs": [
    {
     "data": {
      "text/html": [
       "<div>\n",
       "<style scoped>\n",
       "    .dataframe tbody tr th:only-of-type {\n",
       "        vertical-align: middle;\n",
       "    }\n",
       "\n",
       "    .dataframe tbody tr th {\n",
       "        vertical-align: top;\n",
       "    }\n",
       "\n",
       "    .dataframe thead th {\n",
       "        text-align: right;\n",
       "    }\n",
       "</style>\n",
       "<table border=\"1\" class=\"dataframe\">\n",
       "  <thead>\n",
       "    <tr style=\"text-align: right;\">\n",
       "      <th></th>\n",
       "      <th>name</th>\n",
       "      <th>platform</th>\n",
       "      <th>year_of_release</th>\n",
       "      <th>genre</th>\n",
       "      <th>na_sales</th>\n",
       "      <th>eu_sales</th>\n",
       "      <th>jp_sales</th>\n",
       "      <th>other_sales</th>\n",
       "      <th>critic_score</th>\n",
       "      <th>user_score</th>\n",
       "      <th>rating</th>\n",
       "      <th>all_sales</th>\n",
       "      <th>rating_age</th>\n",
       "    </tr>\n",
       "  </thead>\n",
       "  <tbody>\n",
       "    <tr>\n",
       "      <th>26</th>\n",
       "      <td>yokai watch 2 ganso/honke</td>\n",
       "      <td>3DS</td>\n",
       "      <td>2014</td>\n",
       "      <td>Role-Playing</td>\n",
       "      <td>0.09</td>\n",
       "      <td>0.00</td>\n",
       "      <td>3.18</td>\n",
       "      <td>0.01</td>\n",
       "      <td>0.0</td>\n",
       "      <td>0.0</td>\n",
       "      <td>unknown</td>\n",
       "      <td>3.28</td>\n",
       "      <td>NoCat</td>\n",
       "    </tr>\n",
       "    <tr>\n",
       "      <th>25</th>\n",
       "      <td>monster hunter x</td>\n",
       "      <td>3DS</td>\n",
       "      <td>2015</td>\n",
       "      <td>Action</td>\n",
       "      <td>0.27</td>\n",
       "      <td>0.21</td>\n",
       "      <td>2.79</td>\n",
       "      <td>0.05</td>\n",
       "      <td>0.0</td>\n",
       "      <td>0.0</td>\n",
       "      <td>unknown</td>\n",
       "      <td>3.32</td>\n",
       "      <td>NoCat</td>\n",
       "    </tr>\n",
       "    <tr>\n",
       "      <th>41</th>\n",
       "      <td>yokai watch 2 shinuchi</td>\n",
       "      <td>3DS</td>\n",
       "      <td>2014</td>\n",
       "      <td>Role-Playing</td>\n",
       "      <td>0.00</td>\n",
       "      <td>0.00</td>\n",
       "      <td>2.68</td>\n",
       "      <td>0.00</td>\n",
       "      <td>0.0</td>\n",
       "      <td>0.0</td>\n",
       "      <td>unknown</td>\n",
       "      <td>2.68</td>\n",
       "      <td>NoCat</td>\n",
       "    </tr>\n",
       "    <tr>\n",
       "      <th>17</th>\n",
       "      <td>monster hunter 4 ultimate</td>\n",
       "      <td>3DS</td>\n",
       "      <td>2014</td>\n",
       "      <td>Role-Playing</td>\n",
       "      <td>0.68</td>\n",
       "      <td>0.48</td>\n",
       "      <td>2.62</td>\n",
       "      <td>0.11</td>\n",
       "      <td>86.0</td>\n",
       "      <td>8.7</td>\n",
       "      <td>T</td>\n",
       "      <td>3.89</td>\n",
       "      <td>13+</td>\n",
       "    </tr>\n",
       "    <tr>\n",
       "      <th>50</th>\n",
       "      <td>yokai watch busters</td>\n",
       "      <td>3DS</td>\n",
       "      <td>2015</td>\n",
       "      <td>Action</td>\n",
       "      <td>0.00</td>\n",
       "      <td>0.00</td>\n",
       "      <td>2.29</td>\n",
       "      <td>0.00</td>\n",
       "      <td>0.0</td>\n",
       "      <td>0.0</td>\n",
       "      <td>unknown</td>\n",
       "      <td>2.29</td>\n",
       "      <td>NoCat</td>\n",
       "    </tr>\n",
       "  </tbody>\n",
       "</table>\n",
       "</div>"
      ],
      "text/plain": [
       "                         name platform  year_of_release         genre  \\\n",
       "26  yokai watch 2 ganso/honke      3DS             2014  Role-Playing   \n",
       "25           monster hunter x      3DS             2015        Action   \n",
       "41     yokai watch 2 shinuchi      3DS             2014  Role-Playing   \n",
       "17  monster hunter 4 ultimate      3DS             2014  Role-Playing   \n",
       "50        yokai watch busters      3DS             2015        Action   \n",
       "\n",
       "    na_sales  eu_sales  jp_sales  other_sales  critic_score  user_score  \\\n",
       "26      0.09      0.00      3.18         0.01           0.0         0.0   \n",
       "25      0.27      0.21      2.79         0.05           0.0         0.0   \n",
       "41      0.00      0.00      2.68         0.00           0.0         0.0   \n",
       "17      0.68      0.48      2.62         0.11          86.0         8.7   \n",
       "50      0.00      0.00      2.29         0.00           0.0         0.0   \n",
       "\n",
       "     rating  all_sales rating_age  \n",
       "26  unknown       3.28      NoCat  \n",
       "25  unknown       3.32      NoCat  \n",
       "41  unknown       2.68      NoCat  \n",
       "17        T       3.89        13+  \n",
       "50  unknown       2.29      NoCat  "
      ]
     },
     "execution_count": 116,
     "metadata": {},
     "output_type": "execute_result"
    }
   ],
   "source": [
    "data_JP = data_new.sort_values(by = 'jp_sales', ascending = False) # датасет отсортирован по успешности в Японии\n",
    "data_JP.head()"
   ]
  },
  {
   "cell_type": "code",
   "execution_count": 117,
   "metadata": {
    "scrolled": true
   },
   "outputs": [
    {
     "data": {
      "text/plain": [
       "<AxesSubplot:title={'center':'топ-5 Платформ Японии'}, ylabel='platform'>"
      ]
     },
     "execution_count": 117,
     "metadata": {},
     "output_type": "execute_result"
    },
    {
     "data": {
      "image/png": "[encoded data removed]",
      "text/plain": [
       "<Figure size 864x288 with 1 Axes>"
      ]
     },
     "metadata": {},
     "output_type": "display_data"
    }
   ],
   "source": [
    "JP_top_platform = data_new.groupby('platform')['jp_sales'].sum().sort_values(ascending = False).head()\n",
    "JP_top_platform.plot(kind = 'barh', title = 'топ-5 Платформ Японии')"
   ]
  },
  {
   "cell_type": "code",
   "execution_count": 118,
   "metadata": {
    "scrolled": true
   },
   "outputs": [
    {
     "data": {
      "text/plain": [
       "<AxesSubplot:title={'center':'топ-5 жанров Японии'}, ylabel='genre'>"
      ]
     },
     "execution_count": 118,
     "metadata": {},
     "output_type": "execute_result"
    },
    {
     "data": {
      "image/png": "[encoded data removed]",
      "text/plain": [
       "<Figure size 864x288 with 1 Axes>"
      ]
     },
     "metadata": {},
     "output_type": "display_data"
    }
   ],
   "source": [
    "JP_top_genre = data_new.groupby('genre')['jp_sales'].sum().sort_values(ascending = False).head()\n",
    "JP_top_genre.plot(kind = 'barh', title = 'топ-5 жанров Японии')"
   ]
  },
  {
   "cell_type": "markdown",
   "metadata": {},
   "source": [
    "### Рейтинг"
   ]
  },
  {
   "cell_type": "code",
   "execution_count": 119,
   "metadata": {
    "scrolled": true
   },
   "outputs": [
    {
     "name": "stderr",
     "output_type": "stream",
     "text": [
      "/tmp/ipykernel_31/489054752.py:1: FutureWarning: Indexing with multiple keys (implicitly converted to a tuple of keys) will be deprecated, use a list instead.\n",
      "  data_new.groupby('rating_age')['na_sales', 'eu_sales', 'jp_sales'].sum().plot(kind = 'bar', title = 'продажи по возрастному рейтингу')\n"
     ]
    },
    {
     "data": {
      "text/plain": [
       "<AxesSubplot:title={'center':'продажи по возрастному рейтингу'}, xlabel='rating_age'>"
      ]
     },
     "execution_count": 119,
     "metadata": {},
     "output_type": "execute_result"
    },
    {
     "data": {
      "image/png": "[encoded data removed]",
      "text/plain": [
       "<Figure size 864x288 with 1 Axes>"
      ]
     },
     "metadata": {},
     "output_type": "display_data"
    }
   ],
   "source": [
    "data_new.groupby('rating_age')['na_sales', 'eu_sales', 'jp_sales'].sum().plot(kind = 'bar', title = 'продажи по возрастному рейтингу')"
   ]
  },
  {
   "cell_type": "markdown",
   "metadata": {},
   "source": [
    "**Выводы** \n",
    "- В Северной Америке пользователи предпочитают играть на традиционных стационарных платформах от PS и Xbox. Наиболее популярные жанры в порядке убывания: Экшн, Шутер, Спорт, РПГ. \n",
    "- В Европе аналогичная картина, но в топ-5 дополнительно входит ПК, а среди жанров добавляются гонки. \n",
    "- В Японии предпочитают портативные консоли от местных производителей. Среди жанров также на первом месте по популярности находится Экшн, но РПГ имеет близкие значения. Кроме этого, в топ-5 входит файтинг. \n",
    "- Игры с пометкой для взрослых 17+(содержат сцены насилия и секса) более чем в два раза превосходят все остальные в Европе и Северной Америке. В то время как в Японии они составляют небольшую долю рынка. Стоит однако обратить внимание, что большая часть проданных игр не имеет категории по ESRB, так как, вероятнее всего, оценивалась по внутренней системе рейтингов.\n"
   ]
  },
  {
   "cell_type": "markdown",
   "metadata": {},
   "source": [
    "## Статистический анализ данных\n",
    "\n",
    "Выше в исследовании была выдвинута гипотеза о том, что распределение рейтингов игр имеет схожую картину для одних и тех же игр на разных платформах. Проверим её в более широком смысле на сравнении двух пар выборок - по паре платформ и паре жанров. Для этого используем ttest для независимых выборок с разной дисперсией. Значение уровня значимости установим стандартное 0,05. "
   ]
  },
  {
   "cell_type": "markdown",
   "metadata": {},
   "source": [
    "### Гипотеза \"Средние пользовательские рейтинги платформ Xbox One и PC одинаковые\"\n",
    "\n",
    "H_0: Пользовательский рейтинг user_score платформы XOne = Пользовательский рейтинг user_score платформы PC`\n",
    "\n",
    "H_a: Пользовательский рейтинг user_score платформы XOne ≠ Пользовательский рейтинг user_score платформы PC`\n",
    "\n",
    "alpha = 0.05"
   ]
  },
  {
   "cell_type": "code",
   "execution_count": 120,
   "metadata": {},
   "outputs": [
    {
     "name": "stdout",
     "output_type": "stream",
     "text": [
      "0.11769775949373869\n",
      "Не получилось отвергнуть нулевую гипотезу\n"
     ]
    }
   ],
   "source": [
    "data_user = data_new.loc[data_new['user_score'] != 0] #датасет с ненулевым рейтингом пользователей\n",
    "Xone = data_user.loc[data_user['platform'] == 'XOne']['user_score'] # xbox one\n",
    "PC = data_user.loc[data_user['platform'] == 'PC']['user_score'] # PC\n",
    "results = st.ttest_ind(Xone, PC, equal_var = False)\n",
    "# вызов метода для проверки гипотезы\n",
    "alpha = 0.05\n",
    "# значение уровня значимости\n",
    "print(results.pvalue)\n",
    "# вывод значения p-value на экран \n",
    "if results.pvalue<alpha:\n",
    "    print('Отвергаем нулевую гипотезу')\n",
    "else:\n",
    "    print('Не получилось отвергнуть нулевую гипотезу')\n",
    "# условный оператор с выводом строки с ответом"
   ]
  },
  {
   "cell_type": "markdown",
   "metadata": {},
   "source": [
    "### Гипотеза \"Средние пользовательские рейтинги жанров Action и Sports разные\""
   ]
  },
  {
   "cell_type": "markdown",
   "metadata": {},
   "source": [
    "H_0: Пользовательский рейтинг user_score жанра Action = Пользовательский рейтинг user_score жанра Sports`\n",
    "\n",
    "H_a: Пользовательский рейтинг user_score жанра Action ≠ Пользовательский рейтинг user_score жанра Sports`\n",
    "\n",
    "alpha = 0.05"
   ]
  },
  {
   "cell_type": "code",
   "execution_count": 121,
   "metadata": {},
   "outputs": [
    {
     "name": "stdout",
     "output_type": "stream",
     "text": [
      "5.865260771663542e-14\n",
      "Отвергаем нулевую гипотезу\n"
     ]
    }
   ],
   "source": [
    "action = data_user.loc[data_user['genre'] == 'Action']['user_score'] # action\n",
    "sports = data_user.loc[data_user['genre'] == 'Sports']['user_score'] # sports\n",
    "results = st.ttest_ind(action, sports , equal_var = False)\n",
    "# вызов метода для проверки гипотезы\n",
    "alpha = 0.05\n",
    "# задайте значение уровня значимости\n",
    "print(results.pvalue)\n",
    "# вывод значения p-value на экран \n",
    "if results.pvalue<alpha:\n",
    "    print('Отвергаем нулевую гипотезу')\n",
    "else:\n",
    "    print('Не получилось отвергнуть нулевую гипотезу')\n",
    "# условный оператор с выводом строки с ответом"
   ]
  },
  {
   "cell_type": "markdown",
   "metadata": {},
   "source": [
    "**Выводы** Первая гипотеза о равенстве рейтингов Xbox и ПК не отвергнута. Это ожидаемый результат, так как выше уже было показано, что рынок игр на Xbox и ПК во многом совпадает.\n",
    "Второе предположение о том, что рейтинги разных жанров различны подтвердилось. Жанр Action является самым популярным и широко представленным во всех регионах на всех платформах, поэтому средний пользовательский рейтинг для него носит малоинформативный характер. В то время как спортивные симуляторы имеют свою нишу на рынке Северной Америки и Европы, не подвержены новаторским изменениям и год от года производят стабильный продукт"
   ]
  },
  {
   "cell_type": "markdown",
   "metadata": {},
   "source": [
    "# Вывод\n",
    "\n",
    "Была проанализирована выборка видеоигр, выпущенных с 1980 по 2016 годы, всего более 16000 наименований. После первичного анализа для прогнозирования рынка в 2017 году данные были обрезаны до периода 2014-2016 гг. В этом периоде наибольший вклад вносят консоли нового поколения - PS4, Xbox One, 3DS, а также ПК. Прогнозируемый срок жизни поколения консоли - 5-10 лет, соответственно все они сохранят актуальность и в будущем году, но стоит учитывать, что 3DS - самая старая из представленных и её популярность уже существенно упала. Наиболее распространённый жанр на всех платформах - action, большой ассортимент игр в этом жанре позволяет удерживать лидерство по продажам во всех регионах. Однако средняя доходность с каждого релиза имеет довольно средние значения.\n",
    "Более выигрышной стратегией в Северной Америке и Европе является ставка на продажи шутеров с рейтингом 17+ - хотя их выпускается примерно в 4 раза меньше наименований, они приносят в целом гораздо более высокий доход. РПГ и спортивные симуляторы также занимают свою нишу на рынке и приносят стабильную прибыль чуть больше средних значений. Наиболее востребованная платформа среди пользователей этих регионов - PS4. В Северной Америке Xbox имеет сопоставимый уровень популярности с ней, а в Европе важной платформой остаётся ПК. \n",
    "Азиатские рынки имеют другую структуру. Здесь стоит сделать ставку на РПГ и Action, выпущенные специально для портативных консолей местного производства. Согласно имеющимся данным, игры 13+ имеют наибольшую долю на рынке этого региона, но эти выводы сложно верифицировать из-за отстуствия доступа к местным рейтинговым классификациям в имеющейся выборке.\n",
    "При выборе релизов для наиболее активных рекламных кампаний на популярных европейских и североамериканских платформах стоит обращать внимание на рейтинги критиков, но с определённой долей осторожности, так как высокий рейтинг не является достаточным условием для успешности игры, однако чаще всего - необходимым. Коэффициент корреляции между ними составляет около 0.4. При этом нужно учитывать, что характерные рейтинги для каждого жанра на каждой платформе будут отличаться и нужно выбирать критерий отбора для каждого случая в отдельности. Азиатские рынки здесь снова отличаются и уровень корреляции для пользователей и критиков невысок и примерно одинаков(0,28). Бестселлерами здесь могут стать игры с любыми оценками.\n",
    "Для дальнейшего анализа рекомендуется разделить данные по американско-европейским и азиатским рынкам из-за их существенно отличающихся структур. Для азиатских необходимо дополнительно привлечь данные с местными рейтинговыми системами, а также релизами, выходившими экслюзивно в этом регионе. В каждом регионе можно изучить влияние компании-издателя на уровень продаж, конверсию бюджета рекламных кампаний, способ продаж(магазины, цифровые игровые маркетплейсы, эксклюзивы платформ). Также стоит рассмотреть влияние стоимости и наличия скидок, состав издания(делюкс, наличие подписки на dlc) и т.д.\n"
   ]
  },
  {
   "cell_type": "code",
   "execution_count": null,
   "metadata": {},
   "outputs": [],
   "source": []
  }
 ],
 "metadata": {
  "ExecuteTimeLog": [
   {
    "duration": 1416,
    "start_time": "2023-03-13T07:48:49.593Z"
   },
   {
    "duration": 83,
    "start_time": "2023-03-13T07:49:09.313Z"
   },
   {
    "duration": 22,
    "start_time": "2023-03-13T07:49:42.999Z"
   },
   {
    "duration": 153,
    "start_time": "2023-03-13T07:53:36.992Z"
   },
   {
    "duration": 41,
    "start_time": "2023-03-13T07:55:55.953Z"
   },
   {
    "duration": 3,
    "start_time": "2023-03-13T07:56:15.009Z"
   },
   {
    "duration": 14,
    "start_time": "2023-03-13T07:56:24.300Z"
   },
   {
    "duration": 12,
    "start_time": "2023-03-13T07:56:28.394Z"
   },
   {
    "duration": 12,
    "start_time": "2023-03-13T07:56:36.066Z"
   },
   {
    "duration": 12,
    "start_time": "2023-03-13T07:56:59.696Z"
   },
   {
    "duration": 21,
    "start_time": "2023-03-13T07:57:44.094Z"
   },
   {
    "duration": 11,
    "start_time": "2023-03-13T07:58:36.497Z"
   },
   {
    "duration": 9,
    "start_time": "2023-03-13T07:59:17.717Z"
   },
   {
    "duration": 172,
    "start_time": "2023-03-13T07:59:49.607Z"
   },
   {
    "duration": 220,
    "start_time": "2023-03-13T08:00:25.657Z"
   },
   {
    "duration": 9,
    "start_time": "2023-03-13T08:00:46.320Z"
   },
   {
    "duration": 207,
    "start_time": "2023-03-13T08:01:37.919Z"
   },
   {
    "duration": 181,
    "start_time": "2023-03-13T08:01:44.079Z"
   },
   {
    "duration": 84,
    "start_time": "2023-03-13T08:01:52.925Z"
   },
   {
    "duration": 16,
    "start_time": "2023-03-13T08:01:53.334Z"
   },
   {
    "duration": 13,
    "start_time": "2023-03-13T08:01:53.754Z"
   },
   {
    "duration": 15,
    "start_time": "2023-03-13T08:01:54.395Z"
   },
   {
    "duration": 16,
    "start_time": "2023-03-13T08:03:19.549Z"
   },
   {
    "duration": 8,
    "start_time": "2023-03-13T08:03:29.138Z"
   },
   {
    "duration": 10,
    "start_time": "2023-03-13T08:04:02.702Z"
   },
   {
    "duration": 131,
    "start_time": "2023-03-13T08:04:16.429Z"
   },
   {
    "duration": 10,
    "start_time": "2023-03-13T08:05:26.991Z"
   },
   {
    "duration": 8,
    "start_time": "2023-03-13T08:07:11.266Z"
   },
   {
    "duration": 19,
    "start_time": "2023-03-13T08:07:18.506Z"
   },
   {
    "duration": 11,
    "start_time": "2023-03-13T08:07:54.334Z"
   },
   {
    "duration": 9,
    "start_time": "2023-03-13T08:08:11.728Z"
   },
   {
    "duration": 4,
    "start_time": "2023-03-13T08:08:14.033Z"
   },
   {
    "duration": 6,
    "start_time": "2023-03-13T08:09:28.660Z"
   },
   {
    "duration": 121,
    "start_time": "2023-03-13T08:11:35.913Z"
   },
   {
    "duration": 9,
    "start_time": "2023-03-13T08:11:38.846Z"
   },
   {
    "duration": 5,
    "start_time": "2023-03-13T08:11:40.005Z"
   },
   {
    "duration": 5,
    "start_time": "2023-03-13T08:11:40.453Z"
   },
   {
    "duration": 6,
    "start_time": "2023-03-13T08:12:15.719Z"
   },
   {
    "duration": 5,
    "start_time": "2023-03-13T08:14:05.095Z"
   },
   {
    "duration": 6,
    "start_time": "2023-03-13T08:14:27.736Z"
   },
   {
    "duration": 131,
    "start_time": "2023-03-13T10:13:41.616Z"
   },
   {
    "duration": 14,
    "start_time": "2023-03-13T10:17:19.580Z"
   },
   {
    "duration": 221,
    "start_time": "2023-03-13T10:17:26.552Z"
   },
   {
    "duration": 187,
    "start_time": "2023-03-13T10:18:28.601Z"
   },
   {
    "duration": 8,
    "start_time": "2023-03-13T10:19:03.115Z"
   },
   {
    "duration": 10,
    "start_time": "2023-03-13T10:19:41.466Z"
   },
   {
    "duration": 256,
    "start_time": "2023-03-13T10:20:02.724Z"
   },
   {
    "duration": 22,
    "start_time": "2023-03-13T10:20:18.220Z"
   },
   {
    "duration": 6,
    "start_time": "2023-03-13T10:20:28.425Z"
   },
   {
    "duration": 19,
    "start_time": "2023-03-13T10:20:29.169Z"
   },
   {
    "duration": 8,
    "start_time": "2023-03-13T10:20:34.665Z"
   },
   {
    "duration": 128,
    "start_time": "2023-03-13T10:21:57.063Z"
   },
   {
    "duration": 131,
    "start_time": "2023-03-13T10:22:17.251Z"
   },
   {
    "duration": 118,
    "start_time": "2023-03-13T10:22:25.926Z"
   },
   {
    "duration": 105,
    "start_time": "2023-03-13T10:22:42.932Z"
   },
   {
    "duration": 18,
    "start_time": "2023-03-13T10:24:10.861Z"
   },
   {
    "duration": 11,
    "start_time": "2023-03-13T10:24:35.423Z"
   },
   {
    "duration": 178,
    "start_time": "2023-03-13T10:24:40.508Z"
   },
   {
    "duration": 4,
    "start_time": "2023-03-13T10:25:02.230Z"
   },
   {
    "duration": 17,
    "start_time": "2023-03-13T10:25:24.312Z"
   },
   {
    "duration": 18,
    "start_time": "2023-03-13T10:25:54.742Z"
   },
   {
    "duration": 13,
    "start_time": "2023-03-13T10:25:57.496Z"
   },
   {
    "duration": 5,
    "start_time": "2023-03-13T10:26:28.207Z"
   },
   {
    "duration": 4,
    "start_time": "2023-03-13T10:27:06.316Z"
   },
   {
    "duration": 5,
    "start_time": "2023-03-13T10:27:07.520Z"
   },
   {
    "duration": 86,
    "start_time": "2023-03-13T10:27:22.903Z"
   },
   {
    "duration": 15,
    "start_time": "2023-03-13T10:27:22.991Z"
   },
   {
    "duration": 26,
    "start_time": "2023-03-13T10:27:23.007Z"
   },
   {
    "duration": 232,
    "start_time": "2023-03-13T10:27:23.035Z"
   },
   {
    "duration": 8,
    "start_time": "2023-03-13T10:27:23.269Z"
   },
   {
    "duration": 16,
    "start_time": "2023-03-13T10:27:23.279Z"
   },
   {
    "duration": 11,
    "start_time": "2023-03-13T10:27:23.296Z"
   },
   {
    "duration": 15,
    "start_time": "2023-03-13T10:27:23.308Z"
   },
   {
    "duration": 16,
    "start_time": "2023-03-13T10:27:23.325Z"
   },
   {
    "duration": 7,
    "start_time": "2023-03-13T10:27:23.343Z"
   },
   {
    "duration": 7,
    "start_time": "2023-03-13T10:27:59.864Z"
   },
   {
    "duration": 6,
    "start_time": "2023-03-13T10:28:58.699Z"
   },
   {
    "duration": 148,
    "start_time": "2023-03-13T10:29:16.462Z"
   },
   {
    "duration": 84,
    "start_time": "2023-03-13T10:29:57.011Z"
   },
   {
    "duration": 16,
    "start_time": "2023-03-13T10:29:57.097Z"
   },
   {
    "duration": 15,
    "start_time": "2023-03-13T10:29:57.115Z"
   },
   {
    "duration": 150,
    "start_time": "2023-03-13T10:29:57.131Z"
   },
   {
    "duration": 11,
    "start_time": "2023-03-13T10:29:57.283Z"
   },
   {
    "duration": 8,
    "start_time": "2023-03-13T10:29:57.295Z"
   },
   {
    "duration": 12,
    "start_time": "2023-03-13T10:29:57.304Z"
   },
   {
    "duration": 153,
    "start_time": "2023-03-13T10:29:57.318Z"
   },
   {
    "duration": 5,
    "start_time": "2023-03-13T10:29:57.473Z"
   },
   {
    "duration": 142,
    "start_time": "2023-03-13T10:29:57.479Z"
   },
   {
    "duration": 532,
    "start_time": "2023-03-13T10:30:26.698Z"
   },
   {
    "duration": 11,
    "start_time": "2023-03-13T10:36:47.252Z"
   },
   {
    "duration": 10,
    "start_time": "2023-03-13T10:37:01.055Z"
   },
   {
    "duration": 87,
    "start_time": "2023-03-13T10:37:14.897Z"
   },
   {
    "duration": 16,
    "start_time": "2023-03-13T10:37:14.986Z"
   },
   {
    "duration": 35,
    "start_time": "2023-03-13T10:37:15.004Z"
   },
   {
    "duration": 139,
    "start_time": "2023-03-13T10:37:15.040Z"
   },
   {
    "duration": 9,
    "start_time": "2023-03-13T10:37:15.181Z"
   },
   {
    "duration": 8,
    "start_time": "2023-03-13T10:37:15.191Z"
   },
   {
    "duration": 6,
    "start_time": "2023-03-13T10:37:15.201Z"
   },
   {
    "duration": 154,
    "start_time": "2023-03-13T10:37:15.208Z"
   },
   {
    "duration": 5,
    "start_time": "2023-03-13T10:37:15.364Z"
   },
   {
    "duration": 217,
    "start_time": "2023-03-13T10:37:15.370Z"
   },
   {
    "duration": 132,
    "start_time": "2023-03-13T10:37:15.589Z"
   },
   {
    "duration": 17,
    "start_time": "2023-03-13T10:37:24.119Z"
   },
   {
    "duration": 9,
    "start_time": "2023-03-13T10:37:53.186Z"
   },
   {
    "duration": 804,
    "start_time": "2023-03-13T10:40:18.208Z"
   },
   {
    "duration": 757,
    "start_time": "2023-03-13T10:40:32.479Z"
   },
   {
    "duration": 813,
    "start_time": "2023-03-13T10:41:01.913Z"
   },
   {
    "duration": 778,
    "start_time": "2023-03-13T10:41:29.653Z"
   },
   {
    "duration": 770,
    "start_time": "2023-03-13T10:42:04.903Z"
   },
   {
    "duration": 753,
    "start_time": "2023-03-13T10:42:36.296Z"
   },
   {
    "duration": 492,
    "start_time": "2023-03-13T10:42:44.447Z"
   },
   {
    "duration": 124,
    "start_time": "2023-03-13T10:43:01.776Z"
   },
   {
    "duration": 19,
    "start_time": "2023-03-13T10:44:10.467Z"
   },
   {
    "duration": 145,
    "start_time": "2023-03-13T10:45:13.843Z"
   },
   {
    "duration": 139,
    "start_time": "2023-03-13T10:46:30.928Z"
   },
   {
    "duration": 22,
    "start_time": "2023-03-13T10:46:48.132Z"
   },
   {
    "duration": 28,
    "start_time": "2023-03-13T10:47:59.944Z"
   },
   {
    "duration": 136,
    "start_time": "2023-03-13T10:48:18.463Z"
   },
   {
    "duration": 21,
    "start_time": "2023-03-13T10:48:32.070Z"
   },
   {
    "duration": 16,
    "start_time": "2023-03-13T10:57:56.411Z"
   },
   {
    "duration": 6,
    "start_time": "2023-03-13T10:59:28.507Z"
   },
   {
    "duration": 5,
    "start_time": "2023-03-13T10:59:31.153Z"
   },
   {
    "duration": 9,
    "start_time": "2023-03-13T10:59:34.275Z"
   },
   {
    "duration": 7,
    "start_time": "2023-03-13T11:00:02.455Z"
   },
   {
    "duration": 7,
    "start_time": "2023-03-13T11:00:25.501Z"
   },
   {
    "duration": 8,
    "start_time": "2023-03-13T11:00:28.568Z"
   },
   {
    "duration": 100,
    "start_time": "2023-03-13T11:01:34.469Z"
   },
   {
    "duration": 15,
    "start_time": "2023-03-13T11:01:34.571Z"
   },
   {
    "duration": 14,
    "start_time": "2023-03-13T11:01:34.587Z"
   },
   {
    "duration": 12,
    "start_time": "2023-03-13T11:01:34.603Z"
   },
   {
    "duration": 6,
    "start_time": "2023-03-13T11:01:34.618Z"
   },
   {
    "duration": 146,
    "start_time": "2023-03-13T11:01:34.625Z"
   },
   {
    "duration": 5,
    "start_time": "2023-03-13T11:01:34.773Z"
   },
   {
    "duration": 142,
    "start_time": "2023-03-13T11:01:34.779Z"
   },
   {
    "duration": 36,
    "start_time": "2023-03-13T11:01:34.922Z"
   },
   {
    "duration": 293,
    "start_time": "2023-03-13T11:01:34.960Z"
   },
   {
    "duration": 25,
    "start_time": "2023-03-13T11:01:35.256Z"
   },
   {
    "duration": 180,
    "start_time": "2023-03-13T11:01:35.283Z"
   },
   {
    "duration": 21,
    "start_time": "2023-03-13T11:01:35.465Z"
   },
   {
    "duration": 21,
    "start_time": "2023-03-13T11:01:35.489Z"
   },
   {
    "duration": 174,
    "start_time": "2023-03-13T11:01:35.512Z"
   },
   {
    "duration": 5,
    "start_time": "2023-03-13T11:01:35.688Z"
   },
   {
    "duration": 160,
    "start_time": "2023-03-13T11:01:35.695Z"
   },
   {
    "duration": 5,
    "start_time": "2023-03-13T11:01:39.371Z"
   },
   {
    "duration": 9,
    "start_time": "2023-03-13T11:02:00.663Z"
   },
   {
    "duration": 90,
    "start_time": "2023-03-13T11:02:11.008Z"
   },
   {
    "duration": 16,
    "start_time": "2023-03-13T11:02:11.100Z"
   },
   {
    "duration": 14,
    "start_time": "2023-03-13T11:02:11.117Z"
   },
   {
    "duration": 20,
    "start_time": "2023-03-13T11:02:11.133Z"
   },
   {
    "duration": 6,
    "start_time": "2023-03-13T11:02:11.158Z"
   },
   {
    "duration": 165,
    "start_time": "2023-03-13T11:02:11.166Z"
   },
   {
    "duration": 5,
    "start_time": "2023-03-13T11:02:11.333Z"
   },
   {
    "duration": 150,
    "start_time": "2023-03-13T11:02:11.344Z"
   },
   {
    "duration": 18,
    "start_time": "2023-03-13T11:02:11.495Z"
   },
   {
    "duration": 165,
    "start_time": "2023-03-13T11:02:11.515Z"
   },
   {
    "duration": 19,
    "start_time": "2023-03-13T11:02:11.682Z"
   },
   {
    "duration": 164,
    "start_time": "2023-03-13T11:02:11.703Z"
   },
   {
    "duration": 19,
    "start_time": "2023-03-13T11:02:11.869Z"
   },
   {
    "duration": 15,
    "start_time": "2023-03-13T11:02:11.890Z"
   },
   {
    "duration": 154,
    "start_time": "2023-03-13T11:02:11.907Z"
   },
   {
    "duration": 5,
    "start_time": "2023-03-13T11:02:12.063Z"
   },
   {
    "duration": 5,
    "start_time": "2023-03-13T11:02:16.128Z"
   },
   {
    "duration": 127,
    "start_time": "2023-03-13T11:02:16.574Z"
   },
   {
    "duration": 96,
    "start_time": "2023-03-13T11:02:29.251Z"
   },
   {
    "duration": 19,
    "start_time": "2023-03-13T11:02:29.349Z"
   },
   {
    "duration": 17,
    "start_time": "2023-03-13T11:02:29.370Z"
   },
   {
    "duration": 16,
    "start_time": "2023-03-13T11:02:29.388Z"
   },
   {
    "duration": 5,
    "start_time": "2023-03-13T11:02:29.407Z"
   },
   {
    "duration": 156,
    "start_time": "2023-03-13T11:02:29.414Z"
   },
   {
    "duration": 5,
    "start_time": "2023-03-13T11:02:29.571Z"
   },
   {
    "duration": 140,
    "start_time": "2023-03-13T11:02:29.578Z"
   },
   {
    "duration": 38,
    "start_time": "2023-03-13T11:02:29.719Z"
   },
   {
    "duration": 142,
    "start_time": "2023-03-13T11:02:29.759Z"
   },
   {
    "duration": 20,
    "start_time": "2023-03-13T11:02:29.902Z"
   },
   {
    "duration": 155,
    "start_time": "2023-03-13T11:02:29.924Z"
   },
   {
    "duration": 19,
    "start_time": "2023-03-13T11:02:30.081Z"
   },
   {
    "duration": 25,
    "start_time": "2023-03-13T11:02:30.102Z"
   },
   {
    "duration": 148,
    "start_time": "2023-03-13T11:02:33.810Z"
   },
   {
    "duration": 173,
    "start_time": "2023-03-13T11:03:12.659Z"
   },
   {
    "duration": 10,
    "start_time": "2023-03-13T11:03:39.877Z"
   },
   {
    "duration": 11,
    "start_time": "2023-03-13T11:03:55.355Z"
   },
   {
    "duration": 11,
    "start_time": "2023-03-13T11:04:06.606Z"
   },
   {
    "duration": 131,
    "start_time": "2023-03-13T11:04:37.505Z"
   },
   {
    "duration": 144,
    "start_time": "2023-03-13T11:05:08.011Z"
   },
   {
    "duration": 248,
    "start_time": "2023-03-13T11:05:31.356Z"
   },
   {
    "duration": 8,
    "start_time": "2023-03-13T11:05:35.129Z"
   },
   {
    "duration": 11,
    "start_time": "2023-03-13T11:07:33.700Z"
   },
   {
    "duration": 322,
    "start_time": "2023-03-13T11:07:46.418Z"
   },
   {
    "duration": 290,
    "start_time": "2023-03-13T11:08:19.811Z"
   },
   {
    "duration": 313,
    "start_time": "2023-03-13T11:08:38.042Z"
   },
   {
    "duration": 336,
    "start_time": "2023-03-13T11:08:58.968Z"
   },
   {
    "duration": 18,
    "start_time": "2023-03-13T11:11:09.521Z"
   },
   {
    "duration": 19,
    "start_time": "2023-03-13T11:13:28.360Z"
   },
   {
    "duration": 9,
    "start_time": "2023-03-13T11:13:58.351Z"
   },
   {
    "duration": 56,
    "start_time": "2023-03-13T11:14:08.002Z"
   },
   {
    "duration": 623,
    "start_time": "2023-03-13T11:15:18.035Z"
   },
   {
    "duration": 2698,
    "start_time": "2023-03-13T11:15:56.377Z"
   },
   {
    "duration": 14,
    "start_time": "2023-03-13T11:16:52.944Z"
   },
   {
    "duration": 57,
    "start_time": "2023-03-13T11:16:57.709Z"
   },
   {
    "duration": 45,
    "start_time": "2023-03-13T11:18:27.394Z"
   },
   {
    "duration": 19,
    "start_time": "2023-03-13T11:18:32.516Z"
   },
   {
    "duration": 15,
    "start_time": "2023-03-13T11:19:50.692Z"
   },
   {
    "duration": 11,
    "start_time": "2023-03-13T11:20:05.140Z"
   },
   {
    "duration": 14,
    "start_time": "2023-03-13T11:20:11.462Z"
   },
   {
    "duration": 14,
    "start_time": "2023-03-13T11:20:18.272Z"
   },
   {
    "duration": 15,
    "start_time": "2023-03-13T11:20:26.017Z"
   },
   {
    "duration": 6,
    "start_time": "2023-03-13T11:21:16.038Z"
   },
   {
    "duration": 6,
    "start_time": "2023-03-13T11:21:19.506Z"
   },
   {
    "duration": 17,
    "start_time": "2023-03-13T11:22:16.217Z"
   },
   {
    "duration": 358,
    "start_time": "2023-03-13T11:22:30.598Z"
   },
   {
    "duration": 175,
    "start_time": "2023-03-13T11:23:29.601Z"
   },
   {
    "duration": 8,
    "start_time": "2023-03-13T11:24:47.126Z"
   },
   {
    "duration": 3,
    "start_time": "2023-03-13T11:29:09.276Z"
   },
   {
    "duration": 287,
    "start_time": "2023-03-13T11:35:48.840Z"
   },
   {
    "duration": 338,
    "start_time": "2023-03-13T11:36:03.933Z"
   },
   {
    "duration": 438,
    "start_time": "2023-03-13T11:38:00.115Z"
   },
   {
    "duration": 1593,
    "start_time": "2023-03-13T11:38:41.792Z"
   },
   {
    "duration": 16,
    "start_time": "2023-03-13T11:41:34.824Z"
   },
   {
    "duration": 14,
    "start_time": "2023-03-13T11:42:13.731Z"
   },
   {
    "duration": 27,
    "start_time": "2023-03-13T11:43:07.652Z"
   },
   {
    "duration": 247,
    "start_time": "2023-03-13T11:45:04.393Z"
   },
   {
    "duration": 412,
    "start_time": "2023-03-13T11:45:31.260Z"
   },
   {
    "duration": 513,
    "start_time": "2023-03-13T11:56:00.561Z"
   },
   {
    "duration": 18,
    "start_time": "2023-03-13T11:56:07.737Z"
   },
   {
    "duration": 298,
    "start_time": "2023-03-13T11:56:22.200Z"
   },
   {
    "duration": 41,
    "start_time": "2023-03-13T13:53:38.934Z"
   },
   {
    "duration": 47,
    "start_time": "2023-03-13T13:54:18.040Z"
   },
   {
    "duration": 36,
    "start_time": "2023-03-13T13:57:42.229Z"
   },
   {
    "duration": 47,
    "start_time": "2023-03-13T14:00:19.608Z"
   },
   {
    "duration": 9,
    "start_time": "2023-03-13T14:04:42.347Z"
   },
   {
    "duration": 78,
    "start_time": "2023-03-13T14:05:09.650Z"
   },
   {
    "duration": 86,
    "start_time": "2023-03-13T14:05:16.986Z"
   },
   {
    "duration": 15,
    "start_time": "2023-03-13T14:05:17.074Z"
   },
   {
    "duration": 14,
    "start_time": "2023-03-13T14:05:17.090Z"
   },
   {
    "duration": 8,
    "start_time": "2023-03-13T14:05:17.105Z"
   },
   {
    "duration": 25,
    "start_time": "2023-03-13T14:05:17.115Z"
   },
   {
    "duration": 150,
    "start_time": "2023-03-13T14:05:17.142Z"
   },
   {
    "duration": 5,
    "start_time": "2023-03-13T14:05:17.294Z"
   },
   {
    "duration": 373,
    "start_time": "2023-03-13T14:05:17.300Z"
   },
   {
    "duration": 16,
    "start_time": "2023-03-13T14:05:17.675Z"
   },
   {
    "duration": 147,
    "start_time": "2023-03-13T14:05:17.693Z"
   },
   {
    "duration": 18,
    "start_time": "2023-03-13T14:05:17.842Z"
   },
   {
    "duration": 140,
    "start_time": "2023-03-13T14:05:17.862Z"
   },
   {
    "duration": 19,
    "start_time": "2023-03-13T14:05:18.003Z"
   },
   {
    "duration": 26,
    "start_time": "2023-03-13T14:05:18.023Z"
   },
   {
    "duration": 127,
    "start_time": "2023-03-13T14:05:18.051Z"
   },
   {
    "duration": 4,
    "start_time": "2023-03-13T14:05:18.180Z"
   },
   {
    "duration": 131,
    "start_time": "2023-03-13T14:05:18.186Z"
   },
   {
    "duration": 7,
    "start_time": "2023-03-13T14:05:18.318Z"
   },
   {
    "duration": 18,
    "start_time": "2023-03-13T14:05:18.326Z"
   },
   {
    "duration": 290,
    "start_time": "2023-03-13T14:05:18.346Z"
   },
   {
    "duration": 187,
    "start_time": "2023-03-13T14:05:18.640Z"
   },
   {
    "duration": 8,
    "start_time": "2023-03-13T14:06:05.510Z"
   },
   {
    "duration": 8,
    "start_time": "2023-03-13T14:06:49.108Z"
   },
   {
    "duration": 13,
    "start_time": "2023-03-13T14:09:53.148Z"
   },
   {
    "duration": 31,
    "start_time": "2023-03-13T14:10:05.863Z"
   },
   {
    "duration": 20,
    "start_time": "2023-03-13T14:10:21.604Z"
   },
   {
    "duration": 42,
    "start_time": "2023-03-13T14:11:12.663Z"
   },
   {
    "duration": 19,
    "start_time": "2023-03-13T14:11:16.004Z"
   },
   {
    "duration": 39,
    "start_time": "2023-03-13T14:12:20.070Z"
   },
   {
    "duration": 464,
    "start_time": "2023-03-13T14:13:07.419Z"
   },
   {
    "duration": 1301,
    "start_time": "2023-03-13T18:08:24.112Z"
   },
   {
    "duration": 1336,
    "start_time": "2023-03-13T18:09:31.292Z"
   },
   {
    "duration": 436,
    "start_time": "2023-03-13T18:09:40.000Z"
   },
   {
    "duration": 9,
    "start_time": "2023-03-13T18:13:22.920Z"
   },
   {
    "duration": 10,
    "start_time": "2023-03-13T18:13:34.911Z"
   },
   {
    "duration": 146,
    "start_time": "2023-03-13T18:13:41.446Z"
   },
   {
    "duration": 17,
    "start_time": "2023-03-13T18:19:21.218Z"
   },
   {
    "duration": 33,
    "start_time": "2023-03-13T18:25:58.420Z"
   },
   {
    "duration": 18,
    "start_time": "2023-03-13T18:26:27.160Z"
   },
   {
    "duration": 19,
    "start_time": "2023-03-13T18:26:28.121Z"
   },
   {
    "duration": 151,
    "start_time": "2023-03-13T18:29:43.244Z"
   },
   {
    "duration": 5,
    "start_time": "2023-03-13T18:30:02.534Z"
   },
   {
    "duration": 7,
    "start_time": "2023-03-13T18:30:21.396Z"
   },
   {
    "duration": 9,
    "start_time": "2023-03-13T18:31:11.266Z"
   },
   {
    "duration": 22,
    "start_time": "2023-03-13T18:31:15.470Z"
   },
   {
    "duration": 699,
    "start_time": "2023-03-13T18:33:32.402Z"
   },
   {
    "duration": 36,
    "start_time": "2023-03-13T18:35:05.724Z"
   },
   {
    "duration": 704,
    "start_time": "2023-03-13T18:35:22.631Z"
   },
   {
    "duration": 741,
    "start_time": "2023-03-13T18:35:31.058Z"
   },
   {
    "duration": 13,
    "start_time": "2023-03-13T18:35:44.995Z"
   },
   {
    "duration": 20,
    "start_time": "2023-03-13T18:35:50.616Z"
   },
   {
    "duration": 228,
    "start_time": "2023-03-13T18:36:26.603Z"
   },
   {
    "duration": 129,
    "start_time": "2023-03-13T18:36:33.101Z"
   },
   {
    "duration": 15,
    "start_time": "2023-03-13T18:44:13.636Z"
   },
   {
    "duration": 18,
    "start_time": "2023-03-13T18:44:26.605Z"
   },
   {
    "duration": 28,
    "start_time": "2023-03-13T18:45:02.804Z"
   },
   {
    "duration": 21,
    "start_time": "2023-03-13T18:45:15.539Z"
   },
   {
    "duration": 13,
    "start_time": "2023-03-13T18:45:21.799Z"
   },
   {
    "duration": 19,
    "start_time": "2023-03-13T18:45:29.536Z"
   },
   {
    "duration": 18,
    "start_time": "2023-03-13T18:45:58.864Z"
   },
   {
    "duration": 18,
    "start_time": "2023-03-13T18:46:12.166Z"
   },
   {
    "duration": 17,
    "start_time": "2023-03-13T18:46:28.898Z"
   },
   {
    "duration": 34,
    "start_time": "2023-03-13T18:46:37.518Z"
   },
   {
    "duration": 46,
    "start_time": "2023-03-14T06:30:01.483Z"
   },
   {
    "duration": 12,
    "start_time": "2023-03-14T06:30:25.300Z"
   },
   {
    "duration": 1108,
    "start_time": "2023-03-14T06:31:24.010Z"
   },
   {
    "duration": 173,
    "start_time": "2023-03-14T06:32:14.225Z"
   },
   {
    "duration": 22,
    "start_time": "2023-03-14T06:32:44.635Z"
   },
   {
    "duration": 178,
    "start_time": "2023-03-14T06:33:34.234Z"
   },
   {
    "duration": 165,
    "start_time": "2023-03-14T06:34:46.575Z"
   },
   {
    "duration": 205,
    "start_time": "2023-03-14T06:35:05.855Z"
   },
   {
    "duration": 154,
    "start_time": "2023-03-14T06:35:40.179Z"
   },
   {
    "duration": 163,
    "start_time": "2023-03-14T06:36:03.623Z"
   },
   {
    "duration": 132,
    "start_time": "2023-03-14T06:36:12.703Z"
   },
   {
    "duration": 54,
    "start_time": "2023-03-14T06:39:27.513Z"
   },
   {
    "duration": 12,
    "start_time": "2023-03-14T06:39:48.455Z"
   },
   {
    "duration": 17,
    "start_time": "2023-03-14T06:40:43.098Z"
   },
   {
    "duration": 7,
    "start_time": "2023-03-14T06:41:51.305Z"
   },
   {
    "duration": 14,
    "start_time": "2023-03-14T06:42:17.063Z"
   },
   {
    "duration": 150,
    "start_time": "2023-03-14T06:42:44.921Z"
   },
   {
    "duration": 157,
    "start_time": "2023-03-14T06:43:35.598Z"
   },
   {
    "duration": 162,
    "start_time": "2023-03-14T06:46:09.558Z"
   },
   {
    "duration": 160,
    "start_time": "2023-03-14T06:46:15.660Z"
   },
   {
    "duration": 153,
    "start_time": "2023-03-14T06:46:40.731Z"
   },
   {
    "duration": 196,
    "start_time": "2023-03-14T06:46:45.404Z"
   },
   {
    "duration": 253,
    "start_time": "2023-03-14T06:46:52.129Z"
   },
   {
    "duration": 170,
    "start_time": "2023-03-14T06:51:07.199Z"
   },
   {
    "duration": 162,
    "start_time": "2023-03-14T06:51:23.097Z"
   },
   {
    "duration": 203,
    "start_time": "2023-03-14T06:51:40.251Z"
   },
   {
    "duration": 225,
    "start_time": "2023-03-14T06:51:56.576Z"
   },
   {
    "duration": 224,
    "start_time": "2023-03-14T06:52:04.055Z"
   },
   {
    "duration": 220,
    "start_time": "2023-03-14T06:52:09.012Z"
   },
   {
    "duration": 193,
    "start_time": "2023-03-14T06:52:47.772Z"
   },
   {
    "duration": 19,
    "start_time": "2023-03-14T06:56:05.917Z"
   },
   {
    "duration": 6,
    "start_time": "2023-03-14T06:57:38.011Z"
   },
   {
    "duration": 31,
    "start_time": "2023-03-14T08:53:07.906Z"
   },
   {
    "duration": 186,
    "start_time": "2023-03-14T08:56:40.758Z"
   },
   {
    "duration": 11,
    "start_time": "2023-03-14T08:58:10.096Z"
   },
   {
    "duration": 23,
    "start_time": "2023-03-14T08:59:49.505Z"
   },
   {
    "duration": 33,
    "start_time": "2023-03-14T09:00:01.931Z"
   },
   {
    "duration": 39,
    "start_time": "2023-03-14T09:00:06.895Z"
   },
   {
    "duration": 45,
    "start_time": "2023-03-14T09:04:45.500Z"
   },
   {
    "duration": 11,
    "start_time": "2023-03-14T09:05:11.567Z"
   },
   {
    "duration": 107,
    "start_time": "2023-03-14T09:05:23.213Z"
   },
   {
    "duration": 15,
    "start_time": "2023-03-14T09:05:23.323Z"
   },
   {
    "duration": 15,
    "start_time": "2023-03-14T09:05:23.341Z"
   },
   {
    "duration": 15,
    "start_time": "2023-03-14T09:05:23.358Z"
   },
   {
    "duration": 12,
    "start_time": "2023-03-14T09:05:23.376Z"
   },
   {
    "duration": 215,
    "start_time": "2023-03-14T09:05:23.390Z"
   },
   {
    "duration": 6,
    "start_time": "2023-03-14T09:05:23.606Z"
   },
   {
    "duration": 202,
    "start_time": "2023-03-14T09:05:23.615Z"
   },
   {
    "duration": 28,
    "start_time": "2023-03-14T09:05:23.819Z"
   },
   {
    "duration": 236,
    "start_time": "2023-03-14T09:05:23.849Z"
   },
   {
    "duration": 30,
    "start_time": "2023-03-14T09:05:24.087Z"
   },
   {
    "duration": 202,
    "start_time": "2023-03-14T09:05:24.119Z"
   },
   {
    "duration": 35,
    "start_time": "2023-03-14T09:05:24.323Z"
   },
   {
    "duration": 30,
    "start_time": "2023-03-14T09:05:24.362Z"
   },
   {
    "duration": 10,
    "start_time": "2023-03-14T09:05:24.394Z"
   },
   {
    "duration": 35,
    "start_time": "2023-03-14T09:05:24.406Z"
   },
   {
    "duration": 173,
    "start_time": "2023-03-14T09:05:24.443Z"
   },
   {
    "duration": 6,
    "start_time": "2023-03-14T09:05:24.618Z"
   },
   {
    "duration": 186,
    "start_time": "2023-03-14T09:05:24.626Z"
   },
   {
    "duration": 7,
    "start_time": "2023-03-14T09:05:24.814Z"
   },
   {
    "duration": 32,
    "start_time": "2023-03-14T09:05:24.823Z"
   },
   {
    "duration": 8,
    "start_time": "2023-03-14T09:05:24.856Z"
   },
   {
    "duration": 403,
    "start_time": "2023-03-14T09:05:24.866Z"
   },
   {
    "duration": 239,
    "start_time": "2023-03-14T09:05:25.271Z"
   },
   {
    "duration": 801,
    "start_time": "2023-03-14T09:05:25.512Z"
   },
   {
    "duration": 26,
    "start_time": "2023-03-14T09:05:26.315Z"
   },
   {
    "duration": 22,
    "start_time": "2023-03-14T09:05:26.343Z"
   },
   {
    "duration": 208,
    "start_time": "2023-03-14T09:05:26.367Z"
   },
   {
    "duration": 28,
    "start_time": "2023-03-14T09:05:26.577Z"
   },
   {
    "duration": 9,
    "start_time": "2023-03-14T09:05:26.606Z"
   },
   {
    "duration": 510,
    "start_time": "2023-03-14T09:05:26.616Z"
   },
   {
    "duration": 18,
    "start_time": "2023-03-14T09:05:59.678Z"
   },
   {
    "duration": 137,
    "start_time": "2023-03-14T09:08:04.743Z"
   },
   {
    "duration": 165,
    "start_time": "2023-03-14T09:09:11.463Z"
   },
   {
    "duration": 178,
    "start_time": "2023-03-14T09:09:26.705Z"
   },
   {
    "duration": 163,
    "start_time": "2023-03-14T09:09:34.871Z"
   },
   {
    "duration": 154,
    "start_time": "2023-03-14T09:10:10.815Z"
   },
   {
    "duration": 171,
    "start_time": "2023-03-14T09:10:30.214Z"
   },
   {
    "duration": 215,
    "start_time": "2023-03-14T09:11:32.313Z"
   },
   {
    "duration": 22,
    "start_time": "2023-03-14T09:12:58.455Z"
   },
   {
    "duration": 13,
    "start_time": "2023-03-14T09:13:12.207Z"
   },
   {
    "duration": 34,
    "start_time": "2023-03-14T09:14:02.563Z"
   },
   {
    "duration": 23,
    "start_time": "2023-03-14T09:14:29.460Z"
   },
   {
    "duration": 30,
    "start_time": "2023-03-14T09:14:39.699Z"
   },
   {
    "duration": 18,
    "start_time": "2023-03-14T09:15:42.925Z"
   },
   {
    "duration": 13,
    "start_time": "2023-03-14T09:17:55.332Z"
   },
   {
    "duration": 23,
    "start_time": "2023-03-14T09:17:59.843Z"
   },
   {
    "duration": 23,
    "start_time": "2023-03-14T09:19:05.222Z"
   },
   {
    "duration": 374,
    "start_time": "2023-03-14T09:21:42.433Z"
   },
   {
    "duration": 160,
    "start_time": "2023-03-14T09:22:23.146Z"
   },
   {
    "duration": 269,
    "start_time": "2023-03-14T09:22:38.093Z"
   },
   {
    "duration": 99,
    "start_time": "2023-03-14T09:25:41.162Z"
   },
   {
    "duration": 15,
    "start_time": "2023-03-14T09:25:41.264Z"
   },
   {
    "duration": 20,
    "start_time": "2023-03-14T09:25:41.280Z"
   },
   {
    "duration": 11,
    "start_time": "2023-03-14T09:25:41.301Z"
   },
   {
    "duration": 8,
    "start_time": "2023-03-14T09:25:41.314Z"
   },
   {
    "duration": 193,
    "start_time": "2023-03-14T09:25:41.324Z"
   },
   {
    "duration": 191,
    "start_time": "2023-03-14T09:25:43.630Z"
   },
   {
    "duration": 51,
    "start_time": "2023-03-14T09:26:09.171Z"
   },
   {
    "duration": 54,
    "start_time": "2023-03-14T09:26:18.213Z"
   },
   {
    "duration": 9,
    "start_time": "2023-03-14T09:26:21.993Z"
   },
   {
    "duration": 13,
    "start_time": "2023-03-14T09:31:56.809Z"
   },
   {
    "duration": 14,
    "start_time": "2023-03-14T15:36:42.969Z"
   },
   {
    "duration": 15,
    "start_time": "2023-03-14T15:36:50.231Z"
   },
   {
    "duration": 18,
    "start_time": "2023-03-14T15:36:54.765Z"
   },
   {
    "duration": 11,
    "start_time": "2023-03-14T15:37:06.319Z"
   },
   {
    "duration": 8,
    "start_time": "2023-03-14T15:38:47.634Z"
   },
   {
    "duration": 8,
    "start_time": "2023-03-14T15:39:26.507Z"
   },
   {
    "duration": 101,
    "start_time": "2023-03-14T15:40:34.752Z"
   },
   {
    "duration": 19,
    "start_time": "2023-03-14T15:40:34.855Z"
   },
   {
    "duration": 19,
    "start_time": "2023-03-14T15:40:34.876Z"
   },
   {
    "duration": 11,
    "start_time": "2023-03-14T15:40:34.898Z"
   },
   {
    "duration": 5,
    "start_time": "2023-03-14T15:40:34.912Z"
   },
   {
    "duration": 186,
    "start_time": "2023-03-14T15:40:34.918Z"
   },
   {
    "duration": 17,
    "start_time": "2023-03-14T15:40:35.106Z"
   },
   {
    "duration": 33,
    "start_time": "2023-03-14T15:40:35.125Z"
   },
   {
    "duration": 177,
    "start_time": "2023-03-14T15:40:35.160Z"
   },
   {
    "duration": 22,
    "start_time": "2023-03-14T15:40:35.340Z"
   },
   {
    "duration": 214,
    "start_time": "2023-03-14T15:40:35.363Z"
   },
   {
    "duration": 19,
    "start_time": "2023-03-14T15:40:35.578Z"
   },
   {
    "duration": 165,
    "start_time": "2023-03-14T15:40:35.598Z"
   },
   {
    "duration": 22,
    "start_time": "2023-03-14T15:40:35.765Z"
   },
   {
    "duration": 21,
    "start_time": "2023-03-14T15:40:35.789Z"
   },
   {
    "duration": 9,
    "start_time": "2023-03-14T15:40:35.811Z"
   },
   {
    "duration": 13,
    "start_time": "2023-03-14T15:40:35.844Z"
   },
   {
    "duration": 197,
    "start_time": "2023-03-14T15:40:35.862Z"
   },
   {
    "duration": 11,
    "start_time": "2023-03-14T15:40:36.065Z"
   },
   {
    "duration": 9,
    "start_time": "2023-03-14T15:40:36.081Z"
   },
   {
    "duration": 163,
    "start_time": "2023-03-14T15:40:36.092Z"
   },
   {
    "duration": 8,
    "start_time": "2023-03-14T15:40:36.257Z"
   },
   {
    "duration": 22,
    "start_time": "2023-03-14T15:40:36.266Z"
   },
   {
    "duration": 8,
    "start_time": "2023-03-14T15:40:50.791Z"
   },
   {
    "duration": 16,
    "start_time": "2023-03-14T15:40:52.772Z"
   },
   {
    "duration": 18,
    "start_time": "2023-03-14T15:41:20.570Z"
   },
   {
    "duration": 11,
    "start_time": "2023-03-14T15:41:55.173Z"
   },
   {
    "duration": 8,
    "start_time": "2023-03-14T15:42:08.707Z"
   },
   {
    "duration": 13,
    "start_time": "2023-03-14T15:42:27.950Z"
   },
   {
    "duration": 40,
    "start_time": "2023-03-14T15:45:12.061Z"
   },
   {
    "duration": 181,
    "start_time": "2023-03-14T15:52:17.572Z"
   },
   {
    "duration": 13,
    "start_time": "2023-03-14T15:52:26.635Z"
   },
   {
    "duration": 123,
    "start_time": "2023-03-14T15:52:42.325Z"
   },
   {
    "duration": 18,
    "start_time": "2023-03-14T15:54:09.773Z"
   },
   {
    "duration": 176,
    "start_time": "2023-03-14T16:18:10.577Z"
   },
   {
    "duration": 22,
    "start_time": "2023-03-14T16:18:36.462Z"
   },
   {
    "duration": 29,
    "start_time": "2023-03-14T16:20:39.431Z"
   },
   {
    "duration": 1267,
    "start_time": "2023-03-14T16:20:58.000Z"
   },
   {
    "duration": 1478,
    "start_time": "2023-03-14T16:21:34.455Z"
   },
   {
    "duration": 495,
    "start_time": "2023-03-14T16:21:47.299Z"
   },
   {
    "duration": 565,
    "start_time": "2023-03-14T16:22:05.882Z"
   },
   {
    "duration": 27,
    "start_time": "2023-03-14T16:23:43.072Z"
   },
   {
    "duration": 774,
    "start_time": "2023-03-14T16:23:59.663Z"
   },
   {
    "duration": 896,
    "start_time": "2023-03-14T16:25:08.126Z"
   },
   {
    "duration": 574,
    "start_time": "2023-03-14T16:27:36.643Z"
   },
   {
    "duration": 655,
    "start_time": "2023-03-14T16:27:49.412Z"
   },
   {
    "duration": 562,
    "start_time": "2023-03-14T16:28:27.199Z"
   },
   {
    "duration": 549,
    "start_time": "2023-03-14T16:28:35.481Z"
   },
   {
    "duration": 459,
    "start_time": "2023-03-14T16:29:09.275Z"
   },
   {
    "duration": 509,
    "start_time": "2023-03-14T16:29:20.420Z"
   },
   {
    "duration": 259,
    "start_time": "2023-03-14T16:29:58.509Z"
   },
   {
    "duration": 147,
    "start_time": "2023-03-14T16:30:04.100Z"
   },
   {
    "duration": 415,
    "start_time": "2023-03-14T16:30:29.934Z"
   },
   {
    "duration": 539,
    "start_time": "2023-03-14T16:30:49.070Z"
   },
   {
    "duration": 417,
    "start_time": "2023-03-14T16:31:09.777Z"
   },
   {
    "duration": 435,
    "start_time": "2023-03-14T16:31:18.596Z"
   },
   {
    "duration": 495,
    "start_time": "2023-03-14T16:31:25.305Z"
   },
   {
    "duration": 455,
    "start_time": "2023-03-14T16:32:08.475Z"
   },
   {
    "duration": 596,
    "start_time": "2023-03-14T16:32:53.542Z"
   },
   {
    "duration": 25,
    "start_time": "2023-03-14T16:38:17.356Z"
   },
   {
    "duration": 6,
    "start_time": "2023-03-14T16:39:49.310Z"
   },
   {
    "duration": 9,
    "start_time": "2023-03-14T16:40:09.081Z"
   },
   {
    "duration": 174,
    "start_time": "2023-03-14T16:41:41.230Z"
   },
   {
    "duration": 205,
    "start_time": "2023-03-14T16:41:46.031Z"
   },
   {
    "duration": 240,
    "start_time": "2023-03-14T16:42:18.269Z"
   },
   {
    "duration": 11,
    "start_time": "2023-03-14T16:43:20.894Z"
   },
   {
    "duration": 14,
    "start_time": "2023-03-14T16:43:26.564Z"
   },
   {
    "duration": 22,
    "start_time": "2023-03-14T16:43:29.974Z"
   },
   {
    "duration": 178,
    "start_time": "2023-03-14T16:43:56.854Z"
   },
   {
    "duration": 196,
    "start_time": "2023-03-14T16:44:15.257Z"
   },
   {
    "duration": 22,
    "start_time": "2023-03-14T16:44:43.609Z"
   },
   {
    "duration": 194,
    "start_time": "2023-03-14T16:45:01.444Z"
   },
   {
    "duration": 597,
    "start_time": "2023-03-14T16:45:15.877Z"
   },
   {
    "duration": 146,
    "start_time": "2023-03-14T16:46:25.097Z"
   },
   {
    "duration": 140,
    "start_time": "2023-03-14T16:46:30.996Z"
   },
   {
    "duration": 11,
    "start_time": "2023-03-14T16:46:52.813Z"
   },
   {
    "duration": 166,
    "start_time": "2023-03-14T16:46:56.092Z"
   },
   {
    "duration": 172,
    "start_time": "2023-03-14T16:47:10.716Z"
   },
   {
    "duration": 138,
    "start_time": "2023-03-14T16:47:15.273Z"
   },
   {
    "duration": 205,
    "start_time": "2023-03-14T16:47:26.109Z"
   },
   {
    "duration": 181,
    "start_time": "2023-03-14T16:47:31.148Z"
   },
   {
    "duration": 189,
    "start_time": "2023-03-14T16:47:41.524Z"
   },
   {
    "duration": 25,
    "start_time": "2023-03-14T16:47:54.261Z"
   },
   {
    "duration": 160,
    "start_time": "2023-03-14T16:48:15.978Z"
   },
   {
    "duration": 181,
    "start_time": "2023-03-14T16:48:26.825Z"
   },
   {
    "duration": 173,
    "start_time": "2023-03-14T16:49:41.399Z"
   },
   {
    "duration": 170,
    "start_time": "2023-03-14T16:50:03.059Z"
   },
   {
    "duration": 186,
    "start_time": "2023-03-14T16:50:13.133Z"
   },
   {
    "duration": 173,
    "start_time": "2023-03-14T16:50:30.131Z"
   },
   {
    "duration": 47,
    "start_time": "2023-03-14T16:50:43.675Z"
   },
   {
    "duration": 167,
    "start_time": "2023-03-14T16:50:50.115Z"
   },
   {
    "duration": 201,
    "start_time": "2023-03-14T16:51:03.913Z"
   },
   {
    "duration": 10,
    "start_time": "2023-03-14T16:55:21.162Z"
   },
   {
    "duration": 5,
    "start_time": "2023-03-14T17:02:03.811Z"
   },
   {
    "duration": 85,
    "start_time": "2023-03-14T17:02:36.406Z"
   },
   {
    "duration": 78,
    "start_time": "2023-03-14T17:02:44.614Z"
   },
   {
    "duration": 12,
    "start_time": "2023-03-14T17:02:49.999Z"
   },
   {
    "duration": 11,
    "start_time": "2023-03-14T17:02:55.888Z"
   },
   {
    "duration": 12,
    "start_time": "2023-03-14T17:02:58.813Z"
   },
   {
    "duration": 3,
    "start_time": "2023-03-14T17:03:20.627Z"
   },
   {
    "duration": 4,
    "start_time": "2023-03-14T17:03:23.576Z"
   },
   {
    "duration": 15,
    "start_time": "2023-03-14T17:03:23.968Z"
   },
   {
    "duration": 13,
    "start_time": "2023-03-14T17:03:24.417Z"
   },
   {
    "duration": 117,
    "start_time": "2023-03-14T17:03:37.133Z"
   },
   {
    "duration": 20,
    "start_time": "2023-03-14T17:03:37.255Z"
   },
   {
    "duration": 42,
    "start_time": "2023-03-14T17:03:37.276Z"
   },
   {
    "duration": 20,
    "start_time": "2023-03-14T17:03:37.320Z"
   },
   {
    "duration": 52,
    "start_time": "2023-03-14T17:03:37.343Z"
   },
   {
    "duration": 232,
    "start_time": "2023-03-14T17:03:37.397Z"
   },
   {
    "duration": 27,
    "start_time": "2023-03-14T17:03:37.632Z"
   },
   {
    "duration": 23,
    "start_time": "2023-03-14T17:03:37.664Z"
   },
   {
    "duration": 189,
    "start_time": "2023-03-14T17:03:37.690Z"
   },
   {
    "duration": 18,
    "start_time": "2023-03-14T17:03:37.887Z"
   },
   {
    "duration": 201,
    "start_time": "2023-03-14T17:03:37.907Z"
   },
   {
    "duration": 33,
    "start_time": "2023-03-14T17:03:38.111Z"
   },
   {
    "duration": 236,
    "start_time": "2023-03-14T17:03:38.149Z"
   },
   {
    "duration": 20,
    "start_time": "2023-03-14T17:03:38.388Z"
   },
   {
    "duration": 20,
    "start_time": "2023-03-14T17:03:38.410Z"
   },
   {
    "duration": 10,
    "start_time": "2023-03-14T17:03:38.440Z"
   },
   {
    "duration": 48,
    "start_time": "2023-03-14T17:03:38.451Z"
   },
   {
    "duration": 187,
    "start_time": "2023-03-14T17:03:38.501Z"
   },
   {
    "duration": 10,
    "start_time": "2023-03-14T17:03:38.692Z"
   },
   {
    "duration": 17,
    "start_time": "2023-03-14T17:03:38.704Z"
   },
   {
    "duration": 177,
    "start_time": "2023-03-14T17:03:38.723Z"
   },
   {
    "duration": 8,
    "start_time": "2023-03-14T17:03:38.902Z"
   },
   {
    "duration": 21,
    "start_time": "2023-03-14T17:03:38.911Z"
   },
   {
    "duration": 59,
    "start_time": "2023-03-14T17:03:38.934Z"
   },
   {
    "duration": 6,
    "start_time": "2023-03-14T17:03:38.995Z"
   },
   {
    "duration": 15,
    "start_time": "2023-03-14T17:03:39.003Z"
   },
   {
    "duration": 13,
    "start_time": "2023-03-14T17:03:39.020Z"
   },
   {
    "duration": 460,
    "start_time": "2023-03-14T17:03:39.034Z"
   },
   {
    "duration": 273,
    "start_time": "2023-03-14T17:03:39.496Z"
   },
   {
    "duration": 913,
    "start_time": "2023-03-14T17:03:39.775Z"
   },
   {
    "duration": 20,
    "start_time": "2023-03-14T17:03:40.690Z"
   },
   {
    "duration": 61,
    "start_time": "2023-03-14T17:03:40.712Z"
   },
   {
    "duration": 184,
    "start_time": "2023-03-14T17:03:40.775Z"
   },
   {
    "duration": 23,
    "start_time": "2023-03-14T17:03:40.961Z"
   },
   {
    "duration": 14,
    "start_time": "2023-03-14T17:03:40.986Z"
   },
   {
    "duration": 195,
    "start_time": "2023-03-14T17:03:41.002Z"
   },
   {
    "duration": 204,
    "start_time": "2023-03-14T17:03:41.198Z"
   },
   {
    "duration": 17,
    "start_time": "2023-03-14T17:03:41.404Z"
   },
   {
    "duration": 46,
    "start_time": "2023-03-14T17:03:41.423Z"
   },
   {
    "duration": 31,
    "start_time": "2023-03-14T17:03:41.472Z"
   },
   {
    "duration": 40,
    "start_time": "2023-03-14T17:03:41.507Z"
   },
   {
    "duration": 341,
    "start_time": "2023-03-14T17:03:41.549Z"
   },
   {
    "duration": 635,
    "start_time": "2023-03-14T17:03:41.892Z"
   },
   {
    "duration": 31,
    "start_time": "2023-03-14T17:03:42.529Z"
   },
   {
    "duration": 213,
    "start_time": "2023-03-14T17:03:42.561Z"
   },
   {
    "duration": 193,
    "start_time": "2023-03-14T17:03:42.779Z"
   },
   {
    "duration": 29,
    "start_time": "2023-03-14T17:03:42.974Z"
   },
   {
    "duration": 200,
    "start_time": "2023-03-14T17:03:43.005Z"
   },
   {
    "duration": 199,
    "start_time": "2023-03-14T17:03:43.207Z"
   },
   {
    "duration": 22,
    "start_time": "2023-03-14T17:03:43.408Z"
   },
   {
    "duration": 212,
    "start_time": "2023-03-14T17:03:43.432Z"
   },
   {
    "duration": 238,
    "start_time": "2023-03-14T17:03:43.646Z"
   },
   {
    "duration": 7,
    "start_time": "2023-03-14T17:03:43.888Z"
   },
   {
    "duration": 9,
    "start_time": "2023-03-14T17:04:02.074Z"
   },
   {
    "duration": 7,
    "start_time": "2023-03-14T17:04:10.621Z"
   },
   {
    "duration": 104,
    "start_time": "2023-03-14T18:05:17.210Z"
   },
   {
    "duration": 92,
    "start_time": "2023-03-14T18:05:35.577Z"
   },
   {
    "duration": 115,
    "start_time": "2023-03-14T18:05:40.705Z"
   },
   {
    "duration": 205,
    "start_time": "2023-03-14T18:05:53.873Z"
   },
   {
    "duration": 253,
    "start_time": "2023-03-14T18:06:05.646Z"
   },
   {
    "duration": 204,
    "start_time": "2023-03-14T18:06:16.022Z"
   },
   {
    "duration": 718,
    "start_time": "2023-03-14T18:08:49.220Z"
   },
   {
    "duration": 539,
    "start_time": "2023-03-14T18:09:02.008Z"
   },
   {
    "duration": 472,
    "start_time": "2023-03-14T18:09:07.478Z"
   },
   {
    "duration": 601,
    "start_time": "2023-03-14T18:09:12.326Z"
   },
   {
    "duration": 13,
    "start_time": "2023-03-14T18:10:40.995Z"
   },
   {
    "duration": 46,
    "start_time": "2023-03-14T18:11:09.497Z"
   },
   {
    "duration": 15,
    "start_time": "2023-03-14T18:11:28.171Z"
   },
   {
    "duration": 31,
    "start_time": "2023-03-14T18:11:33.050Z"
   },
   {
    "duration": 15,
    "start_time": "2023-03-14T18:13:17.307Z"
   },
   {
    "duration": 193,
    "start_time": "2023-03-14T18:13:23.882Z"
   },
   {
    "duration": 20,
    "start_time": "2023-03-14T18:17:50.367Z"
   },
   {
    "duration": 25,
    "start_time": "2023-03-14T18:18:00.860Z"
   },
   {
    "duration": 23,
    "start_time": "2023-03-14T18:18:04.467Z"
   },
   {
    "duration": 24,
    "start_time": "2023-03-14T18:18:16.073Z"
   },
   {
    "duration": 17,
    "start_time": "2023-03-14T18:18:46.069Z"
   },
   {
    "duration": 19,
    "start_time": "2023-03-14T18:19:03.909Z"
   },
   {
    "duration": 23,
    "start_time": "2023-03-14T18:19:20.467Z"
   },
   {
    "duration": 26,
    "start_time": "2023-03-14T18:19:38.463Z"
   },
   {
    "duration": 24,
    "start_time": "2023-03-14T18:20:13.874Z"
   },
   {
    "duration": 22,
    "start_time": "2023-03-14T18:20:37.613Z"
   },
   {
    "duration": 40,
    "start_time": "2023-03-14T18:22:21.434Z"
   },
   {
    "duration": 17,
    "start_time": "2023-03-14T18:22:30.116Z"
   },
   {
    "duration": 28,
    "start_time": "2023-03-14T18:22:41.207Z"
   },
   {
    "duration": 54,
    "start_time": "2023-03-14T18:22:52.134Z"
   },
   {
    "duration": 37,
    "start_time": "2023-03-14T18:24:00.772Z"
   },
   {
    "duration": 10,
    "start_time": "2023-03-14T18:25:51.325Z"
   },
   {
    "duration": 792,
    "start_time": "2023-03-14T18:25:55.524Z"
   },
   {
    "duration": 34,
    "start_time": "2023-03-14T18:26:03.440Z"
   },
   {
    "duration": 24,
    "start_time": "2023-03-14T18:26:57.668Z"
   },
   {
    "duration": 18,
    "start_time": "2023-03-14T18:27:09.716Z"
   },
   {
    "duration": 21,
    "start_time": "2023-03-14T18:27:30.385Z"
   },
   {
    "duration": 16,
    "start_time": "2023-03-14T18:27:38.109Z"
   },
   {
    "duration": 24,
    "start_time": "2023-03-14T18:27:42.714Z"
   },
   {
    "duration": 18,
    "start_time": "2023-03-14T18:27:49.870Z"
   },
   {
    "duration": 27,
    "start_time": "2023-03-14T18:32:46.961Z"
   },
   {
    "duration": 47,
    "start_time": "2023-03-14T18:37:32.572Z"
   },
   {
    "duration": 27,
    "start_time": "2023-03-14T18:37:50.173Z"
   },
   {
    "duration": 86,
    "start_time": "2023-03-14T18:42:42.178Z"
   },
   {
    "duration": 22,
    "start_time": "2023-03-14T18:42:42.267Z"
   },
   {
    "duration": 15,
    "start_time": "2023-03-14T18:42:42.291Z"
   },
   {
    "duration": 40,
    "start_time": "2023-03-14T18:42:42.308Z"
   },
   {
    "duration": 6,
    "start_time": "2023-03-14T18:42:42.350Z"
   },
   {
    "duration": 266,
    "start_time": "2023-03-14T18:42:42.358Z"
   },
   {
    "duration": 6,
    "start_time": "2023-03-14T18:42:42.628Z"
   },
   {
    "duration": 785,
    "start_time": "2023-03-14T18:42:42.636Z"
   },
   {
    "duration": 38,
    "start_time": "2023-03-14T18:42:43.422Z"
   },
   {
    "duration": 186,
    "start_time": "2023-03-14T18:42:43.463Z"
   },
   {
    "duration": 25,
    "start_time": "2023-03-14T18:42:43.654Z"
   },
   {
    "duration": 215,
    "start_time": "2023-03-14T18:42:43.680Z"
   },
   {
    "duration": 19,
    "start_time": "2023-03-14T18:42:43.897Z"
   },
   {
    "duration": 40,
    "start_time": "2023-03-14T18:42:43.917Z"
   },
   {
    "duration": 11,
    "start_time": "2023-03-14T18:42:43.958Z"
   },
   {
    "duration": 36,
    "start_time": "2023-03-14T18:42:43.971Z"
   },
   {
    "duration": 183,
    "start_time": "2023-03-14T18:42:44.008Z"
   },
   {
    "duration": 227,
    "start_time": "2023-03-14T18:42:46.322Z"
   },
   {
    "duration": 1333,
    "start_time": "2023-03-14T18:42:59.506Z"
   },
   {
    "duration": 24,
    "start_time": "2023-03-14T18:44:37.749Z"
   },
   {
    "duration": 18,
    "start_time": "2023-03-14T18:47:16.857Z"
   },
   {
    "duration": 889,
    "start_time": "2023-03-14T18:47:26.559Z"
   },
   {
    "duration": 1113,
    "start_time": "2023-03-14T18:49:05.186Z"
   },
   {
    "duration": 1260,
    "start_time": "2023-03-14T19:36:08.337Z"
   },
   {
    "duration": 114,
    "start_time": "2023-03-14T19:36:42.879Z"
   },
   {
    "duration": 22,
    "start_time": "2023-03-14T19:36:42.995Z"
   },
   {
    "duration": 17,
    "start_time": "2023-03-14T19:36:43.018Z"
   },
   {
    "duration": 1266,
    "start_time": "2023-03-14T19:36:43.037Z"
   },
   {
    "duration": 7150,
    "start_time": "2023-03-14T19:40:31.123Z"
   },
   {
    "duration": 89,
    "start_time": "2023-03-14T19:41:11.573Z"
   },
   {
    "duration": 19,
    "start_time": "2023-03-14T19:41:11.668Z"
   },
   {
    "duration": 15,
    "start_time": "2023-03-14T19:41:11.689Z"
   },
   {
    "duration": 1224,
    "start_time": "2023-03-14T19:41:11.706Z"
   },
   {
    "duration": 32,
    "start_time": "2023-03-14T19:41:12.933Z"
   },
   {
    "duration": 19,
    "start_time": "2023-03-14T19:41:12.968Z"
   },
   {
    "duration": 212,
    "start_time": "2023-03-14T19:41:12.989Z"
   },
   {
    "duration": 7,
    "start_time": "2023-03-14T19:41:13.202Z"
   },
   {
    "duration": 200,
    "start_time": "2023-03-14T19:41:13.210Z"
   },
   {
    "duration": 33,
    "start_time": "2023-03-14T19:41:13.412Z"
   },
   {
    "duration": 219,
    "start_time": "2023-03-14T19:41:13.447Z"
   },
   {
    "duration": 27,
    "start_time": "2023-03-14T19:41:13.668Z"
   },
   {
    "duration": 200,
    "start_time": "2023-03-14T19:41:13.697Z"
   },
   {
    "duration": 27,
    "start_time": "2023-03-14T19:41:13.900Z"
   },
   {
    "duration": 42,
    "start_time": "2023-03-14T19:41:13.929Z"
   },
   {
    "duration": 14,
    "start_time": "2023-03-14T19:41:13.983Z"
   },
   {
    "duration": 17,
    "start_time": "2023-03-14T19:41:13.999Z"
   },
   {
    "duration": 180,
    "start_time": "2023-03-14T19:41:18.417Z"
   },
   {
    "duration": 7620,
    "start_time": "2023-03-14T19:41:20.972Z"
   },
   {
    "duration": 7,
    "start_time": "2023-03-14T19:41:28.594Z"
   },
   {
    "duration": 84,
    "start_time": "2023-03-14T19:41:42.081Z"
   },
   {
    "duration": 22,
    "start_time": "2023-03-14T19:41:42.167Z"
   },
   {
    "duration": 11,
    "start_time": "2023-03-14T19:41:42.191Z"
   },
   {
    "duration": 1202,
    "start_time": "2023-03-14T19:41:42.204Z"
   },
   {
    "duration": 21,
    "start_time": "2023-03-14T19:41:43.407Z"
   },
   {
    "duration": 47,
    "start_time": "2023-03-14T19:41:43.429Z"
   },
   {
    "duration": 189,
    "start_time": "2023-03-14T19:41:43.479Z"
   },
   {
    "duration": 6,
    "start_time": "2023-03-14T19:41:43.669Z"
   },
   {
    "duration": 177,
    "start_time": "2023-03-14T19:41:43.679Z"
   },
   {
    "duration": 22,
    "start_time": "2023-03-14T19:41:43.859Z"
   },
   {
    "duration": 198,
    "start_time": "2023-03-14T19:41:43.883Z"
   },
   {
    "duration": 19,
    "start_time": "2023-03-14T19:41:44.082Z"
   },
   {
    "duration": 188,
    "start_time": "2023-03-14T19:41:44.103Z"
   },
   {
    "duration": 20,
    "start_time": "2023-03-14T19:41:44.293Z"
   },
   {
    "duration": 41,
    "start_time": "2023-03-14T19:41:44.315Z"
   },
   {
    "duration": 15,
    "start_time": "2023-03-14T19:41:44.358Z"
   },
   {
    "duration": 7,
    "start_time": "2023-03-14T19:41:44.379Z"
   },
   {
    "duration": 183,
    "start_time": "2023-03-14T19:41:44.388Z"
   },
   {
    "duration": 21,
    "start_time": "2023-03-14T19:42:00.525Z"
   },
   {
    "duration": 7390,
    "start_time": "2023-03-14T19:42:32.546Z"
   },
   {
    "duration": 29,
    "start_time": "2023-03-14T19:42:39.938Z"
   },
   {
    "duration": 7391,
    "start_time": "2023-03-14T19:42:55.374Z"
   },
   {
    "duration": 14,
    "start_time": "2023-03-14T19:43:04.779Z"
   },
   {
    "duration": 43,
    "start_time": "2023-03-14T19:44:48.026Z"
   },
   {
    "duration": 129,
    "start_time": "2023-03-14T19:45:59.433Z"
   },
   {
    "duration": 21,
    "start_time": "2023-03-14T19:45:59.566Z"
   },
   {
    "duration": 19,
    "start_time": "2023-03-14T19:45:59.591Z"
   },
   {
    "duration": 1439,
    "start_time": "2023-03-14T19:45:59.611Z"
   },
   {
    "duration": 31,
    "start_time": "2023-03-14T19:46:01.058Z"
   },
   {
    "duration": 18,
    "start_time": "2023-03-14T19:46:01.091Z"
   },
   {
    "duration": 279,
    "start_time": "2023-03-14T19:46:01.111Z"
   },
   {
    "duration": 6,
    "start_time": "2023-03-14T19:46:01.395Z"
   },
   {
    "duration": 297,
    "start_time": "2023-03-14T19:46:01.403Z"
   },
   {
    "duration": 23,
    "start_time": "2023-03-14T19:46:01.702Z"
   },
   {
    "duration": 290,
    "start_time": "2023-03-14T19:46:01.727Z"
   },
   {
    "duration": 53,
    "start_time": "2023-03-14T19:46:02.019Z"
   },
   {
    "duration": 221,
    "start_time": "2023-03-14T19:46:02.077Z"
   },
   {
    "duration": 23,
    "start_time": "2023-03-14T19:46:02.302Z"
   },
   {
    "duration": 69,
    "start_time": "2023-03-14T19:46:02.327Z"
   },
   {
    "duration": 25,
    "start_time": "2023-03-14T19:46:02.398Z"
   },
   {
    "duration": 38,
    "start_time": "2023-03-14T19:46:02.425Z"
   },
   {
    "duration": 230,
    "start_time": "2023-03-14T19:46:02.474Z"
   },
   {
    "duration": 4843,
    "start_time": "2023-03-14T19:46:02.706Z"
   },
   {
    "duration": 16,
    "start_time": "2023-03-14T19:46:07.580Z"
   },
   {
    "duration": 29,
    "start_time": "2023-03-14T19:46:07.598Z"
   },
   {
    "duration": 4895,
    "start_time": "2023-03-14T19:46:46.006Z"
   },
   {
    "duration": 7,
    "start_time": "2023-03-14T19:47:13.203Z"
   },
   {
    "duration": 10,
    "start_time": "2023-03-14T19:47:14.507Z"
   },
   {
    "duration": 8195,
    "start_time": "2023-03-14T19:49:08.376Z"
   },
   {
    "duration": 4,
    "start_time": "2023-03-14T19:49:16.578Z"
   },
   {
    "duration": 11,
    "start_time": "2023-03-14T19:49:16.585Z"
   },
   {
    "duration": 11,
    "start_time": "2023-03-14T19:49:16.598Z"
   },
   {
    "duration": 389,
    "start_time": "2023-03-14T19:49:20.114Z"
   },
   {
    "duration": 814,
    "start_time": "2023-03-14T19:49:24.103Z"
   },
   {
    "duration": 801,
    "start_time": "2023-03-14T19:49:24.919Z"
   },
   {
    "duration": 22,
    "start_time": "2023-03-14T19:49:25.782Z"
   },
   {
    "duration": 20,
    "start_time": "2023-03-14T19:49:26.375Z"
   },
   {
    "duration": 199,
    "start_time": "2023-03-14T19:49:26.881Z"
   },
   {
    "duration": 19,
    "start_time": "2023-03-14T19:49:28.012Z"
   },
   {
    "duration": 7,
    "start_time": "2023-03-14T19:49:28.566Z"
   },
   {
    "duration": 178,
    "start_time": "2023-03-14T19:49:29.026Z"
   },
   {
    "duration": 161,
    "start_time": "2023-03-14T19:49:29.556Z"
   },
   {
    "duration": 23,
    "start_time": "2023-03-14T19:49:30.162Z"
   },
   {
    "duration": 27,
    "start_time": "2023-03-14T19:49:34.627Z"
   },
   {
    "duration": 23,
    "start_time": "2023-03-14T19:49:35.235Z"
   },
   {
    "duration": 16,
    "start_time": "2023-03-14T19:49:35.769Z"
   },
   {
    "duration": 318,
    "start_time": "2023-03-14T19:49:37.016Z"
   },
   {
    "duration": 482,
    "start_time": "2023-03-14T19:49:37.916Z"
   },
   {
    "duration": 24,
    "start_time": "2023-03-14T19:49:41.175Z"
   },
   {
    "duration": 229,
    "start_time": "2023-03-14T19:49:43.787Z"
   },
   {
    "duration": 185,
    "start_time": "2023-03-14T19:49:44.762Z"
   },
   {
    "duration": 24,
    "start_time": "2023-03-14T19:49:46.241Z"
   },
   {
    "duration": 183,
    "start_time": "2023-03-14T19:49:46.976Z"
   },
   {
    "duration": 190,
    "start_time": "2023-03-14T19:49:47.463Z"
   },
   {
    "duration": 18,
    "start_time": "2023-03-14T19:49:48.586Z"
   },
   {
    "duration": 208,
    "start_time": "2023-03-14T19:49:49.121Z"
   },
   {
    "duration": 208,
    "start_time": "2023-03-14T19:49:49.687Z"
   },
   {
    "duration": 205,
    "start_time": "2023-03-14T19:49:50.710Z"
   },
   {
    "duration": 178,
    "start_time": "2023-03-14T19:49:51.303Z"
   },
   {
    "duration": 149,
    "start_time": "2023-03-14T19:49:51.880Z"
   },
   {
    "duration": 170,
    "start_time": "2023-03-14T19:50:48.763Z"
   },
   {
    "duration": 188,
    "start_time": "2023-03-14T19:50:51.376Z"
   },
   {
    "duration": 205,
    "start_time": "2023-03-14T19:50:52.360Z"
   },
   {
    "duration": 262,
    "start_time": "2023-03-14T19:51:02.792Z"
   },
   {
    "duration": 184,
    "start_time": "2023-03-14T19:51:29.771Z"
   },
   {
    "duration": 96,
    "start_time": "2023-03-14T19:51:36.574Z"
   },
   {
    "duration": 21,
    "start_time": "2023-03-14T19:51:36.671Z"
   },
   {
    "duration": 22,
    "start_time": "2023-03-14T19:51:36.694Z"
   },
   {
    "duration": 1301,
    "start_time": "2023-03-14T19:51:36.719Z"
   },
   {
    "duration": 49,
    "start_time": "2023-03-14T19:51:38.022Z"
   },
   {
    "duration": 7,
    "start_time": "2023-03-14T19:51:38.072Z"
   },
   {
    "duration": 201,
    "start_time": "2023-03-14T19:51:38.081Z"
   },
   {
    "duration": 5,
    "start_time": "2023-03-14T19:51:38.283Z"
   },
   {
    "duration": 195,
    "start_time": "2023-03-14T19:51:38.290Z"
   },
   {
    "duration": 19,
    "start_time": "2023-03-14T19:51:38.488Z"
   },
   {
    "duration": 248,
    "start_time": "2023-03-14T19:51:38.509Z"
   },
   {
    "duration": 21,
    "start_time": "2023-03-14T19:51:38.768Z"
   },
   {
    "duration": 201,
    "start_time": "2023-03-14T19:51:38.790Z"
   },
   {
    "duration": 19,
    "start_time": "2023-03-14T19:51:38.993Z"
   },
   {
    "duration": 50,
    "start_time": "2023-03-14T19:51:39.014Z"
   },
   {
    "duration": 13,
    "start_time": "2023-03-14T19:51:39.066Z"
   },
   {
    "duration": 9,
    "start_time": "2023-03-14T19:51:39.081Z"
   },
   {
    "duration": 194,
    "start_time": "2023-03-14T19:51:39.092Z"
   },
   {
    "duration": 4768,
    "start_time": "2023-03-14T19:51:39.288Z"
   },
   {
    "duration": 15,
    "start_time": "2023-03-14T19:51:44.057Z"
   },
   {
    "duration": 4510,
    "start_time": "2023-03-14T19:51:44.077Z"
   },
   {
    "duration": 6,
    "start_time": "2023-03-14T19:51:48.589Z"
   },
   {
    "duration": 9028,
    "start_time": "2023-03-14T19:51:48.596Z"
   },
   {
    "duration": 4,
    "start_time": "2023-03-14T19:51:57.626Z"
   },
   {
    "duration": 27,
    "start_time": "2023-03-14T19:51:57.632Z"
   },
   {
    "duration": 31,
    "start_time": "2023-03-14T19:51:57.662Z"
   },
   {
    "duration": 446,
    "start_time": "2023-03-14T19:51:57.695Z"
   },
   {
    "duration": 321,
    "start_time": "2023-03-14T19:51:58.148Z"
   },
   {
    "duration": 820,
    "start_time": "2023-03-14T19:51:58.471Z"
   },
   {
    "duration": 20,
    "start_time": "2023-03-14T19:51:59.294Z"
   },
   {
    "duration": 25,
    "start_time": "2023-03-14T19:51:59.316Z"
   },
   {
    "duration": 208,
    "start_time": "2023-03-14T19:51:59.348Z"
   },
   {
    "duration": 24,
    "start_time": "2023-03-14T19:51:59.557Z"
   },
   {
    "duration": 7,
    "start_time": "2023-03-14T19:51:59.584Z"
   },
   {
    "duration": 189,
    "start_time": "2023-03-14T19:51:59.593Z"
   },
   {
    "duration": 193,
    "start_time": "2023-03-14T19:51:59.784Z"
   },
   {
    "duration": 17,
    "start_time": "2023-03-14T19:51:59.979Z"
   },
   {
    "duration": 22,
    "start_time": "2023-03-14T19:51:59.997Z"
   },
   {
    "duration": 32,
    "start_time": "2023-03-14T19:52:00.021Z"
   },
   {
    "duration": 38,
    "start_time": "2023-03-14T19:52:00.060Z"
   },
   {
    "duration": 380,
    "start_time": "2023-03-14T19:52:00.100Z"
   },
   {
    "duration": 580,
    "start_time": "2023-03-14T19:52:00.483Z"
   },
   {
    "duration": 30,
    "start_time": "2023-03-14T19:52:01.066Z"
   },
   {
    "duration": 220,
    "start_time": "2023-03-14T19:52:01.098Z"
   },
   {
    "duration": 201,
    "start_time": "2023-03-14T19:52:01.320Z"
   },
   {
    "duration": 51,
    "start_time": "2023-03-14T19:52:01.523Z"
   },
   {
    "duration": 211,
    "start_time": "2023-03-14T19:52:01.576Z"
   },
   {
    "duration": 213,
    "start_time": "2023-03-14T19:52:01.789Z"
   },
   {
    "duration": 17,
    "start_time": "2023-03-14T19:52:02.004Z"
   },
   {
    "duration": 207,
    "start_time": "2023-03-14T19:52:02.022Z"
   },
   {
    "duration": 199,
    "start_time": "2023-03-14T19:52:02.231Z"
   },
   {
    "duration": 241,
    "start_time": "2023-03-14T19:52:02.433Z"
   },
   {
    "duration": 225,
    "start_time": "2023-03-14T19:52:02.676Z"
   },
   {
    "duration": 211,
    "start_time": "2023-03-14T19:52:02.903Z"
   },
   {
    "duration": 621,
    "start_time": "2023-03-14T19:52:36.504Z"
   },
   {
    "duration": 550,
    "start_time": "2023-03-14T19:52:53.427Z"
   },
   {
    "duration": 194,
    "start_time": "2023-03-14T19:53:38.227Z"
   },
   {
    "duration": 212,
    "start_time": "2023-03-14T19:53:42.070Z"
   },
   {
    "duration": 182,
    "start_time": "2023-03-14T19:53:47.634Z"
   },
   {
    "duration": 205,
    "start_time": "2023-03-14T19:53:52.977Z"
   },
   {
    "duration": 201,
    "start_time": "2023-03-14T19:53:53.857Z"
   },
   {
    "duration": 153,
    "start_time": "2023-03-14T19:53:54.474Z"
   },
   {
    "duration": 99,
    "start_time": "2023-03-14T19:56:52.217Z"
   },
   {
    "duration": 15,
    "start_time": "2023-03-14T19:58:19.011Z"
   },
   {
    "duration": 336,
    "start_time": "2023-03-14T19:59:01.502Z"
   },
   {
    "duration": 314,
    "start_time": "2023-03-14T20:00:11.395Z"
   },
   {
    "duration": 21,
    "start_time": "2023-03-14T20:17:58.525Z"
   },
   {
    "duration": 92,
    "start_time": "2023-03-14T20:18:32.315Z"
   },
   {
    "duration": 16,
    "start_time": "2023-03-14T20:18:32.409Z"
   },
   {
    "duration": 65,
    "start_time": "2023-03-14T20:18:32.427Z"
   },
   {
    "duration": 1183,
    "start_time": "2023-03-14T20:18:32.494Z"
   },
   {
    "duration": 20,
    "start_time": "2023-03-14T20:18:33.679Z"
   },
   {
    "duration": 5,
    "start_time": "2023-03-14T20:18:33.701Z"
   },
   {
    "duration": 209,
    "start_time": "2023-03-14T20:18:33.708Z"
   },
   {
    "duration": 4,
    "start_time": "2023-03-14T20:18:33.919Z"
   },
   {
    "duration": 183,
    "start_time": "2023-03-14T20:18:33.925Z"
   },
   {
    "duration": 18,
    "start_time": "2023-03-14T20:18:34.110Z"
   },
   {
    "duration": 211,
    "start_time": "2023-03-14T20:18:34.129Z"
   },
   {
    "duration": 31,
    "start_time": "2023-03-14T20:18:34.342Z"
   },
   {
    "duration": 819,
    "start_time": "2023-03-14T20:18:34.376Z"
   },
   {
    "duration": 19,
    "start_time": "2023-03-14T20:18:35.196Z"
   },
   {
    "duration": 34,
    "start_time": "2023-03-14T20:18:35.217Z"
   },
   {
    "duration": 20,
    "start_time": "2023-03-14T20:18:35.253Z"
   },
   {
    "duration": 7,
    "start_time": "2023-03-14T20:18:35.278Z"
   },
   {
    "duration": 179,
    "start_time": "2023-03-14T20:18:35.286Z"
   },
   {
    "duration": 4433,
    "start_time": "2023-03-14T20:18:35.468Z"
   },
   {
    "duration": 6,
    "start_time": "2023-03-14T20:18:39.903Z"
   },
   {
    "duration": 4667,
    "start_time": "2023-03-14T20:18:39.910Z"
   },
   {
    "duration": 6,
    "start_time": "2023-03-14T20:18:44.579Z"
   },
   {
    "duration": 9044,
    "start_time": "2023-03-14T20:18:44.587Z"
   },
   {
    "duration": 14,
    "start_time": "2023-03-14T20:18:53.633Z"
   },
   {
    "duration": 44,
    "start_time": "2023-03-14T20:18:53.650Z"
   },
   {
    "duration": 14,
    "start_time": "2023-03-14T20:18:53.696Z"
   },
   {
    "duration": 394,
    "start_time": "2023-03-14T20:18:53.711Z"
   },
   {
    "duration": 260,
    "start_time": "2023-03-14T20:18:54.109Z"
   },
   {
    "duration": 872,
    "start_time": "2023-03-14T20:18:54.375Z"
   },
   {
    "duration": 28,
    "start_time": "2023-03-14T20:18:55.249Z"
   },
   {
    "duration": 27,
    "start_time": "2023-03-14T20:18:55.280Z"
   },
   {
    "duration": 199,
    "start_time": "2023-03-14T20:18:55.309Z"
   },
   {
    "duration": 18,
    "start_time": "2023-03-14T20:18:55.510Z"
   },
   {
    "duration": 8,
    "start_time": "2023-03-14T20:18:55.539Z"
   },
   {
    "duration": 228,
    "start_time": "2023-03-14T20:18:55.548Z"
   },
   {
    "duration": 217,
    "start_time": "2023-03-14T20:18:55.778Z"
   },
   {
    "duration": 16,
    "start_time": "2023-03-14T20:18:55.997Z"
   },
   {
    "duration": 37,
    "start_time": "2023-03-14T20:18:56.014Z"
   },
   {
    "duration": 43,
    "start_time": "2023-03-14T20:18:56.052Z"
   },
   {
    "duration": 32,
    "start_time": "2023-03-14T20:18:56.097Z"
   },
   {
    "duration": 319,
    "start_time": "2023-03-14T20:18:56.131Z"
   },
   {
    "duration": 531,
    "start_time": "2023-03-14T20:18:56.452Z"
   },
   {
    "duration": 22,
    "start_time": "2023-03-14T20:18:56.985Z"
   },
   {
    "duration": 200,
    "start_time": "2023-03-14T20:18:57.008Z"
   },
   {
    "duration": 208,
    "start_time": "2023-03-14T20:18:57.210Z"
   },
   {
    "duration": 33,
    "start_time": "2023-03-14T20:18:57.420Z"
   },
   {
    "duration": 230,
    "start_time": "2023-03-14T20:18:57.455Z"
   },
   {
    "duration": 203,
    "start_time": "2023-03-14T20:18:57.692Z"
   },
   {
    "duration": 17,
    "start_time": "2023-03-14T20:18:57.896Z"
   },
   {
    "duration": 189,
    "start_time": "2023-03-14T20:18:57.915Z"
   },
   {
    "duration": 248,
    "start_time": "2023-03-14T20:18:58.106Z"
   },
   {
    "duration": 256,
    "start_time": "2023-03-14T20:18:58.361Z"
   },
   {
    "duration": 31,
    "start_time": "2023-03-14T20:18:58.619Z"
   },
   {
    "duration": 15,
    "start_time": "2023-03-14T20:19:14.873Z"
   },
   {
    "duration": 92,
    "start_time": "2023-03-14T20:19:43.463Z"
   },
   {
    "duration": 93,
    "start_time": "2023-03-14T20:19:50.234Z"
   },
   {
    "duration": 20,
    "start_time": "2023-03-14T20:19:50.328Z"
   },
   {
    "duration": 121,
    "start_time": "2023-03-14T20:19:50.352Z"
   },
   {
    "duration": 1135,
    "start_time": "2023-03-14T20:19:50.475Z"
   },
   {
    "duration": 19,
    "start_time": "2023-03-14T20:19:51.612Z"
   },
   {
    "duration": 5,
    "start_time": "2023-03-14T20:19:51.643Z"
   },
   {
    "duration": 190,
    "start_time": "2023-03-14T20:19:51.649Z"
   },
   {
    "duration": 8,
    "start_time": "2023-03-14T20:19:51.842Z"
   },
   {
    "duration": 178,
    "start_time": "2023-03-14T20:19:51.853Z"
   },
   {
    "duration": 30,
    "start_time": "2023-03-14T20:19:52.033Z"
   },
   {
    "duration": 201,
    "start_time": "2023-03-14T20:19:52.065Z"
   },
   {
    "duration": 19,
    "start_time": "2023-03-14T20:19:52.267Z"
   },
   {
    "duration": 215,
    "start_time": "2023-03-14T20:19:52.288Z"
   },
   {
    "duration": 28,
    "start_time": "2023-03-14T20:19:52.508Z"
   },
   {
    "duration": 34,
    "start_time": "2023-03-14T20:19:52.544Z"
   },
   {
    "duration": 14,
    "start_time": "2023-03-14T20:19:52.580Z"
   },
   {
    "duration": 14,
    "start_time": "2023-03-14T20:19:52.596Z"
   },
   {
    "duration": 254,
    "start_time": "2023-03-14T20:19:52.612Z"
   },
   {
    "duration": 4528,
    "start_time": "2023-03-14T20:19:52.870Z"
   },
   {
    "duration": 5,
    "start_time": "2023-03-14T20:19:57.400Z"
   },
   {
    "duration": 4964,
    "start_time": "2023-03-14T20:19:57.407Z"
   },
   {
    "duration": 6,
    "start_time": "2023-03-14T20:20:02.375Z"
   },
   {
    "duration": 8928,
    "start_time": "2023-03-14T20:20:02.383Z"
   },
   {
    "duration": 3,
    "start_time": "2023-03-14T20:20:11.313Z"
   },
   {
    "duration": 12,
    "start_time": "2023-03-14T20:20:11.317Z"
   },
   {
    "duration": 20,
    "start_time": "2023-03-14T20:20:11.330Z"
   },
   {
    "duration": 359,
    "start_time": "2023-03-14T20:20:11.356Z"
   },
   {
    "duration": 251,
    "start_time": "2023-03-14T20:20:11.716Z"
   },
   {
    "duration": 837,
    "start_time": "2023-03-14T20:20:11.970Z"
   },
   {
    "duration": 20,
    "start_time": "2023-03-14T20:20:12.809Z"
   },
   {
    "duration": 41,
    "start_time": "2023-03-14T20:20:12.831Z"
   },
   {
    "duration": 202,
    "start_time": "2023-03-14T20:20:12.874Z"
   },
   {
    "duration": 18,
    "start_time": "2023-03-14T20:20:13.078Z"
   },
   {
    "duration": 8,
    "start_time": "2023-03-14T20:20:13.098Z"
   },
   {
    "duration": 179,
    "start_time": "2023-03-14T20:20:13.108Z"
   },
   {
    "duration": 168,
    "start_time": "2023-03-14T20:20:13.288Z"
   },
   {
    "duration": 22,
    "start_time": "2023-03-14T20:20:13.458Z"
   },
   {
    "duration": 19,
    "start_time": "2023-03-14T20:20:13.481Z"
   },
   {
    "duration": 16,
    "start_time": "2023-03-14T20:20:13.502Z"
   },
   {
    "duration": 52,
    "start_time": "2023-03-14T20:20:13.520Z"
   },
   {
    "duration": 295,
    "start_time": "2023-03-14T20:20:13.577Z"
   },
   {
    "duration": 484,
    "start_time": "2023-03-14T20:20:13.874Z"
   },
   {
    "duration": 25,
    "start_time": "2023-03-14T20:20:14.360Z"
   },
   {
    "duration": 190,
    "start_time": "2023-03-14T20:20:14.386Z"
   },
   {
    "duration": 178,
    "start_time": "2023-03-14T20:20:14.577Z"
   },
   {
    "duration": 22,
    "start_time": "2023-03-14T20:20:14.756Z"
   },
   {
    "duration": 161,
    "start_time": "2023-03-14T20:20:14.779Z"
   },
   {
    "duration": 182,
    "start_time": "2023-03-14T20:20:14.942Z"
   },
   {
    "duration": 42,
    "start_time": "2023-03-14T20:20:15.125Z"
   },
   {
    "duration": 202,
    "start_time": "2023-03-14T20:20:15.169Z"
   },
   {
    "duration": 178,
    "start_time": "2023-03-14T20:20:15.373Z"
   },
   {
    "duration": 224,
    "start_time": "2023-03-14T20:20:15.553Z"
   },
   {
    "duration": 8,
    "start_time": "2023-03-14T20:20:15.779Z"
   },
   {
    "duration": 13,
    "start_time": "2023-03-14T20:25:04.733Z"
   },
   {
    "duration": 9,
    "start_time": "2023-03-14T20:25:29.102Z"
   },
   {
    "duration": 9,
    "start_time": "2023-03-14T20:27:18.107Z"
   },
   {
    "duration": 9,
    "start_time": "2023-03-14T20:27:27.447Z"
   },
   {
    "duration": 11,
    "start_time": "2023-03-14T20:27:54.950Z"
   },
   {
    "duration": 9,
    "start_time": "2023-03-14T20:28:06.719Z"
   },
   {
    "duration": 8,
    "start_time": "2023-03-14T20:28:29.925Z"
   },
   {
    "duration": 10,
    "start_time": "2023-03-14T20:30:10.146Z"
   },
   {
    "duration": 13,
    "start_time": "2023-03-14T20:33:59.669Z"
   },
   {
    "duration": 15,
    "start_time": "2023-03-14T20:34:06.782Z"
   },
   {
    "duration": 9,
    "start_time": "2023-03-14T20:35:20.088Z"
   },
   {
    "duration": 10,
    "start_time": "2023-03-15T07:41:00.229Z"
   },
   {
    "duration": 133,
    "start_time": "2023-03-15T07:41:18.616Z"
   },
   {
    "duration": 21,
    "start_time": "2023-03-15T07:41:18.751Z"
   },
   {
    "duration": 25,
    "start_time": "2023-03-15T07:41:18.774Z"
   },
   {
    "duration": 1046,
    "start_time": "2023-03-15T07:41:18.801Z"
   },
   {
    "duration": 22,
    "start_time": "2023-03-15T07:41:19.850Z"
   },
   {
    "duration": 5,
    "start_time": "2023-03-15T07:41:19.875Z"
   },
   {
    "duration": 188,
    "start_time": "2023-03-15T07:41:19.881Z"
   },
   {
    "duration": 6,
    "start_time": "2023-03-15T07:41:20.071Z"
   },
   {
    "duration": 169,
    "start_time": "2023-03-15T07:41:20.079Z"
   },
   {
    "duration": 26,
    "start_time": "2023-03-15T07:41:20.250Z"
   },
   {
    "duration": 229,
    "start_time": "2023-03-15T07:41:20.278Z"
   },
   {
    "duration": 20,
    "start_time": "2023-03-15T07:41:20.510Z"
   },
   {
    "duration": 183,
    "start_time": "2023-03-15T07:41:20.531Z"
   },
   {
    "duration": 37,
    "start_time": "2023-03-15T07:41:20.718Z"
   },
   {
    "duration": 31,
    "start_time": "2023-03-15T07:41:20.757Z"
   },
   {
    "duration": 9,
    "start_time": "2023-03-15T07:41:20.790Z"
   },
   {
    "duration": 11,
    "start_time": "2023-03-15T07:41:20.801Z"
   },
   {
    "duration": 177,
    "start_time": "2023-03-15T07:41:20.814Z"
   },
   {
    "duration": 3865,
    "start_time": "2023-03-15T07:41:20.993Z"
   },
   {
    "duration": 5,
    "start_time": "2023-03-15T07:41:24.860Z"
   },
   {
    "duration": 3902,
    "start_time": "2023-03-15T07:41:24.867Z"
   },
   {
    "duration": 5,
    "start_time": "2023-03-15T07:41:28.771Z"
   },
   {
    "duration": 7595,
    "start_time": "2023-03-15T07:41:28.777Z"
   },
   {
    "duration": 4,
    "start_time": "2023-03-15T07:41:36.374Z"
   },
   {
    "duration": 13,
    "start_time": "2023-03-15T07:41:36.380Z"
   },
   {
    "duration": 13,
    "start_time": "2023-03-15T07:41:36.395Z"
   },
   {
    "duration": 390,
    "start_time": "2023-03-15T07:41:36.409Z"
   },
   {
    "duration": 241,
    "start_time": "2023-03-15T07:41:36.800Z"
   },
   {
    "duration": 769,
    "start_time": "2023-03-15T07:41:37.043Z"
   },
   {
    "duration": 27,
    "start_time": "2023-03-15T07:41:37.814Z"
   },
   {
    "duration": 21,
    "start_time": "2023-03-15T07:41:37.842Z"
   },
   {
    "duration": 178,
    "start_time": "2023-03-15T07:41:37.864Z"
   },
   {
    "duration": 18,
    "start_time": "2023-03-15T07:41:38.043Z"
   },
   {
    "duration": 28,
    "start_time": "2023-03-15T07:41:38.062Z"
   },
   {
    "duration": 151,
    "start_time": "2023-03-15T07:41:38.091Z"
   },
   {
    "duration": 180,
    "start_time": "2023-03-15T07:41:38.243Z"
   },
   {
    "duration": 28,
    "start_time": "2023-03-15T07:41:38.425Z"
   },
   {
    "duration": 29,
    "start_time": "2023-03-15T07:41:38.455Z"
   },
   {
    "duration": 23,
    "start_time": "2023-03-15T07:41:38.486Z"
   },
   {
    "duration": 37,
    "start_time": "2023-03-15T07:41:38.511Z"
   },
   {
    "duration": 298,
    "start_time": "2023-03-15T07:41:38.552Z"
   },
   {
    "duration": 542,
    "start_time": "2023-03-15T07:41:38.852Z"
   },
   {
    "duration": 19,
    "start_time": "2023-03-15T07:41:39.396Z"
   },
   {
    "duration": 249,
    "start_time": "2023-03-15T07:41:39.416Z"
   },
   {
    "duration": 198,
    "start_time": "2023-03-15T07:41:39.667Z"
   },
   {
    "duration": 28,
    "start_time": "2023-03-15T07:41:39.867Z"
   },
   {
    "duration": 220,
    "start_time": "2023-03-15T07:41:39.897Z"
   },
   {
    "duration": 253,
    "start_time": "2023-03-15T07:41:40.119Z"
   },
   {
    "duration": 27,
    "start_time": "2023-03-15T07:41:40.374Z"
   },
   {
    "duration": 208,
    "start_time": "2023-03-15T07:41:40.403Z"
   },
   {
    "duration": 248,
    "start_time": "2023-03-15T07:41:40.614Z"
   },
   {
    "duration": 290,
    "start_time": "2023-03-15T07:41:40.864Z"
   },
   {
    "duration": 11,
    "start_time": "2023-03-15T07:41:41.156Z"
   },
   {
    "duration": 11,
    "start_time": "2023-03-15T07:41:41.169Z"
   },
   {
    "duration": 89,
    "start_time": "2023-03-15T11:09:35.813Z"
   },
   {
    "duration": 15,
    "start_time": "2023-03-15T11:09:35.903Z"
   },
   {
    "duration": 20,
    "start_time": "2023-03-15T11:09:35.920Z"
   },
   {
    "duration": 1012,
    "start_time": "2023-03-15T11:09:35.942Z"
   },
   {
    "duration": 20,
    "start_time": "2023-03-15T11:09:36.956Z"
   },
   {
    "duration": 6,
    "start_time": "2023-03-15T11:09:36.977Z"
   },
   {
    "duration": 908,
    "start_time": "2023-03-15T11:09:36.984Z"
   },
   {
    "duration": 5,
    "start_time": "2023-03-15T11:09:37.894Z"
   },
   {
    "duration": 168,
    "start_time": "2023-03-15T11:09:37.900Z"
   },
   {
    "duration": 19,
    "start_time": "2023-03-15T11:09:38.070Z"
   },
   {
    "duration": 174,
    "start_time": "2023-03-15T11:09:38.090Z"
   },
   {
    "duration": 18,
    "start_time": "2023-03-15T11:09:38.265Z"
   },
   {
    "duration": 167,
    "start_time": "2023-03-15T11:09:38.285Z"
   },
   {
    "duration": 19,
    "start_time": "2023-03-15T11:09:38.454Z"
   },
   {
    "duration": 20,
    "start_time": "2023-03-15T11:09:38.475Z"
   },
   {
    "duration": 7,
    "start_time": "2023-03-15T11:09:38.497Z"
   },
   {
    "duration": 7,
    "start_time": "2023-03-15T11:09:38.506Z"
   },
   {
    "duration": 175,
    "start_time": "2023-03-15T11:09:38.515Z"
   },
   {
    "duration": 3821,
    "start_time": "2023-03-15T11:09:38.692Z"
   },
   {
    "duration": 5,
    "start_time": "2023-03-15T11:09:42.514Z"
   },
   {
    "duration": 3953,
    "start_time": "2023-03-15T11:09:42.521Z"
   },
   {
    "duration": 5,
    "start_time": "2023-03-15T11:09:46.475Z"
   },
   {
    "duration": 7585,
    "start_time": "2023-03-15T11:09:46.482Z"
   },
   {
    "duration": 3,
    "start_time": "2023-03-15T11:09:54.069Z"
   },
   {
    "duration": 20,
    "start_time": "2023-03-15T11:09:54.074Z"
   },
   {
    "duration": 11,
    "start_time": "2023-03-15T11:09:54.095Z"
   },
   {
    "duration": 345,
    "start_time": "2023-03-15T11:09:54.108Z"
   },
   {
    "duration": 232,
    "start_time": "2023-03-15T11:09:54.455Z"
   },
   {
    "duration": 872,
    "start_time": "2023-03-15T11:09:54.689Z"
   },
   {
    "duration": 20,
    "start_time": "2023-03-15T11:09:55.563Z"
   },
   {
    "duration": 27,
    "start_time": "2023-03-15T11:09:55.584Z"
   },
   {
    "duration": 181,
    "start_time": "2023-03-15T11:09:55.612Z"
   },
   {
    "duration": 23,
    "start_time": "2023-03-15T11:09:55.794Z"
   },
   {
    "duration": 9,
    "start_time": "2023-03-15T11:09:55.819Z"
   },
   {
    "duration": 157,
    "start_time": "2023-03-15T11:09:55.830Z"
   },
   {
    "duration": 156,
    "start_time": "2023-03-15T11:09:55.988Z"
   },
   {
    "duration": 16,
    "start_time": "2023-03-15T11:09:56.146Z"
   },
   {
    "duration": 25,
    "start_time": "2023-03-15T11:09:56.163Z"
   },
   {
    "duration": 18,
    "start_time": "2023-03-15T11:09:56.189Z"
   },
   {
    "duration": 17,
    "start_time": "2023-03-15T11:09:56.209Z"
   },
   {
    "duration": 280,
    "start_time": "2023-03-15T11:09:56.241Z"
   },
   {
    "duration": 453,
    "start_time": "2023-03-15T11:09:56.523Z"
   },
   {
    "duration": 17,
    "start_time": "2023-03-15T11:09:56.978Z"
   },
   {
    "duration": 177,
    "start_time": "2023-03-15T11:09:56.996Z"
   },
   {
    "duration": 180,
    "start_time": "2023-03-15T11:09:57.175Z"
   },
   {
    "duration": 17,
    "start_time": "2023-03-15T11:09:57.357Z"
   },
   {
    "duration": 148,
    "start_time": "2023-03-15T11:09:57.376Z"
   },
   {
    "duration": 156,
    "start_time": "2023-03-15T11:09:57.525Z"
   },
   {
    "duration": 16,
    "start_time": "2023-03-15T11:09:57.682Z"
   },
   {
    "duration": 188,
    "start_time": "2023-03-15T11:09:57.700Z"
   },
   {
    "duration": 157,
    "start_time": "2023-03-15T11:09:57.890Z"
   },
   {
    "duration": 196,
    "start_time": "2023-03-15T11:09:58.048Z"
   },
   {
    "duration": 8,
    "start_time": "2023-03-15T11:09:58.245Z"
   },
   {
    "duration": 12,
    "start_time": "2023-03-15T11:09:58.255Z"
   },
   {
    "duration": 23,
    "start_time": "2023-03-15T11:23:53.074Z"
   },
   {
    "duration": 187,
    "start_time": "2023-03-15T11:28:25.918Z"
   },
   {
    "duration": 11,
    "start_time": "2023-03-15T11:31:57.818Z"
   },
   {
    "duration": 73,
    "start_time": "2023-03-15T11:32:07.958Z"
   },
   {
    "duration": 16,
    "start_time": "2023-03-15T11:32:08.033Z"
   },
   {
    "duration": 15,
    "start_time": "2023-03-15T11:32:08.050Z"
   },
   {
    "duration": 991,
    "start_time": "2023-03-15T11:32:08.067Z"
   },
   {
    "duration": 22,
    "start_time": "2023-03-15T11:32:09.060Z"
   },
   {
    "duration": 5,
    "start_time": "2023-03-15T11:32:09.083Z"
   },
   {
    "duration": 188,
    "start_time": "2023-03-15T11:32:09.090Z"
   },
   {
    "duration": 6,
    "start_time": "2023-03-15T11:32:09.280Z"
   },
   {
    "duration": 51,
    "start_time": "2023-03-15T11:32:16.010Z"
   },
   {
    "duration": 18,
    "start_time": "2023-03-15T11:32:19.661Z"
   },
   {
    "duration": 27,
    "start_time": "2023-03-15T11:35:38.954Z"
   },
   {
    "duration": 10,
    "start_time": "2023-03-15T12:32:00.031Z"
   },
   {
    "duration": 97,
    "start_time": "2023-03-15T12:39:55.041Z"
   },
   {
    "duration": 28,
    "start_time": "2023-03-15T12:39:55.142Z"
   },
   {
    "duration": 27,
    "start_time": "2023-03-15T12:39:55.172Z"
   },
   {
    "duration": 1306,
    "start_time": "2023-03-15T12:39:55.201Z"
   },
   {
    "duration": 45,
    "start_time": "2023-03-15T12:39:56.510Z"
   },
   {
    "duration": 16,
    "start_time": "2023-03-15T12:39:56.562Z"
   },
   {
    "duration": 210,
    "start_time": "2023-03-15T12:39:56.580Z"
   },
   {
    "duration": 4,
    "start_time": "2023-03-15T12:39:56.792Z"
   },
   {
    "duration": 18,
    "start_time": "2023-03-15T12:39:56.798Z"
   },
   {
    "duration": 53,
    "start_time": "2023-03-15T12:39:56.818Z"
   },
   {
    "duration": 34,
    "start_time": "2023-03-15T12:39:56.873Z"
   },
   {
    "duration": 24,
    "start_time": "2023-03-15T12:39:56.909Z"
   },
   {
    "duration": 18,
    "start_time": "2023-03-15T12:39:56.935Z"
   },
   {
    "duration": 33,
    "start_time": "2023-03-15T12:39:56.955Z"
   },
   {
    "duration": 213,
    "start_time": "2023-03-15T12:39:56.991Z"
   },
   {
    "duration": 4763,
    "start_time": "2023-03-15T12:39:57.206Z"
   },
   {
    "duration": 7,
    "start_time": "2023-03-15T12:40:01.973Z"
   },
   {
    "duration": 4778,
    "start_time": "2023-03-15T12:40:01.981Z"
   },
   {
    "duration": 11,
    "start_time": "2023-03-15T12:40:06.765Z"
   },
   {
    "duration": 8956,
    "start_time": "2023-03-15T12:40:06.777Z"
   },
   {
    "duration": 16,
    "start_time": "2023-03-15T12:40:15.735Z"
   },
   {
    "duration": 26,
    "start_time": "2023-03-15T12:40:15.755Z"
   },
   {
    "duration": 13,
    "start_time": "2023-03-15T12:40:15.783Z"
   },
   {
    "duration": 386,
    "start_time": "2023-03-15T12:40:15.797Z"
   },
   {
    "duration": 258,
    "start_time": "2023-03-15T12:40:16.185Z"
   },
   {
    "duration": 856,
    "start_time": "2023-03-15T12:40:16.445Z"
   },
   {
    "duration": 18,
    "start_time": "2023-03-15T12:40:17.303Z"
   },
   {
    "duration": 46,
    "start_time": "2023-03-15T12:40:17.325Z"
   },
   {
    "duration": 195,
    "start_time": "2023-03-15T12:40:17.373Z"
   },
   {
    "duration": 20,
    "start_time": "2023-03-15T12:40:17.572Z"
   },
   {
    "duration": 13,
    "start_time": "2023-03-15T12:40:17.594Z"
   },
   {
    "duration": 191,
    "start_time": "2023-03-15T12:40:17.609Z"
   },
   {
    "duration": 227,
    "start_time": "2023-03-15T12:40:17.802Z"
   },
   {
    "duration": 32,
    "start_time": "2023-03-15T12:40:18.031Z"
   },
   {
    "duration": 24,
    "start_time": "2023-03-15T12:40:18.076Z"
   },
   {
    "duration": 29,
    "start_time": "2023-03-15T12:40:18.102Z"
   },
   {
    "duration": 46,
    "start_time": "2023-03-15T12:40:18.132Z"
   },
   {
    "duration": 315,
    "start_time": "2023-03-15T12:40:18.180Z"
   },
   {
    "duration": 516,
    "start_time": "2023-03-15T12:40:18.496Z"
   },
   {
    "duration": 35,
    "start_time": "2023-03-15T12:40:19.014Z"
   },
   {
    "duration": 237,
    "start_time": "2023-03-15T12:40:19.058Z"
   },
   {
    "duration": 196,
    "start_time": "2023-03-15T12:40:19.297Z"
   },
   {
    "duration": 18,
    "start_time": "2023-03-15T12:40:19.495Z"
   },
   {
    "duration": 219,
    "start_time": "2023-03-15T12:40:19.515Z"
   },
   {
    "duration": 194,
    "start_time": "2023-03-15T12:40:19.736Z"
   },
   {
    "duration": 27,
    "start_time": "2023-03-15T12:40:19.931Z"
   },
   {
    "duration": 206,
    "start_time": "2023-03-15T12:40:19.960Z"
   },
   {
    "duration": 208,
    "start_time": "2023-03-15T12:40:20.168Z"
   },
   {
    "duration": 228,
    "start_time": "2023-03-15T12:40:20.380Z"
   },
   {
    "duration": 9,
    "start_time": "2023-03-15T12:40:20.610Z"
   },
   {
    "duration": 24,
    "start_time": "2023-03-15T12:40:20.621Z"
   },
   {
    "duration": 692,
    "start_time": "2023-03-15T12:40:48.693Z"
   },
   {
    "duration": 175,
    "start_time": "2023-03-15T12:40:57.082Z"
   },
   {
    "duration": 4060,
    "start_time": "2023-03-15T17:52:45.233Z"
   },
   {
    "duration": 6,
    "start_time": "2023-03-15T18:01:12.561Z"
   },
   {
    "duration": 5,
    "start_time": "2023-03-15T18:01:20.830Z"
   },
   {
    "duration": 83,
    "start_time": "2023-03-15T18:01:31.500Z"
   },
   {
    "duration": 15,
    "start_time": "2023-03-15T18:01:31.584Z"
   },
   {
    "duration": 38,
    "start_time": "2023-03-15T18:01:31.600Z"
   },
   {
    "duration": 1141,
    "start_time": "2023-03-15T18:01:31.640Z"
   },
   {
    "duration": 22,
    "start_time": "2023-03-15T18:01:32.782Z"
   },
   {
    "duration": 5,
    "start_time": "2023-03-15T18:01:32.806Z"
   },
   {
    "duration": 187,
    "start_time": "2023-03-15T18:01:32.813Z"
   },
   {
    "duration": 5,
    "start_time": "2023-03-15T18:01:33.003Z"
   },
   {
    "duration": 37,
    "start_time": "2023-03-15T18:01:33.010Z"
   },
   {
    "duration": 20,
    "start_time": "2023-03-15T18:01:33.054Z"
   },
   {
    "duration": 19,
    "start_time": "2023-03-15T18:01:33.076Z"
   },
   {
    "duration": 23,
    "start_time": "2023-03-15T18:01:33.097Z"
   },
   {
    "duration": 27,
    "start_time": "2023-03-15T18:01:33.122Z"
   },
   {
    "duration": 15,
    "start_time": "2023-03-15T18:01:33.150Z"
   },
   {
    "duration": 162,
    "start_time": "2023-03-15T18:01:33.167Z"
   },
   {
    "duration": 4030,
    "start_time": "2023-03-15T18:01:33.331Z"
   },
   {
    "duration": 5,
    "start_time": "2023-03-15T18:01:37.363Z"
   },
   {
    "duration": 4124,
    "start_time": "2023-03-15T18:01:37.369Z"
   },
   {
    "duration": 5,
    "start_time": "2023-03-15T18:01:41.494Z"
   },
   {
    "duration": 7798,
    "start_time": "2023-03-15T18:01:41.501Z"
   },
   {
    "duration": 3,
    "start_time": "2023-03-15T18:01:49.300Z"
   },
   {
    "duration": 15,
    "start_time": "2023-03-15T18:01:49.304Z"
   },
   {
    "duration": 12,
    "start_time": "2023-03-15T18:01:49.320Z"
   },
   {
    "duration": 376,
    "start_time": "2023-03-15T18:01:49.333Z"
   },
   {
    "duration": 251,
    "start_time": "2023-03-15T18:01:49.711Z"
   },
   {
    "duration": 734,
    "start_time": "2023-03-15T18:01:49.967Z"
   },
   {
    "duration": 17,
    "start_time": "2023-03-15T18:01:50.703Z"
   },
   {
    "duration": 35,
    "start_time": "2023-03-15T18:01:50.721Z"
   },
   {
    "duration": 173,
    "start_time": "2023-03-15T18:01:50.757Z"
   },
   {
    "duration": 28,
    "start_time": "2023-03-15T18:01:50.931Z"
   },
   {
    "duration": 11,
    "start_time": "2023-03-15T18:01:50.960Z"
   },
   {
    "duration": 184,
    "start_time": "2023-03-15T18:01:50.973Z"
   },
   {
    "duration": 165,
    "start_time": "2023-03-15T18:01:51.159Z"
   },
   {
    "duration": 26,
    "start_time": "2023-03-15T18:01:51.325Z"
   },
   {
    "duration": 22,
    "start_time": "2023-03-15T18:01:51.355Z"
   },
   {
    "duration": 24,
    "start_time": "2023-03-15T18:01:51.378Z"
   },
   {
    "duration": 18,
    "start_time": "2023-03-15T18:01:51.403Z"
   },
   {
    "duration": 267,
    "start_time": "2023-03-15T18:01:51.423Z"
   },
   {
    "duration": 456,
    "start_time": "2023-03-15T18:01:51.692Z"
   },
   {
    "duration": 74,
    "start_time": "2023-03-15T18:01:52.155Z"
   },
   {
    "duration": 28,
    "start_time": "2023-03-15T18:01:52.231Z"
   },
   {
    "duration": 14,
    "start_time": "2023-03-15T18:01:52.261Z"
   },
   {
    "duration": 1058,
    "start_time": "2023-03-15T18:01:52.276Z"
   },
   {
    "duration": 29,
    "start_time": "2023-03-15T18:01:53.335Z"
   },
   {
    "duration": 9,
    "start_time": "2023-03-15T18:01:53.366Z"
   },
   {
    "duration": 194,
    "start_time": "2023-03-15T18:01:53.377Z"
   },
   {
    "duration": 4,
    "start_time": "2023-03-15T18:01:53.573Z"
   },
   {
    "duration": 31,
    "start_time": "2023-03-15T18:01:53.578Z"
   },
   {
    "duration": 18,
    "start_time": "2023-03-15T18:01:53.610Z"
   },
   {
    "duration": 35,
    "start_time": "2023-03-15T18:01:53.629Z"
   },
   {
    "duration": 30,
    "start_time": "2023-03-15T18:01:53.666Z"
   },
   {
    "duration": 8,
    "start_time": "2023-03-15T18:01:53.698Z"
   },
   {
    "duration": 7,
    "start_time": "2023-03-15T18:01:53.707Z"
   },
   {
    "duration": 171,
    "start_time": "2023-03-15T18:01:53.715Z"
   },
   {
    "duration": 4347,
    "start_time": "2023-03-15T18:01:53.887Z"
   },
   {
    "duration": 6,
    "start_time": "2023-03-15T18:02:00.956Z"
   },
   {
    "duration": 4331,
    "start_time": "2023-03-15T18:02:04.994Z"
   },
   {
    "duration": 4253,
    "start_time": "2023-03-15T18:03:13.035Z"
   },
   {
    "duration": 5,
    "start_time": "2023-03-15T18:10:50.060Z"
   },
   {
    "duration": 9,
    "start_time": "2023-03-15T18:11:41.738Z"
   },
   {
    "duration": 8,
    "start_time": "2023-03-15T18:12:09.494Z"
   },
   {
    "duration": 11,
    "start_time": "2023-03-15T18:12:32.564Z"
   },
   {
    "duration": 78,
    "start_time": "2023-03-15T18:20:08.127Z"
   },
   {
    "duration": 14,
    "start_time": "2023-03-15T18:20:08.207Z"
   },
   {
    "duration": 20,
    "start_time": "2023-03-15T18:20:08.222Z"
   },
   {
    "duration": 1030,
    "start_time": "2023-03-15T18:20:08.244Z"
   },
   {
    "duration": 26,
    "start_time": "2023-03-15T18:20:09.276Z"
   },
   {
    "duration": 5,
    "start_time": "2023-03-15T18:20:09.303Z"
   },
   {
    "duration": 182,
    "start_time": "2023-03-15T18:20:09.310Z"
   },
   {
    "duration": 5,
    "start_time": "2023-03-15T18:20:09.494Z"
   },
   {
    "duration": 19,
    "start_time": "2023-03-15T18:20:09.501Z"
   },
   {
    "duration": 36,
    "start_time": "2023-03-15T18:20:09.523Z"
   },
   {
    "duration": 19,
    "start_time": "2023-03-15T18:20:09.561Z"
   },
   {
    "duration": 27,
    "start_time": "2023-03-15T18:20:09.582Z"
   },
   {
    "duration": 9,
    "start_time": "2023-03-15T18:20:09.611Z"
   },
   {
    "duration": 17,
    "start_time": "2023-03-15T18:20:09.641Z"
   },
   {
    "duration": 161,
    "start_time": "2023-03-15T18:20:09.660Z"
   },
   {
    "duration": 4994,
    "start_time": "2023-03-15T18:20:09.823Z"
   },
   {
    "duration": 4,
    "start_time": "2023-03-15T18:20:14.819Z"
   },
   {
    "duration": 4234,
    "start_time": "2023-03-15T18:20:14.825Z"
   },
   {
    "duration": 5,
    "start_time": "2023-03-15T18:20:19.061Z"
   },
   {
    "duration": 7969,
    "start_time": "2023-03-15T18:20:19.067Z"
   },
   {
    "duration": 12,
    "start_time": "2023-03-15T18:20:27.039Z"
   },
   {
    "duration": 13,
    "start_time": "2023-03-15T18:20:27.054Z"
   },
   {
    "duration": 14,
    "start_time": "2023-03-15T18:20:27.068Z"
   },
   {
    "duration": 408,
    "start_time": "2023-03-15T18:20:27.083Z"
   },
   {
    "duration": 247,
    "start_time": "2023-03-15T18:20:27.494Z"
   },
   {
    "duration": 754,
    "start_time": "2023-03-15T18:20:27.742Z"
   },
   {
    "duration": 24,
    "start_time": "2023-03-15T18:20:28.498Z"
   },
   {
    "duration": 49,
    "start_time": "2023-03-15T18:20:28.528Z"
   },
   {
    "duration": 172,
    "start_time": "2023-03-15T18:20:28.579Z"
   },
   {
    "duration": 20,
    "start_time": "2023-03-15T18:20:28.755Z"
   },
   {
    "duration": 7,
    "start_time": "2023-03-15T18:20:28.777Z"
   },
   {
    "duration": 179,
    "start_time": "2023-03-15T18:20:28.785Z"
   },
   {
    "duration": 169,
    "start_time": "2023-03-15T18:20:28.966Z"
   },
   {
    "duration": 27,
    "start_time": "2023-03-15T18:20:29.137Z"
   },
   {
    "duration": 22,
    "start_time": "2023-03-15T18:20:29.165Z"
   },
   {
    "duration": 18,
    "start_time": "2023-03-15T18:20:29.189Z"
   },
   {
    "duration": 16,
    "start_time": "2023-03-15T18:20:29.209Z"
   },
   {
    "duration": 295,
    "start_time": "2023-03-15T18:20:29.226Z"
   },
   {
    "duration": 446,
    "start_time": "2023-03-15T18:20:29.522Z"
   },
   {
    "duration": 165,
    "start_time": "2023-03-15T18:20:29.969Z"
   },
   {
    "duration": 21,
    "start_time": "2023-03-15T18:20:30.139Z"
   },
   {
    "duration": 178,
    "start_time": "2023-03-15T18:20:30.162Z"
   },
   {
    "duration": 165,
    "start_time": "2023-03-15T18:20:30.348Z"
   },
   {
    "duration": 32,
    "start_time": "2023-03-15T18:20:30.515Z"
   },
   {
    "duration": 167,
    "start_time": "2023-03-15T18:20:30.548Z"
   },
   {
    "duration": 176,
    "start_time": "2023-03-15T18:20:30.716Z"
   },
   {
    "duration": 16,
    "start_time": "2023-03-15T18:20:30.894Z"
   },
   {
    "duration": 179,
    "start_time": "2023-03-15T18:20:30.912Z"
   },
   {
    "duration": 179,
    "start_time": "2023-03-15T18:20:31.092Z"
   },
   {
    "duration": 220,
    "start_time": "2023-03-15T18:20:31.273Z"
   },
   {
    "duration": 8,
    "start_time": "2023-03-15T18:20:31.494Z"
   },
   {
    "duration": 13,
    "start_time": "2023-03-15T18:20:31.504Z"
   },
   {
    "duration": 29,
    "start_time": "2023-03-15T18:20:31.519Z"
   },
   {
    "duration": 195,
    "start_time": "2023-03-15T18:20:31.549Z"
   },
   {
    "duration": 164,
    "start_time": "2023-03-15T18:20:31.749Z"
   },
   {
    "duration": 17,
    "start_time": "2023-03-15T18:20:31.915Z"
   },
   {
    "duration": 174,
    "start_time": "2023-03-15T18:20:31.940Z"
   },
   {
    "duration": 161,
    "start_time": "2023-03-15T18:20:32.116Z"
   },
   {
    "duration": 16,
    "start_time": "2023-03-15T18:20:32.278Z"
   },
   {
    "duration": 173,
    "start_time": "2023-03-15T18:20:32.295Z"
   },
   {
    "duration": 205,
    "start_time": "2023-03-15T18:20:32.470Z"
   },
   {
    "duration": 242,
    "start_time": "2023-03-15T18:20:32.678Z"
   },
   {
    "duration": 19,
    "start_time": "2023-03-15T18:20:32.922Z"
   },
   {
    "duration": 11,
    "start_time": "2023-03-15T18:20:32.942Z"
   },
   {
    "duration": 82,
    "start_time": "2023-03-15T18:21:09.153Z"
   },
   {
    "duration": 20,
    "start_time": "2023-03-15T18:21:09.238Z"
   },
   {
    "duration": 24,
    "start_time": "2023-03-15T18:21:09.260Z"
   },
   {
    "duration": 1029,
    "start_time": "2023-03-15T18:21:09.287Z"
   },
   {
    "duration": 31,
    "start_time": "2023-03-15T18:21:10.318Z"
   },
   {
    "duration": 5,
    "start_time": "2023-03-15T18:21:10.356Z"
   },
   {
    "duration": 178,
    "start_time": "2023-03-15T18:21:10.362Z"
   },
   {
    "duration": 5,
    "start_time": "2023-03-15T18:21:10.542Z"
   },
   {
    "duration": 21,
    "start_time": "2023-03-15T18:21:10.552Z"
   },
   {
    "duration": 18,
    "start_time": "2023-03-15T18:21:10.575Z"
   },
   {
    "duration": 20,
    "start_time": "2023-03-15T18:21:10.594Z"
   },
   {
    "duration": 44,
    "start_time": "2023-03-15T18:21:10.616Z"
   },
   {
    "duration": 8,
    "start_time": "2023-03-15T18:21:10.661Z"
   },
   {
    "duration": 8,
    "start_time": "2023-03-15T18:21:10.670Z"
   },
   {
    "duration": 180,
    "start_time": "2023-03-15T18:21:10.679Z"
   },
   {
    "duration": 4157,
    "start_time": "2023-03-15T18:21:10.861Z"
   },
   {
    "duration": 6,
    "start_time": "2023-03-15T18:21:15.020Z"
   },
   {
    "duration": 4254,
    "start_time": "2023-03-15T18:21:15.027Z"
   },
   {
    "duration": 5,
    "start_time": "2023-03-15T18:21:19.283Z"
   },
   {
    "duration": 7895,
    "start_time": "2023-03-15T18:21:19.290Z"
   },
   {
    "duration": 5,
    "start_time": "2023-03-15T18:21:27.187Z"
   },
   {
    "duration": 11,
    "start_time": "2023-03-15T18:21:27.194Z"
   },
   {
    "duration": 12,
    "start_time": "2023-03-15T18:21:27.207Z"
   },
   {
    "duration": 365,
    "start_time": "2023-03-15T18:21:27.220Z"
   },
   {
    "duration": 225,
    "start_time": "2023-03-15T18:21:27.587Z"
   },
   {
    "duration": 765,
    "start_time": "2023-03-15T18:21:27.813Z"
   },
   {
    "duration": 18,
    "start_time": "2023-03-15T18:21:28.579Z"
   },
   {
    "duration": 19,
    "start_time": "2023-03-15T18:21:28.600Z"
   },
   {
    "duration": 182,
    "start_time": "2023-03-15T18:21:28.620Z"
   },
   {
    "duration": 18,
    "start_time": "2023-03-15T18:21:28.803Z"
   },
   {
    "duration": 23,
    "start_time": "2023-03-15T18:21:28.823Z"
   },
   {
    "duration": 153,
    "start_time": "2023-03-15T18:21:28.854Z"
   },
   {
    "duration": 185,
    "start_time": "2023-03-15T18:21:29.009Z"
   },
   {
    "duration": 17,
    "start_time": "2023-03-15T18:21:29.196Z"
   },
   {
    "duration": 35,
    "start_time": "2023-03-15T18:21:29.214Z"
   },
   {
    "duration": 30,
    "start_time": "2023-03-15T18:21:29.254Z"
   },
   {
    "duration": 16,
    "start_time": "2023-03-15T18:21:29.286Z"
   },
   {
    "duration": 329,
    "start_time": "2023-03-15T18:21:29.304Z"
   },
   {
    "duration": 448,
    "start_time": "2023-03-15T18:21:29.635Z"
   },
   {
    "duration": 177,
    "start_time": "2023-03-15T18:21:30.084Z"
   },
   {
    "duration": 95,
    "start_time": "2023-03-15T18:23:10.529Z"
   },
   {
    "duration": 25,
    "start_time": "2023-03-15T18:23:10.626Z"
   },
   {
    "duration": 25,
    "start_time": "2023-03-15T18:23:10.658Z"
   },
   {
    "duration": 1015,
    "start_time": "2023-03-15T18:23:10.684Z"
   },
   {
    "duration": 23,
    "start_time": "2023-03-15T18:23:11.701Z"
   },
   {
    "duration": 5,
    "start_time": "2023-03-15T18:23:11.725Z"
   },
   {
    "duration": 192,
    "start_time": "2023-03-15T18:23:11.744Z"
   },
   {
    "duration": 8,
    "start_time": "2023-03-15T18:23:11.940Z"
   },
   {
    "duration": 32,
    "start_time": "2023-03-15T18:23:11.950Z"
   },
   {
    "duration": 18,
    "start_time": "2023-03-15T18:23:11.984Z"
   },
   {
    "duration": 21,
    "start_time": "2023-03-15T18:23:12.004Z"
   },
   {
    "duration": 52,
    "start_time": "2023-03-15T18:23:12.026Z"
   },
   {
    "duration": 9,
    "start_time": "2023-03-15T18:23:12.080Z"
   },
   {
    "duration": 9,
    "start_time": "2023-03-15T18:23:12.092Z"
   },
   {
    "duration": 188,
    "start_time": "2023-03-15T18:23:12.103Z"
   },
   {
    "duration": 4046,
    "start_time": "2023-03-15T18:23:12.293Z"
   },
   {
    "duration": 14,
    "start_time": "2023-03-15T18:23:16.341Z"
   },
   {
    "duration": 4155,
    "start_time": "2023-03-15T18:23:16.359Z"
   },
   {
    "duration": 4,
    "start_time": "2023-03-15T18:23:20.516Z"
   },
   {
    "duration": 7858,
    "start_time": "2023-03-15T18:23:20.522Z"
   },
   {
    "duration": 3,
    "start_time": "2023-03-15T18:23:28.382Z"
   },
   {
    "duration": 10,
    "start_time": "2023-03-15T18:23:28.387Z"
   },
   {
    "duration": 13,
    "start_time": "2023-03-15T18:23:28.399Z"
   },
   {
    "duration": 358,
    "start_time": "2023-03-15T18:23:28.414Z"
   },
   {
    "duration": 224,
    "start_time": "2023-03-15T18:23:28.774Z"
   },
   {
    "duration": 795,
    "start_time": "2023-03-15T18:23:29.000Z"
   },
   {
    "duration": 17,
    "start_time": "2023-03-15T18:23:29.796Z"
   },
   {
    "duration": 31,
    "start_time": "2023-03-15T18:23:29.815Z"
   },
   {
    "duration": 163,
    "start_time": "2023-03-15T18:23:29.849Z"
   },
   {
    "duration": 28,
    "start_time": "2023-03-15T18:23:30.013Z"
   },
   {
    "duration": 17,
    "start_time": "2023-03-15T18:23:30.049Z"
   },
   {
    "duration": 178,
    "start_time": "2023-03-15T18:23:30.068Z"
   },
   {
    "duration": 161,
    "start_time": "2023-03-15T18:23:30.247Z"
   },
   {
    "duration": 17,
    "start_time": "2023-03-15T18:23:30.410Z"
   },
   {
    "duration": 47,
    "start_time": "2023-03-15T18:23:30.428Z"
   },
   {
    "duration": 34,
    "start_time": "2023-03-15T18:23:30.477Z"
   },
   {
    "duration": 51,
    "start_time": "2023-03-15T18:23:30.512Z"
   },
   {
    "duration": 271,
    "start_time": "2023-03-15T18:23:30.565Z"
   },
   {
    "duration": 463,
    "start_time": "2023-03-15T18:23:30.838Z"
   },
   {
    "duration": 173,
    "start_time": "2023-03-15T18:23:31.303Z"
   },
   {
    "duration": 17,
    "start_time": "2023-03-15T18:23:31.480Z"
   },
   {
    "duration": 186,
    "start_time": "2023-03-15T18:23:31.499Z"
   },
   {
    "duration": 172,
    "start_time": "2023-03-15T18:23:31.687Z"
   },
   {
    "duration": 17,
    "start_time": "2023-03-15T18:23:31.861Z"
   },
   {
    "duration": 159,
    "start_time": "2023-03-15T18:23:31.880Z"
   },
   {
    "duration": 160,
    "start_time": "2023-03-15T18:23:32.044Z"
   },
   {
    "duration": 17,
    "start_time": "2023-03-15T18:23:32.205Z"
   },
   {
    "duration": 171,
    "start_time": "2023-03-15T18:23:32.224Z"
   },
   {
    "duration": 220,
    "start_time": "2023-03-15T18:23:32.396Z"
   },
   {
    "duration": 239,
    "start_time": "2023-03-15T18:23:32.618Z"
   },
   {
    "duration": 9,
    "start_time": "2023-03-15T18:23:32.859Z"
   },
   {
    "duration": 10,
    "start_time": "2023-03-15T18:23:32.869Z"
   },
   {
    "duration": 10,
    "start_time": "2023-03-15T18:33:34.350Z"
   },
   {
    "duration": 4143,
    "start_time": "2023-03-15T18:34:21.047Z"
   },
   {
    "duration": 6,
    "start_time": "2023-03-15T18:37:55.265Z"
   },
   {
    "duration": 7464,
    "start_time": "2023-03-15T18:38:25.938Z"
   },
   {
    "duration": 6,
    "start_time": "2023-03-15T18:38:49.220Z"
   },
   {
    "duration": 10,
    "start_time": "2023-03-15T18:39:07.225Z"
   },
   {
    "duration": 12,
    "start_time": "2023-03-15T18:39:18.133Z"
   },
   {
    "duration": 94,
    "start_time": "2023-03-15T18:39:24.181Z"
   },
   {
    "duration": 15,
    "start_time": "2023-03-15T18:39:24.278Z"
   },
   {
    "duration": 16,
    "start_time": "2023-03-15T18:39:24.294Z"
   },
   {
    "duration": 1041,
    "start_time": "2023-03-15T18:39:24.312Z"
   },
   {
    "duration": 26,
    "start_time": "2023-03-15T18:39:25.354Z"
   },
   {
    "duration": 5,
    "start_time": "2023-03-15T18:39:25.382Z"
   },
   {
    "duration": 206,
    "start_time": "2023-03-15T18:39:25.389Z"
   },
   {
    "duration": 5,
    "start_time": "2023-03-15T18:39:25.597Z"
   },
   {
    "duration": 43,
    "start_time": "2023-03-15T18:39:25.604Z"
   },
   {
    "duration": 28,
    "start_time": "2023-03-15T18:39:25.650Z"
   },
   {
    "duration": 20,
    "start_time": "2023-03-15T18:39:25.680Z"
   },
   {
    "duration": 43,
    "start_time": "2023-03-15T18:39:25.702Z"
   },
   {
    "duration": 11,
    "start_time": "2023-03-15T18:39:25.750Z"
   },
   {
    "duration": 11,
    "start_time": "2023-03-15T18:39:25.767Z"
   },
   {
    "duration": 187,
    "start_time": "2023-03-15T18:39:25.780Z"
   },
   {
    "duration": 4193,
    "start_time": "2023-03-15T18:39:25.968Z"
   },
   {
    "duration": 5,
    "start_time": "2023-03-15T18:39:30.163Z"
   },
   {
    "duration": 4373,
    "start_time": "2023-03-15T18:39:30.169Z"
   },
   {
    "duration": 16,
    "start_time": "2023-03-15T18:39:34.546Z"
   },
   {
    "duration": 8242,
    "start_time": "2023-03-15T18:39:34.568Z"
   },
   {
    "duration": 4,
    "start_time": "2023-03-15T18:39:42.812Z"
   },
   {
    "duration": 13,
    "start_time": "2023-03-15T18:39:42.818Z"
   },
   {
    "duration": 25,
    "start_time": "2023-03-15T18:39:42.832Z"
   },
   {
    "duration": 12,
    "start_time": "2023-03-15T18:39:57.902Z"
   },
   {
    "duration": 248,
    "start_time": "2023-03-15T19:17:22.814Z"
   },
   {
    "duration": 236,
    "start_time": "2023-03-15T19:18:20.568Z"
   },
   {
    "duration": 842,
    "start_time": "2023-03-15T19:20:04.238Z"
   },
   {
    "duration": 797,
    "start_time": "2023-03-15T19:24:26.183Z"
   },
   {
    "duration": 815,
    "start_time": "2023-03-15T19:25:06.901Z"
   },
   {
    "duration": 23,
    "start_time": "2023-03-15T19:25:54.926Z"
   },
   {
    "duration": 24,
    "start_time": "2023-03-15T19:30:57.214Z"
   },
   {
    "duration": 7,
    "start_time": "2023-03-15T19:31:23.469Z"
   },
   {
    "duration": 11,
    "start_time": "2023-03-15T19:31:31.036Z"
   },
   {
    "duration": 234,
    "start_time": "2023-03-15T19:32:56.725Z"
   },
   {
    "duration": 32,
    "start_time": "2023-03-15T19:45:46.122Z"
   },
   {
    "duration": 28,
    "start_time": "2023-03-15T19:47:08.870Z"
   },
   {
    "duration": 26,
    "start_time": "2023-03-15T19:47:12.403Z"
   },
   {
    "duration": 18,
    "start_time": "2023-03-15T19:47:23.903Z"
   },
   {
    "duration": 10,
    "start_time": "2023-03-15T19:47:35.129Z"
   },
   {
    "duration": 7,
    "start_time": "2023-03-15T19:48:26.678Z"
   },
   {
    "duration": 186,
    "start_time": "2023-03-15T19:49:21.902Z"
   },
   {
    "duration": 201,
    "start_time": "2023-03-15T19:49:49.677Z"
   },
   {
    "duration": 192,
    "start_time": "2023-03-15T19:49:53.803Z"
   },
   {
    "duration": 187,
    "start_time": "2023-03-15T19:50:14.223Z"
   },
   {
    "duration": 202,
    "start_time": "2023-03-15T19:50:42.112Z"
   },
   {
    "duration": 215,
    "start_time": "2023-03-15T19:50:50.535Z"
   },
   {
    "duration": 220,
    "start_time": "2023-03-15T19:51:09.562Z"
   },
   {
    "duration": 98,
    "start_time": "2023-03-15T19:51:22.605Z"
   },
   {
    "duration": 60,
    "start_time": "2023-03-15T19:51:27.426Z"
   },
   {
    "duration": 186,
    "start_time": "2023-03-15T19:51:30.994Z"
   },
   {
    "duration": 167,
    "start_time": "2023-03-15T19:52:40.771Z"
   },
   {
    "duration": 174,
    "start_time": "2023-03-15T19:52:47.061Z"
   },
   {
    "duration": 17,
    "start_time": "2023-03-15T19:53:31.194Z"
   },
   {
    "duration": 18,
    "start_time": "2023-03-15T19:53:48.967Z"
   },
   {
    "duration": 16,
    "start_time": "2023-03-15T19:55:06.179Z"
   },
   {
    "duration": 271,
    "start_time": "2023-03-15T20:10:50.150Z"
   },
   {
    "duration": 430,
    "start_time": "2023-03-15T20:11:14.379Z"
   },
   {
    "duration": 15,
    "start_time": "2023-03-15T20:55:31.379Z"
   },
   {
    "duration": 21,
    "start_time": "2023-03-15T20:56:59.057Z"
   },
   {
    "duration": 27,
    "start_time": "2023-03-15T20:57:41.244Z"
   },
   {
    "duration": 12,
    "start_time": "2023-03-15T21:17:42.379Z"
   },
   {
    "duration": 9,
    "start_time": "2023-03-15T21:20:34.867Z"
   },
   {
    "duration": 11,
    "start_time": "2023-03-15T21:20:52.092Z"
   },
   {
    "duration": 8,
    "start_time": "2023-03-15T21:22:13.609Z"
   },
   {
    "duration": 10,
    "start_time": "2023-03-15T21:22:35.852Z"
   },
   {
    "duration": 78,
    "start_time": "2023-03-15T21:22:48.582Z"
   },
   {
    "duration": 14,
    "start_time": "2023-03-15T21:22:48.662Z"
   },
   {
    "duration": 16,
    "start_time": "2023-03-15T21:22:48.678Z"
   },
   {
    "duration": 977,
    "start_time": "2023-03-15T21:22:48.696Z"
   },
   {
    "duration": 23,
    "start_time": "2023-03-15T21:22:49.675Z"
   },
   {
    "duration": 4,
    "start_time": "2023-03-15T21:22:49.700Z"
   },
   {
    "duration": 177,
    "start_time": "2023-03-15T21:22:49.705Z"
   },
   {
    "duration": 5,
    "start_time": "2023-03-15T21:22:49.883Z"
   },
   {
    "duration": 27,
    "start_time": "2023-03-15T21:22:49.889Z"
   },
   {
    "duration": 25,
    "start_time": "2023-03-15T21:22:49.919Z"
   },
   {
    "duration": 19,
    "start_time": "2023-03-15T21:22:49.946Z"
   },
   {
    "duration": 23,
    "start_time": "2023-03-15T21:22:49.966Z"
   },
   {
    "duration": 9,
    "start_time": "2023-03-15T21:22:49.991Z"
   },
   {
    "duration": 7,
    "start_time": "2023-03-15T21:22:50.001Z"
   },
   {
    "duration": 176,
    "start_time": "2023-03-15T21:22:50.009Z"
   },
   {
    "duration": 4045,
    "start_time": "2023-03-15T21:22:50.187Z"
   },
   {
    "duration": 9,
    "start_time": "2023-03-15T21:22:54.233Z"
   },
   {
    "duration": 4381,
    "start_time": "2023-03-15T21:22:54.243Z"
   },
   {
    "duration": 5,
    "start_time": "2023-03-15T21:22:58.626Z"
   },
   {
    "duration": 8061,
    "start_time": "2023-03-15T21:22:58.640Z"
   },
   {
    "duration": 3,
    "start_time": "2023-03-15T21:23:06.703Z"
   },
   {
    "duration": 10,
    "start_time": "2023-03-15T21:23:06.708Z"
   },
   {
    "duration": 22,
    "start_time": "2023-03-15T21:23:06.719Z"
   },
   {
    "duration": 386,
    "start_time": "2023-03-15T21:23:06.742Z"
   },
   {
    "duration": 233,
    "start_time": "2023-03-15T21:23:07.130Z"
   },
   {
    "duration": 714,
    "start_time": "2023-03-15T21:23:07.364Z"
   },
   {
    "duration": 7,
    "start_time": "2023-03-15T21:23:08.080Z"
   },
   {
    "duration": 19,
    "start_time": "2023-03-15T21:23:08.092Z"
   },
   {
    "duration": 178,
    "start_time": "2023-03-15T21:23:08.112Z"
   },
   {
    "duration": 8,
    "start_time": "2023-03-15T21:23:08.292Z"
   },
   {
    "duration": 8,
    "start_time": "2023-03-15T21:23:08.302Z"
   },
   {
    "duration": 170,
    "start_time": "2023-03-15T21:23:08.311Z"
   },
   {
    "duration": 1187,
    "start_time": "2023-03-15T21:23:08.483Z"
   },
   {
    "duration": 17,
    "start_time": "2023-03-15T21:23:09.671Z"
   },
   {
    "duration": 20,
    "start_time": "2023-03-15T21:23:09.690Z"
   },
   {
    "duration": 33,
    "start_time": "2023-03-15T21:23:09.711Z"
   },
   {
    "duration": 24,
    "start_time": "2023-03-15T21:23:09.746Z"
   },
   {
    "duration": 269,
    "start_time": "2023-03-15T21:23:09.772Z"
   },
   {
    "duration": 416,
    "start_time": "2023-03-15T21:23:10.043Z"
   },
   {
    "duration": 15,
    "start_time": "2023-03-15T21:23:10.461Z"
   },
   {
    "duration": 169,
    "start_time": "2023-03-15T21:23:10.477Z"
   },
   {
    "duration": 167,
    "start_time": "2023-03-15T21:23:10.648Z"
   },
   {
    "duration": 15,
    "start_time": "2023-03-15T21:23:10.817Z"
   },
   {
    "duration": 149,
    "start_time": "2023-03-15T21:23:10.841Z"
   },
   {
    "duration": 164,
    "start_time": "2023-03-15T21:23:10.991Z"
   },
   {
    "duration": 15,
    "start_time": "2023-03-15T21:23:11.156Z"
   },
   {
    "duration": 173,
    "start_time": "2023-03-15T21:23:11.173Z"
   },
   {
    "duration": 160,
    "start_time": "2023-03-15T21:23:11.348Z"
   },
   {
    "duration": 189,
    "start_time": "2023-03-15T21:23:11.509Z"
   },
   {
    "duration": 8,
    "start_time": "2023-03-15T21:23:11.700Z"
   },
   {
    "duration": 9,
    "start_time": "2023-03-15T21:23:11.709Z"
   },
   {
    "duration": 273,
    "start_time": "2023-03-15T21:48:09.792Z"
   },
   {
    "duration": 7,
    "start_time": "2023-03-15T21:49:51.529Z"
   },
   {
    "duration": 6,
    "start_time": "2023-03-15T21:50:55.210Z"
   },
   {
    "duration": 7,
    "start_time": "2023-03-15T21:51:25.207Z"
   },
   {
    "duration": 254,
    "start_time": "2023-03-15T21:51:55.845Z"
   },
   {
    "duration": 7,
    "start_time": "2023-03-15T21:52:04.222Z"
   },
   {
    "duration": 253,
    "start_time": "2023-03-15T21:59:50.538Z"
   },
   {
    "duration": 23,
    "start_time": "2023-03-15T22:39:36.351Z"
   },
   {
    "duration": 18,
    "start_time": "2023-03-15T22:39:48.920Z"
   },
   {
    "duration": 23,
    "start_time": "2023-03-15T22:39:57.746Z"
   },
   {
    "duration": 21,
    "start_time": "2023-03-15T22:41:16.167Z"
   },
   {
    "duration": 30,
    "start_time": "2023-03-15T22:41:29.139Z"
   },
   {
    "duration": 19,
    "start_time": "2023-03-15T22:52:46.300Z"
   },
   {
    "duration": 89,
    "start_time": "2023-03-15T22:52:55.326Z"
   },
   {
    "duration": 18,
    "start_time": "2023-03-15T22:52:55.417Z"
   },
   {
    "duration": 17,
    "start_time": "2023-03-15T22:52:55.436Z"
   },
   {
    "duration": 1202,
    "start_time": "2023-03-15T22:52:55.457Z"
   },
   {
    "duration": 33,
    "start_time": "2023-03-15T22:52:56.663Z"
   },
   {
    "duration": 6,
    "start_time": "2023-03-15T22:52:56.698Z"
   },
   {
    "duration": 231,
    "start_time": "2023-03-15T22:52:56.706Z"
   },
   {
    "duration": 8,
    "start_time": "2023-03-15T22:52:56.939Z"
   },
   {
    "duration": 48,
    "start_time": "2023-03-15T22:52:56.949Z"
   },
   {
    "duration": 21,
    "start_time": "2023-03-15T22:52:57.000Z"
   },
   {
    "duration": 29,
    "start_time": "2023-03-15T22:52:57.023Z"
   },
   {
    "duration": 25,
    "start_time": "2023-03-15T22:52:57.054Z"
   },
   {
    "duration": 8,
    "start_time": "2023-03-15T22:52:57.080Z"
   },
   {
    "duration": 8,
    "start_time": "2023-03-15T22:52:57.089Z"
   },
   {
    "duration": 203,
    "start_time": "2023-03-15T22:52:57.098Z"
   },
   {
    "duration": 4137,
    "start_time": "2023-03-15T22:52:57.303Z"
   },
   {
    "duration": 11,
    "start_time": "2023-03-15T22:53:01.442Z"
   },
   {
    "duration": 4608,
    "start_time": "2023-03-15T22:53:01.455Z"
   },
   {
    "duration": 5,
    "start_time": "2023-03-15T22:53:06.066Z"
   },
   {
    "duration": 8395,
    "start_time": "2023-03-15T22:53:06.073Z"
   },
   {
    "duration": 3,
    "start_time": "2023-03-15T22:53:14.470Z"
   },
   {
    "duration": 12,
    "start_time": "2023-03-15T22:53:14.475Z"
   },
   {
    "duration": 28,
    "start_time": "2023-03-15T22:53:14.489Z"
   },
   {
    "duration": 385,
    "start_time": "2023-03-15T22:53:14.519Z"
   },
   {
    "duration": 266,
    "start_time": "2023-03-15T22:53:14.905Z"
   },
   {
    "duration": 799,
    "start_time": "2023-03-15T22:53:15.172Z"
   },
   {
    "duration": 7,
    "start_time": "2023-03-15T22:53:15.973Z"
   },
   {
    "duration": 22,
    "start_time": "2023-03-15T22:53:15.983Z"
   },
   {
    "duration": 202,
    "start_time": "2023-03-15T22:53:16.007Z"
   },
   {
    "duration": 9,
    "start_time": "2023-03-15T22:53:16.211Z"
   },
   {
    "duration": 11,
    "start_time": "2023-03-15T22:53:16.222Z"
   },
   {
    "duration": 184,
    "start_time": "2023-03-15T22:53:16.239Z"
   },
   {
    "duration": 219,
    "start_time": "2023-03-15T22:53:16.425Z"
   },
   {
    "duration": 25,
    "start_time": "2023-03-15T22:53:16.646Z"
   },
   {
    "duration": 23,
    "start_time": "2023-03-15T22:53:16.672Z"
   },
   {
    "duration": 18,
    "start_time": "2023-03-15T22:53:16.697Z"
   },
   {
    "duration": 27,
    "start_time": "2023-03-15T22:53:16.716Z"
   },
   {
    "duration": 33,
    "start_time": "2023-03-15T22:53:16.745Z"
   },
   {
    "duration": 19,
    "start_time": "2023-03-15T22:53:16.780Z"
   },
   {
    "duration": 303,
    "start_time": "2023-03-15T22:53:16.801Z"
   },
   {
    "duration": 6,
    "start_time": "2023-03-15T22:53:17.105Z"
   },
   {
    "duration": 515,
    "start_time": "2023-03-15T22:53:17.113Z"
   },
   {
    "duration": 29,
    "start_time": "2023-03-15T22:53:17.629Z"
   },
   {
    "duration": 186,
    "start_time": "2023-03-15T22:53:17.660Z"
   },
   {
    "duration": 188,
    "start_time": "2023-03-15T22:53:17.849Z"
   },
   {
    "duration": 22,
    "start_time": "2023-03-15T22:53:18.045Z"
   },
   {
    "duration": 166,
    "start_time": "2023-03-15T22:53:18.068Z"
   },
   {
    "duration": 195,
    "start_time": "2023-03-15T22:53:18.236Z"
   },
   {
    "duration": 26,
    "start_time": "2023-03-15T22:53:18.432Z"
   },
   {
    "duration": 181,
    "start_time": "2023-03-15T22:53:18.462Z"
   },
   {
    "duration": 164,
    "start_time": "2023-03-15T22:53:18.647Z"
   },
   {
    "duration": 205,
    "start_time": "2023-03-15T22:53:18.813Z"
   },
   {
    "duration": 8,
    "start_time": "2023-03-15T22:53:19.020Z"
   },
   {
    "duration": 17,
    "start_time": "2023-03-15T22:53:19.030Z"
   },
   {
    "duration": 29,
    "start_time": "2023-03-15T22:53:24.335Z"
   },
   {
    "duration": 1709,
    "start_time": "2023-03-16T09:40:56.322Z"
   },
   {
    "duration": 29,
    "start_time": "2023-03-16T09:40:58.033Z"
   },
   {
    "duration": 15,
    "start_time": "2023-03-16T09:40:58.064Z"
   },
   {
    "duration": 1167,
    "start_time": "2023-03-16T09:40:58.080Z"
   },
   {
    "duration": 43,
    "start_time": "2023-03-16T09:40:59.249Z"
   },
   {
    "duration": 8,
    "start_time": "2023-03-16T09:40:59.296Z"
   },
   {
    "duration": 238,
    "start_time": "2023-03-16T09:40:59.306Z"
   },
   {
    "duration": 7,
    "start_time": "2023-03-16T09:40:59.546Z"
   },
   {
    "duration": 42,
    "start_time": "2023-03-16T09:40:59.555Z"
   },
   {
    "duration": 28,
    "start_time": "2023-03-16T09:40:59.599Z"
   },
   {
    "duration": 27,
    "start_time": "2023-03-16T09:40:59.629Z"
   },
   {
    "duration": 52,
    "start_time": "2023-03-16T09:40:59.658Z"
   },
   {
    "duration": 13,
    "start_time": "2023-03-16T09:40:59.712Z"
   },
   {
    "duration": 10,
    "start_time": "2023-03-16T09:40:59.730Z"
   },
   {
    "duration": 232,
    "start_time": "2023-03-16T09:40:59.742Z"
   },
   {
    "duration": 4578,
    "start_time": "2023-03-16T09:40:59.976Z"
   },
   {
    "duration": 8,
    "start_time": "2023-03-16T09:41:04.556Z"
   },
   {
    "duration": 4628,
    "start_time": "2023-03-16T09:41:04.567Z"
   },
   {
    "duration": 6,
    "start_time": "2023-03-16T09:41:09.197Z"
   },
   {
    "duration": 8961,
    "start_time": "2023-03-16T09:41:09.206Z"
   },
   {
    "duration": 6,
    "start_time": "2023-03-16T09:41:18.169Z"
   },
   {
    "duration": 23,
    "start_time": "2023-03-16T09:41:18.178Z"
   },
   {
    "duration": 29,
    "start_time": "2023-03-16T09:41:18.203Z"
   },
   {
    "duration": 423,
    "start_time": "2023-03-16T09:41:18.233Z"
   },
   {
    "duration": 226,
    "start_time": "2023-03-16T09:41:18.658Z"
   },
   {
    "duration": 531,
    "start_time": "2023-03-16T09:41:18.888Z"
   },
   {
    "duration": 7,
    "start_time": "2023-03-16T09:41:19.421Z"
   },
   {
    "duration": 23,
    "start_time": "2023-03-16T09:41:19.429Z"
   },
   {
    "duration": 227,
    "start_time": "2023-03-16T09:41:19.453Z"
   },
   {
    "duration": 15,
    "start_time": "2023-03-16T09:41:19.683Z"
   },
   {
    "duration": 12,
    "start_time": "2023-03-16T09:41:19.703Z"
   },
   {
    "duration": 270,
    "start_time": "2023-03-16T09:41:19.718Z"
   },
   {
    "duration": 212,
    "start_time": "2023-03-16T09:41:19.990Z"
   },
   {
    "duration": 20,
    "start_time": "2023-03-16T09:41:20.204Z"
   },
   {
    "duration": 28,
    "start_time": "2023-03-16T09:41:20.226Z"
   },
   {
    "duration": 42,
    "start_time": "2023-03-16T09:41:20.256Z"
   },
   {
    "duration": 25,
    "start_time": "2023-03-16T09:41:20.300Z"
   },
   {
    "duration": 24,
    "start_time": "2023-03-16T09:41:20.327Z"
   },
   {
    "duration": 46,
    "start_time": "2023-03-16T09:41:20.353Z"
   },
   {
    "duration": 313,
    "start_time": "2023-03-16T09:41:20.401Z"
   },
   {
    "duration": 7,
    "start_time": "2023-03-16T09:41:20.720Z"
   },
   {
    "duration": 538,
    "start_time": "2023-03-16T09:41:20.730Z"
   },
   {
    "duration": 31,
    "start_time": "2023-03-16T09:41:21.270Z"
   },
   {
    "duration": 298,
    "start_time": "2023-03-16T09:41:21.303Z"
   },
   {
    "duration": 196,
    "start_time": "2023-03-16T09:41:21.603Z"
   },
   {
    "duration": 22,
    "start_time": "2023-03-16T09:41:21.802Z"
   },
   {
    "duration": 257,
    "start_time": "2023-03-16T09:41:21.826Z"
   },
   {
    "duration": 187,
    "start_time": "2023-03-16T09:41:22.088Z"
   },
   {
    "duration": 26,
    "start_time": "2023-03-16T09:41:22.277Z"
   },
   {
    "duration": 210,
    "start_time": "2023-03-16T09:41:22.306Z"
   },
   {
    "duration": 206,
    "start_time": "2023-03-16T09:41:22.518Z"
   },
   {
    "duration": 268,
    "start_time": "2023-03-16T09:41:22.727Z"
   },
   {
    "duration": 12,
    "start_time": "2023-03-16T09:41:22.998Z"
   },
   {
    "duration": 10,
    "start_time": "2023-03-16T09:41:23.012Z"
   },
   {
    "duration": 74,
    "start_time": "2023-03-17T05:45:52.659Z"
   },
   {
    "duration": 1673,
    "start_time": "2023-03-17T05:51:25.934Z"
   },
   {
    "duration": 27,
    "start_time": "2023-03-17T05:51:27.609Z"
   },
   {
    "duration": 13,
    "start_time": "2023-03-17T05:51:27.637Z"
   },
   {
    "duration": 1001,
    "start_time": "2023-03-17T05:51:27.653Z"
   },
   {
    "duration": 39,
    "start_time": "2023-03-17T05:51:28.655Z"
   },
   {
    "duration": 4,
    "start_time": "2023-03-17T05:51:28.696Z"
   },
   {
    "duration": 152,
    "start_time": "2023-03-17T05:51:28.702Z"
   },
   {
    "duration": 5,
    "start_time": "2023-03-17T05:51:28.855Z"
   },
   {
    "duration": 33,
    "start_time": "2023-03-17T05:51:28.862Z"
   },
   {
    "duration": 19,
    "start_time": "2023-03-17T05:51:28.897Z"
   },
   {
    "duration": 28,
    "start_time": "2023-03-17T05:51:28.918Z"
   },
   {
    "duration": 46,
    "start_time": "2023-03-17T05:51:28.948Z"
   },
   {
    "duration": 13,
    "start_time": "2023-03-17T05:51:28.996Z"
   },
   {
    "duration": 25,
    "start_time": "2023-03-17T05:51:29.010Z"
   },
   {
    "duration": 180,
    "start_time": "2023-03-17T05:51:29.036Z"
   },
   {
    "duration": 4311,
    "start_time": "2023-03-17T05:51:29.217Z"
   },
   {
    "duration": 5,
    "start_time": "2023-03-17T05:51:33.529Z"
   },
   {
    "duration": 4531,
    "start_time": "2023-03-17T05:51:33.535Z"
   },
   {
    "duration": 7,
    "start_time": "2023-03-17T05:51:38.075Z"
   },
   {
    "duration": 8474,
    "start_time": "2023-03-17T05:51:38.083Z"
   },
   {
    "duration": 4,
    "start_time": "2023-03-17T05:51:46.559Z"
   },
   {
    "duration": 27,
    "start_time": "2023-03-17T05:51:46.564Z"
   },
   {
    "duration": 25,
    "start_time": "2023-03-17T05:51:46.593Z"
   },
   {
    "duration": 389,
    "start_time": "2023-03-17T05:51:46.619Z"
   },
   {
    "duration": 204,
    "start_time": "2023-03-17T05:51:47.010Z"
   },
   {
    "duration": 504,
    "start_time": "2023-03-17T05:51:47.216Z"
   },
   {
    "duration": 7,
    "start_time": "2023-03-17T05:51:47.723Z"
   },
   {
    "duration": 22,
    "start_time": "2023-03-17T05:51:47.735Z"
   },
   {
    "duration": 179,
    "start_time": "2023-03-17T05:51:47.775Z"
   },
   {
    "duration": 8,
    "start_time": "2023-03-17T05:51:47.957Z"
   },
   {
    "duration": 18,
    "start_time": "2023-03-17T05:51:47.967Z"
   },
   {
    "duration": 173,
    "start_time": "2023-03-17T05:51:47.991Z"
   },
   {
    "duration": 192,
    "start_time": "2023-03-17T05:51:48.166Z"
   },
   {
    "duration": 38,
    "start_time": "2023-03-17T05:51:48.360Z"
   },
   {
    "duration": 29,
    "start_time": "2023-03-17T05:51:48.400Z"
   },
   {
    "duration": 19,
    "start_time": "2023-03-17T05:51:48.431Z"
   },
   {
    "duration": 30,
    "start_time": "2023-03-17T05:51:48.452Z"
   },
   {
    "duration": 33,
    "start_time": "2023-03-17T05:51:48.483Z"
   },
   {
    "duration": 20,
    "start_time": "2023-03-17T05:51:48.517Z"
   },
   {
    "duration": 301,
    "start_time": "2023-03-17T05:51:48.539Z"
   },
   {
    "duration": 6,
    "start_time": "2023-03-17T05:51:48.842Z"
   },
   {
    "duration": 508,
    "start_time": "2023-03-17T05:51:48.849Z"
   },
   {
    "duration": 38,
    "start_time": "2023-03-17T05:51:49.359Z"
   },
   {
    "duration": 281,
    "start_time": "2023-03-17T05:51:49.399Z"
   },
   {
    "duration": 171,
    "start_time": "2023-03-17T05:51:49.682Z"
   },
   {
    "duration": 32,
    "start_time": "2023-03-17T05:51:49.855Z"
   },
   {
    "duration": 155,
    "start_time": "2023-03-17T05:51:49.888Z"
   },
   {
    "duration": 182,
    "start_time": "2023-03-17T05:51:50.044Z"
   },
   {
    "duration": 16,
    "start_time": "2023-03-17T05:51:50.227Z"
   },
   {
    "duration": 194,
    "start_time": "2023-03-17T05:51:50.244Z"
   },
   {
    "duration": 187,
    "start_time": "2023-03-17T05:51:50.441Z"
   },
   {
    "duration": 214,
    "start_time": "2023-03-17T05:51:50.629Z"
   },
   {
    "duration": 9,
    "start_time": "2023-03-17T05:51:50.844Z"
   },
   {
    "duration": 24,
    "start_time": "2023-03-17T05:51:50.854Z"
   },
   {
    "duration": 32,
    "start_time": "2023-03-17T05:51:58.885Z"
   },
   {
    "duration": 1751,
    "start_time": "2023-03-18T16:17:29.551Z"
   },
   {
    "duration": 22,
    "start_time": "2023-03-18T16:17:31.304Z"
   },
   {
    "duration": 33,
    "start_time": "2023-03-18T16:17:31.328Z"
   },
   {
    "duration": 986,
    "start_time": "2023-03-18T16:17:31.363Z"
   },
   {
    "duration": 38,
    "start_time": "2023-03-18T16:17:32.351Z"
   },
   {
    "duration": 5,
    "start_time": "2023-03-18T16:17:32.391Z"
   },
   {
    "duration": 167,
    "start_time": "2023-03-18T16:17:32.398Z"
   },
   {
    "duration": 9,
    "start_time": "2023-03-18T16:17:32.567Z"
   },
   {
    "duration": 48,
    "start_time": "2023-03-18T16:17:32.578Z"
   },
   {
    "duration": 47,
    "start_time": "2023-03-18T16:17:32.631Z"
   },
   {
    "duration": 39,
    "start_time": "2023-03-18T16:17:32.681Z"
   },
   {
    "duration": 24,
    "start_time": "2023-03-18T16:17:32.722Z"
   },
   {
    "duration": 32,
    "start_time": "2023-03-18T16:17:32.748Z"
   },
   {
    "duration": 8,
    "start_time": "2023-03-18T16:17:32.781Z"
   },
   {
    "duration": 159,
    "start_time": "2023-03-18T16:17:32.791Z"
   },
   {
    "duration": 4,
    "start_time": "2023-03-18T16:17:32.952Z"
   },
   {
    "duration": 24,
    "start_time": "2023-03-18T16:17:32.958Z"
   },
   {
    "duration": 151,
    "start_time": "2023-03-18T16:17:32.984Z"
   },
   {
    "duration": 6,
    "start_time": "2023-03-18T16:17:33.137Z"
   },
   {
    "duration": 9347,
    "start_time": "2023-03-18T16:17:33.145Z"
   },
   {
    "duration": 5,
    "start_time": "2023-03-18T16:17:42.493Z"
   },
   {
    "duration": 11,
    "start_time": "2023-03-18T16:17:42.500Z"
   },
   {
    "duration": 33,
    "start_time": "2023-03-18T16:17:42.512Z"
   },
   {
    "duration": 444,
    "start_time": "2023-03-18T16:17:42.546Z"
   },
   {
    "duration": 229,
    "start_time": "2023-03-18T16:17:42.991Z"
   },
   {
    "duration": 591,
    "start_time": "2023-03-18T16:17:43.222Z"
   },
   {
    "duration": 7,
    "start_time": "2023-03-18T16:17:43.815Z"
   },
   {
    "duration": 55,
    "start_time": "2023-03-18T16:17:43.825Z"
   },
   {
    "duration": 200,
    "start_time": "2023-03-18T16:17:43.881Z"
   },
   {
    "duration": 10,
    "start_time": "2023-03-18T16:17:44.082Z"
   },
   {
    "duration": 17,
    "start_time": "2023-03-18T16:17:44.093Z"
   },
   {
    "duration": 214,
    "start_time": "2023-03-18T16:17:44.112Z"
   },
   {
    "duration": 199,
    "start_time": "2023-03-18T16:17:44.327Z"
   },
   {
    "duration": 20,
    "start_time": "2023-03-18T16:17:44.528Z"
   },
   {
    "duration": 41,
    "start_time": "2023-03-18T16:17:44.550Z"
   },
   {
    "duration": 29,
    "start_time": "2023-03-18T16:17:44.593Z"
   },
   {
    "duration": 24,
    "start_time": "2023-03-18T16:17:44.624Z"
   },
   {
    "duration": 42,
    "start_time": "2023-03-18T16:17:44.649Z"
   },
   {
    "duration": 24,
    "start_time": "2023-03-18T16:17:44.692Z"
   },
   {
    "duration": 326,
    "start_time": "2023-03-18T16:17:44.717Z"
   },
   {
    "duration": 8,
    "start_time": "2023-03-18T16:17:45.044Z"
   },
   {
    "duration": 506,
    "start_time": "2023-03-18T16:17:45.054Z"
   },
   {
    "duration": 23,
    "start_time": "2023-03-18T16:17:45.562Z"
   },
   {
    "duration": 302,
    "start_time": "2023-03-18T16:17:45.587Z"
   },
   {
    "duration": 187,
    "start_time": "2023-03-18T16:17:45.891Z"
   },
   {
    "duration": 16,
    "start_time": "2023-03-18T16:17:46.080Z"
   },
   {
    "duration": 190,
    "start_time": "2023-03-18T16:17:46.098Z"
   },
   {
    "duration": 185,
    "start_time": "2023-03-18T16:17:46.290Z"
   },
   {
    "duration": 18,
    "start_time": "2023-03-18T16:17:46.476Z"
   },
   {
    "duration": 237,
    "start_time": "2023-03-18T16:17:46.496Z"
   },
   {
    "duration": 200,
    "start_time": "2023-03-18T16:17:46.735Z"
   },
   {
    "duration": 266,
    "start_time": "2023-03-18T16:17:46.937Z"
   },
   {
    "duration": 10,
    "start_time": "2023-03-18T16:17:47.206Z"
   },
   {
    "duration": 10,
    "start_time": "2023-03-18T16:17:47.219Z"
   },
   {
    "duration": 10,
    "start_time": "2023-03-18T16:19:39.708Z"
   },
   {
    "duration": 10,
    "start_time": "2023-03-18T16:20:15.123Z"
   },
   {
    "duration": 394,
    "start_time": "2023-03-18T16:21:11.721Z"
   },
   {
    "duration": 381,
    "start_time": "2023-03-18T16:21:26.453Z"
   },
   {
    "duration": 193,
    "start_time": "2023-03-18T16:21:37.982Z"
   },
   {
    "duration": 404,
    "start_time": "2023-03-18T16:22:38.284Z"
   },
   {
    "duration": 12,
    "start_time": "2023-03-18T16:32:28.426Z"
   },
   {
    "duration": 19,
    "start_time": "2023-03-18T16:35:51.775Z"
   },
   {
    "duration": 184,
    "start_time": "2023-03-18T16:37:34.009Z"
   },
   {
    "duration": 217,
    "start_time": "2023-03-18T16:43:29.945Z"
   },
   {
    "duration": 27,
    "start_time": "2023-03-18T16:43:30.165Z"
   },
   {
    "duration": 35,
    "start_time": "2023-03-18T16:43:30.194Z"
   },
   {
    "duration": 1447,
    "start_time": "2023-03-18T16:43:30.231Z"
   },
   {
    "duration": 27,
    "start_time": "2023-03-18T16:43:31.681Z"
   },
   {
    "duration": 6,
    "start_time": "2023-03-18T16:43:31.710Z"
   },
   {
    "duration": 276,
    "start_time": "2023-03-18T16:43:31.718Z"
   },
   {
    "duration": 7,
    "start_time": "2023-03-18T16:43:31.996Z"
   },
   {
    "duration": 51,
    "start_time": "2023-03-18T16:43:32.005Z"
   },
   {
    "duration": 40,
    "start_time": "2023-03-18T16:43:32.059Z"
   },
   {
    "duration": 35,
    "start_time": "2023-03-18T16:43:32.102Z"
   },
   {
    "duration": 47,
    "start_time": "2023-03-18T16:43:32.139Z"
   },
   {
    "duration": 11,
    "start_time": "2023-03-18T16:43:32.189Z"
   },
   {
    "duration": 10,
    "start_time": "2023-03-18T16:43:32.204Z"
   },
   {
    "duration": 249,
    "start_time": "2023-03-18T16:43:32.217Z"
   },
   {
    "duration": 5,
    "start_time": "2023-03-18T16:43:32.472Z"
   },
   {
    "duration": 18,
    "start_time": "2023-03-18T16:43:32.479Z"
   },
   {
    "duration": 219,
    "start_time": "2023-03-18T16:43:32.500Z"
   },
   {
    "duration": 6,
    "start_time": "2023-03-18T16:43:32.721Z"
   },
   {
    "duration": 10171,
    "start_time": "2023-03-18T16:43:32.729Z"
   },
   {
    "duration": 4,
    "start_time": "2023-03-18T16:43:42.902Z"
   },
   {
    "duration": 27,
    "start_time": "2023-03-18T16:43:42.909Z"
   },
   {
    "duration": 50,
    "start_time": "2023-03-18T16:43:42.939Z"
   },
   {
    "duration": 515,
    "start_time": "2023-03-18T16:43:42.991Z"
   },
   {
    "duration": 302,
    "start_time": "2023-03-18T16:43:43.508Z"
   },
   {
    "duration": 1053,
    "start_time": "2023-03-18T16:43:43.812Z"
   },
   {
    "duration": 9,
    "start_time": "2023-03-18T16:43:44.868Z"
   },
   {
    "duration": 39,
    "start_time": "2023-03-18T16:43:44.879Z"
   },
   {
    "duration": 245,
    "start_time": "2023-03-18T16:43:44.920Z"
   },
   {
    "duration": 13,
    "start_time": "2023-03-18T16:43:45.167Z"
   },
   {
    "duration": 29,
    "start_time": "2023-03-18T16:43:45.182Z"
   },
   {
    "duration": 246,
    "start_time": "2023-03-18T16:43:45.214Z"
   },
   {
    "duration": 222,
    "start_time": "2023-03-18T16:43:45.462Z"
   },
   {
    "duration": 28,
    "start_time": "2023-03-18T16:43:45.687Z"
   },
   {
    "duration": 25,
    "start_time": "2023-03-18T16:43:45.717Z"
   },
   {
    "duration": 51,
    "start_time": "2023-03-18T16:43:45.744Z"
   },
   {
    "duration": 20,
    "start_time": "2023-03-18T16:43:45.798Z"
   },
   {
    "duration": 13,
    "start_time": "2023-03-18T16:43:45.820Z"
   },
   {
    "duration": 40,
    "start_time": "2023-03-18T16:43:45.835Z"
   },
   {
    "duration": 405,
    "start_time": "2023-03-18T16:43:45.877Z"
   },
   {
    "duration": 491,
    "start_time": "2023-03-18T16:43:46.287Z"
   },
   {
    "duration": 28,
    "start_time": "2023-03-18T16:43:46.780Z"
   },
   {
    "duration": 26,
    "start_time": "2023-03-18T16:43:46.810Z"
   },
   {
    "duration": 549,
    "start_time": "2023-03-18T16:43:46.838Z"
   },
   {
    "duration": 10,
    "start_time": "2023-03-18T16:43:47.390Z"
   },
   {
    "duration": 707,
    "start_time": "2023-03-18T16:43:47.403Z"
   },
   {
    "duration": 25,
    "start_time": "2023-03-18T16:43:48.113Z"
   },
   {
    "duration": 280,
    "start_time": "2023-03-18T16:43:48.142Z"
   },
   {
    "duration": 283,
    "start_time": "2023-03-18T16:43:48.424Z"
   },
   {
    "duration": 26,
    "start_time": "2023-03-18T16:43:48.710Z"
   },
   {
    "duration": 239,
    "start_time": "2023-03-18T16:43:48.738Z"
   },
   {
    "duration": 251,
    "start_time": "2023-03-18T16:43:48.979Z"
   },
   {
    "duration": 20,
    "start_time": "2023-03-18T16:43:49.232Z"
   },
   {
    "duration": 245,
    "start_time": "2023-03-18T16:43:49.254Z"
   },
   {
    "duration": 249,
    "start_time": "2023-03-18T16:43:49.502Z"
   },
   {
    "duration": 248,
    "start_time": "2023-03-18T16:43:49.753Z"
   },
   {
    "duration": 12,
    "start_time": "2023-03-18T16:43:50.003Z"
   },
   {
    "duration": 13,
    "start_time": "2023-03-18T16:43:50.017Z"
   },
   {
    "duration": 5,
    "start_time": "2023-03-18T17:48:08.206Z"
   }
  ],
  "kernelspec": {
   "display_name": "Python 3 (ipykernel)",
   "language": "python",
   "name": "python3"
  },
  "language_info": {
   "codemirror_mode": {
    "name": "ipython",
    "version": 3
   },
   "file_extension": ".py",
   "mimetype": "text/x-python",
   "name": "python",
   "nbconvert_exporter": "python",
   "pygments_lexer": "ipython3",
   "version": "3.9.13"
  },
  "toc": {
   "base_numbering": 1,
   "nav_menu": {},
   "number_sections": true,
   "sideBar": true,
   "skip_h1_title": true,
   "title_cell": "Table of Contents",
   "title_sidebar": "Contents",
   "toc_cell": false,
   "toc_position": {
    "height": "calc(100% - 180px)",
    "left": "10px",
    "top": "150px",
    "width": "289.438px"
   },
   "toc_section_display": true,
   "toc_window_display": false
  }
 },
 "nbformat": 4,
 "nbformat_minor": 2
}
